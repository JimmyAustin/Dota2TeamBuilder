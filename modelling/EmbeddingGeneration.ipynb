{
 "cells": [
  {
   "cell_type": "code",
   "execution_count": 5,
   "metadata": {},
   "outputs": [
    {
     "name": "stdout",
     "output_type": "stream",
     "text": [
      "The autoreload extension is already loaded. To reload it, use:\n",
      "  %reload_ext autoreload\n",
      "['__builtins__', '__cached__', '__doc__', '__file__', '__loader__', '__name__', '__package__', '__path__', '__spec__', 'bucket_string', 'data_generator', 'flatten', 'fs', 'get_files_in_folders', 'get_json_lines_in_folder', 'get_random_json_lines_from_files', 'get_transformed_lines', 'hashlib', 'ignore_nones', 'itertools', 'json', 'lines_in_files', 'load_json_line', 'np', 'os', 'plt', 'progress_bar', 'randomized_buffer_generator', 'randrange', 'ready_image', 'show_image', 'shuffle']\n"
     ]
    }
   ],
   "source": [
    "%load_ext autoreload\n",
    "%autoreload 2\n",
    "import numpy as np\n",
    "import toolbox\n",
    "print(dir(toolbox.notebook))\n",
    "from collections import Counter\n",
    "from utils import get_hero_from_id\n",
    "from toolbox.notebook import get_json_lines_in_folder, progress_bar"
   ]
  },
  {
   "cell_type": "code",
   "execution_count": 6,
   "metadata": {},
   "outputs": [],
   "source": [
    "import json\n",
    "\n",
    "matches = []\n",
    "\n",
    "with open('../scraper/scrape_results/all_matches_15.json', 'rb') as fileref:\n",
    "    for line in fileref:\n",
    "        match = json.loads(line)\n",
    "        if match.get('type', 'match') == 'match':\n",
    "            matches.append(match)\n"
   ]
  },
  {
   "cell_type": "code",
   "execution_count": 8,
   "metadata": {
    "scrolled": true
   },
   "outputs": [
    {
     "data": {
      "text/plain": [
       "Counter({'Ranked All Pick': 9530,\n",
       "         '?? Event ??': 1504,\n",
       "         'Unknown': 3207,\n",
       "         'Single Draft': 1280,\n",
       "         'Captains Mode': 151,\n",
       "         '1 vs 1 Solo Mid': 8,\n",
       "         'Random Draft': 304,\n",
       "         'All Random': 43,\n",
       "         'Ability Draft': 34,\n",
       "         'All Pick': 32,\n",
       "         'Least Played': 1,\n",
       "         'Captains Draft': 1,\n",
       "         'All Random Death Match': 12})"
      ]
     },
     "execution_count": 8,
     "metadata": {},
     "output_type": "execute_result"
    }
   ],
   "source": [
    "# Scout game modes\n",
    "counter = Counter()\n",
    "for match in progress_bar(matches):\n",
    "    counter[match.get('game_mode_name', 'Unknown')] += 1\n",
    "counter"
   ]
  },
  {
   "cell_type": "code",
   "execution_count": 9,
   "metadata": {},
   "outputs": [
    {
     "name": "stdout",
     "output_type": "stream",
     "text": [
      "Found 11386 matches\n"
     ]
    }
   ],
   "source": [
    "def proper_match(match):\n",
    "    return match.get('game_mode_name', 'Unknown') in ['Ability Draft',\n",
    "         'All Pick',\n",
    "         'All Random',\n",
    "         'All Random Death Match',\n",
    "         'Captains Mode',\n",
    "         'Random Draft',\n",
    "         'Ranked All Pick',\n",
    "         'Single Draft']\n",
    "\n",
    "relevant_games = [x for x in matches if proper_match(x)]\n",
    "print(f\"Found {len(relevant_games)} matches\")"
   ]
  },
  {
   "cell_type": "code",
   "execution_count": 10,
   "metadata": {},
   "outputs": [
    {
     "ename": "ImportError",
     "evalue": "IntProgress not found. Please update jupyter and ipywidgets. See https://ipywidgets.readthedocs.io/en/stable/user_install.html",
     "output_type": "error",
     "traceback": [
      "\u001b[0;31m---------------------------------------------------------------------------\u001b[0m",
      "\u001b[0;31mNameError\u001b[0m                                 Traceback (most recent call last)",
      "\u001b[0;32m~/.local/lib/python3.6/site-packages/tqdm/_tqdm_notebook.py\u001b[0m in \u001b[0;36mstatus_printer\u001b[0;34m(_, total, desc, ncols)\u001b[0m\n\u001b[1;32m     96\u001b[0m             \u001b[0;32mif\u001b[0m \u001b[0mtotal\u001b[0m\u001b[0;34m:\u001b[0m\u001b[0;34m\u001b[0m\u001b[0m\n\u001b[0;32m---> 97\u001b[0;31m                 \u001b[0mpbar\u001b[0m \u001b[0;34m=\u001b[0m \u001b[0mIntProgress\u001b[0m\u001b[0;34m(\u001b[0m\u001b[0mmin\u001b[0m\u001b[0;34m=\u001b[0m\u001b[0;36m0\u001b[0m\u001b[0;34m,\u001b[0m \u001b[0mmax\u001b[0m\u001b[0;34m=\u001b[0m\u001b[0mtotal\u001b[0m\u001b[0;34m)\u001b[0m\u001b[0;34m\u001b[0m\u001b[0m\n\u001b[0m\u001b[1;32m     98\u001b[0m             \u001b[0;32melse\u001b[0m\u001b[0;34m:\u001b[0m  \u001b[0;31m# No total? Show info style bar with no progress tqdm status\u001b[0m\u001b[0;34m\u001b[0m\u001b[0m\n",
      "\u001b[0;31mNameError\u001b[0m: name 'IntProgress' is not defined",
      "\nDuring handling of the above exception, another exception occurred:\n",
      "\u001b[0;31mImportError\u001b[0m                               Traceback (most recent call last)",
      "\u001b[0;32m<ipython-input-10-90852e370c7c>\u001b[0m in \u001b[0;36m<module>\u001b[0;34m\u001b[0m\n\u001b[1;32m      1\u001b[0m \u001b[0;31m# Scout hero picks modes\u001b[0m\u001b[0;34m\u001b[0m\u001b[0;34m\u001b[0m\u001b[0m\n\u001b[1;32m      2\u001b[0m \u001b[0mcounter\u001b[0m \u001b[0;34m=\u001b[0m \u001b[0mCounter\u001b[0m\u001b[0;34m(\u001b[0m\u001b[0;34m)\u001b[0m\u001b[0;34m\u001b[0m\u001b[0m\n\u001b[0;32m----> 3\u001b[0;31m \u001b[0;32mfor\u001b[0m \u001b[0mmatch\u001b[0m \u001b[0;32min\u001b[0m \u001b[0mprogress_bar\u001b[0m\u001b[0;34m(\u001b[0m\u001b[0mrelevant_games\u001b[0m\u001b[0;34m)\u001b[0m\u001b[0;34m:\u001b[0m\u001b[0;34m\u001b[0m\u001b[0m\n\u001b[0m\u001b[1;32m      4\u001b[0m     \u001b[0;32mfor\u001b[0m \u001b[0mplayer\u001b[0m \u001b[0;32min\u001b[0m \u001b[0mmatch\u001b[0m\u001b[0;34m[\u001b[0m\u001b[0;34m'players'\u001b[0m\u001b[0;34m]\u001b[0m\u001b[0;34m:\u001b[0m\u001b[0;34m\u001b[0m\u001b[0m\n\u001b[1;32m      5\u001b[0m         \u001b[0mcounter\u001b[0m\u001b[0;34m[\u001b[0m\u001b[0mget_hero_from_id\u001b[0m\u001b[0;34m(\u001b[0m\u001b[0mplayer\u001b[0m\u001b[0;34m[\u001b[0m\u001b[0;34m'hero_id'\u001b[0m\u001b[0;34m]\u001b[0m\u001b[0;34m)\u001b[0m\u001b[0;34m[\u001b[0m\u001b[0;34m'name'\u001b[0m\u001b[0;34m]\u001b[0m\u001b[0;34m]\u001b[0m \u001b[0;34m+=\u001b[0m \u001b[0;36m1\u001b[0m\u001b[0;34m\u001b[0m\u001b[0m\n",
      "\u001b[0;32m~/code/toolbox/toolbox/notebook/progress_bar.py\u001b[0m in \u001b[0;36mprogress_bar\u001b[0;34m(*args, **kwargs)\u001b[0m\n\u001b[1;32m      6\u001b[0m         \u001b[0;32mreturn\u001b[0m \u001b[0mtqdm\u001b[0m\u001b[0;34m(\u001b[0m\u001b[0;34m*\u001b[0m\u001b[0margs\u001b[0m\u001b[0;34m,\u001b[0m \u001b[0;34m**\u001b[0m\u001b[0mkwargs\u001b[0m\u001b[0;34m)\u001b[0m\u001b[0;34m\u001b[0m\u001b[0m\n\u001b[1;32m      7\u001b[0m     \u001b[0;32melse\u001b[0m\u001b[0;34m:\u001b[0m\u001b[0;34m\u001b[0m\u001b[0m\n\u001b[0;32m----> 8\u001b[0;31m         \u001b[0;32mreturn\u001b[0m \u001b[0mtqdm_notebook\u001b[0m\u001b[0;34m(\u001b[0m\u001b[0;34m*\u001b[0m\u001b[0margs\u001b[0m\u001b[0;34m,\u001b[0m \u001b[0;34m**\u001b[0m\u001b[0mkwargs\u001b[0m\u001b[0;34m)\u001b[0m\u001b[0;34m\u001b[0m\u001b[0m\n\u001b[0m\u001b[1;32m      9\u001b[0m \u001b[0;34m\u001b[0m\u001b[0m\n\u001b[1;32m     10\u001b[0m \u001b[0;32mdef\u001b[0m \u001b[0mprogress_map\u001b[0m\u001b[0;34m(\u001b[0m\u001b[0mfunc\u001b[0m\u001b[0;34m,\u001b[0m \u001b[0minputs\u001b[0m\u001b[0;34m,\u001b[0m \u001b[0mthreads\u001b[0m\u001b[0;34m=\u001b[0m\u001b[0;36m8\u001b[0m\u001b[0;34m)\u001b[0m\u001b[0;34m:\u001b[0m\u001b[0;34m\u001b[0m\u001b[0m\n",
      "\u001b[0;32m~/.local/lib/python3.6/site-packages/tqdm/__init__.py\u001b[0m in \u001b[0;36mtqdm_notebook\u001b[0;34m(*args, **kwargs)\u001b[0m\n\u001b[1;32m     23\u001b[0m     \u001b[0;34m\"\"\"See tqdm._tqdm_notebook.tqdm_notebook for full documentation\"\"\"\u001b[0m\u001b[0;34m\u001b[0m\u001b[0m\n\u001b[1;32m     24\u001b[0m     \u001b[0;32mfrom\u001b[0m \u001b[0;34m.\u001b[0m\u001b[0m_tqdm_notebook\u001b[0m \u001b[0;32mimport\u001b[0m \u001b[0mtqdm_notebook\u001b[0m \u001b[0;32mas\u001b[0m \u001b[0m_tqdm_notebook\u001b[0m\u001b[0;34m\u001b[0m\u001b[0m\n\u001b[0;32m---> 25\u001b[0;31m     \u001b[0;32mreturn\u001b[0m \u001b[0m_tqdm_notebook\u001b[0m\u001b[0;34m(\u001b[0m\u001b[0;34m*\u001b[0m\u001b[0margs\u001b[0m\u001b[0;34m,\u001b[0m \u001b[0;34m**\u001b[0m\u001b[0mkwargs\u001b[0m\u001b[0;34m)\u001b[0m\u001b[0;34m\u001b[0m\u001b[0m\n\u001b[0m\u001b[1;32m     26\u001b[0m \u001b[0;34m\u001b[0m\u001b[0m\n\u001b[1;32m     27\u001b[0m \u001b[0;34m\u001b[0m\u001b[0m\n",
      "\u001b[0;32m~/.local/lib/python3.6/site-packages/tqdm/_tqdm_notebook.py\u001b[0m in \u001b[0;36m__init__\u001b[0;34m(self, *args, **kwargs)\u001b[0m\n\u001b[1;32m    198\u001b[0m         \u001b[0;31m# Replace with IPython progress bar display (with correct total)\u001b[0m\u001b[0;34m\u001b[0m\u001b[0;34m\u001b[0m\u001b[0m\n\u001b[1;32m    199\u001b[0m         self.sp = self.status_printer(\n\u001b[0;32m--> 200\u001b[0;31m             self.fp, self.total, self.desc, self.ncols)\n\u001b[0m\u001b[1;32m    201\u001b[0m         \u001b[0mself\u001b[0m\u001b[0;34m.\u001b[0m\u001b[0mdesc\u001b[0m \u001b[0;34m=\u001b[0m \u001b[0;32mNone\u001b[0m  \u001b[0;31m# trick to place description before the bar\u001b[0m\u001b[0;34m\u001b[0m\u001b[0m\n\u001b[1;32m    202\u001b[0m \u001b[0;34m\u001b[0m\u001b[0m\n",
      "\u001b[0;32m~/.local/lib/python3.6/site-packages/tqdm/_tqdm_notebook.py\u001b[0m in \u001b[0;36mstatus_printer\u001b[0;34m(_, total, desc, ncols)\u001b[0m\n\u001b[1;32m    103\u001b[0m             \u001b[0;31m# #187 #451 #558\u001b[0m\u001b[0;34m\u001b[0m\u001b[0;34m\u001b[0m\u001b[0m\n\u001b[1;32m    104\u001b[0m             raise ImportError(\n\u001b[0;32m--> 105\u001b[0;31m                 \u001b[0;34m\"IntProgress not found. Please update jupyter and ipywidgets.\"\u001b[0m\u001b[0;34m\u001b[0m\u001b[0m\n\u001b[0m\u001b[1;32m    106\u001b[0m                 \u001b[0;34m\" See https://ipywidgets.readthedocs.io/en/stable\"\u001b[0m\u001b[0;34m\u001b[0m\u001b[0m\n\u001b[1;32m    107\u001b[0m                 \"/user_install.html\")\n",
      "\u001b[0;31mImportError\u001b[0m: IntProgress not found. Please update jupyter and ipywidgets. See https://ipywidgets.readthedocs.io/en/stable/user_install.html"
     ]
    }
   ],
   "source": [
    "# Scout hero picks modes\n",
    "counter = Counter()\n",
    "for match in progress_bar(relevant_games):\n",
    "    for player in match['players']:\n",
    "        counter[get_hero_from_id(player['hero_id'])['name']] += 1\n",
    "counter"
   ]
  },
  {
   "cell_type": "code",
   "execution_count": 73,
   "metadata": {},
   "outputs": [
    {
     "data": {
      "text/plain": [
       "True"
      ]
     },
     "execution_count": 73,
     "metadata": {},
     "output_type": "execute_result"
    }
   ],
   "source": [
    "relevant_games[0]['radiant_win']"
   ]
  },
  {
   "cell_type": "code",
   "execution_count": 74,
   "metadata": {},
   "outputs": [
    {
     "data": {
      "text/plain": [
       "{'hero_id': 7,\n",
       " 'match_duration': 2032,\n",
       " 'stats': {'assists': 11,\n",
       "  'deaths': 9,\n",
       "  'denies': 0,\n",
       "  'gpm': 401,\n",
       "  'hero_damage': 13500,\n",
       "  'hero_healing': 0,\n",
       "  'kills': 5,\n",
       "  'last_hits': 106,\n",
       "  'level': 19,\n",
       "  'tower_damage': 1734,\n",
       "  'win': 1,\n",
       "  'xp_per_min': 494}}"
      ]
     },
     "execution_count": 74,
     "metadata": {},
     "output_type": "execute_result"
    }
   ],
   "source": [
    "def build_embedding_for_play(player, match_time, radiant_wins): \n",
    "    # Gold\n",
    "    # GPM\n",
    "    # Gold Spent\n",
    "    # Assists\n",
    "    # Denies\n",
    "    # Deaths\n",
    "    # Kills\n",
    "    # Last Hits\n",
    "    # Level\n",
    "    # Hero Damage\n",
    "    # Hero Healing\n",
    "    # Tower Damage\n",
    "    # XP Per Minute\n",
    "    \n",
    "    player_is_radiant = player['player_slot'] < 127#if its 127 its radient, over its dire\n",
    "    \n",
    "    try:\n",
    "        return {\n",
    "            'hero_id': player['hero_id'],\n",
    "            'match_duration': match_time,\n",
    "            'stats': {\n",
    "                'win': int(player_is_radiant == radiant_wins),\n",
    "                'gpm': player['gold_per_min'],\n",
    "                'assists': player['assists'],\n",
    "                'denies': player['denies'],\n",
    "                'deaths': player['deaths'],\n",
    "                'kills': player['kills'],\n",
    "                'last_hits': player['last_hits'],\n",
    "                'level': player['level'],\n",
    "                'hero_damage': player.get('hero_damage', -1),\n",
    "                'hero_healing': player.get('hero_healing', -1),\n",
    "                'tower_damage': player.get('tower_damage', -1),\n",
    "                'xp_per_min': player['xp_per_min'],\n",
    "            }\n",
    "        }\n",
    "    except KeyError as e:\n",
    "        print(player)\n",
    "        raise e\n",
    "build_embedding_for_play(relevant_games[0]['players'][0], relevant_games[0]['duration'], relevant_games[0]['radiant_win'])"
   ]
  },
  {
   "cell_type": "code",
   "execution_count": 75,
   "metadata": {},
   "outputs": [],
   "source": [
    "time_periods = [33 * 60, 40 * 60, 48 * 60]\n",
    "\n",
    "def period_count_for_duration(duration):\n",
    "    for i, time_period in enumerate(time_periods):\n",
    "        if duration < time_period:\n",
    "            return i\n",
    "    return len(time_periods)"
   ]
  },
  {
   "cell_type": "code",
   "execution_count": 76,
   "metadata": {},
   "outputs": [
    {
     "data": {
      "text/plain": [
       "{0: [], 1: [], 2: [], 3: []}"
      ]
     },
     "execution_count": 76,
     "metadata": {},
     "output_type": "execute_result"
    }
   ],
   "source": [
    "list(range(0,len(time_periods) + 1))\n",
    "{x:[] for x in range(0,len(time_periods) + 1)}"
   ]
  },
  {
   "cell_type": "code",
   "execution_count": 77,
   "metadata": {},
   "outputs": [
    {
     "data": {
      "application/vnd.jupyter.widget-view+json": {
       "model_id": "b4c880a4b0284a4b9f6debe1cbebd104",
       "version_major": 2,
       "version_minor": 0
      },
      "text/html": [
       "<p>Failed to display Jupyter Widget of type <code>HBox</code>.</p>\n",
       "<p>\n",
       "  If you're reading this message in the Jupyter Notebook or JupyterLab Notebook, it may mean\n",
       "  that the widgets JavaScript is still loading. If this message persists, it\n",
       "  likely means that the widgets JavaScript library is either not installed or\n",
       "  not enabled. See the <a href=\"https://ipywidgets.readthedocs.io/en/stable/user_install.html\">Jupyter\n",
       "  Widgets Documentation</a> for setup instructions.\n",
       "</p>\n",
       "<p>\n",
       "  If you're reading this message in another frontend (for example, a static\n",
       "  rendering on GitHub or <a href=\"https://nbviewer.jupyter.org/\">NBViewer</a>),\n",
       "  it may mean that your frontend doesn't currently support widgets.\n",
       "</p>\n"
      ],
      "text/plain": [
       "HBox(children=(IntProgress(value=0, max=21), HTML(value='')))"
      ]
     },
     "metadata": {},
     "output_type": "display_data"
    },
    {
     "name": "stdout",
     "output_type": "stream",
     "text": [
      "\n"
     ]
    }
   ],
   "source": [
    "hero_embeddings = {}\n",
    "#with open('./scraper/scrape_results/all_matches_15.json', 'rb') as fileref:\n",
    "for match in get_json_lines_in_folder('../scraper/scrape_results/'):\n",
    "    if match and match.get('type', 'match') == 'match' and proper_match(match):\n",
    "        time_period = period_count_for_duration(match['duration'])\n",
    "        for player in match['players']:\n",
    "            embedding = build_embedding_for_play(player, match['duration'], match['radiant_win'])\n",
    "            previous = hero_embeddings.get(embedding['hero_id'], {x:[] for x in range(0,len(time_periods) + 1)})\n",
    "            previous[time_period].append(embedding)\n",
    "            hero_embeddings[embedding['hero_id']] = previous"
   ]
  },
  {
   "cell_type": "code",
   "execution_count": 78,
   "metadata": {},
   "outputs": [
    {
     "data": {
      "application/vnd.jupyter.widget-view+json": {
       "model_id": "6445cba325634322b8c50f20fb3783f6",
       "version_major": 2,
       "version_minor": 0
      },
      "text/html": [
       "<p>Failed to display Jupyter Widget of type <code>HBox</code>.</p>\n",
       "<p>\n",
       "  If you're reading this message in the Jupyter Notebook or JupyterLab Notebook, it may mean\n",
       "  that the widgets JavaScript is still loading. If this message persists, it\n",
       "  likely means that the widgets JavaScript library is either not installed or\n",
       "  not enabled. See the <a href=\"https://ipywidgets.readthedocs.io/en/stable/user_install.html\">Jupyter\n",
       "  Widgets Documentation</a> for setup instructions.\n",
       "</p>\n",
       "<p>\n",
       "  If you're reading this message in another frontend (for example, a static\n",
       "  rendering on GitHub or <a href=\"https://nbviewer.jupyter.org/\">NBViewer</a>),\n",
       "  it may mean that your frontend doesn't currently support widgets.\n",
       "</p>\n"
      ],
      "text/plain": [
       "HBox(children=(IntProgress(value=0, max=21), HTML(value='')))"
      ]
     },
     "metadata": {},
     "output_type": "display_data"
    },
    {
     "name": "stdout",
     "output_type": "stream",
     "text": [
      "\n",
      "46, 13493\n",
      "43, 13914\n",
      "55, 4772\n",
      "39, 14130\n",
      "41, 18060\n",
      "60, 2832\n",
      "63, 1864\n",
      "84, 98\n",
      "38, 13496\n",
      "49, 9582\n",
      "47, 11109\n",
      "32, 12891\n",
      "78, 230\n",
      "42, 15980\n",
      "24, 3551\n",
      "50, 8354\n",
      "59, 3570\n",
      "56, 5357\n",
      "52, 7156\n",
      "44, 13319\n",
      "51, 9455\n",
      "26, 6198\n",
      "48, 9711\n",
      "31, 12962\n",
      "37, 14408\n",
      "35, 12444\n",
      "34, 13340\n",
      "40, 12736\n",
      "82, 147\n",
      "27, 6838\n",
      "71, 760\n",
      "28, 7467\n",
      "33, 12580\n",
      "58, 3897\n",
      "57, 4363\n",
      "54, 5560\n",
      "62, 2127\n",
      "45, 10608\n",
      "29, 8151\n",
      "5, 220\n",
      "36, 17490\n",
      "66, 1623\n",
      "53, 5980\n",
      "61, 2840\n",
      "69, 851\n",
      "25, 4072\n",
      "64, 1744\n",
      "73, 529\n",
      "67, 1237\n",
      "19, 1168\n",
      "4, 143\n",
      "76, 372\n",
      "3, 128\n",
      "22, 2331\n",
      "65, 1477\n",
      "72, 605\n",
      "68, 1002\n",
      "18, 965\n",
      "75, 388\n",
      "30, 7713\n",
      "15, 477\n",
      "85, 65\n",
      "17, 840\n",
      "23, 2759\n",
      "16, 612\n",
      "20, 1321\n",
      "74, 477\n",
      "86, 61\n",
      "96, 27\n",
      "92, 24\n",
      "101, 6\n",
      "79, 180\n",
      "77, 298\n",
      "21, 1963\n",
      "94, 20\n",
      "83, 104\n",
      "70, 650\n",
      "6, 318\n",
      "80, 155\n",
      "8, 247\n",
      "11, 312\n",
      "10, 263\n",
      "81, 173\n",
      "7, 289\n",
      "0, 390\n",
      "88, 58\n",
      "100, 10\n",
      "14, 436\n",
      "12, 319\n",
      "2, 80\n",
      "13, 350\n",
      "9, 242\n",
      "168, 1\n",
      "87, 59\n",
      "120, 2\n",
      "98, 16\n",
      "91, 42\n",
      "93, 21\n",
      "95, 25\n",
      "89, 48\n",
      "114, 3\n",
      "110, 2\n",
      "90, 49\n",
      "1, 57\n",
      "99, 12\n",
      "108, 3\n",
      "105, 7\n",
      "97, 13\n",
      "103, 10\n",
      "109, 1\n",
      "128, 1\n",
      "106, 6\n",
      "107, 4\n",
      "104, 3\n",
      "102, 8\n",
      "132, 1\n",
      "115, 2\n",
      "119, 2\n",
      "124, 1\n",
      "116, 1\n",
      "123, 1\n",
      "134, 1\n",
      "113, 1\n"
     ]
    }
   ],
   "source": [
    "from collections import Counter\n",
    "c = Counter()\n",
    "for match in get_json_lines_in_folder('../scraper/scrape_results/'):\n",
    "    if match and match.get('type', 'match') == 'match' and proper_match(match):\n",
    "        if 'duration' not in match:\n",
    "            print(match)\n",
    "            raise ValueError\n",
    "        c[int(match['duration'] / 60)] += 1\n",
    "from pprint import pprint\n",
    "for k, v in c.items():\n",
    "    print(f\"{k}, {v}\")"
   ]
  },
  {
   "cell_type": "code",
   "execution_count": 79,
   "metadata": {},
   "outputs": [
    {
     "name": "stdout",
     "output_type": "stream",
     "text": [
      "Total: 10367\n",
      "Total: 8164\n"
     ]
    }
   ],
   "source": [
    "print(f\"Total: {len(hero_embeddings[7][0])}\")\n",
    "print(f\"Total: {len([x for x in hero_embeddings[7][0] if x['stats'].get('hero_damage', -1) is not -1])}\")"
   ]
  },
  {
   "cell_type": "code",
   "execution_count": 80,
   "metadata": {},
   "outputs": [
    {
     "name": "stdout",
     "output_type": "stream",
     "text": [
      "48\n",
      "192\n"
     ]
    }
   ],
   "source": [
    "number_of_periods = len(time_periods) + 1\n",
    "\n",
    "key_order = list(hero_embeddings[7][0][0]['stats'].keys())\n",
    "\n",
    "key_count = len(key_order)\n",
    "total_key_count = key_count * number_of_periods\n",
    "print(total_key_count)\n",
    "print(total_key_count * number_of_periods)"
   ]
  },
  {
   "cell_type": "code",
   "execution_count": 81,
   "metadata": {},
   "outputs": [],
   "source": [
    "def transform_hero_stats(x):\n",
    "    x['is_str'] = int(x['A'] == 'Strength')\n",
    "    x['is_agi'] = int(x['A'] == 'Agility')\n",
    "    x['is_int'] = int(x['A'] == 'Intelligence')\n",
    "    del x['A']\n",
    "    if x['is_str'] == 0 and x['is_agi'] == 0 and x['is_int'] == 0:\n",
    "        print(x)\n",
    "        raise Exception\n",
    "    return x\n",
    "hero_list = {x['id']: transform_hero_stats(x) for x in json.load(open('./embeddings/stat_augmented_hero_list.json', 'rb'))}"
   ]
  },
  {
   "cell_type": "code",
   "execution_count": 82,
   "metadata": {},
   "outputs": [],
   "source": [
    "final_embeddings = {}\n",
    "for hero_id, embeddings in hero_embeddings.items():\n",
    "    if hero_id == 0:\n",
    "        continue\n",
    "    embedding = hero_list[hero_id]\n",
    "    for period_id, period_results in embeddings.items():\n",
    "        for key in key_order:\n",
    "            embedding[f\"{period_id}_{key}\"] = np.mean([x['stats'][key] for x in period_results if x['stats'][key] != -1])\n",
    "        final_embeddings[hero_id] = embedding"
   ]
  },
  {
   "cell_type": "code",
   "execution_count": 83,
   "metadata": {},
   "outputs": [],
   "source": [
    "with open('./embeddings/hero_embeddings.json', 'wb') as fileref:\n",
    "    fileref.write(json.dumps(final_embeddings, indent=4).encode('utf-8'))"
   ]
  },
  {
   "cell_type": "code",
   "execution_count": 84,
   "metadata": {},
   "outputs": [],
   "source": [
    "means = {}\n",
    "stds = {}\n",
    "for key in final_embeddings[86].keys():\n",
    "    if key == 'HERO':\n",
    "        continue\n",
    "    values = [float(v[key]) for k, v in final_embeddings.items()]\n",
    "    means[key] = np.mean(values)\n",
    "    stds[key] = np.std(values)\n",
    "\n",
    "def normalize_values(values):\n",
    "    def normalize_value(k,v):\n",
    "        if k == 'HERO' or k == 'id':\n",
    "            return v\n",
    "        return (float(v) - means[k])/stds[k]\n",
    "    return {k: normalize_value(k, v) for k, v in values.items()}\n",
    "    \n",
    "normalized_embeddings = {k: normalize_values(v) for k, v in final_embeddings.items()}"
   ]
  },
  {
   "cell_type": "code",
   "execution_count": 85,
   "metadata": {},
   "outputs": [],
   "source": [
    "with open('./embeddings/normalized_embeddings.json', 'wb') as fileref:\n",
    "    fileref.write(json.dumps(normalized_embeddings, indent=4).encode('utf-8'))"
   ]
  },
  {
   "cell_type": "code",
   "execution_count": null,
   "metadata": {},
   "outputs": [],
   "source": []
  }
 ],
 "metadata": {
  "kernelspec": {
   "display_name": "Python 3",
   "language": "python",
   "name": "python3"
  },
  "language_info": {
   "codemirror_mode": {
    "name": "ipython",
    "version": 3
   },
   "file_extension": ".py",
   "mimetype": "text/x-python",
   "name": "python",
   "nbconvert_exporter": "python",
   "pygments_lexer": "ipython3",
   "version": "3.6.6"
  }
 },
 "nbformat": 4,
 "nbformat_minor": 2
}
