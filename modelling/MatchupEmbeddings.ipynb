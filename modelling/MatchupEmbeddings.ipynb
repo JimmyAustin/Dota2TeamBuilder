{
 "cells": [
  {
   "cell_type": "code",
   "execution_count": 1,
   "metadata": {},
   "outputs": [
    {
     "name": "stdout",
     "output_type": "stream",
     "text": [
      "['__builtins__', '__cached__', '__doc__', '__file__', '__loader__', '__name__', '__package__', '__path__', '__spec__', 'fs', 'get_files_in_folders', 'get_json_lines_in_folder', 'json', 'np', 'os', 'plt', 'progress_bar', 'ready_image', 'show_image']\n"
     ]
    },
    {
     "data": {
      "text/html": [
       "<script>requirejs.config({paths: { 'plotly': ['https://cdn.plot.ly/plotly-latest.min']},});if(!window.Plotly) {{require(['plotly'],function(plotly) {window.Plotly=plotly;});}}</script>"
      ],
      "text/vnd.plotly.v1+html": [
       "<script>requirejs.config({paths: { 'plotly': ['https://cdn.plot.ly/plotly-latest.min']},});if(!window.Plotly) {{require(['plotly'],function(plotly) {window.Plotly=plotly;});}}</script>"
      ]
     },
     "metadata": {},
     "output_type": "display_data"
    }
   ],
   "source": [
    "%load_ext autoreload\n",
    "%autoreload 2\n",
    "import numpy as np\n",
    "import toolbox\n",
    "import plotly as py\n",
    "import plotly.figure_factory as ff\n",
    "print(dir(toolbox.notebook))\n",
    "from collections import Counter\n",
    "from utils import get_hero_from_id, proper_match, all_valid_players\n",
    "from toolbox.notebook import get_json_lines_in_folder, progress_bar\n",
    "\n",
    "py.offline.init_notebook_mode(connected=True)"
   ]
  },
  {
   "cell_type": "code",
   "execution_count": null,
   "metadata": {},
   "outputs": [
    {
     "data": {
      "application/vnd.jupyter.widget-view+json": {
       "model_id": "f0936b7f3cf94f928ac11ec0e3fe7152",
       "version_major": 2,
       "version_minor": 0
      },
      "text/html": [
       "<p>Failed to display Jupyter Widget of type <code>HBox</code>.</p>\n",
       "<p>\n",
       "  If you're reading this message in the Jupyter Notebook or JupyterLab Notebook, it may mean\n",
       "  that the widgets JavaScript is still loading. If this message persists, it\n",
       "  likely means that the widgets JavaScript library is either not installed or\n",
       "  not enabled. See the <a href=\"https://ipywidgets.readthedocs.io/en/stable/user_install.html\">Jupyter\n",
       "  Widgets Documentation</a> for setup instructions.\n",
       "</p>\n",
       "<p>\n",
       "  If you're reading this message in another frontend (for example, a static\n",
       "  rendering on GitHub or <a href=\"https://nbviewer.jupyter.org/\">NBViewer</a>),\n",
       "  it may mean that your frontend doesn't currently support widgets.\n",
       "</p>\n"
      ],
      "text/plain": [
       "HBox(children=(IntProgress(value=0, max=22), HTML(value='')))"
      ]
     },
     "metadata": {},
     "output_type": "display_data"
    }
   ],
   "source": [
    "import json\n",
    "\n",
    "matches = []\n",
    "\n",
    "for match in get_json_lines_in_folder('./scraper/scrape_results/'):\n",
    "    if match.get('type', 'match') == 'match' and proper_match(match) and all_valid_players(match):\n",
    "        matches.append(match)"
   ]
  },
  {
   "cell_type": "code",
   "execution_count": 30,
   "metadata": {},
   "outputs": [
    {
     "data": {
      "text/plain": [
       "dict_keys(['account_id', 'hero_healing', 'backpack_2', 'scaled_tower_damage', 'scaled_hero_damage', 'item_1_name', 'leaver_status', 'hero_name', 'item_0_name', 'gold_per_min', 'item_3_name', 'kills', 'hero_id', 'item_2_name', 'assists', 'item_2', 'item_4', 'deaths', 'xp_per_min', 'leaver_status_description', 'scaled_hero_healing', 'item_1', 'tower_damage', 'backpack_0', 'gold_spent', 'last_hits', 'item_4_name', 'item_5', 'backpack_1', 'item_3', 'gold', 'player_slot', 'hero_damage', 'item_0', 'item_5_name', 'level', 'ability_upgrades', 'leaver_status_name', 'denies'])"
      ]
     },
     "execution_count": 30,
     "metadata": {},
     "output_type": "execute_result"
    }
   ],
   "source": [
    "match['players'][0].keys()"
   ]
  },
  {
   "cell_type": "code",
   "execution_count": 3,
   "metadata": {},
   "outputs": [
    {
     "data": {
      "application/vnd.jupyter.widget-view+json": {
       "model_id": "d54d32acb7094a6e93cbcc0356f9c463",
       "version_major": 2,
       "version_minor": 0
      },
      "text/html": [
       "<p>Failed to display Jupyter Widget of type <code>HBox</code>.</p>\n",
       "<p>\n",
       "  If you're reading this message in the Jupyter Notebook or JupyterLab Notebook, it may mean\n",
       "  that the widgets JavaScript is still loading. If this message persists, it\n",
       "  likely means that the widgets JavaScript library is either not installed or\n",
       "  not enabled. See the <a href=\"https://ipywidgets.readthedocs.io/en/stable/user_install.html\">Jupyter\n",
       "  Widgets Documentation</a> for setup instructions.\n",
       "</p>\n",
       "<p>\n",
       "  If you're reading this message in another frontend (for example, a static\n",
       "  rendering on GitHub or <a href=\"https://nbviewer.jupyter.org/\">NBViewer</a>),\n",
       "  it may mean that your frontend doesn't currently support widgets.\n",
       "</p>\n"
      ],
      "text/plain": [
       "HBox(children=(IntProgress(value=0, max=22), HTML(value='')))"
      ]
     },
     "metadata": {},
     "output_type": "display_data"
    },
    {
     "name": "stdout",
     "output_type": "stream",
     "text": [
      "\n"
     ]
    }
   ],
   "source": [
    "from collections import defaultdict\n",
    "\n",
    "friendly_matchups = defaultdict(lambda : defaultdict(lambda: (0,0)))\n",
    "hostile_matchups = defaultdict(lambda : defaultdict(lambda: (0,0)))\n",
    "\n",
    "def divide_players_by_team(players):\n",
    "    return ([x['hero_id'] for x in players if x['player_slot'] < 127],\n",
    "            [x['hero_id'] for x in players if x['player_slot'] > 127])\n",
    "\n",
    "for match in get_json_lines_in_folder('./scraper/scrape_results/'):\n",
    "    if match.get('type', 'match') != 'match' or proper_match(match) is False or all_valid_players(match) is False:\n",
    "        continue\n",
    "    radient_win = match['radiant_win']\n",
    "    radient_players, dire_players = divide_players_by_team(match['players'])\n",
    "    # Win flag is for knowing if it was a win for that team\n",
    "    for team, opposing_team, win_flag in [(radient_players, dire_players, True), \n",
    "                                          (dire_players, radient_players, False)]:\n",
    "        for friendly in team:\n",
    "            if friendly == 0:\n",
    "                raise ValueError\n",
    "            # Opposing_matchup\n",
    "            opponent_matchups = hostile_matchups[friendly]\n",
    "            for opponent in opposing_team:\n",
    "                existing_wins, existing_count = opponent_matchups[opponent]\n",
    "                if radient_win == win_flag:\n",
    "                    existing_wins += 1\n",
    "                opponent_matchups[opponent] = (existing_wins, existing_count + 1)\n",
    "            hostile_matchups[friendly] = opponent_matchups\n",
    "    \n",
    "            #Friendly teamups\n",
    "            teammate_matchups = friendly_matchups[friendly]\n",
    "            for team_mate in team:\n",
    "                if friendly != team_mate or True:\n",
    "                    existing_wins, existing_count = teammate_matchups.get(opponent, (0, 0))\n",
    "                    if radient_win == win_flag:\n",
    "                        existing_wins += 1\n",
    "                    teammate_matchups[opponent] = (existing_wins, existing_count + 1)\n",
    "            friendly_matchups[friendly] = teammate_matchups"
   ]
  },
  {
   "cell_type": "code",
   "execution_count": 4,
   "metadata": {},
   "outputs": [
    {
     "data": {
      "application/vnd.plotly.v1+json": {
       "data": [
        {
         "colorscale": "RdBu",
         "hoverinfo": "text",
         "showscale": false,
         "text": [
          [
           "antimage - antimage - 0",
           "antimage - axe - 0.44220572640509015",
           "antimage - bane - 0.5388349514563107",
           "antimage - bloodseeker - 0.45593525179856115",
           "antimage - crystal_maiden - 0.43561030235162373",
           "antimage - drow_ranger - 0.48226950354609927",
           "antimage - earthshaker - 0.48942598187311176",
           "antimage - juggernaut - 0.532617671345995",
           "antimage - mirana - 0.5016648168701443",
           "antimage - morphling - 0.5452322738386308",
           "antimage - nevermore - 0.5265017667844523",
           "antimage - phantom_lancer - 0.4931506849315068",
           "antimage - puck - 0.5950920245398773",
           "antimage - pudge - 0.47363757199822776",
           "antimage - razor - 0.4947916666666667",
           "antimage - sand_king - 0.5687645687645687",
           "antimage - storm_spirit - 0.5532934131736527",
           "antimage - sven - 0.5043290043290043",
           "antimage - tiny - 0.59",
           "antimage - vengefulspirit - 0.45925925925925926"
          ],
          [
           "axe - antimage - 0.5851063829787234",
           "axe - axe - 0",
           "axe - bane - 0.5817490494296578",
           "axe - bloodseeker - 0.5022583559168925",
           "axe - crystal_maiden - 0.5189639222941721",
           "axe - drow_ranger - 0.5174731182795699",
           "axe - earthshaker - 0.5399792315680166",
           "axe - juggernaut - 0.5643627140139506",
           "axe - mirana - 0.5548936170212766",
           "axe - morphling - 0.6106194690265486",
           "axe - nevermore - 0.6091148115687993",
           "axe - phantom_lancer - 0.5544692737430168",
           "axe - puck - 0.6425339366515838",
           "axe - pudge - 0.49906542056074765",
           "axe - razor - 0.5592592592592592",
           "axe - sand_king - 0.5645412130637636",
           "axe - storm_spirit - 0.5637254901960784",
           "axe - sven - 0.5391304347826087",
           "axe - tiny - 0.6303501945525292",
           "axe - vengefulspirit - 0.4811643835616438"
          ],
          [
           "bane - antimage - 0.4875",
           "bane - axe - 0.4402730375426621",
           "bane - bane - 0",
           "bane - bloodseeker - 0.40789473684210525",
           "bane - crystal_maiden - 0.46953405017921146",
           "bane - drow_ranger - 0.4195804195804196",
           "bane - earthshaker - 0.4427860696517413",
           "bane - juggernaut - 0.5213414634146342",
           "bane - mirana - 0.49019607843137253",
           "bane - morphling - 0.48863636363636365",
           "bane - nevermore - 0.5228215767634855",
           "bane - phantom_lancer - 0.39893617021276595",
           "bane - puck - 0.5660377358490566",
           "bane - pudge - 0.4172661870503597",
           "bane - razor - 0.4936708860759494",
           "bane - sand_king - 0.5808823529411765",
           "bane - storm_spirit - 0.4393939393939394",
           "bane - sven - 0.5303030303030303",
           "bane - tiny - 0.48333333333333334",
           "bane - vengefulspirit - 0.38926174496644295"
          ],
          [
           "bloodseeker - antimage - 0.5740913327120224",
           "bloodseeker - axe - 0.4878253568429891",
           "bloodseeker - bane - 0.5630630630630631",
           "bloodseeker - bloodseeker - 0",
           "bloodseeker - crystal_maiden - 0.49948506694129763",
           "bloodseeker - drow_ranger - 0.5139372822299652",
           "bloodseeker - earthshaker - 0.5242346938775511",
           "bloodseeker - juggernaut - 0.5382716049382716",
           "bloodseeker - mirana - 0.5179119754350051",
           "bloodseeker - morphling - 0.5768261964735516",
           "bloodseeker - nevermore - 0.5853131749460043",
           "bloodseeker - phantom_lancer - 0.4930662557781202",
           "bloodseeker - puck - 0.5879629629629629",
           "bloodseeker - pudge - 0.5011904761904762",
           "bloodseeker - razor - 0.583710407239819",
           "bloodseeker - sand_king - 0.6175908221797323",
           "bloodseeker - storm_spirit - 0.49525101763907736",
           "bloodseeker - sven - 0.5079726651480638",
           "bloodseeker - tiny - 0.6296296296296297",
           "bloodseeker - vengefulspirit - 0.5152173913043478"
          ],
          [
           "crystal_maiden - antimage - 0.5593824228028503",
           "crystal_maiden - axe - 0.5283363802559415",
           "crystal_maiden - bane - 0.5139442231075697",
           "crystal_maiden - bloodseeker - 0.522083805209513",
           "crystal_maiden - crystal_maiden - 0",
           "crystal_maiden - drow_ranger - 0.5159235668789809",
           "crystal_maiden - earthshaker - 0.5209790209790209",
           "crystal_maiden - juggernaut - 0.5376425855513308",
           "crystal_maiden - mirana - 0.5382513661202186",
           "crystal_maiden - morphling - 0.5800970873786407",
           "crystal_maiden - nevermore - 0.5805439330543933",
           "crystal_maiden - phantom_lancer - 0.5492063492063493",
           "crystal_maiden - puck - 0.7083333333333334",
           "crystal_maiden - pudge - 0.5078702216511404",
           "crystal_maiden - razor - 0.56",
           "crystal_maiden - sand_king - 0.570873786407767",
           "crystal_maiden - storm_spirit - 0.5266106442577031",
           "crystal_maiden - sven - 0.5306553911205074",
           "crystal_maiden - tiny - 0.6220472440944882",
           "crystal_maiden - vengefulspirit - 0.48056537102473496"
          ],
          [
           "drow_ranger - antimage - 0.5561312607944733",
           "drow_ranger - axe - 0.46017699115044247",
           "drow_ranger - bane - 0.5448717948717948",
           "drow_ranger - bloodseeker - 0.4743362831858407",
           "drow_ranger - crystal_maiden - 0.4851190476190476",
           "drow_ranger - drow_ranger - 0",
           "drow_ranger - earthshaker - 0.46830265848670755",
           "drow_ranger - juggernaut - 0.5831234256926953",
           "drow_ranger - mirana - 0.4985835694050991",
           "drow_ranger - morphling - 0.5966101694915255",
           "drow_ranger - nevermore - 0.5810147299509002",
           "drow_ranger - phantom_lancer - 0.4398976982097187",
           "drow_ranger - puck - 0.6201550387596899",
           "drow_ranger - pudge - 0.4866151100535396",
           "drow_ranger - razor - 0.5985401459854015",
           "drow_ranger - sand_king - 0.5609756097560976",
           "drow_ranger - storm_spirit - 0.5368171021377672",
           "drow_ranger - sven - 0.53125",
           "drow_ranger - tiny - 0.6058823529411764",
           "drow_ranger - vengefulspirit - 0.5304054054054054"
          ],
          [
           "earthshaker - antimage - 0.5237366003062787",
           "earthshaker - axe - 0.4505183788878417",
           "earthshaker - bane - 0.5652173913043478",
           "earthshaker - bloodseeker - 0.4738219895287958",
           "earthshaker - crystal_maiden - 0.4773445732349842",
           "earthshaker - drow_ranger - 0.46732673267326735",
           "earthshaker - earthshaker - 0",
           "earthshaker - juggernaut - 0.504941599281222",
           "earthshaker - mirana - 0.4911111111111111",
           "earthshaker - morphling - 0.534375",
           "earthshaker - nevermore - 0.5243243243243243",
           "earthshaker - phantom_lancer - 0.5159967186218212",
           "earthshaker - puck - 0.5922330097087378",
           "earthshaker - pudge - 0.49364069952305245",
           "earthshaker - razor - 0.5421686746987951",
           "earthshaker - sand_king - 0.5851979345955249",
           "earthshaker - storm_spirit - 0.5015673981191222",
           "earthshaker - sven - 0.47139588100686497",
           "earthshaker - tiny - 0.5630252100840336",
           "earthshaker - vengefulspirit - 0.4515366430260047"
          ],
          [
           "juggernaut - antimage - 0.4925893635571055",
           "juggernaut - axe - 0.44902912621359226",
           "juggernaut - bane - 0.5283582089552239",
           "juggernaut - bloodseeker - 0.4679966749792186",
           "juggernaut - crystal_maiden - 0.4730229120473023",
           "juggernaut - drow_ranger - 0.46534653465346537",
           "juggernaut - earthshaker - 0.4907578558225508",
           "juggernaut - juggernaut - 0",
           "juggernaut - mirana - 0.525411596277738",
           "juggernaut - morphling - 0.5341726618705036",
           "juggernaut - nevermore - 0.548472775564409",
           "juggernaut - phantom_lancer - 0.4852941176470588",
           "juggernaut - puck - 0.5964285714285714",
           "juggernaut - pudge - 0.4658085277554304",
           "juggernaut - razor - 0.5570032573289903",
           "juggernaut - sand_king - 0.5496774193548387",
           "juggernaut - storm_spirit - 0.509825327510917",
           "juggernaut - sven - 0.4776357827476038",
           "juggernaut - tiny - 0.6",
           "juggernaut - vengefulspirit - 0.4378531073446328"
          ],
          [
           "mirana - antimage - 0.5083240843507214",
           "mirana - axe - 0.43033800494641383",
           "mirana - bane - 0.5742971887550201",
           "mirana - bloodseeker - 0.4640394088669951",
           "mirana - crystal_maiden - 0.4879518072289157",
           "mirana - drow_ranger - 0.48111658456486045",
           "mirana - earthshaker - 0.46625129802699894",
           "mirana - juggernaut - 0.5007299270072992",
           "mirana - mirana - 0",
           "mirana - morphling - 0.556745182012848",
           "mirana - nevermore - 0.5498652291105122",
           "mirana - phantom_lancer - 0.5045317220543807",
           "mirana - puck - 0.5",
           "mirana - pudge - 0.4778734778734779",
           "mirana - razor - 0.5755102040816327",
           "mirana - sand_king - 0.5466666666666666",
           "mirana - storm_spirit - 0.5340179717586649",
           "mirana - sven - 0.5142857142857142",
           "mirana - tiny - 0.5802469135802469",
           "mirana - vengefulspirit - 0.4759259259259259"
          ],
          [
           "morphling - antimage - 0.44339622641509435",
           "morphling - axe - 0.4043956043956044",
           "morphling - bane - 0.47959183673469385",
           "morphling - bloodseeker - 0.4475703324808184",
           "morphling - crystal_maiden - 0.408983451536643",
           "morphling - drow_ranger - 0.4657039711191336",
           "morphling - earthshaker - 0.4837758112094395",
           "morphling - juggernaut - 0.5",
           "morphling - mirana - 0.4276315789473684",
           "morphling - morphling - 0",
           "morphling - nevermore - 0.511482254697286",
           "morphling - phantom_lancer - 0.43109540636042404",
           "morphling - puck - 0.4411764705882353",
           "morphling - pudge - 0.4587843463780183",
           "morphling - razor - 0.49019607843137253",
           "morphling - sand_king - 0.5173913043478261",
           "morphling - storm_spirit - 0.4778156996587031",
           "morphling - sven - 0.4635416666666667",
           "morphling - tiny - 0.5701754385964912",
           "morphling - vengefulspirit - 0.34801762114537443"
          ],
          [
           "nevermore - antimage - 0.4359903381642512",
           "nevermore - axe - 0.38762214983713356",
           "nevermore - bane - 0.5203252032520326",
           "nevermore - bloodseeker - 0.4160659114315139",
           "nevermore - crystal_maiden - 0.41970443349753694",
           "nevermore - drow_ranger - 0.432510885341074",
           "nevermore - earthshaker - 0.46808510638297873",
           "nevermore - juggernaut - 0.4117647058823529",
           "nevermore - mirana - 0.45382585751978893",
           "nevermore - morphling - 0.5",
           "nevermore - nevermore - 0",
           "nevermore - phantom_lancer - 0.43529411764705883",
           "nevermore - puck - 0.5396825396825397",
           "nevermore - pudge - 0.4134206219312602",
           "nevermore - razor - 0.5625",
           "nevermore - sand_king - 0.5172413793103449",
           "nevermore - storm_spirit - 0.46445497630331756",
           "nevermore - sven - 0.4343807763401109",
           "nevermore - tiny - 0.5551724137931034",
           "nevermore - vengefulspirit - 0.3981651376146789"
          ],
          [
           "phantom_lancer - antimage - 0.4720616570327553",
           "phantom_lancer - axe - 0.45123537061118335",
           "phantom_lancer - bane - 0.6108108108108108",
           "phantom_lancer - bloodseeker - 0.5056",
           "phantom_lancer - crystal_maiden - 0.43962848297213625",
           "phantom_lancer - drow_ranger - 0.5431235431235432",
           "phantom_lancer - earthshaker - 0.4796812749003984",
           "phantom_lancer - juggernaut - 0.4901185770750988",
           "phantom_lancer - mirana - 0.48519736842105265",
           "phantom_lancer - morphling - 0.5488215488215489",
           "phantom_lancer - nevermore - 0.5459610027855153",
           "phantom_lancer - phantom_lancer - 0",
           "phantom_lancer - puck - 0.5769230769230769",
           "phantom_lancer - pudge - 0.5073115860517435",
           "phantom_lancer - razor - 0.6242424242424243",
           "phantom_lancer - sand_king - 0.48021108179419525",
           "phantom_lancer - storm_spirit - 0.4912663755458515",
           "phantom_lancer - sven - 0.4675141242937853",
           "phantom_lancer - tiny - 0.6526946107784432",
           "phantom_lancer - vengefulspirit - 0.49137931034482757"
          ],
          [
           "puck - antimage - 0.40414507772020725",
           "puck - axe - 0.31063829787234043",
           "puck - bane - 0.43103448275862066",
           "puck - bloodseeker - 0.41081081081081083",
           "puck - crystal_maiden - 0.3385416666666667",
           "puck - drow_ranger - 0.4084507042253521",
           "puck - earthshaker - 0.42105263157894735",
           "puck - juggernaut - 0.359375",
           "puck - mirana - 0.4206008583690987",
           "puck - morphling - 0.5147058823529411",
           "puck - nevermore - 0.4326530612244898",
           "puck - phantom_lancer - 0.4244604316546763",
           "puck - puck - 0",
           "puck - pudge - 0.4027777777777778",
           "puck - razor - 0.37735849056603776",
           "puck - sand_king - 0.5263157894736842",
           "puck - storm_spirit - 0.41875",
           "puck - sven - 0.4392523364485981",
           "puck - tiny - 0.4074074074074074",
           "puck - vengefulspirit - 0.3728813559322034"
          ],
          [
           "pudge - antimage - 0.5156669650850493",
           "pudge - axe - 0.4995507637017071",
           "pudge - bane - 0.554904831625183",
           "pudge - bloodseeker - 0.5246913580246914",
           "pudge - crystal_maiden - 0.5015069318866787",
           "pudge - drow_ranger - 0.5054131054131055",
           "pudge - earthshaker - 0.51636503658067",
           "pudge - juggernaut - 0.5233441910966341",
           "pudge - mirana - 0.5226013414989793",
           "pudge - morphling - 0.5604217356042174",
           "pudge - nevermore - 0.585163007318696",
           "pudge - phantom_lancer - 0.4898078043098428",
           "pudge - puck - 0.6091954022988506",
           "pudge - pudge - 0",
           "pudge - razor - 0.5881226053639846",
           "pudge - sand_king - 0.5798588838999359",
           "pudge - storm_spirit - 0.5370731707317074",
           "pudge - sven - 0.5472868217054263",
           "pudge - tiny - 0.6273932253313697",
           "pudge - vengefulspirit - 0.4660633484162896"
          ],
          [
           "razor - antimage - 0.43103448275862066",
           "razor - axe - 0.4332129963898917",
           "razor - bane - 0.43636363636363634",
           "razor - bloodseeker - 0.3924050632911392",
           "razor - crystal_maiden - 0.4429223744292237",
           "razor - drow_ranger - 0.408",
           "razor - earthshaker - 0.5081081081081081",
           "razor - juggernaut - 0.4212328767123288",
           "razor - mirana - 0.41626794258373206",
           "razor - morphling - 0.49382716049382713",
           "razor - nevermore - 0.4708333333333333",
           "razor - phantom_lancer - 0.3803680981595092",
           "razor - puck - 0.5",
           "razor - pudge - 0.4452690166975881",
           "razor - razor - 0",
           "razor - sand_king - 0.5367647058823529",
           "razor - storm_spirit - 0.40764331210191085",
           "razor - sven - 0.4906832298136646",
           "razor - tiny - 0.5441176470588235",
           "razor - vengefulspirit - 0.36666666666666664"
          ],
          [
           "sand_king - antimage - 0.43537414965986393",
           "sand_king - axe - 0.40428790199081166",
           "sand_king - bane - 0.5069444444444444",
           "sand_king - bloodseeker - 0.4176954732510288",
           "sand_king - crystal_maiden - 0.42105263157894735",
           "sand_king - drow_ranger - 0.4391025641025641",
           "sand_king - earthshaker - 0.43021032504780116",
           "sand_king - juggernaut - 0.45179063360881544",
           "sand_king - mirana - 0.43548387096774194",
           "sand_king - morphling - 0.4700460829493088",
           "sand_king - nevermore - 0.52428810720268",
           "sand_king - phantom_lancer - 0.48717948717948717",
           "sand_king - puck - 0.5675675675675675",
           "sand_king - pudge - 0.4377880184331797",
           "sand_king - razor - 0.5912408759124088",
           "sand_king - sand_king - 0",
           "sand_king - storm_spirit - 0.47146401985111663",
           "sand_king - sven - 0.41923076923076924",
           "sand_king - tiny - 0.5569620253164557",
           "sand_king - vengefulspirit - 0.37184115523465705"
          ],
          [
           "storm_spirit - antimage - 0.4565483476132191",
           "storm_spirit - axe - 0.4234338747099768",
           "storm_spirit - bane - 0.494949494949495",
           "storm_spirit - bloodseeker - 0.4806007509386733",
           "storm_spirit - crystal_maiden - 0.43943298969072164",
           "storm_spirit - drow_ranger - 0.47101449275362317",
           "storm_spirit - earthshaker - 0.4794745484400657",
           "storm_spirit - juggernaut - 0.49150743099787686",
           "storm_spirit - mirana - 0.5319949811794228",
           "storm_spirit - morphling - 0.5255255255255256",
           "storm_spirit - nevermore - 0.5161290322580645",
           "storm_spirit - phantom_lancer - 0.49510763209393344",
           "storm_spirit - puck - 0.5291005291005291",
           "storm_spirit - pudge - 0.48213457076566124",
           "storm_spirit - razor - 0.583941605839416",
           "storm_spirit - sand_king - 0.5234567901234568",
           "storm_spirit - storm_spirit - 0",
           "storm_spirit - sven - 0.4444444444444444",
           "storm_spirit - tiny - 0.5757575757575758",
           "storm_spirit - vengefulspirit - 0.43922651933701656"
          ],
          [
           "sven - antimage - 0.5619266055045872",
           "sven - axe - 0.455",
           "sven - bane - 0.5327868852459017",
           "sven - bloodseeker - 0.5",
           "sven - crystal_maiden - 0.4751131221719457",
           "sven - drow_ranger - 0.40993788819875776",
           "sven - earthshaker - 0.4867469879518072",
           "sven - juggernaut - 0.4881516587677725",
           "sven - mirana - 0.4658119658119658",
           "sven - morphling - 0.5426829268292683",
           "sven - nevermore - 0.5207547169811321",
           "sven - phantom_lancer - 0.5252387448840382",
           "sven - puck - 0.6082474226804123",
           "sven - pudge - 0.4684014869888476",
           "sven - razor - 0.5109489051094891",
           "sven - sand_king - 0.5113636363636364",
           "sven - storm_spirit - 0.5469798657718121",
           "sven - sven - 0",
           "sven - tiny - 0.5693430656934306",
           "sven - vengefulspirit - 0.39636363636363636"
          ],
          [
           "tiny - antimage - 0.4594594594594595",
           "tiny - axe - 0.35106382978723405",
           "tiny - bane - 0.35",
           "tiny - bloodseeker - 0.3483606557377049",
           "tiny - crystal_maiden - 0.39826839826839827",
           "tiny - drow_ranger - 0.36645962732919257",
           "tiny - earthshaker - 0.4088888888888889",
           "tiny - juggernaut - 0.3866279069767442",
           "tiny - mirana - 0.4409090909090909",
           "tiny - morphling - 0.4",
           "tiny - nevermore - 0.3860294117647059",
           "tiny - phantom_lancer - 0.3558282208588957",
           "tiny - puck - 0.4714285714285714",
           "tiny - pudge - 0.40444444444444444",
           "tiny - razor - 0.4",
           "tiny - sand_king - 0.44",
           "tiny - storm_spirit - 0.42391304347826086",
           "tiny - sven - 0.47540983606557374",
           "tiny - tiny - 0",
           "tiny - vengefulspirit - 0.3888888888888889"
          ],
          [
           "vengefulspirit - antimage - 0.5201900237529691",
           "vengefulspirit - axe - 0.47540983606557374",
           "vengefulspirit - bane - 0.582089552238806",
           "vengefulspirit - bloodseeker - 0.5243362831858407",
           "vengefulspirit - crystal_maiden - 0.4878048780487805",
           "vengefulspirit - drow_ranger - 0.5272727272727272",
           "vengefulspirit - earthshaker - 0.5576923076923077",
           "vengefulspirit - juggernaut - 0.5172890733056709",
           "vengefulspirit - mirana - 0.5433212996389891",
           "vengefulspirit - morphling - 0.5374449339207048",
           "vengefulspirit - nevermore - 0.5794392523364486",
           "vengefulspirit - phantom_lancer - 0.5277777777777778",
           "vengefulspirit - puck - 0.6101694915254238",
           "vengefulspirit - pudge - 0.5255663430420712",
           "vengefulspirit - razor - 0.6330935251798561",
           "vengefulspirit - sand_king - 0.5953307392996109",
           "vengefulspirit - storm_spirit - 0.6105263157894737",
           "vengefulspirit - sven - 0.5241635687732342",
           "vengefulspirit - tiny - 0.6351351351351351",
           "vengefulspirit - vengefulspirit - 0"
          ]
         ],
         "type": "heatmap",
         "uid": "1ddc30de-9dd8-11e8-8aa7-1c1b0d9ee69f",
         "x": [
          "antimage",
          "axe",
          "bane",
          "bloodseeker",
          "crystal_maiden",
          "drow_ranger",
          "earthshaker",
          "juggernaut",
          "mirana",
          "morphling",
          "nevermore",
          "phantom_lancer",
          "puck",
          "pudge",
          "razor",
          "sand_king",
          "storm_spirit",
          "sven",
          "tiny",
          "vengefulspirit"
         ],
         "y": [
          "antimage",
          "axe",
          "bane",
          "bloodseeker",
          "crystal_maiden",
          "drow_ranger",
          "earthshaker",
          "juggernaut",
          "mirana",
          "morphling",
          "nevermore",
          "phantom_lancer",
          "puck",
          "pudge",
          "razor",
          "sand_king",
          "storm_spirit",
          "sven",
          "tiny",
          "vengefulspirit"
         ],
         "z": [
          [
           0,
           0.44220572640509015,
           0.5388349514563107,
           0.45593525179856115,
           0.43561030235162373,
           0.48226950354609927,
           0.48942598187311176,
           0.532617671345995,
           0.5016648168701443,
           0.5452322738386308,
           0.5265017667844523,
           0.4931506849315068,
           0.5950920245398773,
           0.47363757199822776,
           0.4947916666666667,
           0.5687645687645687,
           0.5532934131736527,
           0.5043290043290043,
           0.59,
           0.45925925925925926
          ],
          [
           0.5851063829787234,
           0,
           0.5817490494296578,
           0.5022583559168925,
           0.5189639222941721,
           0.5174731182795699,
           0.5399792315680166,
           0.5643627140139506,
           0.5548936170212766,
           0.6106194690265486,
           0.6091148115687993,
           0.5544692737430168,
           0.6425339366515838,
           0.49906542056074765,
           0.5592592592592592,
           0.5645412130637636,
           0.5637254901960784,
           0.5391304347826087,
           0.6303501945525292,
           0.4811643835616438
          ],
          [
           0.4875,
           0.4402730375426621,
           0,
           0.40789473684210525,
           0.46953405017921146,
           0.4195804195804196,
           0.4427860696517413,
           0.5213414634146342,
           0.49019607843137253,
           0.48863636363636365,
           0.5228215767634855,
           0.39893617021276595,
           0.5660377358490566,
           0.4172661870503597,
           0.4936708860759494,
           0.5808823529411765,
           0.4393939393939394,
           0.5303030303030303,
           0.48333333333333334,
           0.38926174496644295
          ],
          [
           0.5740913327120224,
           0.4878253568429891,
           0.5630630630630631,
           0,
           0.49948506694129763,
           0.5139372822299652,
           0.5242346938775511,
           0.5382716049382716,
           0.5179119754350051,
           0.5768261964735516,
           0.5853131749460043,
           0.4930662557781202,
           0.5879629629629629,
           0.5011904761904762,
           0.583710407239819,
           0.6175908221797323,
           0.49525101763907736,
           0.5079726651480638,
           0.6296296296296297,
           0.5152173913043478
          ],
          [
           0.5593824228028503,
           0.5283363802559415,
           0.5139442231075697,
           0.522083805209513,
           0,
           0.5159235668789809,
           0.5209790209790209,
           0.5376425855513308,
           0.5382513661202186,
           0.5800970873786407,
           0.5805439330543933,
           0.5492063492063493,
           0.7083333333333334,
           0.5078702216511404,
           0.56,
           0.570873786407767,
           0.5266106442577031,
           0.5306553911205074,
           0.6220472440944882,
           0.48056537102473496
          ],
          [
           0.5561312607944733,
           0.46017699115044247,
           0.5448717948717948,
           0.4743362831858407,
           0.4851190476190476,
           0,
           0.46830265848670755,
           0.5831234256926953,
           0.4985835694050991,
           0.5966101694915255,
           0.5810147299509002,
           0.4398976982097187,
           0.6201550387596899,
           0.4866151100535396,
           0.5985401459854015,
           0.5609756097560976,
           0.5368171021377672,
           0.53125,
           0.6058823529411764,
           0.5304054054054054
          ],
          [
           0.5237366003062787,
           0.4505183788878417,
           0.5652173913043478,
           0.4738219895287958,
           0.4773445732349842,
           0.46732673267326735,
           0,
           0.504941599281222,
           0.4911111111111111,
           0.534375,
           0.5243243243243243,
           0.5159967186218212,
           0.5922330097087378,
           0.49364069952305245,
           0.5421686746987951,
           0.5851979345955249,
           0.5015673981191222,
           0.47139588100686497,
           0.5630252100840336,
           0.4515366430260047
          ],
          [
           0.4925893635571055,
           0.44902912621359226,
           0.5283582089552239,
           0.4679966749792186,
           0.4730229120473023,
           0.46534653465346537,
           0.4907578558225508,
           0,
           0.525411596277738,
           0.5341726618705036,
           0.548472775564409,
           0.4852941176470588,
           0.5964285714285714,
           0.4658085277554304,
           0.5570032573289903,
           0.5496774193548387,
           0.509825327510917,
           0.4776357827476038,
           0.6,
           0.4378531073446328
          ],
          [
           0.5083240843507214,
           0.43033800494641383,
           0.5742971887550201,
           0.4640394088669951,
           0.4879518072289157,
           0.48111658456486045,
           0.46625129802699894,
           0.5007299270072992,
           0,
           0.556745182012848,
           0.5498652291105122,
           0.5045317220543807,
           0.5,
           0.4778734778734779,
           0.5755102040816327,
           0.5466666666666666,
           0.5340179717586649,
           0.5142857142857142,
           0.5802469135802469,
           0.4759259259259259
          ],
          [
           0.44339622641509435,
           0.4043956043956044,
           0.47959183673469385,
           0.4475703324808184,
           0.408983451536643,
           0.4657039711191336,
           0.4837758112094395,
           0.5,
           0.4276315789473684,
           0,
           0.511482254697286,
           0.43109540636042404,
           0.4411764705882353,
           0.4587843463780183,
           0.49019607843137253,
           0.5173913043478261,
           0.4778156996587031,
           0.4635416666666667,
           0.5701754385964912,
           0.34801762114537443
          ],
          [
           0.4359903381642512,
           0.38762214983713356,
           0.5203252032520326,
           0.4160659114315139,
           0.41970443349753694,
           0.432510885341074,
           0.46808510638297873,
           0.4117647058823529,
           0.45382585751978893,
           0.5,
           0,
           0.43529411764705883,
           0.5396825396825397,
           0.4134206219312602,
           0.5625,
           0.5172413793103449,
           0.46445497630331756,
           0.4343807763401109,
           0.5551724137931034,
           0.3981651376146789
          ],
          [
           0.4720616570327553,
           0.45123537061118335,
           0.6108108108108108,
           0.5056,
           0.43962848297213625,
           0.5431235431235432,
           0.4796812749003984,
           0.4901185770750988,
           0.48519736842105265,
           0.5488215488215489,
           0.5459610027855153,
           0,
           0.5769230769230769,
           0.5073115860517435,
           0.6242424242424243,
           0.48021108179419525,
           0.4912663755458515,
           0.4675141242937853,
           0.6526946107784432,
           0.49137931034482757
          ],
          [
           0.40414507772020725,
           0.31063829787234043,
           0.43103448275862066,
           0.41081081081081083,
           0.3385416666666667,
           0.4084507042253521,
           0.42105263157894735,
           0.359375,
           0.4206008583690987,
           0.5147058823529411,
           0.4326530612244898,
           0.4244604316546763,
           0,
           0.4027777777777778,
           0.37735849056603776,
           0.5263157894736842,
           0.41875,
           0.4392523364485981,
           0.4074074074074074,
           0.3728813559322034
          ],
          [
           0.5156669650850493,
           0.4995507637017071,
           0.554904831625183,
           0.5246913580246914,
           0.5015069318866787,
           0.5054131054131055,
           0.51636503658067,
           0.5233441910966341,
           0.5226013414989793,
           0.5604217356042174,
           0.585163007318696,
           0.4898078043098428,
           0.6091954022988506,
           0,
           0.5881226053639846,
           0.5798588838999359,
           0.5370731707317074,
           0.5472868217054263,
           0.6273932253313697,
           0.4660633484162896
          ],
          [
           0.43103448275862066,
           0.4332129963898917,
           0.43636363636363634,
           0.3924050632911392,
           0.4429223744292237,
           0.408,
           0.5081081081081081,
           0.4212328767123288,
           0.41626794258373206,
           0.49382716049382713,
           0.4708333333333333,
           0.3803680981595092,
           0.5,
           0.4452690166975881,
           0,
           0.5367647058823529,
           0.40764331210191085,
           0.4906832298136646,
           0.5441176470588235,
           0.36666666666666664
          ],
          [
           0.43537414965986393,
           0.40428790199081166,
           0.5069444444444444,
           0.4176954732510288,
           0.42105263157894735,
           0.4391025641025641,
           0.43021032504780116,
           0.45179063360881544,
           0.43548387096774194,
           0.4700460829493088,
           0.52428810720268,
           0.48717948717948717,
           0.5675675675675675,
           0.4377880184331797,
           0.5912408759124088,
           0,
           0.47146401985111663,
           0.41923076923076924,
           0.5569620253164557,
           0.37184115523465705
          ],
          [
           0.4565483476132191,
           0.4234338747099768,
           0.494949494949495,
           0.4806007509386733,
           0.43943298969072164,
           0.47101449275362317,
           0.4794745484400657,
           0.49150743099787686,
           0.5319949811794228,
           0.5255255255255256,
           0.5161290322580645,
           0.49510763209393344,
           0.5291005291005291,
           0.48213457076566124,
           0.583941605839416,
           0.5234567901234568,
           0,
           0.4444444444444444,
           0.5757575757575758,
           0.43922651933701656
          ],
          [
           0.5619266055045872,
           0.455,
           0.5327868852459017,
           0.5,
           0.4751131221719457,
           0.40993788819875776,
           0.4867469879518072,
           0.4881516587677725,
           0.4658119658119658,
           0.5426829268292683,
           0.5207547169811321,
           0.5252387448840382,
           0.6082474226804123,
           0.4684014869888476,
           0.5109489051094891,
           0.5113636363636364,
           0.5469798657718121,
           0,
           0.5693430656934306,
           0.39636363636363636
          ],
          [
           0.4594594594594595,
           0.35106382978723405,
           0.35,
           0.3483606557377049,
           0.39826839826839827,
           0.36645962732919257,
           0.4088888888888889,
           0.3866279069767442,
           0.4409090909090909,
           0.4,
           0.3860294117647059,
           0.3558282208588957,
           0.4714285714285714,
           0.40444444444444444,
           0.4,
           0.44,
           0.42391304347826086,
           0.47540983606557374,
           0,
           0.3888888888888889
          ],
          [
           0.5201900237529691,
           0.47540983606557374,
           0.582089552238806,
           0.5243362831858407,
           0.4878048780487805,
           0.5272727272727272,
           0.5576923076923077,
           0.5172890733056709,
           0.5433212996389891,
           0.5374449339207048,
           0.5794392523364486,
           0.5277777777777778,
           0.6101694915254238,
           0.5255663430420712,
           0.6330935251798561,
           0.5953307392996109,
           0.6105263157894737,
           0.5241635687732342,
           0.6351351351351351,
           0
          ]
         ]
        }
       ],
       "layout": {
        "annotations": [
         {
          "font": {
           "color": "#FFFFFF"
          },
          "showarrow": false,
          "text": "",
          "x": "antimage",
          "xref": "x",
          "y": "antimage",
          "yref": "y"
         },
         {
          "font": {
           "color": "#000000"
          },
          "showarrow": false,
          "text": "",
          "x": "axe",
          "xref": "x",
          "y": "antimage",
          "yref": "y"
         },
         {
          "font": {
           "color": "#000000"
          },
          "showarrow": false,
          "text": "",
          "x": "bane",
          "xref": "x",
          "y": "antimage",
          "yref": "y"
         },
         {
          "font": {
           "color": "#000000"
          },
          "showarrow": false,
          "text": "",
          "x": "bloodseeker",
          "xref": "x",
          "y": "antimage",
          "yref": "y"
         },
         {
          "font": {
           "color": "#000000"
          },
          "showarrow": false,
          "text": "",
          "x": "crystal_maiden",
          "xref": "x",
          "y": "antimage",
          "yref": "y"
         },
         {
          "font": {
           "color": "#000000"
          },
          "showarrow": false,
          "text": "",
          "x": "drow_ranger",
          "xref": "x",
          "y": "antimage",
          "yref": "y"
         },
         {
          "font": {
           "color": "#000000"
          },
          "showarrow": false,
          "text": "",
          "x": "earthshaker",
          "xref": "x",
          "y": "antimage",
          "yref": "y"
         },
         {
          "font": {
           "color": "#000000"
          },
          "showarrow": false,
          "text": "",
          "x": "juggernaut",
          "xref": "x",
          "y": "antimage",
          "yref": "y"
         },
         {
          "font": {
           "color": "#000000"
          },
          "showarrow": false,
          "text": "",
          "x": "mirana",
          "xref": "x",
          "y": "antimage",
          "yref": "y"
         },
         {
          "font": {
           "color": "#000000"
          },
          "showarrow": false,
          "text": "",
          "x": "morphling",
          "xref": "x",
          "y": "antimage",
          "yref": "y"
         },
         {
          "font": {
           "color": "#000000"
          },
          "showarrow": false,
          "text": "",
          "x": "nevermore",
          "xref": "x",
          "y": "antimage",
          "yref": "y"
         },
         {
          "font": {
           "color": "#000000"
          },
          "showarrow": false,
          "text": "",
          "x": "phantom_lancer",
          "xref": "x",
          "y": "antimage",
          "yref": "y"
         },
         {
          "font": {
           "color": "#000000"
          },
          "showarrow": false,
          "text": "",
          "x": "puck",
          "xref": "x",
          "y": "antimage",
          "yref": "y"
         },
         {
          "font": {
           "color": "#000000"
          },
          "showarrow": false,
          "text": "",
          "x": "pudge",
          "xref": "x",
          "y": "antimage",
          "yref": "y"
         },
         {
          "font": {
           "color": "#000000"
          },
          "showarrow": false,
          "text": "",
          "x": "razor",
          "xref": "x",
          "y": "antimage",
          "yref": "y"
         },
         {
          "font": {
           "color": "#000000"
          },
          "showarrow": false,
          "text": "",
          "x": "sand_king",
          "xref": "x",
          "y": "antimage",
          "yref": "y"
         },
         {
          "font": {
           "color": "#000000"
          },
          "showarrow": false,
          "text": "",
          "x": "storm_spirit",
          "xref": "x",
          "y": "antimage",
          "yref": "y"
         },
         {
          "font": {
           "color": "#000000"
          },
          "showarrow": false,
          "text": "",
          "x": "sven",
          "xref": "x",
          "y": "antimage",
          "yref": "y"
         },
         {
          "font": {
           "color": "#000000"
          },
          "showarrow": false,
          "text": "",
          "x": "tiny",
          "xref": "x",
          "y": "antimage",
          "yref": "y"
         },
         {
          "font": {
           "color": "#000000"
          },
          "showarrow": false,
          "text": "",
          "x": "vengefulspirit",
          "xref": "x",
          "y": "antimage",
          "yref": "y"
         },
         {
          "font": {
           "color": "#000000"
          },
          "showarrow": false,
          "text": "",
          "x": "antimage",
          "xref": "x",
          "y": "axe",
          "yref": "y"
         },
         {
          "font": {
           "color": "#FFFFFF"
          },
          "showarrow": false,
          "text": "",
          "x": "axe",
          "xref": "x",
          "y": "axe",
          "yref": "y"
         },
         {
          "font": {
           "color": "#000000"
          },
          "showarrow": false,
          "text": "",
          "x": "bane",
          "xref": "x",
          "y": "axe",
          "yref": "y"
         },
         {
          "font": {
           "color": "#000000"
          },
          "showarrow": false,
          "text": "",
          "x": "bloodseeker",
          "xref": "x",
          "y": "axe",
          "yref": "y"
         },
         {
          "font": {
           "color": "#000000"
          },
          "showarrow": false,
          "text": "",
          "x": "crystal_maiden",
          "xref": "x",
          "y": "axe",
          "yref": "y"
         },
         {
          "font": {
           "color": "#000000"
          },
          "showarrow": false,
          "text": "",
          "x": "drow_ranger",
          "xref": "x",
          "y": "axe",
          "yref": "y"
         },
         {
          "font": {
           "color": "#000000"
          },
          "showarrow": false,
          "text": "",
          "x": "earthshaker",
          "xref": "x",
          "y": "axe",
          "yref": "y"
         },
         {
          "font": {
           "color": "#000000"
          },
          "showarrow": false,
          "text": "",
          "x": "juggernaut",
          "xref": "x",
          "y": "axe",
          "yref": "y"
         },
         {
          "font": {
           "color": "#000000"
          },
          "showarrow": false,
          "text": "",
          "x": "mirana",
          "xref": "x",
          "y": "axe",
          "yref": "y"
         },
         {
          "font": {
           "color": "#000000"
          },
          "showarrow": false,
          "text": "",
          "x": "morphling",
          "xref": "x",
          "y": "axe",
          "yref": "y"
         },
         {
          "font": {
           "color": "#000000"
          },
          "showarrow": false,
          "text": "",
          "x": "nevermore",
          "xref": "x",
          "y": "axe",
          "yref": "y"
         },
         {
          "font": {
           "color": "#000000"
          },
          "showarrow": false,
          "text": "",
          "x": "phantom_lancer",
          "xref": "x",
          "y": "axe",
          "yref": "y"
         },
         {
          "font": {
           "color": "#000000"
          },
          "showarrow": false,
          "text": "",
          "x": "puck",
          "xref": "x",
          "y": "axe",
          "yref": "y"
         },
         {
          "font": {
           "color": "#000000"
          },
          "showarrow": false,
          "text": "",
          "x": "pudge",
          "xref": "x",
          "y": "axe",
          "yref": "y"
         },
         {
          "font": {
           "color": "#000000"
          },
          "showarrow": false,
          "text": "",
          "x": "razor",
          "xref": "x",
          "y": "axe",
          "yref": "y"
         },
         {
          "font": {
           "color": "#000000"
          },
          "showarrow": false,
          "text": "",
          "x": "sand_king",
          "xref": "x",
          "y": "axe",
          "yref": "y"
         },
         {
          "font": {
           "color": "#000000"
          },
          "showarrow": false,
          "text": "",
          "x": "storm_spirit",
          "xref": "x",
          "y": "axe",
          "yref": "y"
         },
         {
          "font": {
           "color": "#000000"
          },
          "showarrow": false,
          "text": "",
          "x": "sven",
          "xref": "x",
          "y": "axe",
          "yref": "y"
         },
         {
          "font": {
           "color": "#000000"
          },
          "showarrow": false,
          "text": "",
          "x": "tiny",
          "xref": "x",
          "y": "axe",
          "yref": "y"
         },
         {
          "font": {
           "color": "#000000"
          },
          "showarrow": false,
          "text": "",
          "x": "vengefulspirit",
          "xref": "x",
          "y": "axe",
          "yref": "y"
         },
         {
          "font": {
           "color": "#000000"
          },
          "showarrow": false,
          "text": "",
          "x": "antimage",
          "xref": "x",
          "y": "bane",
          "yref": "y"
         },
         {
          "font": {
           "color": "#000000"
          },
          "showarrow": false,
          "text": "",
          "x": "axe",
          "xref": "x",
          "y": "bane",
          "yref": "y"
         },
         {
          "font": {
           "color": "#FFFFFF"
          },
          "showarrow": false,
          "text": "",
          "x": "bane",
          "xref": "x",
          "y": "bane",
          "yref": "y"
         },
         {
          "font": {
           "color": "#000000"
          },
          "showarrow": false,
          "text": "",
          "x": "bloodseeker",
          "xref": "x",
          "y": "bane",
          "yref": "y"
         },
         {
          "font": {
           "color": "#000000"
          },
          "showarrow": false,
          "text": "",
          "x": "crystal_maiden",
          "xref": "x",
          "y": "bane",
          "yref": "y"
         },
         {
          "font": {
           "color": "#000000"
          },
          "showarrow": false,
          "text": "",
          "x": "drow_ranger",
          "xref": "x",
          "y": "bane",
          "yref": "y"
         },
         {
          "font": {
           "color": "#000000"
          },
          "showarrow": false,
          "text": "",
          "x": "earthshaker",
          "xref": "x",
          "y": "bane",
          "yref": "y"
         },
         {
          "font": {
           "color": "#000000"
          },
          "showarrow": false,
          "text": "",
          "x": "juggernaut",
          "xref": "x",
          "y": "bane",
          "yref": "y"
         },
         {
          "font": {
           "color": "#000000"
          },
          "showarrow": false,
          "text": "",
          "x": "mirana",
          "xref": "x",
          "y": "bane",
          "yref": "y"
         },
         {
          "font": {
           "color": "#000000"
          },
          "showarrow": false,
          "text": "",
          "x": "morphling",
          "xref": "x",
          "y": "bane",
          "yref": "y"
         },
         {
          "font": {
           "color": "#000000"
          },
          "showarrow": false,
          "text": "",
          "x": "nevermore",
          "xref": "x",
          "y": "bane",
          "yref": "y"
         },
         {
          "font": {
           "color": "#000000"
          },
          "showarrow": false,
          "text": "",
          "x": "phantom_lancer",
          "xref": "x",
          "y": "bane",
          "yref": "y"
         },
         {
          "font": {
           "color": "#000000"
          },
          "showarrow": false,
          "text": "",
          "x": "puck",
          "xref": "x",
          "y": "bane",
          "yref": "y"
         },
         {
          "font": {
           "color": "#000000"
          },
          "showarrow": false,
          "text": "",
          "x": "pudge",
          "xref": "x",
          "y": "bane",
          "yref": "y"
         },
         {
          "font": {
           "color": "#000000"
          },
          "showarrow": false,
          "text": "",
          "x": "razor",
          "xref": "x",
          "y": "bane",
          "yref": "y"
         },
         {
          "font": {
           "color": "#000000"
          },
          "showarrow": false,
          "text": "",
          "x": "sand_king",
          "xref": "x",
          "y": "bane",
          "yref": "y"
         },
         {
          "font": {
           "color": "#000000"
          },
          "showarrow": false,
          "text": "",
          "x": "storm_spirit",
          "xref": "x",
          "y": "bane",
          "yref": "y"
         },
         {
          "font": {
           "color": "#000000"
          },
          "showarrow": false,
          "text": "",
          "x": "sven",
          "xref": "x",
          "y": "bane",
          "yref": "y"
         },
         {
          "font": {
           "color": "#000000"
          },
          "showarrow": false,
          "text": "",
          "x": "tiny",
          "xref": "x",
          "y": "bane",
          "yref": "y"
         },
         {
          "font": {
           "color": "#000000"
          },
          "showarrow": false,
          "text": "",
          "x": "vengefulspirit",
          "xref": "x",
          "y": "bane",
          "yref": "y"
         },
         {
          "font": {
           "color": "#000000"
          },
          "showarrow": false,
          "text": "",
          "x": "antimage",
          "xref": "x",
          "y": "bloodseeker",
          "yref": "y"
         },
         {
          "font": {
           "color": "#000000"
          },
          "showarrow": false,
          "text": "",
          "x": "axe",
          "xref": "x",
          "y": "bloodseeker",
          "yref": "y"
         },
         {
          "font": {
           "color": "#000000"
          },
          "showarrow": false,
          "text": "",
          "x": "bane",
          "xref": "x",
          "y": "bloodseeker",
          "yref": "y"
         },
         {
          "font": {
           "color": "#FFFFFF"
          },
          "showarrow": false,
          "text": "",
          "x": "bloodseeker",
          "xref": "x",
          "y": "bloodseeker",
          "yref": "y"
         },
         {
          "font": {
           "color": "#000000"
          },
          "showarrow": false,
          "text": "",
          "x": "crystal_maiden",
          "xref": "x",
          "y": "bloodseeker",
          "yref": "y"
         },
         {
          "font": {
           "color": "#000000"
          },
          "showarrow": false,
          "text": "",
          "x": "drow_ranger",
          "xref": "x",
          "y": "bloodseeker",
          "yref": "y"
         },
         {
          "font": {
           "color": "#000000"
          },
          "showarrow": false,
          "text": "",
          "x": "earthshaker",
          "xref": "x",
          "y": "bloodseeker",
          "yref": "y"
         },
         {
          "font": {
           "color": "#000000"
          },
          "showarrow": false,
          "text": "",
          "x": "juggernaut",
          "xref": "x",
          "y": "bloodseeker",
          "yref": "y"
         },
         {
          "font": {
           "color": "#000000"
          },
          "showarrow": false,
          "text": "",
          "x": "mirana",
          "xref": "x",
          "y": "bloodseeker",
          "yref": "y"
         },
         {
          "font": {
           "color": "#000000"
          },
          "showarrow": false,
          "text": "",
          "x": "morphling",
          "xref": "x",
          "y": "bloodseeker",
          "yref": "y"
         },
         {
          "font": {
           "color": "#000000"
          },
          "showarrow": false,
          "text": "",
          "x": "nevermore",
          "xref": "x",
          "y": "bloodseeker",
          "yref": "y"
         },
         {
          "font": {
           "color": "#000000"
          },
          "showarrow": false,
          "text": "",
          "x": "phantom_lancer",
          "xref": "x",
          "y": "bloodseeker",
          "yref": "y"
         },
         {
          "font": {
           "color": "#000000"
          },
          "showarrow": false,
          "text": "",
          "x": "puck",
          "xref": "x",
          "y": "bloodseeker",
          "yref": "y"
         },
         {
          "font": {
           "color": "#000000"
          },
          "showarrow": false,
          "text": "",
          "x": "pudge",
          "xref": "x",
          "y": "bloodseeker",
          "yref": "y"
         },
         {
          "font": {
           "color": "#000000"
          },
          "showarrow": false,
          "text": "",
          "x": "razor",
          "xref": "x",
          "y": "bloodseeker",
          "yref": "y"
         },
         {
          "font": {
           "color": "#000000"
          },
          "showarrow": false,
          "text": "",
          "x": "sand_king",
          "xref": "x",
          "y": "bloodseeker",
          "yref": "y"
         },
         {
          "font": {
           "color": "#000000"
          },
          "showarrow": false,
          "text": "",
          "x": "storm_spirit",
          "xref": "x",
          "y": "bloodseeker",
          "yref": "y"
         },
         {
          "font": {
           "color": "#000000"
          },
          "showarrow": false,
          "text": "",
          "x": "sven",
          "xref": "x",
          "y": "bloodseeker",
          "yref": "y"
         },
         {
          "font": {
           "color": "#000000"
          },
          "showarrow": false,
          "text": "",
          "x": "tiny",
          "xref": "x",
          "y": "bloodseeker",
          "yref": "y"
         },
         {
          "font": {
           "color": "#000000"
          },
          "showarrow": false,
          "text": "",
          "x": "vengefulspirit",
          "xref": "x",
          "y": "bloodseeker",
          "yref": "y"
         },
         {
          "font": {
           "color": "#000000"
          },
          "showarrow": false,
          "text": "",
          "x": "antimage",
          "xref": "x",
          "y": "crystal_maiden",
          "yref": "y"
         },
         {
          "font": {
           "color": "#000000"
          },
          "showarrow": false,
          "text": "",
          "x": "axe",
          "xref": "x",
          "y": "crystal_maiden",
          "yref": "y"
         },
         {
          "font": {
           "color": "#000000"
          },
          "showarrow": false,
          "text": "",
          "x": "bane",
          "xref": "x",
          "y": "crystal_maiden",
          "yref": "y"
         },
         {
          "font": {
           "color": "#000000"
          },
          "showarrow": false,
          "text": "",
          "x": "bloodseeker",
          "xref": "x",
          "y": "crystal_maiden",
          "yref": "y"
         },
         {
          "font": {
           "color": "#FFFFFF"
          },
          "showarrow": false,
          "text": "",
          "x": "crystal_maiden",
          "xref": "x",
          "y": "crystal_maiden",
          "yref": "y"
         },
         {
          "font": {
           "color": "#000000"
          },
          "showarrow": false,
          "text": "",
          "x": "drow_ranger",
          "xref": "x",
          "y": "crystal_maiden",
          "yref": "y"
         },
         {
          "font": {
           "color": "#000000"
          },
          "showarrow": false,
          "text": "",
          "x": "earthshaker",
          "xref": "x",
          "y": "crystal_maiden",
          "yref": "y"
         },
         {
          "font": {
           "color": "#000000"
          },
          "showarrow": false,
          "text": "",
          "x": "juggernaut",
          "xref": "x",
          "y": "crystal_maiden",
          "yref": "y"
         },
         {
          "font": {
           "color": "#000000"
          },
          "showarrow": false,
          "text": "",
          "x": "mirana",
          "xref": "x",
          "y": "crystal_maiden",
          "yref": "y"
         },
         {
          "font": {
           "color": "#000000"
          },
          "showarrow": false,
          "text": "",
          "x": "morphling",
          "xref": "x",
          "y": "crystal_maiden",
          "yref": "y"
         },
         {
          "font": {
           "color": "#000000"
          },
          "showarrow": false,
          "text": "",
          "x": "nevermore",
          "xref": "x",
          "y": "crystal_maiden",
          "yref": "y"
         },
         {
          "font": {
           "color": "#000000"
          },
          "showarrow": false,
          "text": "",
          "x": "phantom_lancer",
          "xref": "x",
          "y": "crystal_maiden",
          "yref": "y"
         },
         {
          "font": {
           "color": "#000000"
          },
          "showarrow": false,
          "text": "",
          "x": "puck",
          "xref": "x",
          "y": "crystal_maiden",
          "yref": "y"
         },
         {
          "font": {
           "color": "#000000"
          },
          "showarrow": false,
          "text": "",
          "x": "pudge",
          "xref": "x",
          "y": "crystal_maiden",
          "yref": "y"
         },
         {
          "font": {
           "color": "#000000"
          },
          "showarrow": false,
          "text": "",
          "x": "razor",
          "xref": "x",
          "y": "crystal_maiden",
          "yref": "y"
         },
         {
          "font": {
           "color": "#000000"
          },
          "showarrow": false,
          "text": "",
          "x": "sand_king",
          "xref": "x",
          "y": "crystal_maiden",
          "yref": "y"
         },
         {
          "font": {
           "color": "#000000"
          },
          "showarrow": false,
          "text": "",
          "x": "storm_spirit",
          "xref": "x",
          "y": "crystal_maiden",
          "yref": "y"
         },
         {
          "font": {
           "color": "#000000"
          },
          "showarrow": false,
          "text": "",
          "x": "sven",
          "xref": "x",
          "y": "crystal_maiden",
          "yref": "y"
         },
         {
          "font": {
           "color": "#000000"
          },
          "showarrow": false,
          "text": "",
          "x": "tiny",
          "xref": "x",
          "y": "crystal_maiden",
          "yref": "y"
         },
         {
          "font": {
           "color": "#000000"
          },
          "showarrow": false,
          "text": "",
          "x": "vengefulspirit",
          "xref": "x",
          "y": "crystal_maiden",
          "yref": "y"
         },
         {
          "font": {
           "color": "#000000"
          },
          "showarrow": false,
          "text": "",
          "x": "antimage",
          "xref": "x",
          "y": "drow_ranger",
          "yref": "y"
         },
         {
          "font": {
           "color": "#000000"
          },
          "showarrow": false,
          "text": "",
          "x": "axe",
          "xref": "x",
          "y": "drow_ranger",
          "yref": "y"
         },
         {
          "font": {
           "color": "#000000"
          },
          "showarrow": false,
          "text": "",
          "x": "bane",
          "xref": "x",
          "y": "drow_ranger",
          "yref": "y"
         },
         {
          "font": {
           "color": "#000000"
          },
          "showarrow": false,
          "text": "",
          "x": "bloodseeker",
          "xref": "x",
          "y": "drow_ranger",
          "yref": "y"
         },
         {
          "font": {
           "color": "#000000"
          },
          "showarrow": false,
          "text": "",
          "x": "crystal_maiden",
          "xref": "x",
          "y": "drow_ranger",
          "yref": "y"
         },
         {
          "font": {
           "color": "#FFFFFF"
          },
          "showarrow": false,
          "text": "",
          "x": "drow_ranger",
          "xref": "x",
          "y": "drow_ranger",
          "yref": "y"
         },
         {
          "font": {
           "color": "#000000"
          },
          "showarrow": false,
          "text": "",
          "x": "earthshaker",
          "xref": "x",
          "y": "drow_ranger",
          "yref": "y"
         },
         {
          "font": {
           "color": "#000000"
          },
          "showarrow": false,
          "text": "",
          "x": "juggernaut",
          "xref": "x",
          "y": "drow_ranger",
          "yref": "y"
         },
         {
          "font": {
           "color": "#000000"
          },
          "showarrow": false,
          "text": "",
          "x": "mirana",
          "xref": "x",
          "y": "drow_ranger",
          "yref": "y"
         },
         {
          "font": {
           "color": "#000000"
          },
          "showarrow": false,
          "text": "",
          "x": "morphling",
          "xref": "x",
          "y": "drow_ranger",
          "yref": "y"
         },
         {
          "font": {
           "color": "#000000"
          },
          "showarrow": false,
          "text": "",
          "x": "nevermore",
          "xref": "x",
          "y": "drow_ranger",
          "yref": "y"
         },
         {
          "font": {
           "color": "#000000"
          },
          "showarrow": false,
          "text": "",
          "x": "phantom_lancer",
          "xref": "x",
          "y": "drow_ranger",
          "yref": "y"
         },
         {
          "font": {
           "color": "#000000"
          },
          "showarrow": false,
          "text": "",
          "x": "puck",
          "xref": "x",
          "y": "drow_ranger",
          "yref": "y"
         },
         {
          "font": {
           "color": "#000000"
          },
          "showarrow": false,
          "text": "",
          "x": "pudge",
          "xref": "x",
          "y": "drow_ranger",
          "yref": "y"
         },
         {
          "font": {
           "color": "#000000"
          },
          "showarrow": false,
          "text": "",
          "x": "razor",
          "xref": "x",
          "y": "drow_ranger",
          "yref": "y"
         },
         {
          "font": {
           "color": "#000000"
          },
          "showarrow": false,
          "text": "",
          "x": "sand_king",
          "xref": "x",
          "y": "drow_ranger",
          "yref": "y"
         },
         {
          "font": {
           "color": "#000000"
          },
          "showarrow": false,
          "text": "",
          "x": "storm_spirit",
          "xref": "x",
          "y": "drow_ranger",
          "yref": "y"
         },
         {
          "font": {
           "color": "#000000"
          },
          "showarrow": false,
          "text": "",
          "x": "sven",
          "xref": "x",
          "y": "drow_ranger",
          "yref": "y"
         },
         {
          "font": {
           "color": "#000000"
          },
          "showarrow": false,
          "text": "",
          "x": "tiny",
          "xref": "x",
          "y": "drow_ranger",
          "yref": "y"
         },
         {
          "font": {
           "color": "#000000"
          },
          "showarrow": false,
          "text": "",
          "x": "vengefulspirit",
          "xref": "x",
          "y": "drow_ranger",
          "yref": "y"
         },
         {
          "font": {
           "color": "#000000"
          },
          "showarrow": false,
          "text": "",
          "x": "antimage",
          "xref": "x",
          "y": "earthshaker",
          "yref": "y"
         },
         {
          "font": {
           "color": "#000000"
          },
          "showarrow": false,
          "text": "",
          "x": "axe",
          "xref": "x",
          "y": "earthshaker",
          "yref": "y"
         },
         {
          "font": {
           "color": "#000000"
          },
          "showarrow": false,
          "text": "",
          "x": "bane",
          "xref": "x",
          "y": "earthshaker",
          "yref": "y"
         },
         {
          "font": {
           "color": "#000000"
          },
          "showarrow": false,
          "text": "",
          "x": "bloodseeker",
          "xref": "x",
          "y": "earthshaker",
          "yref": "y"
         },
         {
          "font": {
           "color": "#000000"
          },
          "showarrow": false,
          "text": "",
          "x": "crystal_maiden",
          "xref": "x",
          "y": "earthshaker",
          "yref": "y"
         },
         {
          "font": {
           "color": "#000000"
          },
          "showarrow": false,
          "text": "",
          "x": "drow_ranger",
          "xref": "x",
          "y": "earthshaker",
          "yref": "y"
         },
         {
          "font": {
           "color": "#FFFFFF"
          },
          "showarrow": false,
          "text": "",
          "x": "earthshaker",
          "xref": "x",
          "y": "earthshaker",
          "yref": "y"
         },
         {
          "font": {
           "color": "#000000"
          },
          "showarrow": false,
          "text": "",
          "x": "juggernaut",
          "xref": "x",
          "y": "earthshaker",
          "yref": "y"
         },
         {
          "font": {
           "color": "#000000"
          },
          "showarrow": false,
          "text": "",
          "x": "mirana",
          "xref": "x",
          "y": "earthshaker",
          "yref": "y"
         },
         {
          "font": {
           "color": "#000000"
          },
          "showarrow": false,
          "text": "",
          "x": "morphling",
          "xref": "x",
          "y": "earthshaker",
          "yref": "y"
         },
         {
          "font": {
           "color": "#000000"
          },
          "showarrow": false,
          "text": "",
          "x": "nevermore",
          "xref": "x",
          "y": "earthshaker",
          "yref": "y"
         },
         {
          "font": {
           "color": "#000000"
          },
          "showarrow": false,
          "text": "",
          "x": "phantom_lancer",
          "xref": "x",
          "y": "earthshaker",
          "yref": "y"
         },
         {
          "font": {
           "color": "#000000"
          },
          "showarrow": false,
          "text": "",
          "x": "puck",
          "xref": "x",
          "y": "earthshaker",
          "yref": "y"
         },
         {
          "font": {
           "color": "#000000"
          },
          "showarrow": false,
          "text": "",
          "x": "pudge",
          "xref": "x",
          "y": "earthshaker",
          "yref": "y"
         },
         {
          "font": {
           "color": "#000000"
          },
          "showarrow": false,
          "text": "",
          "x": "razor",
          "xref": "x",
          "y": "earthshaker",
          "yref": "y"
         },
         {
          "font": {
           "color": "#000000"
          },
          "showarrow": false,
          "text": "",
          "x": "sand_king",
          "xref": "x",
          "y": "earthshaker",
          "yref": "y"
         },
         {
          "font": {
           "color": "#000000"
          },
          "showarrow": false,
          "text": "",
          "x": "storm_spirit",
          "xref": "x",
          "y": "earthshaker",
          "yref": "y"
         },
         {
          "font": {
           "color": "#000000"
          },
          "showarrow": false,
          "text": "",
          "x": "sven",
          "xref": "x",
          "y": "earthshaker",
          "yref": "y"
         },
         {
          "font": {
           "color": "#000000"
          },
          "showarrow": false,
          "text": "",
          "x": "tiny",
          "xref": "x",
          "y": "earthshaker",
          "yref": "y"
         },
         {
          "font": {
           "color": "#000000"
          },
          "showarrow": false,
          "text": "",
          "x": "vengefulspirit",
          "xref": "x",
          "y": "earthshaker",
          "yref": "y"
         },
         {
          "font": {
           "color": "#000000"
          },
          "showarrow": false,
          "text": "",
          "x": "antimage",
          "xref": "x",
          "y": "juggernaut",
          "yref": "y"
         },
         {
          "font": {
           "color": "#000000"
          },
          "showarrow": false,
          "text": "",
          "x": "axe",
          "xref": "x",
          "y": "juggernaut",
          "yref": "y"
         },
         {
          "font": {
           "color": "#000000"
          },
          "showarrow": false,
          "text": "",
          "x": "bane",
          "xref": "x",
          "y": "juggernaut",
          "yref": "y"
         },
         {
          "font": {
           "color": "#000000"
          },
          "showarrow": false,
          "text": "",
          "x": "bloodseeker",
          "xref": "x",
          "y": "juggernaut",
          "yref": "y"
         },
         {
          "font": {
           "color": "#000000"
          },
          "showarrow": false,
          "text": "",
          "x": "crystal_maiden",
          "xref": "x",
          "y": "juggernaut",
          "yref": "y"
         },
         {
          "font": {
           "color": "#000000"
          },
          "showarrow": false,
          "text": "",
          "x": "drow_ranger",
          "xref": "x",
          "y": "juggernaut",
          "yref": "y"
         },
         {
          "font": {
           "color": "#000000"
          },
          "showarrow": false,
          "text": "",
          "x": "earthshaker",
          "xref": "x",
          "y": "juggernaut",
          "yref": "y"
         },
         {
          "font": {
           "color": "#FFFFFF"
          },
          "showarrow": false,
          "text": "",
          "x": "juggernaut",
          "xref": "x",
          "y": "juggernaut",
          "yref": "y"
         },
         {
          "font": {
           "color": "#000000"
          },
          "showarrow": false,
          "text": "",
          "x": "mirana",
          "xref": "x",
          "y": "juggernaut",
          "yref": "y"
         },
         {
          "font": {
           "color": "#000000"
          },
          "showarrow": false,
          "text": "",
          "x": "morphling",
          "xref": "x",
          "y": "juggernaut",
          "yref": "y"
         },
         {
          "font": {
           "color": "#000000"
          },
          "showarrow": false,
          "text": "",
          "x": "nevermore",
          "xref": "x",
          "y": "juggernaut",
          "yref": "y"
         },
         {
          "font": {
           "color": "#000000"
          },
          "showarrow": false,
          "text": "",
          "x": "phantom_lancer",
          "xref": "x",
          "y": "juggernaut",
          "yref": "y"
         },
         {
          "font": {
           "color": "#000000"
          },
          "showarrow": false,
          "text": "",
          "x": "puck",
          "xref": "x",
          "y": "juggernaut",
          "yref": "y"
         },
         {
          "font": {
           "color": "#000000"
          },
          "showarrow": false,
          "text": "",
          "x": "pudge",
          "xref": "x",
          "y": "juggernaut",
          "yref": "y"
         },
         {
          "font": {
           "color": "#000000"
          },
          "showarrow": false,
          "text": "",
          "x": "razor",
          "xref": "x",
          "y": "juggernaut",
          "yref": "y"
         },
         {
          "font": {
           "color": "#000000"
          },
          "showarrow": false,
          "text": "",
          "x": "sand_king",
          "xref": "x",
          "y": "juggernaut",
          "yref": "y"
         },
         {
          "font": {
           "color": "#000000"
          },
          "showarrow": false,
          "text": "",
          "x": "storm_spirit",
          "xref": "x",
          "y": "juggernaut",
          "yref": "y"
         },
         {
          "font": {
           "color": "#000000"
          },
          "showarrow": false,
          "text": "",
          "x": "sven",
          "xref": "x",
          "y": "juggernaut",
          "yref": "y"
         },
         {
          "font": {
           "color": "#000000"
          },
          "showarrow": false,
          "text": "",
          "x": "tiny",
          "xref": "x",
          "y": "juggernaut",
          "yref": "y"
         },
         {
          "font": {
           "color": "#000000"
          },
          "showarrow": false,
          "text": "",
          "x": "vengefulspirit",
          "xref": "x",
          "y": "juggernaut",
          "yref": "y"
         },
         {
          "font": {
           "color": "#000000"
          },
          "showarrow": false,
          "text": "",
          "x": "antimage",
          "xref": "x",
          "y": "mirana",
          "yref": "y"
         },
         {
          "font": {
           "color": "#000000"
          },
          "showarrow": false,
          "text": "",
          "x": "axe",
          "xref": "x",
          "y": "mirana",
          "yref": "y"
         },
         {
          "font": {
           "color": "#000000"
          },
          "showarrow": false,
          "text": "",
          "x": "bane",
          "xref": "x",
          "y": "mirana",
          "yref": "y"
         },
         {
          "font": {
           "color": "#000000"
          },
          "showarrow": false,
          "text": "",
          "x": "bloodseeker",
          "xref": "x",
          "y": "mirana",
          "yref": "y"
         },
         {
          "font": {
           "color": "#000000"
          },
          "showarrow": false,
          "text": "",
          "x": "crystal_maiden",
          "xref": "x",
          "y": "mirana",
          "yref": "y"
         },
         {
          "font": {
           "color": "#000000"
          },
          "showarrow": false,
          "text": "",
          "x": "drow_ranger",
          "xref": "x",
          "y": "mirana",
          "yref": "y"
         },
         {
          "font": {
           "color": "#000000"
          },
          "showarrow": false,
          "text": "",
          "x": "earthshaker",
          "xref": "x",
          "y": "mirana",
          "yref": "y"
         },
         {
          "font": {
           "color": "#000000"
          },
          "showarrow": false,
          "text": "",
          "x": "juggernaut",
          "xref": "x",
          "y": "mirana",
          "yref": "y"
         },
         {
          "font": {
           "color": "#FFFFFF"
          },
          "showarrow": false,
          "text": "",
          "x": "mirana",
          "xref": "x",
          "y": "mirana",
          "yref": "y"
         },
         {
          "font": {
           "color": "#000000"
          },
          "showarrow": false,
          "text": "",
          "x": "morphling",
          "xref": "x",
          "y": "mirana",
          "yref": "y"
         },
         {
          "font": {
           "color": "#000000"
          },
          "showarrow": false,
          "text": "",
          "x": "nevermore",
          "xref": "x",
          "y": "mirana",
          "yref": "y"
         },
         {
          "font": {
           "color": "#000000"
          },
          "showarrow": false,
          "text": "",
          "x": "phantom_lancer",
          "xref": "x",
          "y": "mirana",
          "yref": "y"
         },
         {
          "font": {
           "color": "#000000"
          },
          "showarrow": false,
          "text": "",
          "x": "puck",
          "xref": "x",
          "y": "mirana",
          "yref": "y"
         },
         {
          "font": {
           "color": "#000000"
          },
          "showarrow": false,
          "text": "",
          "x": "pudge",
          "xref": "x",
          "y": "mirana",
          "yref": "y"
         },
         {
          "font": {
           "color": "#000000"
          },
          "showarrow": false,
          "text": "",
          "x": "razor",
          "xref": "x",
          "y": "mirana",
          "yref": "y"
         },
         {
          "font": {
           "color": "#000000"
          },
          "showarrow": false,
          "text": "",
          "x": "sand_king",
          "xref": "x",
          "y": "mirana",
          "yref": "y"
         },
         {
          "font": {
           "color": "#000000"
          },
          "showarrow": false,
          "text": "",
          "x": "storm_spirit",
          "xref": "x",
          "y": "mirana",
          "yref": "y"
         },
         {
          "font": {
           "color": "#000000"
          },
          "showarrow": false,
          "text": "",
          "x": "sven",
          "xref": "x",
          "y": "mirana",
          "yref": "y"
         },
         {
          "font": {
           "color": "#000000"
          },
          "showarrow": false,
          "text": "",
          "x": "tiny",
          "xref": "x",
          "y": "mirana",
          "yref": "y"
         },
         {
          "font": {
           "color": "#000000"
          },
          "showarrow": false,
          "text": "",
          "x": "vengefulspirit",
          "xref": "x",
          "y": "mirana",
          "yref": "y"
         },
         {
          "font": {
           "color": "#000000"
          },
          "showarrow": false,
          "text": "",
          "x": "antimage",
          "xref": "x",
          "y": "morphling",
          "yref": "y"
         },
         {
          "font": {
           "color": "#000000"
          },
          "showarrow": false,
          "text": "",
          "x": "axe",
          "xref": "x",
          "y": "morphling",
          "yref": "y"
         },
         {
          "font": {
           "color": "#000000"
          },
          "showarrow": false,
          "text": "",
          "x": "bane",
          "xref": "x",
          "y": "morphling",
          "yref": "y"
         },
         {
          "font": {
           "color": "#000000"
          },
          "showarrow": false,
          "text": "",
          "x": "bloodseeker",
          "xref": "x",
          "y": "morphling",
          "yref": "y"
         },
         {
          "font": {
           "color": "#000000"
          },
          "showarrow": false,
          "text": "",
          "x": "crystal_maiden",
          "xref": "x",
          "y": "morphling",
          "yref": "y"
         },
         {
          "font": {
           "color": "#000000"
          },
          "showarrow": false,
          "text": "",
          "x": "drow_ranger",
          "xref": "x",
          "y": "morphling",
          "yref": "y"
         },
         {
          "font": {
           "color": "#000000"
          },
          "showarrow": false,
          "text": "",
          "x": "earthshaker",
          "xref": "x",
          "y": "morphling",
          "yref": "y"
         },
         {
          "font": {
           "color": "#000000"
          },
          "showarrow": false,
          "text": "",
          "x": "juggernaut",
          "xref": "x",
          "y": "morphling",
          "yref": "y"
         },
         {
          "font": {
           "color": "#000000"
          },
          "showarrow": false,
          "text": "",
          "x": "mirana",
          "xref": "x",
          "y": "morphling",
          "yref": "y"
         },
         {
          "font": {
           "color": "#FFFFFF"
          },
          "showarrow": false,
          "text": "",
          "x": "morphling",
          "xref": "x",
          "y": "morphling",
          "yref": "y"
         },
         {
          "font": {
           "color": "#000000"
          },
          "showarrow": false,
          "text": "",
          "x": "nevermore",
          "xref": "x",
          "y": "morphling",
          "yref": "y"
         },
         {
          "font": {
           "color": "#000000"
          },
          "showarrow": false,
          "text": "",
          "x": "phantom_lancer",
          "xref": "x",
          "y": "morphling",
          "yref": "y"
         },
         {
          "font": {
           "color": "#000000"
          },
          "showarrow": false,
          "text": "",
          "x": "puck",
          "xref": "x",
          "y": "morphling",
          "yref": "y"
         },
         {
          "font": {
           "color": "#000000"
          },
          "showarrow": false,
          "text": "",
          "x": "pudge",
          "xref": "x",
          "y": "morphling",
          "yref": "y"
         },
         {
          "font": {
           "color": "#000000"
          },
          "showarrow": false,
          "text": "",
          "x": "razor",
          "xref": "x",
          "y": "morphling",
          "yref": "y"
         },
         {
          "font": {
           "color": "#000000"
          },
          "showarrow": false,
          "text": "",
          "x": "sand_king",
          "xref": "x",
          "y": "morphling",
          "yref": "y"
         },
         {
          "font": {
           "color": "#000000"
          },
          "showarrow": false,
          "text": "",
          "x": "storm_spirit",
          "xref": "x",
          "y": "morphling",
          "yref": "y"
         },
         {
          "font": {
           "color": "#000000"
          },
          "showarrow": false,
          "text": "",
          "x": "sven",
          "xref": "x",
          "y": "morphling",
          "yref": "y"
         },
         {
          "font": {
           "color": "#000000"
          },
          "showarrow": false,
          "text": "",
          "x": "tiny",
          "xref": "x",
          "y": "morphling",
          "yref": "y"
         },
         {
          "font": {
           "color": "#000000"
          },
          "showarrow": false,
          "text": "",
          "x": "vengefulspirit",
          "xref": "x",
          "y": "morphling",
          "yref": "y"
         },
         {
          "font": {
           "color": "#000000"
          },
          "showarrow": false,
          "text": "",
          "x": "antimage",
          "xref": "x",
          "y": "nevermore",
          "yref": "y"
         },
         {
          "font": {
           "color": "#000000"
          },
          "showarrow": false,
          "text": "",
          "x": "axe",
          "xref": "x",
          "y": "nevermore",
          "yref": "y"
         },
         {
          "font": {
           "color": "#000000"
          },
          "showarrow": false,
          "text": "",
          "x": "bane",
          "xref": "x",
          "y": "nevermore",
          "yref": "y"
         },
         {
          "font": {
           "color": "#000000"
          },
          "showarrow": false,
          "text": "",
          "x": "bloodseeker",
          "xref": "x",
          "y": "nevermore",
          "yref": "y"
         },
         {
          "font": {
           "color": "#000000"
          },
          "showarrow": false,
          "text": "",
          "x": "crystal_maiden",
          "xref": "x",
          "y": "nevermore",
          "yref": "y"
         },
         {
          "font": {
           "color": "#000000"
          },
          "showarrow": false,
          "text": "",
          "x": "drow_ranger",
          "xref": "x",
          "y": "nevermore",
          "yref": "y"
         },
         {
          "font": {
           "color": "#000000"
          },
          "showarrow": false,
          "text": "",
          "x": "earthshaker",
          "xref": "x",
          "y": "nevermore",
          "yref": "y"
         },
         {
          "font": {
           "color": "#000000"
          },
          "showarrow": false,
          "text": "",
          "x": "juggernaut",
          "xref": "x",
          "y": "nevermore",
          "yref": "y"
         },
         {
          "font": {
           "color": "#000000"
          },
          "showarrow": false,
          "text": "",
          "x": "mirana",
          "xref": "x",
          "y": "nevermore",
          "yref": "y"
         },
         {
          "font": {
           "color": "#000000"
          },
          "showarrow": false,
          "text": "",
          "x": "morphling",
          "xref": "x",
          "y": "nevermore",
          "yref": "y"
         },
         {
          "font": {
           "color": "#FFFFFF"
          },
          "showarrow": false,
          "text": "",
          "x": "nevermore",
          "xref": "x",
          "y": "nevermore",
          "yref": "y"
         },
         {
          "font": {
           "color": "#000000"
          },
          "showarrow": false,
          "text": "",
          "x": "phantom_lancer",
          "xref": "x",
          "y": "nevermore",
          "yref": "y"
         },
         {
          "font": {
           "color": "#000000"
          },
          "showarrow": false,
          "text": "",
          "x": "puck",
          "xref": "x",
          "y": "nevermore",
          "yref": "y"
         },
         {
          "font": {
           "color": "#000000"
          },
          "showarrow": false,
          "text": "",
          "x": "pudge",
          "xref": "x",
          "y": "nevermore",
          "yref": "y"
         },
         {
          "font": {
           "color": "#000000"
          },
          "showarrow": false,
          "text": "",
          "x": "razor",
          "xref": "x",
          "y": "nevermore",
          "yref": "y"
         },
         {
          "font": {
           "color": "#000000"
          },
          "showarrow": false,
          "text": "",
          "x": "sand_king",
          "xref": "x",
          "y": "nevermore",
          "yref": "y"
         },
         {
          "font": {
           "color": "#000000"
          },
          "showarrow": false,
          "text": "",
          "x": "storm_spirit",
          "xref": "x",
          "y": "nevermore",
          "yref": "y"
         },
         {
          "font": {
           "color": "#000000"
          },
          "showarrow": false,
          "text": "",
          "x": "sven",
          "xref": "x",
          "y": "nevermore",
          "yref": "y"
         },
         {
          "font": {
           "color": "#000000"
          },
          "showarrow": false,
          "text": "",
          "x": "tiny",
          "xref": "x",
          "y": "nevermore",
          "yref": "y"
         },
         {
          "font": {
           "color": "#000000"
          },
          "showarrow": false,
          "text": "",
          "x": "vengefulspirit",
          "xref": "x",
          "y": "nevermore",
          "yref": "y"
         },
         {
          "font": {
           "color": "#000000"
          },
          "showarrow": false,
          "text": "",
          "x": "antimage",
          "xref": "x",
          "y": "phantom_lancer",
          "yref": "y"
         },
         {
          "font": {
           "color": "#000000"
          },
          "showarrow": false,
          "text": "",
          "x": "axe",
          "xref": "x",
          "y": "phantom_lancer",
          "yref": "y"
         },
         {
          "font": {
           "color": "#000000"
          },
          "showarrow": false,
          "text": "",
          "x": "bane",
          "xref": "x",
          "y": "phantom_lancer",
          "yref": "y"
         },
         {
          "font": {
           "color": "#000000"
          },
          "showarrow": false,
          "text": "",
          "x": "bloodseeker",
          "xref": "x",
          "y": "phantom_lancer",
          "yref": "y"
         },
         {
          "font": {
           "color": "#000000"
          },
          "showarrow": false,
          "text": "",
          "x": "crystal_maiden",
          "xref": "x",
          "y": "phantom_lancer",
          "yref": "y"
         },
         {
          "font": {
           "color": "#000000"
          },
          "showarrow": false,
          "text": "",
          "x": "drow_ranger",
          "xref": "x",
          "y": "phantom_lancer",
          "yref": "y"
         },
         {
          "font": {
           "color": "#000000"
          },
          "showarrow": false,
          "text": "",
          "x": "earthshaker",
          "xref": "x",
          "y": "phantom_lancer",
          "yref": "y"
         },
         {
          "font": {
           "color": "#000000"
          },
          "showarrow": false,
          "text": "",
          "x": "juggernaut",
          "xref": "x",
          "y": "phantom_lancer",
          "yref": "y"
         },
         {
          "font": {
           "color": "#000000"
          },
          "showarrow": false,
          "text": "",
          "x": "mirana",
          "xref": "x",
          "y": "phantom_lancer",
          "yref": "y"
         },
         {
          "font": {
           "color": "#000000"
          },
          "showarrow": false,
          "text": "",
          "x": "morphling",
          "xref": "x",
          "y": "phantom_lancer",
          "yref": "y"
         },
         {
          "font": {
           "color": "#000000"
          },
          "showarrow": false,
          "text": "",
          "x": "nevermore",
          "xref": "x",
          "y": "phantom_lancer",
          "yref": "y"
         },
         {
          "font": {
           "color": "#FFFFFF"
          },
          "showarrow": false,
          "text": "",
          "x": "phantom_lancer",
          "xref": "x",
          "y": "phantom_lancer",
          "yref": "y"
         },
         {
          "font": {
           "color": "#000000"
          },
          "showarrow": false,
          "text": "",
          "x": "puck",
          "xref": "x",
          "y": "phantom_lancer",
          "yref": "y"
         },
         {
          "font": {
           "color": "#000000"
          },
          "showarrow": false,
          "text": "",
          "x": "pudge",
          "xref": "x",
          "y": "phantom_lancer",
          "yref": "y"
         },
         {
          "font": {
           "color": "#000000"
          },
          "showarrow": false,
          "text": "",
          "x": "razor",
          "xref": "x",
          "y": "phantom_lancer",
          "yref": "y"
         },
         {
          "font": {
           "color": "#000000"
          },
          "showarrow": false,
          "text": "",
          "x": "sand_king",
          "xref": "x",
          "y": "phantom_lancer",
          "yref": "y"
         },
         {
          "font": {
           "color": "#000000"
          },
          "showarrow": false,
          "text": "",
          "x": "storm_spirit",
          "xref": "x",
          "y": "phantom_lancer",
          "yref": "y"
         },
         {
          "font": {
           "color": "#000000"
          },
          "showarrow": false,
          "text": "",
          "x": "sven",
          "xref": "x",
          "y": "phantom_lancer",
          "yref": "y"
         },
         {
          "font": {
           "color": "#000000"
          },
          "showarrow": false,
          "text": "",
          "x": "tiny",
          "xref": "x",
          "y": "phantom_lancer",
          "yref": "y"
         },
         {
          "font": {
           "color": "#000000"
          },
          "showarrow": false,
          "text": "",
          "x": "vengefulspirit",
          "xref": "x",
          "y": "phantom_lancer",
          "yref": "y"
         },
         {
          "font": {
           "color": "#000000"
          },
          "showarrow": false,
          "text": "",
          "x": "antimage",
          "xref": "x",
          "y": "puck",
          "yref": "y"
         },
         {
          "font": {
           "color": "#FFFFFF"
          },
          "showarrow": false,
          "text": "",
          "x": "axe",
          "xref": "x",
          "y": "puck",
          "yref": "y"
         },
         {
          "font": {
           "color": "#000000"
          },
          "showarrow": false,
          "text": "",
          "x": "bane",
          "xref": "x",
          "y": "puck",
          "yref": "y"
         },
         {
          "font": {
           "color": "#000000"
          },
          "showarrow": false,
          "text": "",
          "x": "bloodseeker",
          "xref": "x",
          "y": "puck",
          "yref": "y"
         },
         {
          "font": {
           "color": "#000000"
          },
          "showarrow": false,
          "text": "",
          "x": "crystal_maiden",
          "xref": "x",
          "y": "puck",
          "yref": "y"
         },
         {
          "font": {
           "color": "#000000"
          },
          "showarrow": false,
          "text": "",
          "x": "drow_ranger",
          "xref": "x",
          "y": "puck",
          "yref": "y"
         },
         {
          "font": {
           "color": "#000000"
          },
          "showarrow": false,
          "text": "",
          "x": "earthshaker",
          "xref": "x",
          "y": "puck",
          "yref": "y"
         },
         {
          "font": {
           "color": "#000000"
          },
          "showarrow": false,
          "text": "",
          "x": "juggernaut",
          "xref": "x",
          "y": "puck",
          "yref": "y"
         },
         {
          "font": {
           "color": "#000000"
          },
          "showarrow": false,
          "text": "",
          "x": "mirana",
          "xref": "x",
          "y": "puck",
          "yref": "y"
         },
         {
          "font": {
           "color": "#000000"
          },
          "showarrow": false,
          "text": "",
          "x": "morphling",
          "xref": "x",
          "y": "puck",
          "yref": "y"
         },
         {
          "font": {
           "color": "#000000"
          },
          "showarrow": false,
          "text": "",
          "x": "nevermore",
          "xref": "x",
          "y": "puck",
          "yref": "y"
         },
         {
          "font": {
           "color": "#000000"
          },
          "showarrow": false,
          "text": "",
          "x": "phantom_lancer",
          "xref": "x",
          "y": "puck",
          "yref": "y"
         },
         {
          "font": {
           "color": "#FFFFFF"
          },
          "showarrow": false,
          "text": "",
          "x": "puck",
          "xref": "x",
          "y": "puck",
          "yref": "y"
         },
         {
          "font": {
           "color": "#000000"
          },
          "showarrow": false,
          "text": "",
          "x": "pudge",
          "xref": "x",
          "y": "puck",
          "yref": "y"
         },
         {
          "font": {
           "color": "#000000"
          },
          "showarrow": false,
          "text": "",
          "x": "razor",
          "xref": "x",
          "y": "puck",
          "yref": "y"
         },
         {
          "font": {
           "color": "#000000"
          },
          "showarrow": false,
          "text": "",
          "x": "sand_king",
          "xref": "x",
          "y": "puck",
          "yref": "y"
         },
         {
          "font": {
           "color": "#000000"
          },
          "showarrow": false,
          "text": "",
          "x": "storm_spirit",
          "xref": "x",
          "y": "puck",
          "yref": "y"
         },
         {
          "font": {
           "color": "#000000"
          },
          "showarrow": false,
          "text": "",
          "x": "sven",
          "xref": "x",
          "y": "puck",
          "yref": "y"
         },
         {
          "font": {
           "color": "#000000"
          },
          "showarrow": false,
          "text": "",
          "x": "tiny",
          "xref": "x",
          "y": "puck",
          "yref": "y"
         },
         {
          "font": {
           "color": "#000000"
          },
          "showarrow": false,
          "text": "",
          "x": "vengefulspirit",
          "xref": "x",
          "y": "puck",
          "yref": "y"
         },
         {
          "font": {
           "color": "#000000"
          },
          "showarrow": false,
          "text": "",
          "x": "antimage",
          "xref": "x",
          "y": "pudge",
          "yref": "y"
         },
         {
          "font": {
           "color": "#000000"
          },
          "showarrow": false,
          "text": "",
          "x": "axe",
          "xref": "x",
          "y": "pudge",
          "yref": "y"
         },
         {
          "font": {
           "color": "#000000"
          },
          "showarrow": false,
          "text": "",
          "x": "bane",
          "xref": "x",
          "y": "pudge",
          "yref": "y"
         },
         {
          "font": {
           "color": "#000000"
          },
          "showarrow": false,
          "text": "",
          "x": "bloodseeker",
          "xref": "x",
          "y": "pudge",
          "yref": "y"
         },
         {
          "font": {
           "color": "#000000"
          },
          "showarrow": false,
          "text": "",
          "x": "crystal_maiden",
          "xref": "x",
          "y": "pudge",
          "yref": "y"
         },
         {
          "font": {
           "color": "#000000"
          },
          "showarrow": false,
          "text": "",
          "x": "drow_ranger",
          "xref": "x",
          "y": "pudge",
          "yref": "y"
         },
         {
          "font": {
           "color": "#000000"
          },
          "showarrow": false,
          "text": "",
          "x": "earthshaker",
          "xref": "x",
          "y": "pudge",
          "yref": "y"
         },
         {
          "font": {
           "color": "#000000"
          },
          "showarrow": false,
          "text": "",
          "x": "juggernaut",
          "xref": "x",
          "y": "pudge",
          "yref": "y"
         },
         {
          "font": {
           "color": "#000000"
          },
          "showarrow": false,
          "text": "",
          "x": "mirana",
          "xref": "x",
          "y": "pudge",
          "yref": "y"
         },
         {
          "font": {
           "color": "#000000"
          },
          "showarrow": false,
          "text": "",
          "x": "morphling",
          "xref": "x",
          "y": "pudge",
          "yref": "y"
         },
         {
          "font": {
           "color": "#000000"
          },
          "showarrow": false,
          "text": "",
          "x": "nevermore",
          "xref": "x",
          "y": "pudge",
          "yref": "y"
         },
         {
          "font": {
           "color": "#000000"
          },
          "showarrow": false,
          "text": "",
          "x": "phantom_lancer",
          "xref": "x",
          "y": "pudge",
          "yref": "y"
         },
         {
          "font": {
           "color": "#000000"
          },
          "showarrow": false,
          "text": "",
          "x": "puck",
          "xref": "x",
          "y": "pudge",
          "yref": "y"
         },
         {
          "font": {
           "color": "#FFFFFF"
          },
          "showarrow": false,
          "text": "",
          "x": "pudge",
          "xref": "x",
          "y": "pudge",
          "yref": "y"
         },
         {
          "font": {
           "color": "#000000"
          },
          "showarrow": false,
          "text": "",
          "x": "razor",
          "xref": "x",
          "y": "pudge",
          "yref": "y"
         },
         {
          "font": {
           "color": "#000000"
          },
          "showarrow": false,
          "text": "",
          "x": "sand_king",
          "xref": "x",
          "y": "pudge",
          "yref": "y"
         },
         {
          "font": {
           "color": "#000000"
          },
          "showarrow": false,
          "text": "",
          "x": "storm_spirit",
          "xref": "x",
          "y": "pudge",
          "yref": "y"
         },
         {
          "font": {
           "color": "#000000"
          },
          "showarrow": false,
          "text": "",
          "x": "sven",
          "xref": "x",
          "y": "pudge",
          "yref": "y"
         },
         {
          "font": {
           "color": "#000000"
          },
          "showarrow": false,
          "text": "",
          "x": "tiny",
          "xref": "x",
          "y": "pudge",
          "yref": "y"
         },
         {
          "font": {
           "color": "#000000"
          },
          "showarrow": false,
          "text": "",
          "x": "vengefulspirit",
          "xref": "x",
          "y": "pudge",
          "yref": "y"
         },
         {
          "font": {
           "color": "#000000"
          },
          "showarrow": false,
          "text": "",
          "x": "antimage",
          "xref": "x",
          "y": "razor",
          "yref": "y"
         },
         {
          "font": {
           "color": "#000000"
          },
          "showarrow": false,
          "text": "",
          "x": "axe",
          "xref": "x",
          "y": "razor",
          "yref": "y"
         },
         {
          "font": {
           "color": "#000000"
          },
          "showarrow": false,
          "text": "",
          "x": "bane",
          "xref": "x",
          "y": "razor",
          "yref": "y"
         },
         {
          "font": {
           "color": "#000000"
          },
          "showarrow": false,
          "text": "",
          "x": "bloodseeker",
          "xref": "x",
          "y": "razor",
          "yref": "y"
         },
         {
          "font": {
           "color": "#000000"
          },
          "showarrow": false,
          "text": "",
          "x": "crystal_maiden",
          "xref": "x",
          "y": "razor",
          "yref": "y"
         },
         {
          "font": {
           "color": "#000000"
          },
          "showarrow": false,
          "text": "",
          "x": "drow_ranger",
          "xref": "x",
          "y": "razor",
          "yref": "y"
         },
         {
          "font": {
           "color": "#000000"
          },
          "showarrow": false,
          "text": "",
          "x": "earthshaker",
          "xref": "x",
          "y": "razor",
          "yref": "y"
         },
         {
          "font": {
           "color": "#000000"
          },
          "showarrow": false,
          "text": "",
          "x": "juggernaut",
          "xref": "x",
          "y": "razor",
          "yref": "y"
         },
         {
          "font": {
           "color": "#000000"
          },
          "showarrow": false,
          "text": "",
          "x": "mirana",
          "xref": "x",
          "y": "razor",
          "yref": "y"
         },
         {
          "font": {
           "color": "#000000"
          },
          "showarrow": false,
          "text": "",
          "x": "morphling",
          "xref": "x",
          "y": "razor",
          "yref": "y"
         },
         {
          "font": {
           "color": "#000000"
          },
          "showarrow": false,
          "text": "",
          "x": "nevermore",
          "xref": "x",
          "y": "razor",
          "yref": "y"
         },
         {
          "font": {
           "color": "#000000"
          },
          "showarrow": false,
          "text": "",
          "x": "phantom_lancer",
          "xref": "x",
          "y": "razor",
          "yref": "y"
         },
         {
          "font": {
           "color": "#000000"
          },
          "showarrow": false,
          "text": "",
          "x": "puck",
          "xref": "x",
          "y": "razor",
          "yref": "y"
         },
         {
          "font": {
           "color": "#000000"
          },
          "showarrow": false,
          "text": "",
          "x": "pudge",
          "xref": "x",
          "y": "razor",
          "yref": "y"
         },
         {
          "font": {
           "color": "#FFFFFF"
          },
          "showarrow": false,
          "text": "",
          "x": "razor",
          "xref": "x",
          "y": "razor",
          "yref": "y"
         },
         {
          "font": {
           "color": "#000000"
          },
          "showarrow": false,
          "text": "",
          "x": "sand_king",
          "xref": "x",
          "y": "razor",
          "yref": "y"
         },
         {
          "font": {
           "color": "#000000"
          },
          "showarrow": false,
          "text": "",
          "x": "storm_spirit",
          "xref": "x",
          "y": "razor",
          "yref": "y"
         },
         {
          "font": {
           "color": "#000000"
          },
          "showarrow": false,
          "text": "",
          "x": "sven",
          "xref": "x",
          "y": "razor",
          "yref": "y"
         },
         {
          "font": {
           "color": "#000000"
          },
          "showarrow": false,
          "text": "",
          "x": "tiny",
          "xref": "x",
          "y": "razor",
          "yref": "y"
         },
         {
          "font": {
           "color": "#000000"
          },
          "showarrow": false,
          "text": "",
          "x": "vengefulspirit",
          "xref": "x",
          "y": "razor",
          "yref": "y"
         },
         {
          "font": {
           "color": "#000000"
          },
          "showarrow": false,
          "text": "",
          "x": "antimage",
          "xref": "x",
          "y": "sand_king",
          "yref": "y"
         },
         {
          "font": {
           "color": "#000000"
          },
          "showarrow": false,
          "text": "",
          "x": "axe",
          "xref": "x",
          "y": "sand_king",
          "yref": "y"
         },
         {
          "font": {
           "color": "#000000"
          },
          "showarrow": false,
          "text": "",
          "x": "bane",
          "xref": "x",
          "y": "sand_king",
          "yref": "y"
         },
         {
          "font": {
           "color": "#000000"
          },
          "showarrow": false,
          "text": "",
          "x": "bloodseeker",
          "xref": "x",
          "y": "sand_king",
          "yref": "y"
         },
         {
          "font": {
           "color": "#000000"
          },
          "showarrow": false,
          "text": "",
          "x": "crystal_maiden",
          "xref": "x",
          "y": "sand_king",
          "yref": "y"
         },
         {
          "font": {
           "color": "#000000"
          },
          "showarrow": false,
          "text": "",
          "x": "drow_ranger",
          "xref": "x",
          "y": "sand_king",
          "yref": "y"
         },
         {
          "font": {
           "color": "#000000"
          },
          "showarrow": false,
          "text": "",
          "x": "earthshaker",
          "xref": "x",
          "y": "sand_king",
          "yref": "y"
         },
         {
          "font": {
           "color": "#000000"
          },
          "showarrow": false,
          "text": "",
          "x": "juggernaut",
          "xref": "x",
          "y": "sand_king",
          "yref": "y"
         },
         {
          "font": {
           "color": "#000000"
          },
          "showarrow": false,
          "text": "",
          "x": "mirana",
          "xref": "x",
          "y": "sand_king",
          "yref": "y"
         },
         {
          "font": {
           "color": "#000000"
          },
          "showarrow": false,
          "text": "",
          "x": "morphling",
          "xref": "x",
          "y": "sand_king",
          "yref": "y"
         },
         {
          "font": {
           "color": "#000000"
          },
          "showarrow": false,
          "text": "",
          "x": "nevermore",
          "xref": "x",
          "y": "sand_king",
          "yref": "y"
         },
         {
          "font": {
           "color": "#000000"
          },
          "showarrow": false,
          "text": "",
          "x": "phantom_lancer",
          "xref": "x",
          "y": "sand_king",
          "yref": "y"
         },
         {
          "font": {
           "color": "#000000"
          },
          "showarrow": false,
          "text": "",
          "x": "puck",
          "xref": "x",
          "y": "sand_king",
          "yref": "y"
         },
         {
          "font": {
           "color": "#000000"
          },
          "showarrow": false,
          "text": "",
          "x": "pudge",
          "xref": "x",
          "y": "sand_king",
          "yref": "y"
         },
         {
          "font": {
           "color": "#000000"
          },
          "showarrow": false,
          "text": "",
          "x": "razor",
          "xref": "x",
          "y": "sand_king",
          "yref": "y"
         },
         {
          "font": {
           "color": "#FFFFFF"
          },
          "showarrow": false,
          "text": "",
          "x": "sand_king",
          "xref": "x",
          "y": "sand_king",
          "yref": "y"
         },
         {
          "font": {
           "color": "#000000"
          },
          "showarrow": false,
          "text": "",
          "x": "storm_spirit",
          "xref": "x",
          "y": "sand_king",
          "yref": "y"
         },
         {
          "font": {
           "color": "#000000"
          },
          "showarrow": false,
          "text": "",
          "x": "sven",
          "xref": "x",
          "y": "sand_king",
          "yref": "y"
         },
         {
          "font": {
           "color": "#000000"
          },
          "showarrow": false,
          "text": "",
          "x": "tiny",
          "xref": "x",
          "y": "sand_king",
          "yref": "y"
         },
         {
          "font": {
           "color": "#000000"
          },
          "showarrow": false,
          "text": "",
          "x": "vengefulspirit",
          "xref": "x",
          "y": "sand_king",
          "yref": "y"
         },
         {
          "font": {
           "color": "#000000"
          },
          "showarrow": false,
          "text": "",
          "x": "antimage",
          "xref": "x",
          "y": "storm_spirit",
          "yref": "y"
         },
         {
          "font": {
           "color": "#000000"
          },
          "showarrow": false,
          "text": "",
          "x": "axe",
          "xref": "x",
          "y": "storm_spirit",
          "yref": "y"
         },
         {
          "font": {
           "color": "#000000"
          },
          "showarrow": false,
          "text": "",
          "x": "bane",
          "xref": "x",
          "y": "storm_spirit",
          "yref": "y"
         },
         {
          "font": {
           "color": "#000000"
          },
          "showarrow": false,
          "text": "",
          "x": "bloodseeker",
          "xref": "x",
          "y": "storm_spirit",
          "yref": "y"
         },
         {
          "font": {
           "color": "#000000"
          },
          "showarrow": false,
          "text": "",
          "x": "crystal_maiden",
          "xref": "x",
          "y": "storm_spirit",
          "yref": "y"
         },
         {
          "font": {
           "color": "#000000"
          },
          "showarrow": false,
          "text": "",
          "x": "drow_ranger",
          "xref": "x",
          "y": "storm_spirit",
          "yref": "y"
         },
         {
          "font": {
           "color": "#000000"
          },
          "showarrow": false,
          "text": "",
          "x": "earthshaker",
          "xref": "x",
          "y": "storm_spirit",
          "yref": "y"
         },
         {
          "font": {
           "color": "#000000"
          },
          "showarrow": false,
          "text": "",
          "x": "juggernaut",
          "xref": "x",
          "y": "storm_spirit",
          "yref": "y"
         },
         {
          "font": {
           "color": "#000000"
          },
          "showarrow": false,
          "text": "",
          "x": "mirana",
          "xref": "x",
          "y": "storm_spirit",
          "yref": "y"
         },
         {
          "font": {
           "color": "#000000"
          },
          "showarrow": false,
          "text": "",
          "x": "morphling",
          "xref": "x",
          "y": "storm_spirit",
          "yref": "y"
         },
         {
          "font": {
           "color": "#000000"
          },
          "showarrow": false,
          "text": "",
          "x": "nevermore",
          "xref": "x",
          "y": "storm_spirit",
          "yref": "y"
         },
         {
          "font": {
           "color": "#000000"
          },
          "showarrow": false,
          "text": "",
          "x": "phantom_lancer",
          "xref": "x",
          "y": "storm_spirit",
          "yref": "y"
         },
         {
          "font": {
           "color": "#000000"
          },
          "showarrow": false,
          "text": "",
          "x": "puck",
          "xref": "x",
          "y": "storm_spirit",
          "yref": "y"
         },
         {
          "font": {
           "color": "#000000"
          },
          "showarrow": false,
          "text": "",
          "x": "pudge",
          "xref": "x",
          "y": "storm_spirit",
          "yref": "y"
         },
         {
          "font": {
           "color": "#000000"
          },
          "showarrow": false,
          "text": "",
          "x": "razor",
          "xref": "x",
          "y": "storm_spirit",
          "yref": "y"
         },
         {
          "font": {
           "color": "#000000"
          },
          "showarrow": false,
          "text": "",
          "x": "sand_king",
          "xref": "x",
          "y": "storm_spirit",
          "yref": "y"
         },
         {
          "font": {
           "color": "#FFFFFF"
          },
          "showarrow": false,
          "text": "",
          "x": "storm_spirit",
          "xref": "x",
          "y": "storm_spirit",
          "yref": "y"
         },
         {
          "font": {
           "color": "#000000"
          },
          "showarrow": false,
          "text": "",
          "x": "sven",
          "xref": "x",
          "y": "storm_spirit",
          "yref": "y"
         },
         {
          "font": {
           "color": "#000000"
          },
          "showarrow": false,
          "text": "",
          "x": "tiny",
          "xref": "x",
          "y": "storm_spirit",
          "yref": "y"
         },
         {
          "font": {
           "color": "#000000"
          },
          "showarrow": false,
          "text": "",
          "x": "vengefulspirit",
          "xref": "x",
          "y": "storm_spirit",
          "yref": "y"
         },
         {
          "font": {
           "color": "#000000"
          },
          "showarrow": false,
          "text": "",
          "x": "antimage",
          "xref": "x",
          "y": "sven",
          "yref": "y"
         },
         {
          "font": {
           "color": "#000000"
          },
          "showarrow": false,
          "text": "",
          "x": "axe",
          "xref": "x",
          "y": "sven",
          "yref": "y"
         },
         {
          "font": {
           "color": "#000000"
          },
          "showarrow": false,
          "text": "",
          "x": "bane",
          "xref": "x",
          "y": "sven",
          "yref": "y"
         },
         {
          "font": {
           "color": "#000000"
          },
          "showarrow": false,
          "text": "",
          "x": "bloodseeker",
          "xref": "x",
          "y": "sven",
          "yref": "y"
         },
         {
          "font": {
           "color": "#000000"
          },
          "showarrow": false,
          "text": "",
          "x": "crystal_maiden",
          "xref": "x",
          "y": "sven",
          "yref": "y"
         },
         {
          "font": {
           "color": "#000000"
          },
          "showarrow": false,
          "text": "",
          "x": "drow_ranger",
          "xref": "x",
          "y": "sven",
          "yref": "y"
         },
         {
          "font": {
           "color": "#000000"
          },
          "showarrow": false,
          "text": "",
          "x": "earthshaker",
          "xref": "x",
          "y": "sven",
          "yref": "y"
         },
         {
          "font": {
           "color": "#000000"
          },
          "showarrow": false,
          "text": "",
          "x": "juggernaut",
          "xref": "x",
          "y": "sven",
          "yref": "y"
         },
         {
          "font": {
           "color": "#000000"
          },
          "showarrow": false,
          "text": "",
          "x": "mirana",
          "xref": "x",
          "y": "sven",
          "yref": "y"
         },
         {
          "font": {
           "color": "#000000"
          },
          "showarrow": false,
          "text": "",
          "x": "morphling",
          "xref": "x",
          "y": "sven",
          "yref": "y"
         },
         {
          "font": {
           "color": "#000000"
          },
          "showarrow": false,
          "text": "",
          "x": "nevermore",
          "xref": "x",
          "y": "sven",
          "yref": "y"
         },
         {
          "font": {
           "color": "#000000"
          },
          "showarrow": false,
          "text": "",
          "x": "phantom_lancer",
          "xref": "x",
          "y": "sven",
          "yref": "y"
         },
         {
          "font": {
           "color": "#000000"
          },
          "showarrow": false,
          "text": "",
          "x": "puck",
          "xref": "x",
          "y": "sven",
          "yref": "y"
         },
         {
          "font": {
           "color": "#000000"
          },
          "showarrow": false,
          "text": "",
          "x": "pudge",
          "xref": "x",
          "y": "sven",
          "yref": "y"
         },
         {
          "font": {
           "color": "#000000"
          },
          "showarrow": false,
          "text": "",
          "x": "razor",
          "xref": "x",
          "y": "sven",
          "yref": "y"
         },
         {
          "font": {
           "color": "#000000"
          },
          "showarrow": false,
          "text": "",
          "x": "sand_king",
          "xref": "x",
          "y": "sven",
          "yref": "y"
         },
         {
          "font": {
           "color": "#000000"
          },
          "showarrow": false,
          "text": "",
          "x": "storm_spirit",
          "xref": "x",
          "y": "sven",
          "yref": "y"
         },
         {
          "font": {
           "color": "#FFFFFF"
          },
          "showarrow": false,
          "text": "",
          "x": "sven",
          "xref": "x",
          "y": "sven",
          "yref": "y"
         },
         {
          "font": {
           "color": "#000000"
          },
          "showarrow": false,
          "text": "",
          "x": "tiny",
          "xref": "x",
          "y": "sven",
          "yref": "y"
         },
         {
          "font": {
           "color": "#000000"
          },
          "showarrow": false,
          "text": "",
          "x": "vengefulspirit",
          "xref": "x",
          "y": "sven",
          "yref": "y"
         },
         {
          "font": {
           "color": "#000000"
          },
          "showarrow": false,
          "text": "",
          "x": "antimage",
          "xref": "x",
          "y": "tiny",
          "yref": "y"
         },
         {
          "font": {
           "color": "#000000"
          },
          "showarrow": false,
          "text": "",
          "x": "axe",
          "xref": "x",
          "y": "tiny",
          "yref": "y"
         },
         {
          "font": {
           "color": "#000000"
          },
          "showarrow": false,
          "text": "",
          "x": "bane",
          "xref": "x",
          "y": "tiny",
          "yref": "y"
         },
         {
          "font": {
           "color": "#000000"
          },
          "showarrow": false,
          "text": "",
          "x": "bloodseeker",
          "xref": "x",
          "y": "tiny",
          "yref": "y"
         },
         {
          "font": {
           "color": "#000000"
          },
          "showarrow": false,
          "text": "",
          "x": "crystal_maiden",
          "xref": "x",
          "y": "tiny",
          "yref": "y"
         },
         {
          "font": {
           "color": "#000000"
          },
          "showarrow": false,
          "text": "",
          "x": "drow_ranger",
          "xref": "x",
          "y": "tiny",
          "yref": "y"
         },
         {
          "font": {
           "color": "#000000"
          },
          "showarrow": false,
          "text": "",
          "x": "earthshaker",
          "xref": "x",
          "y": "tiny",
          "yref": "y"
         },
         {
          "font": {
           "color": "#000000"
          },
          "showarrow": false,
          "text": "",
          "x": "juggernaut",
          "xref": "x",
          "y": "tiny",
          "yref": "y"
         },
         {
          "font": {
           "color": "#000000"
          },
          "showarrow": false,
          "text": "",
          "x": "mirana",
          "xref": "x",
          "y": "tiny",
          "yref": "y"
         },
         {
          "font": {
           "color": "#000000"
          },
          "showarrow": false,
          "text": "",
          "x": "morphling",
          "xref": "x",
          "y": "tiny",
          "yref": "y"
         },
         {
          "font": {
           "color": "#000000"
          },
          "showarrow": false,
          "text": "",
          "x": "nevermore",
          "xref": "x",
          "y": "tiny",
          "yref": "y"
         },
         {
          "font": {
           "color": "#000000"
          },
          "showarrow": false,
          "text": "",
          "x": "phantom_lancer",
          "xref": "x",
          "y": "tiny",
          "yref": "y"
         },
         {
          "font": {
           "color": "#000000"
          },
          "showarrow": false,
          "text": "",
          "x": "puck",
          "xref": "x",
          "y": "tiny",
          "yref": "y"
         },
         {
          "font": {
           "color": "#000000"
          },
          "showarrow": false,
          "text": "",
          "x": "pudge",
          "xref": "x",
          "y": "tiny",
          "yref": "y"
         },
         {
          "font": {
           "color": "#000000"
          },
          "showarrow": false,
          "text": "",
          "x": "razor",
          "xref": "x",
          "y": "tiny",
          "yref": "y"
         },
         {
          "font": {
           "color": "#000000"
          },
          "showarrow": false,
          "text": "",
          "x": "sand_king",
          "xref": "x",
          "y": "tiny",
          "yref": "y"
         },
         {
          "font": {
           "color": "#000000"
          },
          "showarrow": false,
          "text": "",
          "x": "storm_spirit",
          "xref": "x",
          "y": "tiny",
          "yref": "y"
         },
         {
          "font": {
           "color": "#000000"
          },
          "showarrow": false,
          "text": "",
          "x": "sven",
          "xref": "x",
          "y": "tiny",
          "yref": "y"
         },
         {
          "font": {
           "color": "#FFFFFF"
          },
          "showarrow": false,
          "text": "",
          "x": "tiny",
          "xref": "x",
          "y": "tiny",
          "yref": "y"
         },
         {
          "font": {
           "color": "#000000"
          },
          "showarrow": false,
          "text": "",
          "x": "vengefulspirit",
          "xref": "x",
          "y": "tiny",
          "yref": "y"
         },
         {
          "font": {
           "color": "#000000"
          },
          "showarrow": false,
          "text": "",
          "x": "antimage",
          "xref": "x",
          "y": "vengefulspirit",
          "yref": "y"
         },
         {
          "font": {
           "color": "#000000"
          },
          "showarrow": false,
          "text": "",
          "x": "axe",
          "xref": "x",
          "y": "vengefulspirit",
          "yref": "y"
         },
         {
          "font": {
           "color": "#000000"
          },
          "showarrow": false,
          "text": "",
          "x": "bane",
          "xref": "x",
          "y": "vengefulspirit",
          "yref": "y"
         },
         {
          "font": {
           "color": "#000000"
          },
          "showarrow": false,
          "text": "",
          "x": "bloodseeker",
          "xref": "x",
          "y": "vengefulspirit",
          "yref": "y"
         },
         {
          "font": {
           "color": "#000000"
          },
          "showarrow": false,
          "text": "",
          "x": "crystal_maiden",
          "xref": "x",
          "y": "vengefulspirit",
          "yref": "y"
         },
         {
          "font": {
           "color": "#000000"
          },
          "showarrow": false,
          "text": "",
          "x": "drow_ranger",
          "xref": "x",
          "y": "vengefulspirit",
          "yref": "y"
         },
         {
          "font": {
           "color": "#000000"
          },
          "showarrow": false,
          "text": "",
          "x": "earthshaker",
          "xref": "x",
          "y": "vengefulspirit",
          "yref": "y"
         },
         {
          "font": {
           "color": "#000000"
          },
          "showarrow": false,
          "text": "",
          "x": "juggernaut",
          "xref": "x",
          "y": "vengefulspirit",
          "yref": "y"
         },
         {
          "font": {
           "color": "#000000"
          },
          "showarrow": false,
          "text": "",
          "x": "mirana",
          "xref": "x",
          "y": "vengefulspirit",
          "yref": "y"
         },
         {
          "font": {
           "color": "#000000"
          },
          "showarrow": false,
          "text": "",
          "x": "morphling",
          "xref": "x",
          "y": "vengefulspirit",
          "yref": "y"
         },
         {
          "font": {
           "color": "#000000"
          },
          "showarrow": false,
          "text": "",
          "x": "nevermore",
          "xref": "x",
          "y": "vengefulspirit",
          "yref": "y"
         },
         {
          "font": {
           "color": "#000000"
          },
          "showarrow": false,
          "text": "",
          "x": "phantom_lancer",
          "xref": "x",
          "y": "vengefulspirit",
          "yref": "y"
         },
         {
          "font": {
           "color": "#000000"
          },
          "showarrow": false,
          "text": "",
          "x": "puck",
          "xref": "x",
          "y": "vengefulspirit",
          "yref": "y"
         },
         {
          "font": {
           "color": "#000000"
          },
          "showarrow": false,
          "text": "",
          "x": "pudge",
          "xref": "x",
          "y": "vengefulspirit",
          "yref": "y"
         },
         {
          "font": {
           "color": "#000000"
          },
          "showarrow": false,
          "text": "",
          "x": "razor",
          "xref": "x",
          "y": "vengefulspirit",
          "yref": "y"
         },
         {
          "font": {
           "color": "#000000"
          },
          "showarrow": false,
          "text": "",
          "x": "sand_king",
          "xref": "x",
          "y": "vengefulspirit",
          "yref": "y"
         },
         {
          "font": {
           "color": "#000000"
          },
          "showarrow": false,
          "text": "",
          "x": "storm_spirit",
          "xref": "x",
          "y": "vengefulspirit",
          "yref": "y"
         },
         {
          "font": {
           "color": "#000000"
          },
          "showarrow": false,
          "text": "",
          "x": "sven",
          "xref": "x",
          "y": "vengefulspirit",
          "yref": "y"
         },
         {
          "font": {
           "color": "#000000"
          },
          "showarrow": false,
          "text": "",
          "x": "tiny",
          "xref": "x",
          "y": "vengefulspirit",
          "yref": "y"
         },
         {
          "font": {
           "color": "#FFFFFF"
          },
          "showarrow": false,
          "text": "",
          "x": "vengefulspirit",
          "xref": "x",
          "y": "vengefulspirit",
          "yref": "y"
         }
        ],
        "title": "Friendly Matchups - Y is Hero, X is win rate",
        "xaxis": {
         "dtick": 1,
         "gridcolor": "rgb(0, 0, 0)",
         "side": "top",
         "ticks": ""
        },
        "yaxis": {
         "dtick": 1,
         "ticks": "",
         "ticksuffix": "  "
        }
       }
      },
      "text/html": [
       "<div id=\"882c5fb3-659b-405f-aece-80a5c6049b9b\" style=\"height: 525px; width: 100%;\" class=\"plotly-graph-div\"></div><script type=\"text/javascript\">require([\"plotly\"], function(Plotly) { window.PLOTLYENV=window.PLOTLYENV || {};window.PLOTLYENV.BASE_URL=\"https://plot.ly\";\n",
       "        Plotly.plot(\n",
       "            '882c5fb3-659b-405f-aece-80a5c6049b9b',\n",
       "            [{\"colorscale\": \"RdBu\", \"hoverinfo\": \"text\", \"showscale\": false, \"text\": [[\"antimage - antimage - 0\", \"antimage - axe - 0.44220572640509015\", \"antimage - bane - 0.5388349514563107\", \"antimage - bloodseeker - 0.45593525179856115\", \"antimage - crystal_maiden - 0.43561030235162373\", \"antimage - drow_ranger - 0.48226950354609927\", \"antimage - earthshaker - 0.48942598187311176\", \"antimage - juggernaut - 0.532617671345995\", \"antimage - mirana - 0.5016648168701443\", \"antimage - morphling - 0.5452322738386308\", \"antimage - nevermore - 0.5265017667844523\", \"antimage - phantom_lancer - 0.4931506849315068\", \"antimage - puck - 0.5950920245398773\", \"antimage - pudge - 0.47363757199822776\", \"antimage - razor - 0.4947916666666667\", \"antimage - sand_king - 0.5687645687645687\", \"antimage - storm_spirit - 0.5532934131736527\", \"antimage - sven - 0.5043290043290043\", \"antimage - tiny - 0.59\", \"antimage - vengefulspirit - 0.45925925925925926\"], [\"axe - antimage - 0.5851063829787234\", \"axe - axe - 0\", \"axe - bane - 0.5817490494296578\", \"axe - bloodseeker - 0.5022583559168925\", \"axe - crystal_maiden - 0.5189639222941721\", \"axe - drow_ranger - 0.5174731182795699\", \"axe - earthshaker - 0.5399792315680166\", \"axe - juggernaut - 0.5643627140139506\", \"axe - mirana - 0.5548936170212766\", \"axe - morphling - 0.6106194690265486\", \"axe - nevermore - 0.6091148115687993\", \"axe - phantom_lancer - 0.5544692737430168\", \"axe - puck - 0.6425339366515838\", \"axe - pudge - 0.49906542056074765\", \"axe - razor - 0.5592592592592592\", \"axe - sand_king - 0.5645412130637636\", \"axe - storm_spirit - 0.5637254901960784\", \"axe - sven - 0.5391304347826087\", \"axe - tiny - 0.6303501945525292\", \"axe - vengefulspirit - 0.4811643835616438\"], [\"bane - antimage - 0.4875\", \"bane - axe - 0.4402730375426621\", \"bane - bane - 0\", \"bane - bloodseeker - 0.40789473684210525\", \"bane - crystal_maiden - 0.46953405017921146\", \"bane - drow_ranger - 0.4195804195804196\", \"bane - earthshaker - 0.4427860696517413\", \"bane - juggernaut - 0.5213414634146342\", \"bane - mirana - 0.49019607843137253\", \"bane - morphling - 0.48863636363636365\", \"bane - nevermore - 0.5228215767634855\", \"bane - phantom_lancer - 0.39893617021276595\", \"bane - puck - 0.5660377358490566\", \"bane - pudge - 0.4172661870503597\", \"bane - razor - 0.4936708860759494\", \"bane - sand_king - 0.5808823529411765\", \"bane - storm_spirit - 0.4393939393939394\", \"bane - sven - 0.5303030303030303\", \"bane - tiny - 0.48333333333333334\", \"bane - vengefulspirit - 0.38926174496644295\"], [\"bloodseeker - antimage - 0.5740913327120224\", \"bloodseeker - axe - 0.4878253568429891\", \"bloodseeker - bane - 0.5630630630630631\", \"bloodseeker - bloodseeker - 0\", \"bloodseeker - crystal_maiden - 0.49948506694129763\", \"bloodseeker - drow_ranger - 0.5139372822299652\", \"bloodseeker - earthshaker - 0.5242346938775511\", \"bloodseeker - juggernaut - 0.5382716049382716\", \"bloodseeker - mirana - 0.5179119754350051\", \"bloodseeker - morphling - 0.5768261964735516\", \"bloodseeker - nevermore - 0.5853131749460043\", \"bloodseeker - phantom_lancer - 0.4930662557781202\", \"bloodseeker - puck - 0.5879629629629629\", \"bloodseeker - pudge - 0.5011904761904762\", \"bloodseeker - razor - 0.583710407239819\", \"bloodseeker - sand_king - 0.6175908221797323\", \"bloodseeker - storm_spirit - 0.49525101763907736\", \"bloodseeker - sven - 0.5079726651480638\", \"bloodseeker - tiny - 0.6296296296296297\", \"bloodseeker - vengefulspirit - 0.5152173913043478\"], [\"crystal_maiden - antimage - 0.5593824228028503\", \"crystal_maiden - axe - 0.5283363802559415\", \"crystal_maiden - bane - 0.5139442231075697\", \"crystal_maiden - bloodseeker - 0.522083805209513\", \"crystal_maiden - crystal_maiden - 0\", \"crystal_maiden - drow_ranger - 0.5159235668789809\", \"crystal_maiden - earthshaker - 0.5209790209790209\", \"crystal_maiden - juggernaut - 0.5376425855513308\", \"crystal_maiden - mirana - 0.5382513661202186\", \"crystal_maiden - morphling - 0.5800970873786407\", \"crystal_maiden - nevermore - 0.5805439330543933\", \"crystal_maiden - phantom_lancer - 0.5492063492063493\", \"crystal_maiden - puck - 0.7083333333333334\", \"crystal_maiden - pudge - 0.5078702216511404\", \"crystal_maiden - razor - 0.56\", \"crystal_maiden - sand_king - 0.570873786407767\", \"crystal_maiden - storm_spirit - 0.5266106442577031\", \"crystal_maiden - sven - 0.5306553911205074\", \"crystal_maiden - tiny - 0.6220472440944882\", \"crystal_maiden - vengefulspirit - 0.48056537102473496\"], [\"drow_ranger - antimage - 0.5561312607944733\", \"drow_ranger - axe - 0.46017699115044247\", \"drow_ranger - bane - 0.5448717948717948\", \"drow_ranger - bloodseeker - 0.4743362831858407\", \"drow_ranger - crystal_maiden - 0.4851190476190476\", \"drow_ranger - drow_ranger - 0\", \"drow_ranger - earthshaker - 0.46830265848670755\", \"drow_ranger - juggernaut - 0.5831234256926953\", \"drow_ranger - mirana - 0.4985835694050991\", \"drow_ranger - morphling - 0.5966101694915255\", \"drow_ranger - nevermore - 0.5810147299509002\", \"drow_ranger - phantom_lancer - 0.4398976982097187\", \"drow_ranger - puck - 0.6201550387596899\", \"drow_ranger - pudge - 0.4866151100535396\", \"drow_ranger - razor - 0.5985401459854015\", \"drow_ranger - sand_king - 0.5609756097560976\", \"drow_ranger - storm_spirit - 0.5368171021377672\", \"drow_ranger - sven - 0.53125\", \"drow_ranger - tiny - 0.6058823529411764\", \"drow_ranger - vengefulspirit - 0.5304054054054054\"], [\"earthshaker - antimage - 0.5237366003062787\", \"earthshaker - axe - 0.4505183788878417\", \"earthshaker - bane - 0.5652173913043478\", \"earthshaker - bloodseeker - 0.4738219895287958\", \"earthshaker - crystal_maiden - 0.4773445732349842\", \"earthshaker - drow_ranger - 0.46732673267326735\", \"earthshaker - earthshaker - 0\", \"earthshaker - juggernaut - 0.504941599281222\", \"earthshaker - mirana - 0.4911111111111111\", \"earthshaker - morphling - 0.534375\", \"earthshaker - nevermore - 0.5243243243243243\", \"earthshaker - phantom_lancer - 0.5159967186218212\", \"earthshaker - puck - 0.5922330097087378\", \"earthshaker - pudge - 0.49364069952305245\", \"earthshaker - razor - 0.5421686746987951\", \"earthshaker - sand_king - 0.5851979345955249\", \"earthshaker - storm_spirit - 0.5015673981191222\", \"earthshaker - sven - 0.47139588100686497\", \"earthshaker - tiny - 0.5630252100840336\", \"earthshaker - vengefulspirit - 0.4515366430260047\"], [\"juggernaut - antimage - 0.4925893635571055\", \"juggernaut - axe - 0.44902912621359226\", \"juggernaut - bane - 0.5283582089552239\", \"juggernaut - bloodseeker - 0.4679966749792186\", \"juggernaut - crystal_maiden - 0.4730229120473023\", \"juggernaut - drow_ranger - 0.46534653465346537\", \"juggernaut - earthshaker - 0.4907578558225508\", \"juggernaut - juggernaut - 0\", \"juggernaut - mirana - 0.525411596277738\", \"juggernaut - morphling - 0.5341726618705036\", \"juggernaut - nevermore - 0.548472775564409\", \"juggernaut - phantom_lancer - 0.4852941176470588\", \"juggernaut - puck - 0.5964285714285714\", \"juggernaut - pudge - 0.4658085277554304\", \"juggernaut - razor - 0.5570032573289903\", \"juggernaut - sand_king - 0.5496774193548387\", \"juggernaut - storm_spirit - 0.509825327510917\", \"juggernaut - sven - 0.4776357827476038\", \"juggernaut - tiny - 0.6\", \"juggernaut - vengefulspirit - 0.4378531073446328\"], [\"mirana - antimage - 0.5083240843507214\", \"mirana - axe - 0.43033800494641383\", \"mirana - bane - 0.5742971887550201\", \"mirana - bloodseeker - 0.4640394088669951\", \"mirana - crystal_maiden - 0.4879518072289157\", \"mirana - drow_ranger - 0.48111658456486045\", \"mirana - earthshaker - 0.46625129802699894\", \"mirana - juggernaut - 0.5007299270072992\", \"mirana - mirana - 0\", \"mirana - morphling - 0.556745182012848\", \"mirana - nevermore - 0.5498652291105122\", \"mirana - phantom_lancer - 0.5045317220543807\", \"mirana - puck - 0.5\", \"mirana - pudge - 0.4778734778734779\", \"mirana - razor - 0.5755102040816327\", \"mirana - sand_king - 0.5466666666666666\", \"mirana - storm_spirit - 0.5340179717586649\", \"mirana - sven - 0.5142857142857142\", \"mirana - tiny - 0.5802469135802469\", \"mirana - vengefulspirit - 0.4759259259259259\"], [\"morphling - antimage - 0.44339622641509435\", \"morphling - axe - 0.4043956043956044\", \"morphling - bane - 0.47959183673469385\", \"morphling - bloodseeker - 0.4475703324808184\", \"morphling - crystal_maiden - 0.408983451536643\", \"morphling - drow_ranger - 0.4657039711191336\", \"morphling - earthshaker - 0.4837758112094395\", \"morphling - juggernaut - 0.5\", \"morphling - mirana - 0.4276315789473684\", \"morphling - morphling - 0\", \"morphling - nevermore - 0.511482254697286\", \"morphling - phantom_lancer - 0.43109540636042404\", \"morphling - puck - 0.4411764705882353\", \"morphling - pudge - 0.4587843463780183\", \"morphling - razor - 0.49019607843137253\", \"morphling - sand_king - 0.5173913043478261\", \"morphling - storm_spirit - 0.4778156996587031\", \"morphling - sven - 0.4635416666666667\", \"morphling - tiny - 0.5701754385964912\", \"morphling - vengefulspirit - 0.34801762114537443\"], [\"nevermore - antimage - 0.4359903381642512\", \"nevermore - axe - 0.38762214983713356\", \"nevermore - bane - 0.5203252032520326\", \"nevermore - bloodseeker - 0.4160659114315139\", \"nevermore - crystal_maiden - 0.41970443349753694\", \"nevermore - drow_ranger - 0.432510885341074\", \"nevermore - earthshaker - 0.46808510638297873\", \"nevermore - juggernaut - 0.4117647058823529\", \"nevermore - mirana - 0.45382585751978893\", \"nevermore - morphling - 0.5\", \"nevermore - nevermore - 0\", \"nevermore - phantom_lancer - 0.43529411764705883\", \"nevermore - puck - 0.5396825396825397\", \"nevermore - pudge - 0.4134206219312602\", \"nevermore - razor - 0.5625\", \"nevermore - sand_king - 0.5172413793103449\", \"nevermore - storm_spirit - 0.46445497630331756\", \"nevermore - sven - 0.4343807763401109\", \"nevermore - tiny - 0.5551724137931034\", \"nevermore - vengefulspirit - 0.3981651376146789\"], [\"phantom_lancer - antimage - 0.4720616570327553\", \"phantom_lancer - axe - 0.45123537061118335\", \"phantom_lancer - bane - 0.6108108108108108\", \"phantom_lancer - bloodseeker - 0.5056\", \"phantom_lancer - crystal_maiden - 0.43962848297213625\", \"phantom_lancer - drow_ranger - 0.5431235431235432\", \"phantom_lancer - earthshaker - 0.4796812749003984\", \"phantom_lancer - juggernaut - 0.4901185770750988\", \"phantom_lancer - mirana - 0.48519736842105265\", \"phantom_lancer - morphling - 0.5488215488215489\", \"phantom_lancer - nevermore - 0.5459610027855153\", \"phantom_lancer - phantom_lancer - 0\", \"phantom_lancer - puck - 0.5769230769230769\", \"phantom_lancer - pudge - 0.5073115860517435\", \"phantom_lancer - razor - 0.6242424242424243\", \"phantom_lancer - sand_king - 0.48021108179419525\", \"phantom_lancer - storm_spirit - 0.4912663755458515\", \"phantom_lancer - sven - 0.4675141242937853\", \"phantom_lancer - tiny - 0.6526946107784432\", \"phantom_lancer - vengefulspirit - 0.49137931034482757\"], [\"puck - antimage - 0.40414507772020725\", \"puck - axe - 0.31063829787234043\", \"puck - bane - 0.43103448275862066\", \"puck - bloodseeker - 0.41081081081081083\", \"puck - crystal_maiden - 0.3385416666666667\", \"puck - drow_ranger - 0.4084507042253521\", \"puck - earthshaker - 0.42105263157894735\", \"puck - juggernaut - 0.359375\", \"puck - mirana - 0.4206008583690987\", \"puck - morphling - 0.5147058823529411\", \"puck - nevermore - 0.4326530612244898\", \"puck - phantom_lancer - 0.4244604316546763\", \"puck - puck - 0\", \"puck - pudge - 0.4027777777777778\", \"puck - razor - 0.37735849056603776\", \"puck - sand_king - 0.5263157894736842\", \"puck - storm_spirit - 0.41875\", \"puck - sven - 0.4392523364485981\", \"puck - tiny - 0.4074074074074074\", \"puck - vengefulspirit - 0.3728813559322034\"], [\"pudge - antimage - 0.5156669650850493\", \"pudge - axe - 0.4995507637017071\", \"pudge - bane - 0.554904831625183\", \"pudge - bloodseeker - 0.5246913580246914\", \"pudge - crystal_maiden - 0.5015069318866787\", \"pudge - drow_ranger - 0.5054131054131055\", \"pudge - earthshaker - 0.51636503658067\", \"pudge - juggernaut - 0.5233441910966341\", \"pudge - mirana - 0.5226013414989793\", \"pudge - morphling - 0.5604217356042174\", \"pudge - nevermore - 0.585163007318696\", \"pudge - phantom_lancer - 0.4898078043098428\", \"pudge - puck - 0.6091954022988506\", \"pudge - pudge - 0\", \"pudge - razor - 0.5881226053639846\", \"pudge - sand_king - 0.5798588838999359\", \"pudge - storm_spirit - 0.5370731707317074\", \"pudge - sven - 0.5472868217054263\", \"pudge - tiny - 0.6273932253313697\", \"pudge - vengefulspirit - 0.4660633484162896\"], [\"razor - antimage - 0.43103448275862066\", \"razor - axe - 0.4332129963898917\", \"razor - bane - 0.43636363636363634\", \"razor - bloodseeker - 0.3924050632911392\", \"razor - crystal_maiden - 0.4429223744292237\", \"razor - drow_ranger - 0.408\", \"razor - earthshaker - 0.5081081081081081\", \"razor - juggernaut - 0.4212328767123288\", \"razor - mirana - 0.41626794258373206\", \"razor - morphling - 0.49382716049382713\", \"razor - nevermore - 0.4708333333333333\", \"razor - phantom_lancer - 0.3803680981595092\", \"razor - puck - 0.5\", \"razor - pudge - 0.4452690166975881\", \"razor - razor - 0\", \"razor - sand_king - 0.5367647058823529\", \"razor - storm_spirit - 0.40764331210191085\", \"razor - sven - 0.4906832298136646\", \"razor - tiny - 0.5441176470588235\", \"razor - vengefulspirit - 0.36666666666666664\"], [\"sand_king - antimage - 0.43537414965986393\", \"sand_king - axe - 0.40428790199081166\", \"sand_king - bane - 0.5069444444444444\", \"sand_king - bloodseeker - 0.4176954732510288\", \"sand_king - crystal_maiden - 0.42105263157894735\", \"sand_king - drow_ranger - 0.4391025641025641\", \"sand_king - earthshaker - 0.43021032504780116\", \"sand_king - juggernaut - 0.45179063360881544\", \"sand_king - mirana - 0.43548387096774194\", \"sand_king - morphling - 0.4700460829493088\", \"sand_king - nevermore - 0.52428810720268\", \"sand_king - phantom_lancer - 0.48717948717948717\", \"sand_king - puck - 0.5675675675675675\", \"sand_king - pudge - 0.4377880184331797\", \"sand_king - razor - 0.5912408759124088\", \"sand_king - sand_king - 0\", \"sand_king - storm_spirit - 0.47146401985111663\", \"sand_king - sven - 0.41923076923076924\", \"sand_king - tiny - 0.5569620253164557\", \"sand_king - vengefulspirit - 0.37184115523465705\"], [\"storm_spirit - antimage - 0.4565483476132191\", \"storm_spirit - axe - 0.4234338747099768\", \"storm_spirit - bane - 0.494949494949495\", \"storm_spirit - bloodseeker - 0.4806007509386733\", \"storm_spirit - crystal_maiden - 0.43943298969072164\", \"storm_spirit - drow_ranger - 0.47101449275362317\", \"storm_spirit - earthshaker - 0.4794745484400657\", \"storm_spirit - juggernaut - 0.49150743099787686\", \"storm_spirit - mirana - 0.5319949811794228\", \"storm_spirit - morphling - 0.5255255255255256\", \"storm_spirit - nevermore - 0.5161290322580645\", \"storm_spirit - phantom_lancer - 0.49510763209393344\", \"storm_spirit - puck - 0.5291005291005291\", \"storm_spirit - pudge - 0.48213457076566124\", \"storm_spirit - razor - 0.583941605839416\", \"storm_spirit - sand_king - 0.5234567901234568\", \"storm_spirit - storm_spirit - 0\", \"storm_spirit - sven - 0.4444444444444444\", \"storm_spirit - tiny - 0.5757575757575758\", \"storm_spirit - vengefulspirit - 0.43922651933701656\"], [\"sven - antimage - 0.5619266055045872\", \"sven - axe - 0.455\", \"sven - bane - 0.5327868852459017\", \"sven - bloodseeker - 0.5\", \"sven - crystal_maiden - 0.4751131221719457\", \"sven - drow_ranger - 0.40993788819875776\", \"sven - earthshaker - 0.4867469879518072\", \"sven - juggernaut - 0.4881516587677725\", \"sven - mirana - 0.4658119658119658\", \"sven - morphling - 0.5426829268292683\", \"sven - nevermore - 0.5207547169811321\", \"sven - phantom_lancer - 0.5252387448840382\", \"sven - puck - 0.6082474226804123\", \"sven - pudge - 0.4684014869888476\", \"sven - razor - 0.5109489051094891\", \"sven - sand_king - 0.5113636363636364\", \"sven - storm_spirit - 0.5469798657718121\", \"sven - sven - 0\", \"sven - tiny - 0.5693430656934306\", \"sven - vengefulspirit - 0.39636363636363636\"], [\"tiny - antimage - 0.4594594594594595\", \"tiny - axe - 0.35106382978723405\", \"tiny - bane - 0.35\", \"tiny - bloodseeker - 0.3483606557377049\", \"tiny - crystal_maiden - 0.39826839826839827\", \"tiny - drow_ranger - 0.36645962732919257\", \"tiny - earthshaker - 0.4088888888888889\", \"tiny - juggernaut - 0.3866279069767442\", \"tiny - mirana - 0.4409090909090909\", \"tiny - morphling - 0.4\", \"tiny - nevermore - 0.3860294117647059\", \"tiny - phantom_lancer - 0.3558282208588957\", \"tiny - puck - 0.4714285714285714\", \"tiny - pudge - 0.40444444444444444\", \"tiny - razor - 0.4\", \"tiny - sand_king - 0.44\", \"tiny - storm_spirit - 0.42391304347826086\", \"tiny - sven - 0.47540983606557374\", \"tiny - tiny - 0\", \"tiny - vengefulspirit - 0.3888888888888889\"], [\"vengefulspirit - antimage - 0.5201900237529691\", \"vengefulspirit - axe - 0.47540983606557374\", \"vengefulspirit - bane - 0.582089552238806\", \"vengefulspirit - bloodseeker - 0.5243362831858407\", \"vengefulspirit - crystal_maiden - 0.4878048780487805\", \"vengefulspirit - drow_ranger - 0.5272727272727272\", \"vengefulspirit - earthshaker - 0.5576923076923077\", \"vengefulspirit - juggernaut - 0.5172890733056709\", \"vengefulspirit - mirana - 0.5433212996389891\", \"vengefulspirit - morphling - 0.5374449339207048\", \"vengefulspirit - nevermore - 0.5794392523364486\", \"vengefulspirit - phantom_lancer - 0.5277777777777778\", \"vengefulspirit - puck - 0.6101694915254238\", \"vengefulspirit - pudge - 0.5255663430420712\", \"vengefulspirit - razor - 0.6330935251798561\", \"vengefulspirit - sand_king - 0.5953307392996109\", \"vengefulspirit - storm_spirit - 0.6105263157894737\", \"vengefulspirit - sven - 0.5241635687732342\", \"vengefulspirit - tiny - 0.6351351351351351\", \"vengefulspirit - vengefulspirit - 0\"]], \"x\": [\"antimage\", \"axe\", \"bane\", \"bloodseeker\", \"crystal_maiden\", \"drow_ranger\", \"earthshaker\", \"juggernaut\", \"mirana\", \"morphling\", \"nevermore\", \"phantom_lancer\", \"puck\", \"pudge\", \"razor\", \"sand_king\", \"storm_spirit\", \"sven\", \"tiny\", \"vengefulspirit\"], \"y\": [\"antimage\", \"axe\", \"bane\", \"bloodseeker\", \"crystal_maiden\", \"drow_ranger\", \"earthshaker\", \"juggernaut\", \"mirana\", \"morphling\", \"nevermore\", \"phantom_lancer\", \"puck\", \"pudge\", \"razor\", \"sand_king\", \"storm_spirit\", \"sven\", \"tiny\", \"vengefulspirit\"], \"z\": [[0, 0.44220572640509015, 0.5388349514563107, 0.45593525179856115, 0.43561030235162373, 0.48226950354609927, 0.48942598187311176, 0.532617671345995, 0.5016648168701443, 0.5452322738386308, 0.5265017667844523, 0.4931506849315068, 0.5950920245398773, 0.47363757199822776, 0.4947916666666667, 0.5687645687645687, 0.5532934131736527, 0.5043290043290043, 0.59, 0.45925925925925926], [0.5851063829787234, 0, 0.5817490494296578, 0.5022583559168925, 0.5189639222941721, 0.5174731182795699, 0.5399792315680166, 0.5643627140139506, 0.5548936170212766, 0.6106194690265486, 0.6091148115687993, 0.5544692737430168, 0.6425339366515838, 0.49906542056074765, 0.5592592592592592, 0.5645412130637636, 0.5637254901960784, 0.5391304347826087, 0.6303501945525292, 0.4811643835616438], [0.4875, 0.4402730375426621, 0, 0.40789473684210525, 0.46953405017921146, 0.4195804195804196, 0.4427860696517413, 0.5213414634146342, 0.49019607843137253, 0.48863636363636365, 0.5228215767634855, 0.39893617021276595, 0.5660377358490566, 0.4172661870503597, 0.4936708860759494, 0.5808823529411765, 0.4393939393939394, 0.5303030303030303, 0.48333333333333334, 0.38926174496644295], [0.5740913327120224, 0.4878253568429891, 0.5630630630630631, 0, 0.49948506694129763, 0.5139372822299652, 0.5242346938775511, 0.5382716049382716, 0.5179119754350051, 0.5768261964735516, 0.5853131749460043, 0.4930662557781202, 0.5879629629629629, 0.5011904761904762, 0.583710407239819, 0.6175908221797323, 0.49525101763907736, 0.5079726651480638, 0.6296296296296297, 0.5152173913043478], [0.5593824228028503, 0.5283363802559415, 0.5139442231075697, 0.522083805209513, 0, 0.5159235668789809, 0.5209790209790209, 0.5376425855513308, 0.5382513661202186, 0.5800970873786407, 0.5805439330543933, 0.5492063492063493, 0.7083333333333334, 0.5078702216511404, 0.56, 0.570873786407767, 0.5266106442577031, 0.5306553911205074, 0.6220472440944882, 0.48056537102473496], [0.5561312607944733, 0.46017699115044247, 0.5448717948717948, 0.4743362831858407, 0.4851190476190476, 0, 0.46830265848670755, 0.5831234256926953, 0.4985835694050991, 0.5966101694915255, 0.5810147299509002, 0.4398976982097187, 0.6201550387596899, 0.4866151100535396, 0.5985401459854015, 0.5609756097560976, 0.5368171021377672, 0.53125, 0.6058823529411764, 0.5304054054054054], [0.5237366003062787, 0.4505183788878417, 0.5652173913043478, 0.4738219895287958, 0.4773445732349842, 0.46732673267326735, 0, 0.504941599281222, 0.4911111111111111, 0.534375, 0.5243243243243243, 0.5159967186218212, 0.5922330097087378, 0.49364069952305245, 0.5421686746987951, 0.5851979345955249, 0.5015673981191222, 0.47139588100686497, 0.5630252100840336, 0.4515366430260047], [0.4925893635571055, 0.44902912621359226, 0.5283582089552239, 0.4679966749792186, 0.4730229120473023, 0.46534653465346537, 0.4907578558225508, 0, 0.525411596277738, 0.5341726618705036, 0.548472775564409, 0.4852941176470588, 0.5964285714285714, 0.4658085277554304, 0.5570032573289903, 0.5496774193548387, 0.509825327510917, 0.4776357827476038, 0.6, 0.4378531073446328], [0.5083240843507214, 0.43033800494641383, 0.5742971887550201, 0.4640394088669951, 0.4879518072289157, 0.48111658456486045, 0.46625129802699894, 0.5007299270072992, 0, 0.556745182012848, 0.5498652291105122, 0.5045317220543807, 0.5, 0.4778734778734779, 0.5755102040816327, 0.5466666666666666, 0.5340179717586649, 0.5142857142857142, 0.5802469135802469, 0.4759259259259259], [0.44339622641509435, 0.4043956043956044, 0.47959183673469385, 0.4475703324808184, 0.408983451536643, 0.4657039711191336, 0.4837758112094395, 0.5, 0.4276315789473684, 0, 0.511482254697286, 0.43109540636042404, 0.4411764705882353, 0.4587843463780183, 0.49019607843137253, 0.5173913043478261, 0.4778156996587031, 0.4635416666666667, 0.5701754385964912, 0.34801762114537443], [0.4359903381642512, 0.38762214983713356, 0.5203252032520326, 0.4160659114315139, 0.41970443349753694, 0.432510885341074, 0.46808510638297873, 0.4117647058823529, 0.45382585751978893, 0.5, 0, 0.43529411764705883, 0.5396825396825397, 0.4134206219312602, 0.5625, 0.5172413793103449, 0.46445497630331756, 0.4343807763401109, 0.5551724137931034, 0.3981651376146789], [0.4720616570327553, 0.45123537061118335, 0.6108108108108108, 0.5056, 0.43962848297213625, 0.5431235431235432, 0.4796812749003984, 0.4901185770750988, 0.48519736842105265, 0.5488215488215489, 0.5459610027855153, 0, 0.5769230769230769, 0.5073115860517435, 0.6242424242424243, 0.48021108179419525, 0.4912663755458515, 0.4675141242937853, 0.6526946107784432, 0.49137931034482757], [0.40414507772020725, 0.31063829787234043, 0.43103448275862066, 0.41081081081081083, 0.3385416666666667, 0.4084507042253521, 0.42105263157894735, 0.359375, 0.4206008583690987, 0.5147058823529411, 0.4326530612244898, 0.4244604316546763, 0, 0.4027777777777778, 0.37735849056603776, 0.5263157894736842, 0.41875, 0.4392523364485981, 0.4074074074074074, 0.3728813559322034], [0.5156669650850493, 0.4995507637017071, 0.554904831625183, 0.5246913580246914, 0.5015069318866787, 0.5054131054131055, 0.51636503658067, 0.5233441910966341, 0.5226013414989793, 0.5604217356042174, 0.585163007318696, 0.4898078043098428, 0.6091954022988506, 0, 0.5881226053639846, 0.5798588838999359, 0.5370731707317074, 0.5472868217054263, 0.6273932253313697, 0.4660633484162896], [0.43103448275862066, 0.4332129963898917, 0.43636363636363634, 0.3924050632911392, 0.4429223744292237, 0.408, 0.5081081081081081, 0.4212328767123288, 0.41626794258373206, 0.49382716049382713, 0.4708333333333333, 0.3803680981595092, 0.5, 0.4452690166975881, 0, 0.5367647058823529, 0.40764331210191085, 0.4906832298136646, 0.5441176470588235, 0.36666666666666664], [0.43537414965986393, 0.40428790199081166, 0.5069444444444444, 0.4176954732510288, 0.42105263157894735, 0.4391025641025641, 0.43021032504780116, 0.45179063360881544, 0.43548387096774194, 0.4700460829493088, 0.52428810720268, 0.48717948717948717, 0.5675675675675675, 0.4377880184331797, 0.5912408759124088, 0, 0.47146401985111663, 0.41923076923076924, 0.5569620253164557, 0.37184115523465705], [0.4565483476132191, 0.4234338747099768, 0.494949494949495, 0.4806007509386733, 0.43943298969072164, 0.47101449275362317, 0.4794745484400657, 0.49150743099787686, 0.5319949811794228, 0.5255255255255256, 0.5161290322580645, 0.49510763209393344, 0.5291005291005291, 0.48213457076566124, 0.583941605839416, 0.5234567901234568, 0, 0.4444444444444444, 0.5757575757575758, 0.43922651933701656], [0.5619266055045872, 0.455, 0.5327868852459017, 0.5, 0.4751131221719457, 0.40993788819875776, 0.4867469879518072, 0.4881516587677725, 0.4658119658119658, 0.5426829268292683, 0.5207547169811321, 0.5252387448840382, 0.6082474226804123, 0.4684014869888476, 0.5109489051094891, 0.5113636363636364, 0.5469798657718121, 0, 0.5693430656934306, 0.39636363636363636], [0.4594594594594595, 0.35106382978723405, 0.35, 0.3483606557377049, 0.39826839826839827, 0.36645962732919257, 0.4088888888888889, 0.3866279069767442, 0.4409090909090909, 0.4, 0.3860294117647059, 0.3558282208588957, 0.4714285714285714, 0.40444444444444444, 0.4, 0.44, 0.42391304347826086, 0.47540983606557374, 0, 0.3888888888888889], [0.5201900237529691, 0.47540983606557374, 0.582089552238806, 0.5243362831858407, 0.4878048780487805, 0.5272727272727272, 0.5576923076923077, 0.5172890733056709, 0.5433212996389891, 0.5374449339207048, 0.5794392523364486, 0.5277777777777778, 0.6101694915254238, 0.5255663430420712, 0.6330935251798561, 0.5953307392996109, 0.6105263157894737, 0.5241635687732342, 0.6351351351351351, 0]], \"type\": \"heatmap\", \"uid\": \"1ddc30de-9dd8-11e8-8aa7-1c1b0d9ee69f\"}],\n",
       "            {\"annotations\": [{\"font\": {\"color\": \"#FFFFFF\"}, \"showarrow\": false, \"text\": \"\", \"x\": \"antimage\", \"xref\": \"x\", \"y\": \"antimage\", \"yref\": \"y\"}, {\"font\": {\"color\": \"#000000\"}, \"showarrow\": false, \"text\": \"\", \"x\": \"axe\", \"xref\": \"x\", \"y\": \"antimage\", \"yref\": \"y\"}, {\"font\": {\"color\": \"#000000\"}, \"showarrow\": false, \"text\": \"\", \"x\": \"bane\", \"xref\": \"x\", \"y\": \"antimage\", \"yref\": \"y\"}, {\"font\": {\"color\": \"#000000\"}, \"showarrow\": false, \"text\": \"\", \"x\": \"bloodseeker\", \"xref\": \"x\", \"y\": \"antimage\", \"yref\": \"y\"}, {\"font\": {\"color\": \"#000000\"}, \"showarrow\": false, \"text\": \"\", \"x\": \"crystal_maiden\", \"xref\": \"x\", \"y\": \"antimage\", \"yref\": \"y\"}, {\"font\": {\"color\": \"#000000\"}, \"showarrow\": false, \"text\": \"\", \"x\": \"drow_ranger\", \"xref\": \"x\", \"y\": \"antimage\", \"yref\": \"y\"}, {\"font\": {\"color\": \"#000000\"}, \"showarrow\": false, \"text\": \"\", \"x\": \"earthshaker\", \"xref\": \"x\", \"y\": \"antimage\", \"yref\": \"y\"}, {\"font\": {\"color\": \"#000000\"}, \"showarrow\": false, \"text\": \"\", \"x\": \"juggernaut\", \"xref\": \"x\", \"y\": \"antimage\", \"yref\": \"y\"}, {\"font\": {\"color\": \"#000000\"}, \"showarrow\": false, \"text\": \"\", \"x\": \"mirana\", \"xref\": \"x\", \"y\": \"antimage\", \"yref\": \"y\"}, {\"font\": {\"color\": \"#000000\"}, \"showarrow\": false, \"text\": \"\", \"x\": \"morphling\", \"xref\": \"x\", \"y\": \"antimage\", \"yref\": \"y\"}, {\"font\": {\"color\": \"#000000\"}, \"showarrow\": false, \"text\": \"\", \"x\": \"nevermore\", \"xref\": \"x\", \"y\": \"antimage\", \"yref\": \"y\"}, {\"font\": {\"color\": \"#000000\"}, \"showarrow\": false, \"text\": \"\", \"x\": \"phantom_lancer\", \"xref\": \"x\", \"y\": \"antimage\", \"yref\": \"y\"}, {\"font\": {\"color\": \"#000000\"}, \"showarrow\": false, \"text\": \"\", \"x\": \"puck\", \"xref\": \"x\", \"y\": \"antimage\", \"yref\": \"y\"}, {\"font\": {\"color\": \"#000000\"}, \"showarrow\": false, \"text\": \"\", \"x\": \"pudge\", \"xref\": \"x\", \"y\": \"antimage\", \"yref\": \"y\"}, {\"font\": {\"color\": \"#000000\"}, \"showarrow\": false, \"text\": \"\", \"x\": \"razor\", \"xref\": \"x\", \"y\": \"antimage\", \"yref\": \"y\"}, {\"font\": {\"color\": \"#000000\"}, \"showarrow\": false, \"text\": \"\", \"x\": \"sand_king\", \"xref\": \"x\", \"y\": \"antimage\", \"yref\": \"y\"}, {\"font\": {\"color\": \"#000000\"}, \"showarrow\": false, \"text\": \"\", \"x\": \"storm_spirit\", \"xref\": \"x\", \"y\": \"antimage\", \"yref\": \"y\"}, {\"font\": {\"color\": \"#000000\"}, \"showarrow\": false, \"text\": \"\", \"x\": \"sven\", \"xref\": \"x\", \"y\": \"antimage\", \"yref\": \"y\"}, {\"font\": {\"color\": \"#000000\"}, \"showarrow\": false, \"text\": \"\", \"x\": \"tiny\", \"xref\": \"x\", \"y\": \"antimage\", \"yref\": \"y\"}, {\"font\": {\"color\": \"#000000\"}, \"showarrow\": false, \"text\": \"\", \"x\": \"vengefulspirit\", \"xref\": \"x\", \"y\": \"antimage\", \"yref\": \"y\"}, {\"font\": {\"color\": \"#000000\"}, \"showarrow\": false, \"text\": \"\", \"x\": \"antimage\", \"xref\": \"x\", \"y\": \"axe\", \"yref\": \"y\"}, {\"font\": {\"color\": \"#FFFFFF\"}, \"showarrow\": false, \"text\": \"\", \"x\": \"axe\", \"xref\": \"x\", \"y\": \"axe\", \"yref\": \"y\"}, {\"font\": {\"color\": \"#000000\"}, \"showarrow\": false, \"text\": \"\", \"x\": \"bane\", \"xref\": \"x\", \"y\": \"axe\", \"yref\": \"y\"}, {\"font\": {\"color\": \"#000000\"}, \"showarrow\": false, \"text\": \"\", \"x\": \"bloodseeker\", \"xref\": \"x\", \"y\": \"axe\", \"yref\": \"y\"}, {\"font\": {\"color\": \"#000000\"}, \"showarrow\": false, \"text\": \"\", \"x\": \"crystal_maiden\", \"xref\": \"x\", \"y\": \"axe\", \"yref\": \"y\"}, {\"font\": {\"color\": \"#000000\"}, \"showarrow\": false, \"text\": \"\", \"x\": \"drow_ranger\", \"xref\": \"x\", \"y\": \"axe\", \"yref\": \"y\"}, {\"font\": {\"color\": \"#000000\"}, \"showarrow\": false, \"text\": \"\", \"x\": \"earthshaker\", \"xref\": \"x\", \"y\": \"axe\", \"yref\": \"y\"}, {\"font\": {\"color\": \"#000000\"}, \"showarrow\": false, \"text\": \"\", \"x\": \"juggernaut\", \"xref\": \"x\", \"y\": \"axe\", \"yref\": \"y\"}, {\"font\": {\"color\": \"#000000\"}, \"showarrow\": false, \"text\": \"\", \"x\": \"mirana\", \"xref\": \"x\", \"y\": \"axe\", \"yref\": \"y\"}, {\"font\": {\"color\": \"#000000\"}, \"showarrow\": false, \"text\": \"\", \"x\": \"morphling\", \"xref\": \"x\", \"y\": \"axe\", \"yref\": \"y\"}, {\"font\": {\"color\": \"#000000\"}, \"showarrow\": false, \"text\": \"\", \"x\": \"nevermore\", \"xref\": \"x\", \"y\": \"axe\", \"yref\": \"y\"}, {\"font\": {\"color\": \"#000000\"}, \"showarrow\": false, \"text\": \"\", \"x\": \"phantom_lancer\", \"xref\": \"x\", \"y\": \"axe\", \"yref\": \"y\"}, {\"font\": {\"color\": \"#000000\"}, \"showarrow\": false, \"text\": \"\", \"x\": \"puck\", \"xref\": \"x\", \"y\": \"axe\", \"yref\": \"y\"}, {\"font\": {\"color\": \"#000000\"}, \"showarrow\": false, \"text\": \"\", \"x\": \"pudge\", \"xref\": \"x\", \"y\": \"axe\", \"yref\": \"y\"}, {\"font\": {\"color\": \"#000000\"}, \"showarrow\": false, \"text\": \"\", \"x\": \"razor\", \"xref\": \"x\", \"y\": \"axe\", \"yref\": \"y\"}, {\"font\": {\"color\": \"#000000\"}, \"showarrow\": false, \"text\": \"\", \"x\": \"sand_king\", \"xref\": \"x\", \"y\": \"axe\", \"yref\": \"y\"}, {\"font\": {\"color\": \"#000000\"}, \"showarrow\": false, \"text\": \"\", \"x\": \"storm_spirit\", \"xref\": \"x\", \"y\": \"axe\", \"yref\": \"y\"}, {\"font\": {\"color\": \"#000000\"}, \"showarrow\": false, \"text\": \"\", \"x\": \"sven\", \"xref\": \"x\", \"y\": \"axe\", \"yref\": \"y\"}, {\"font\": {\"color\": \"#000000\"}, \"showarrow\": false, \"text\": \"\", \"x\": \"tiny\", \"xref\": \"x\", \"y\": \"axe\", \"yref\": \"y\"}, {\"font\": {\"color\": \"#000000\"}, \"showarrow\": false, \"text\": \"\", \"x\": \"vengefulspirit\", \"xref\": \"x\", \"y\": \"axe\", \"yref\": \"y\"}, {\"font\": {\"color\": \"#000000\"}, \"showarrow\": false, \"text\": \"\", \"x\": \"antimage\", \"xref\": \"x\", \"y\": \"bane\", \"yref\": \"y\"}, {\"font\": {\"color\": \"#000000\"}, \"showarrow\": false, \"text\": \"\", \"x\": \"axe\", \"xref\": \"x\", \"y\": \"bane\", \"yref\": \"y\"}, {\"font\": {\"color\": \"#FFFFFF\"}, \"showarrow\": false, \"text\": \"\", \"x\": \"bane\", \"xref\": \"x\", \"y\": \"bane\", \"yref\": \"y\"}, {\"font\": {\"color\": \"#000000\"}, \"showarrow\": false, \"text\": \"\", \"x\": \"bloodseeker\", \"xref\": \"x\", \"y\": \"bane\", \"yref\": \"y\"}, {\"font\": {\"color\": \"#000000\"}, \"showarrow\": false, \"text\": \"\", \"x\": \"crystal_maiden\", \"xref\": \"x\", \"y\": \"bane\", \"yref\": \"y\"}, {\"font\": {\"color\": \"#000000\"}, \"showarrow\": false, \"text\": \"\", \"x\": \"drow_ranger\", \"xref\": \"x\", \"y\": \"bane\", \"yref\": \"y\"}, {\"font\": {\"color\": \"#000000\"}, \"showarrow\": false, \"text\": \"\", \"x\": \"earthshaker\", \"xref\": \"x\", \"y\": \"bane\", \"yref\": \"y\"}, {\"font\": {\"color\": \"#000000\"}, \"showarrow\": false, \"text\": \"\", \"x\": \"juggernaut\", \"xref\": \"x\", \"y\": \"bane\", \"yref\": \"y\"}, {\"font\": {\"color\": \"#000000\"}, \"showarrow\": false, \"text\": \"\", \"x\": \"mirana\", \"xref\": \"x\", \"y\": \"bane\", \"yref\": \"y\"}, {\"font\": {\"color\": \"#000000\"}, \"showarrow\": false, \"text\": \"\", \"x\": \"morphling\", \"xref\": \"x\", \"y\": \"bane\", \"yref\": \"y\"}, {\"font\": {\"color\": \"#000000\"}, \"showarrow\": false, \"text\": \"\", \"x\": \"nevermore\", \"xref\": \"x\", \"y\": \"bane\", \"yref\": \"y\"}, {\"font\": {\"color\": \"#000000\"}, \"showarrow\": false, \"text\": \"\", \"x\": \"phantom_lancer\", \"xref\": \"x\", \"y\": \"bane\", \"yref\": \"y\"}, {\"font\": {\"color\": \"#000000\"}, \"showarrow\": false, \"text\": \"\", \"x\": \"puck\", \"xref\": \"x\", \"y\": \"bane\", \"yref\": \"y\"}, {\"font\": {\"color\": \"#000000\"}, \"showarrow\": false, \"text\": \"\", \"x\": \"pudge\", \"xref\": \"x\", \"y\": \"bane\", \"yref\": \"y\"}, {\"font\": {\"color\": \"#000000\"}, \"showarrow\": false, \"text\": \"\", \"x\": \"razor\", \"xref\": \"x\", \"y\": \"bane\", \"yref\": \"y\"}, {\"font\": {\"color\": \"#000000\"}, \"showarrow\": false, \"text\": \"\", \"x\": \"sand_king\", \"xref\": \"x\", \"y\": \"bane\", \"yref\": \"y\"}, {\"font\": {\"color\": \"#000000\"}, \"showarrow\": false, \"text\": \"\", \"x\": \"storm_spirit\", \"xref\": \"x\", \"y\": \"bane\", \"yref\": \"y\"}, {\"font\": {\"color\": \"#000000\"}, \"showarrow\": false, \"text\": \"\", \"x\": \"sven\", \"xref\": \"x\", \"y\": \"bane\", \"yref\": \"y\"}, {\"font\": {\"color\": \"#000000\"}, \"showarrow\": false, \"text\": \"\", \"x\": \"tiny\", \"xref\": \"x\", \"y\": \"bane\", \"yref\": \"y\"}, {\"font\": {\"color\": \"#000000\"}, \"showarrow\": false, \"text\": \"\", \"x\": \"vengefulspirit\", \"xref\": \"x\", \"y\": \"bane\", \"yref\": \"y\"}, {\"font\": {\"color\": \"#000000\"}, \"showarrow\": false, \"text\": \"\", \"x\": \"antimage\", \"xref\": \"x\", \"y\": \"bloodseeker\", \"yref\": \"y\"}, {\"font\": {\"color\": \"#000000\"}, \"showarrow\": false, \"text\": \"\", \"x\": \"axe\", \"xref\": \"x\", \"y\": \"bloodseeker\", \"yref\": \"y\"}, {\"font\": {\"color\": \"#000000\"}, \"showarrow\": false, \"text\": \"\", \"x\": \"bane\", \"xref\": \"x\", \"y\": \"bloodseeker\", \"yref\": \"y\"}, {\"font\": {\"color\": \"#FFFFFF\"}, \"showarrow\": false, \"text\": \"\", \"x\": \"bloodseeker\", \"xref\": \"x\", \"y\": \"bloodseeker\", \"yref\": \"y\"}, {\"font\": {\"color\": \"#000000\"}, \"showarrow\": false, \"text\": \"\", \"x\": \"crystal_maiden\", \"xref\": \"x\", \"y\": \"bloodseeker\", \"yref\": \"y\"}, {\"font\": {\"color\": \"#000000\"}, \"showarrow\": false, \"text\": \"\", \"x\": \"drow_ranger\", \"xref\": \"x\", \"y\": \"bloodseeker\", \"yref\": \"y\"}, {\"font\": {\"color\": \"#000000\"}, \"showarrow\": false, \"text\": \"\", \"x\": \"earthshaker\", \"xref\": \"x\", \"y\": \"bloodseeker\", \"yref\": \"y\"}, {\"font\": {\"color\": \"#000000\"}, \"showarrow\": false, \"text\": \"\", \"x\": \"juggernaut\", \"xref\": \"x\", \"y\": \"bloodseeker\", \"yref\": \"y\"}, {\"font\": {\"color\": \"#000000\"}, \"showarrow\": false, \"text\": \"\", \"x\": \"mirana\", \"xref\": \"x\", \"y\": \"bloodseeker\", \"yref\": \"y\"}, {\"font\": {\"color\": \"#000000\"}, \"showarrow\": false, \"text\": \"\", \"x\": \"morphling\", \"xref\": \"x\", \"y\": \"bloodseeker\", \"yref\": \"y\"}, {\"font\": {\"color\": \"#000000\"}, \"showarrow\": false, \"text\": \"\", \"x\": \"nevermore\", \"xref\": \"x\", \"y\": \"bloodseeker\", \"yref\": \"y\"}, {\"font\": {\"color\": \"#000000\"}, \"showarrow\": false, \"text\": \"\", \"x\": \"phantom_lancer\", \"xref\": \"x\", \"y\": \"bloodseeker\", \"yref\": \"y\"}, {\"font\": {\"color\": \"#000000\"}, \"showarrow\": false, \"text\": \"\", \"x\": \"puck\", \"xref\": \"x\", \"y\": \"bloodseeker\", \"yref\": \"y\"}, {\"font\": {\"color\": \"#000000\"}, \"showarrow\": false, \"text\": \"\", \"x\": \"pudge\", \"xref\": \"x\", \"y\": \"bloodseeker\", \"yref\": \"y\"}, {\"font\": {\"color\": \"#000000\"}, \"showarrow\": false, \"text\": \"\", \"x\": \"razor\", \"xref\": \"x\", \"y\": \"bloodseeker\", \"yref\": \"y\"}, {\"font\": {\"color\": \"#000000\"}, \"showarrow\": false, \"text\": \"\", \"x\": \"sand_king\", \"xref\": \"x\", \"y\": \"bloodseeker\", \"yref\": \"y\"}, {\"font\": {\"color\": \"#000000\"}, \"showarrow\": false, \"text\": \"\", \"x\": \"storm_spirit\", \"xref\": \"x\", \"y\": \"bloodseeker\", \"yref\": \"y\"}, {\"font\": {\"color\": \"#000000\"}, \"showarrow\": false, \"text\": \"\", \"x\": \"sven\", \"xref\": \"x\", \"y\": \"bloodseeker\", \"yref\": \"y\"}, {\"font\": {\"color\": \"#000000\"}, \"showarrow\": false, \"text\": \"\", \"x\": \"tiny\", \"xref\": \"x\", \"y\": \"bloodseeker\", \"yref\": \"y\"}, {\"font\": {\"color\": \"#000000\"}, \"showarrow\": false, \"text\": \"\", \"x\": \"vengefulspirit\", \"xref\": \"x\", \"y\": \"bloodseeker\", \"yref\": \"y\"}, {\"font\": {\"color\": \"#000000\"}, \"showarrow\": false, \"text\": \"\", \"x\": \"antimage\", \"xref\": \"x\", \"y\": \"crystal_maiden\", \"yref\": \"y\"}, {\"font\": {\"color\": \"#000000\"}, \"showarrow\": false, \"text\": \"\", \"x\": \"axe\", \"xref\": \"x\", \"y\": \"crystal_maiden\", \"yref\": \"y\"}, {\"font\": {\"color\": \"#000000\"}, \"showarrow\": false, \"text\": \"\", \"x\": \"bane\", \"xref\": \"x\", \"y\": \"crystal_maiden\", \"yref\": \"y\"}, {\"font\": {\"color\": \"#000000\"}, \"showarrow\": false, \"text\": \"\", \"x\": \"bloodseeker\", \"xref\": \"x\", \"y\": \"crystal_maiden\", \"yref\": \"y\"}, {\"font\": {\"color\": \"#FFFFFF\"}, \"showarrow\": false, \"text\": \"\", \"x\": \"crystal_maiden\", \"xref\": \"x\", \"y\": \"crystal_maiden\", \"yref\": \"y\"}, {\"font\": {\"color\": \"#000000\"}, \"showarrow\": false, \"text\": \"\", \"x\": \"drow_ranger\", \"xref\": \"x\", \"y\": \"crystal_maiden\", \"yref\": \"y\"}, {\"font\": {\"color\": \"#000000\"}, \"showarrow\": false, \"text\": \"\", \"x\": \"earthshaker\", \"xref\": \"x\", \"y\": \"crystal_maiden\", \"yref\": \"y\"}, {\"font\": {\"color\": \"#000000\"}, \"showarrow\": false, \"text\": \"\", \"x\": \"juggernaut\", \"xref\": \"x\", \"y\": \"crystal_maiden\", \"yref\": \"y\"}, {\"font\": {\"color\": \"#000000\"}, \"showarrow\": false, \"text\": \"\", \"x\": \"mirana\", \"xref\": \"x\", \"y\": \"crystal_maiden\", \"yref\": \"y\"}, {\"font\": {\"color\": \"#000000\"}, \"showarrow\": false, \"text\": \"\", \"x\": \"morphling\", \"xref\": \"x\", \"y\": \"crystal_maiden\", \"yref\": \"y\"}, {\"font\": {\"color\": \"#000000\"}, \"showarrow\": false, \"text\": \"\", \"x\": \"nevermore\", \"xref\": \"x\", \"y\": \"crystal_maiden\", \"yref\": \"y\"}, {\"font\": {\"color\": \"#000000\"}, \"showarrow\": false, \"text\": \"\", \"x\": \"phantom_lancer\", \"xref\": \"x\", \"y\": \"crystal_maiden\", \"yref\": \"y\"}, {\"font\": {\"color\": \"#000000\"}, \"showarrow\": false, \"text\": \"\", \"x\": \"puck\", \"xref\": \"x\", \"y\": \"crystal_maiden\", \"yref\": \"y\"}, {\"font\": {\"color\": \"#000000\"}, \"showarrow\": false, \"text\": \"\", \"x\": \"pudge\", \"xref\": \"x\", \"y\": \"crystal_maiden\", \"yref\": \"y\"}, {\"font\": {\"color\": \"#000000\"}, \"showarrow\": false, \"text\": \"\", \"x\": \"razor\", \"xref\": \"x\", \"y\": \"crystal_maiden\", \"yref\": \"y\"}, {\"font\": {\"color\": \"#000000\"}, \"showarrow\": false, \"text\": \"\", \"x\": \"sand_king\", \"xref\": \"x\", \"y\": \"crystal_maiden\", \"yref\": \"y\"}, {\"font\": {\"color\": \"#000000\"}, \"showarrow\": false, \"text\": \"\", \"x\": \"storm_spirit\", \"xref\": \"x\", \"y\": \"crystal_maiden\", \"yref\": \"y\"}, {\"font\": {\"color\": \"#000000\"}, \"showarrow\": false, \"text\": \"\", \"x\": \"sven\", \"xref\": \"x\", \"y\": \"crystal_maiden\", \"yref\": \"y\"}, {\"font\": {\"color\": \"#000000\"}, \"showarrow\": false, \"text\": \"\", \"x\": \"tiny\", \"xref\": \"x\", \"y\": \"crystal_maiden\", \"yref\": \"y\"}, {\"font\": {\"color\": \"#000000\"}, \"showarrow\": false, \"text\": \"\", \"x\": \"vengefulspirit\", \"xref\": \"x\", \"y\": \"crystal_maiden\", \"yref\": \"y\"}, {\"font\": {\"color\": \"#000000\"}, \"showarrow\": false, \"text\": \"\", \"x\": \"antimage\", \"xref\": \"x\", \"y\": \"drow_ranger\", \"yref\": \"y\"}, {\"font\": {\"color\": \"#000000\"}, \"showarrow\": false, \"text\": \"\", \"x\": \"axe\", \"xref\": \"x\", \"y\": \"drow_ranger\", \"yref\": \"y\"}, {\"font\": {\"color\": \"#000000\"}, \"showarrow\": false, \"text\": \"\", \"x\": \"bane\", \"xref\": \"x\", \"y\": \"drow_ranger\", \"yref\": \"y\"}, {\"font\": {\"color\": \"#000000\"}, \"showarrow\": false, \"text\": \"\", \"x\": \"bloodseeker\", \"xref\": \"x\", \"y\": \"drow_ranger\", \"yref\": \"y\"}, {\"font\": {\"color\": \"#000000\"}, \"showarrow\": false, \"text\": \"\", \"x\": \"crystal_maiden\", \"xref\": \"x\", \"y\": \"drow_ranger\", \"yref\": \"y\"}, {\"font\": {\"color\": \"#FFFFFF\"}, \"showarrow\": false, \"text\": \"\", \"x\": \"drow_ranger\", \"xref\": \"x\", \"y\": \"drow_ranger\", \"yref\": \"y\"}, {\"font\": {\"color\": \"#000000\"}, \"showarrow\": false, \"text\": \"\", \"x\": \"earthshaker\", \"xref\": \"x\", \"y\": \"drow_ranger\", \"yref\": \"y\"}, {\"font\": {\"color\": \"#000000\"}, \"showarrow\": false, \"text\": \"\", \"x\": \"juggernaut\", \"xref\": \"x\", \"y\": \"drow_ranger\", \"yref\": \"y\"}, {\"font\": {\"color\": \"#000000\"}, \"showarrow\": false, \"text\": \"\", \"x\": \"mirana\", \"xref\": \"x\", \"y\": \"drow_ranger\", \"yref\": \"y\"}, {\"font\": {\"color\": \"#000000\"}, \"showarrow\": false, \"text\": \"\", \"x\": \"morphling\", \"xref\": \"x\", \"y\": \"drow_ranger\", \"yref\": \"y\"}, {\"font\": {\"color\": \"#000000\"}, \"showarrow\": false, \"text\": \"\", \"x\": \"nevermore\", \"xref\": \"x\", \"y\": \"drow_ranger\", \"yref\": \"y\"}, {\"font\": {\"color\": \"#000000\"}, \"showarrow\": false, \"text\": \"\", \"x\": \"phantom_lancer\", \"xref\": \"x\", \"y\": \"drow_ranger\", \"yref\": \"y\"}, {\"font\": {\"color\": \"#000000\"}, \"showarrow\": false, \"text\": \"\", \"x\": \"puck\", \"xref\": \"x\", \"y\": \"drow_ranger\", \"yref\": \"y\"}, {\"font\": {\"color\": \"#000000\"}, \"showarrow\": false, \"text\": \"\", \"x\": \"pudge\", \"xref\": \"x\", \"y\": \"drow_ranger\", \"yref\": \"y\"}, {\"font\": {\"color\": \"#000000\"}, \"showarrow\": false, \"text\": \"\", \"x\": \"razor\", \"xref\": \"x\", \"y\": \"drow_ranger\", \"yref\": \"y\"}, {\"font\": {\"color\": \"#000000\"}, \"showarrow\": false, \"text\": \"\", \"x\": \"sand_king\", \"xref\": \"x\", \"y\": \"drow_ranger\", \"yref\": \"y\"}, {\"font\": {\"color\": \"#000000\"}, \"showarrow\": false, \"text\": \"\", \"x\": \"storm_spirit\", \"xref\": \"x\", \"y\": \"drow_ranger\", \"yref\": \"y\"}, {\"font\": {\"color\": \"#000000\"}, \"showarrow\": false, \"text\": \"\", \"x\": \"sven\", \"xref\": \"x\", \"y\": \"drow_ranger\", \"yref\": \"y\"}, {\"font\": {\"color\": \"#000000\"}, \"showarrow\": false, \"text\": \"\", \"x\": \"tiny\", \"xref\": \"x\", \"y\": \"drow_ranger\", \"yref\": \"y\"}, {\"font\": {\"color\": \"#000000\"}, \"showarrow\": false, \"text\": \"\", \"x\": \"vengefulspirit\", \"xref\": \"x\", \"y\": \"drow_ranger\", \"yref\": \"y\"}, {\"font\": {\"color\": \"#000000\"}, \"showarrow\": false, \"text\": \"\", \"x\": \"antimage\", \"xref\": \"x\", \"y\": \"earthshaker\", \"yref\": \"y\"}, {\"font\": {\"color\": \"#000000\"}, \"showarrow\": false, \"text\": \"\", \"x\": \"axe\", \"xref\": \"x\", \"y\": \"earthshaker\", \"yref\": \"y\"}, {\"font\": {\"color\": \"#000000\"}, \"showarrow\": false, \"text\": \"\", \"x\": \"bane\", \"xref\": \"x\", \"y\": \"earthshaker\", \"yref\": \"y\"}, {\"font\": {\"color\": \"#000000\"}, \"showarrow\": false, \"text\": \"\", \"x\": \"bloodseeker\", \"xref\": \"x\", \"y\": \"earthshaker\", \"yref\": \"y\"}, {\"font\": {\"color\": \"#000000\"}, \"showarrow\": false, \"text\": \"\", \"x\": \"crystal_maiden\", \"xref\": \"x\", \"y\": \"earthshaker\", \"yref\": \"y\"}, {\"font\": {\"color\": \"#000000\"}, \"showarrow\": false, \"text\": \"\", \"x\": \"drow_ranger\", \"xref\": \"x\", \"y\": \"earthshaker\", \"yref\": \"y\"}, {\"font\": {\"color\": \"#FFFFFF\"}, \"showarrow\": false, \"text\": \"\", \"x\": \"earthshaker\", \"xref\": \"x\", \"y\": \"earthshaker\", \"yref\": \"y\"}, {\"font\": {\"color\": \"#000000\"}, \"showarrow\": false, \"text\": \"\", \"x\": \"juggernaut\", \"xref\": \"x\", \"y\": \"earthshaker\", \"yref\": \"y\"}, {\"font\": {\"color\": \"#000000\"}, \"showarrow\": false, \"text\": \"\", \"x\": \"mirana\", \"xref\": \"x\", \"y\": \"earthshaker\", \"yref\": \"y\"}, {\"font\": {\"color\": \"#000000\"}, \"showarrow\": false, \"text\": \"\", \"x\": \"morphling\", \"xref\": \"x\", \"y\": \"earthshaker\", \"yref\": \"y\"}, {\"font\": {\"color\": \"#000000\"}, \"showarrow\": false, \"text\": \"\", \"x\": \"nevermore\", \"xref\": \"x\", \"y\": \"earthshaker\", \"yref\": \"y\"}, {\"font\": {\"color\": \"#000000\"}, \"showarrow\": false, \"text\": \"\", \"x\": \"phantom_lancer\", \"xref\": \"x\", \"y\": \"earthshaker\", \"yref\": \"y\"}, {\"font\": {\"color\": \"#000000\"}, \"showarrow\": false, \"text\": \"\", \"x\": \"puck\", \"xref\": \"x\", \"y\": \"earthshaker\", \"yref\": \"y\"}, {\"font\": {\"color\": \"#000000\"}, \"showarrow\": false, \"text\": \"\", \"x\": \"pudge\", \"xref\": \"x\", \"y\": \"earthshaker\", \"yref\": \"y\"}, {\"font\": {\"color\": \"#000000\"}, \"showarrow\": false, \"text\": \"\", \"x\": \"razor\", \"xref\": \"x\", \"y\": \"earthshaker\", \"yref\": \"y\"}, {\"font\": {\"color\": \"#000000\"}, \"showarrow\": false, \"text\": \"\", \"x\": \"sand_king\", \"xref\": \"x\", \"y\": \"earthshaker\", \"yref\": \"y\"}, {\"font\": {\"color\": \"#000000\"}, \"showarrow\": false, \"text\": \"\", \"x\": \"storm_spirit\", \"xref\": \"x\", \"y\": \"earthshaker\", \"yref\": \"y\"}, {\"font\": {\"color\": \"#000000\"}, \"showarrow\": false, \"text\": \"\", \"x\": \"sven\", \"xref\": \"x\", \"y\": \"earthshaker\", \"yref\": \"y\"}, {\"font\": {\"color\": \"#000000\"}, \"showarrow\": false, \"text\": \"\", \"x\": \"tiny\", \"xref\": \"x\", \"y\": \"earthshaker\", \"yref\": \"y\"}, {\"font\": {\"color\": \"#000000\"}, \"showarrow\": false, \"text\": \"\", \"x\": \"vengefulspirit\", \"xref\": \"x\", \"y\": \"earthshaker\", \"yref\": \"y\"}, {\"font\": {\"color\": \"#000000\"}, \"showarrow\": false, \"text\": \"\", \"x\": \"antimage\", \"xref\": \"x\", \"y\": \"juggernaut\", \"yref\": \"y\"}, {\"font\": {\"color\": \"#000000\"}, \"showarrow\": false, \"text\": \"\", \"x\": \"axe\", \"xref\": \"x\", \"y\": \"juggernaut\", \"yref\": \"y\"}, {\"font\": {\"color\": \"#000000\"}, \"showarrow\": false, \"text\": \"\", \"x\": \"bane\", \"xref\": \"x\", \"y\": \"juggernaut\", \"yref\": \"y\"}, {\"font\": {\"color\": \"#000000\"}, \"showarrow\": false, \"text\": \"\", \"x\": \"bloodseeker\", \"xref\": \"x\", \"y\": \"juggernaut\", \"yref\": \"y\"}, {\"font\": {\"color\": \"#000000\"}, \"showarrow\": false, \"text\": \"\", \"x\": \"crystal_maiden\", \"xref\": \"x\", \"y\": \"juggernaut\", \"yref\": \"y\"}, {\"font\": {\"color\": \"#000000\"}, \"showarrow\": false, \"text\": \"\", \"x\": \"drow_ranger\", \"xref\": \"x\", \"y\": \"juggernaut\", \"yref\": \"y\"}, {\"font\": {\"color\": \"#000000\"}, \"showarrow\": false, \"text\": \"\", \"x\": \"earthshaker\", \"xref\": \"x\", \"y\": \"juggernaut\", \"yref\": \"y\"}, {\"font\": {\"color\": \"#FFFFFF\"}, \"showarrow\": false, \"text\": \"\", \"x\": \"juggernaut\", \"xref\": \"x\", \"y\": \"juggernaut\", \"yref\": \"y\"}, {\"font\": {\"color\": \"#000000\"}, \"showarrow\": false, \"text\": \"\", \"x\": \"mirana\", \"xref\": \"x\", \"y\": \"juggernaut\", \"yref\": \"y\"}, {\"font\": {\"color\": \"#000000\"}, \"showarrow\": false, \"text\": \"\", \"x\": \"morphling\", \"xref\": \"x\", \"y\": \"juggernaut\", \"yref\": \"y\"}, {\"font\": {\"color\": \"#000000\"}, \"showarrow\": false, \"text\": \"\", \"x\": \"nevermore\", \"xref\": \"x\", \"y\": \"juggernaut\", \"yref\": \"y\"}, {\"font\": {\"color\": \"#000000\"}, \"showarrow\": false, \"text\": \"\", \"x\": \"phantom_lancer\", \"xref\": \"x\", \"y\": \"juggernaut\", \"yref\": \"y\"}, {\"font\": {\"color\": \"#000000\"}, \"showarrow\": false, \"text\": \"\", \"x\": \"puck\", \"xref\": \"x\", \"y\": \"juggernaut\", \"yref\": \"y\"}, {\"font\": {\"color\": \"#000000\"}, \"showarrow\": false, \"text\": \"\", \"x\": \"pudge\", \"xref\": \"x\", \"y\": \"juggernaut\", \"yref\": \"y\"}, {\"font\": {\"color\": \"#000000\"}, \"showarrow\": false, \"text\": \"\", \"x\": \"razor\", \"xref\": \"x\", \"y\": \"juggernaut\", \"yref\": \"y\"}, {\"font\": {\"color\": \"#000000\"}, \"showarrow\": false, \"text\": \"\", \"x\": \"sand_king\", \"xref\": \"x\", \"y\": \"juggernaut\", \"yref\": \"y\"}, {\"font\": {\"color\": \"#000000\"}, \"showarrow\": false, \"text\": \"\", \"x\": \"storm_spirit\", \"xref\": \"x\", \"y\": \"juggernaut\", \"yref\": \"y\"}, {\"font\": {\"color\": \"#000000\"}, \"showarrow\": false, \"text\": \"\", \"x\": \"sven\", \"xref\": \"x\", \"y\": \"juggernaut\", \"yref\": \"y\"}, {\"font\": {\"color\": \"#000000\"}, \"showarrow\": false, \"text\": \"\", \"x\": \"tiny\", \"xref\": \"x\", \"y\": \"juggernaut\", \"yref\": \"y\"}, {\"font\": {\"color\": \"#000000\"}, \"showarrow\": false, \"text\": \"\", \"x\": \"vengefulspirit\", \"xref\": \"x\", \"y\": \"juggernaut\", \"yref\": \"y\"}, {\"font\": {\"color\": \"#000000\"}, \"showarrow\": false, \"text\": \"\", \"x\": \"antimage\", \"xref\": \"x\", \"y\": \"mirana\", \"yref\": \"y\"}, {\"font\": {\"color\": \"#000000\"}, \"showarrow\": false, \"text\": \"\", \"x\": \"axe\", \"xref\": \"x\", \"y\": \"mirana\", \"yref\": \"y\"}, {\"font\": {\"color\": \"#000000\"}, \"showarrow\": false, \"text\": \"\", \"x\": \"bane\", \"xref\": \"x\", \"y\": \"mirana\", \"yref\": \"y\"}, {\"font\": {\"color\": \"#000000\"}, \"showarrow\": false, \"text\": \"\", \"x\": \"bloodseeker\", \"xref\": \"x\", \"y\": \"mirana\", \"yref\": \"y\"}, {\"font\": {\"color\": \"#000000\"}, \"showarrow\": false, \"text\": \"\", \"x\": \"crystal_maiden\", \"xref\": \"x\", \"y\": \"mirana\", \"yref\": \"y\"}, {\"font\": {\"color\": \"#000000\"}, \"showarrow\": false, \"text\": \"\", \"x\": \"drow_ranger\", \"xref\": \"x\", \"y\": \"mirana\", \"yref\": \"y\"}, {\"font\": {\"color\": \"#000000\"}, \"showarrow\": false, \"text\": \"\", \"x\": \"earthshaker\", \"xref\": \"x\", \"y\": \"mirana\", \"yref\": \"y\"}, {\"font\": {\"color\": \"#000000\"}, \"showarrow\": false, \"text\": \"\", \"x\": \"juggernaut\", \"xref\": \"x\", \"y\": \"mirana\", \"yref\": \"y\"}, {\"font\": {\"color\": \"#FFFFFF\"}, \"showarrow\": false, \"text\": \"\", \"x\": \"mirana\", \"xref\": \"x\", \"y\": \"mirana\", \"yref\": \"y\"}, {\"font\": {\"color\": \"#000000\"}, \"showarrow\": false, \"text\": \"\", \"x\": \"morphling\", \"xref\": \"x\", \"y\": \"mirana\", \"yref\": \"y\"}, {\"font\": {\"color\": \"#000000\"}, \"showarrow\": false, \"text\": \"\", \"x\": \"nevermore\", \"xref\": \"x\", \"y\": \"mirana\", \"yref\": \"y\"}, {\"font\": {\"color\": \"#000000\"}, \"showarrow\": false, \"text\": \"\", \"x\": \"phantom_lancer\", \"xref\": \"x\", \"y\": \"mirana\", \"yref\": \"y\"}, {\"font\": {\"color\": \"#000000\"}, \"showarrow\": false, \"text\": \"\", \"x\": \"puck\", \"xref\": \"x\", \"y\": \"mirana\", \"yref\": \"y\"}, {\"font\": {\"color\": \"#000000\"}, \"showarrow\": false, \"text\": \"\", \"x\": \"pudge\", \"xref\": \"x\", \"y\": \"mirana\", \"yref\": \"y\"}, {\"font\": {\"color\": \"#000000\"}, \"showarrow\": false, \"text\": \"\", \"x\": \"razor\", \"xref\": \"x\", \"y\": \"mirana\", \"yref\": \"y\"}, {\"font\": {\"color\": \"#000000\"}, \"showarrow\": false, \"text\": \"\", \"x\": \"sand_king\", \"xref\": \"x\", \"y\": \"mirana\", \"yref\": \"y\"}, {\"font\": {\"color\": \"#000000\"}, \"showarrow\": false, \"text\": \"\", \"x\": \"storm_spirit\", \"xref\": \"x\", \"y\": \"mirana\", \"yref\": \"y\"}, {\"font\": {\"color\": \"#000000\"}, \"showarrow\": false, \"text\": \"\", \"x\": \"sven\", \"xref\": \"x\", \"y\": \"mirana\", \"yref\": \"y\"}, {\"font\": {\"color\": \"#000000\"}, \"showarrow\": false, \"text\": \"\", \"x\": \"tiny\", \"xref\": \"x\", \"y\": \"mirana\", \"yref\": \"y\"}, {\"font\": {\"color\": \"#000000\"}, \"showarrow\": false, \"text\": \"\", \"x\": \"vengefulspirit\", \"xref\": \"x\", \"y\": \"mirana\", \"yref\": \"y\"}, {\"font\": {\"color\": \"#000000\"}, \"showarrow\": false, \"text\": \"\", \"x\": \"antimage\", \"xref\": \"x\", \"y\": \"morphling\", \"yref\": \"y\"}, {\"font\": {\"color\": \"#000000\"}, \"showarrow\": false, \"text\": \"\", \"x\": \"axe\", \"xref\": \"x\", \"y\": \"morphling\", \"yref\": \"y\"}, {\"font\": {\"color\": \"#000000\"}, \"showarrow\": false, \"text\": \"\", \"x\": \"bane\", \"xref\": \"x\", \"y\": \"morphling\", \"yref\": \"y\"}, {\"font\": {\"color\": \"#000000\"}, \"showarrow\": false, \"text\": \"\", \"x\": \"bloodseeker\", \"xref\": \"x\", \"y\": \"morphling\", \"yref\": \"y\"}, {\"font\": {\"color\": \"#000000\"}, \"showarrow\": false, \"text\": \"\", \"x\": \"crystal_maiden\", \"xref\": \"x\", \"y\": \"morphling\", \"yref\": \"y\"}, {\"font\": {\"color\": \"#000000\"}, \"showarrow\": false, \"text\": \"\", \"x\": \"drow_ranger\", \"xref\": \"x\", \"y\": \"morphling\", \"yref\": \"y\"}, {\"font\": {\"color\": \"#000000\"}, \"showarrow\": false, \"text\": \"\", \"x\": \"earthshaker\", \"xref\": \"x\", \"y\": \"morphling\", \"yref\": \"y\"}, {\"font\": {\"color\": \"#000000\"}, \"showarrow\": false, \"text\": \"\", \"x\": \"juggernaut\", \"xref\": \"x\", \"y\": \"morphling\", \"yref\": \"y\"}, {\"font\": {\"color\": \"#000000\"}, \"showarrow\": false, \"text\": \"\", \"x\": \"mirana\", \"xref\": \"x\", \"y\": \"morphling\", \"yref\": \"y\"}, {\"font\": {\"color\": \"#FFFFFF\"}, \"showarrow\": false, \"text\": \"\", \"x\": \"morphling\", \"xref\": \"x\", \"y\": \"morphling\", \"yref\": \"y\"}, {\"font\": {\"color\": \"#000000\"}, \"showarrow\": false, \"text\": \"\", \"x\": \"nevermore\", \"xref\": \"x\", \"y\": \"morphling\", \"yref\": \"y\"}, {\"font\": {\"color\": \"#000000\"}, \"showarrow\": false, \"text\": \"\", \"x\": \"phantom_lancer\", \"xref\": \"x\", \"y\": \"morphling\", \"yref\": \"y\"}, {\"font\": {\"color\": \"#000000\"}, \"showarrow\": false, \"text\": \"\", \"x\": \"puck\", \"xref\": \"x\", \"y\": \"morphling\", \"yref\": \"y\"}, {\"font\": {\"color\": \"#000000\"}, \"showarrow\": false, \"text\": \"\", \"x\": \"pudge\", \"xref\": \"x\", \"y\": \"morphling\", \"yref\": \"y\"}, {\"font\": {\"color\": \"#000000\"}, \"showarrow\": false, \"text\": \"\", \"x\": \"razor\", \"xref\": \"x\", \"y\": \"morphling\", \"yref\": \"y\"}, {\"font\": {\"color\": \"#000000\"}, \"showarrow\": false, \"text\": \"\", \"x\": \"sand_king\", \"xref\": \"x\", \"y\": \"morphling\", \"yref\": \"y\"}, {\"font\": {\"color\": \"#000000\"}, \"showarrow\": false, \"text\": \"\", \"x\": \"storm_spirit\", \"xref\": \"x\", \"y\": \"morphling\", \"yref\": \"y\"}, {\"font\": {\"color\": \"#000000\"}, \"showarrow\": false, \"text\": \"\", \"x\": \"sven\", \"xref\": \"x\", \"y\": \"morphling\", \"yref\": \"y\"}, {\"font\": {\"color\": \"#000000\"}, \"showarrow\": false, \"text\": \"\", \"x\": \"tiny\", \"xref\": \"x\", \"y\": \"morphling\", \"yref\": \"y\"}, {\"font\": {\"color\": \"#000000\"}, \"showarrow\": false, \"text\": \"\", \"x\": \"vengefulspirit\", \"xref\": \"x\", \"y\": \"morphling\", \"yref\": \"y\"}, {\"font\": {\"color\": \"#000000\"}, \"showarrow\": false, \"text\": \"\", \"x\": \"antimage\", \"xref\": \"x\", \"y\": \"nevermore\", \"yref\": \"y\"}, {\"font\": {\"color\": \"#000000\"}, \"showarrow\": false, \"text\": \"\", \"x\": \"axe\", \"xref\": \"x\", \"y\": \"nevermore\", \"yref\": \"y\"}, {\"font\": {\"color\": \"#000000\"}, \"showarrow\": false, \"text\": \"\", \"x\": \"bane\", \"xref\": \"x\", \"y\": \"nevermore\", \"yref\": \"y\"}, {\"font\": {\"color\": \"#000000\"}, \"showarrow\": false, \"text\": \"\", \"x\": \"bloodseeker\", \"xref\": \"x\", \"y\": \"nevermore\", \"yref\": \"y\"}, {\"font\": {\"color\": \"#000000\"}, \"showarrow\": false, \"text\": \"\", \"x\": \"crystal_maiden\", \"xref\": \"x\", \"y\": \"nevermore\", \"yref\": \"y\"}, {\"font\": {\"color\": \"#000000\"}, \"showarrow\": false, \"text\": \"\", \"x\": \"drow_ranger\", \"xref\": \"x\", \"y\": \"nevermore\", \"yref\": \"y\"}, {\"font\": {\"color\": \"#000000\"}, \"showarrow\": false, \"text\": \"\", \"x\": \"earthshaker\", \"xref\": \"x\", \"y\": \"nevermore\", \"yref\": \"y\"}, {\"font\": {\"color\": \"#000000\"}, \"showarrow\": false, \"text\": \"\", \"x\": \"juggernaut\", \"xref\": \"x\", \"y\": \"nevermore\", \"yref\": \"y\"}, {\"font\": {\"color\": \"#000000\"}, \"showarrow\": false, \"text\": \"\", \"x\": \"mirana\", \"xref\": \"x\", \"y\": \"nevermore\", \"yref\": \"y\"}, {\"font\": {\"color\": \"#000000\"}, \"showarrow\": false, \"text\": \"\", \"x\": \"morphling\", \"xref\": \"x\", \"y\": \"nevermore\", \"yref\": \"y\"}, {\"font\": {\"color\": \"#FFFFFF\"}, \"showarrow\": false, \"text\": \"\", \"x\": \"nevermore\", \"xref\": \"x\", \"y\": \"nevermore\", \"yref\": \"y\"}, {\"font\": {\"color\": \"#000000\"}, \"showarrow\": false, \"text\": \"\", \"x\": \"phantom_lancer\", \"xref\": \"x\", \"y\": \"nevermore\", \"yref\": \"y\"}, {\"font\": {\"color\": \"#000000\"}, \"showarrow\": false, \"text\": \"\", \"x\": \"puck\", \"xref\": \"x\", \"y\": \"nevermore\", \"yref\": \"y\"}, {\"font\": {\"color\": \"#000000\"}, \"showarrow\": false, \"text\": \"\", \"x\": \"pudge\", \"xref\": \"x\", \"y\": \"nevermore\", \"yref\": \"y\"}, {\"font\": {\"color\": \"#000000\"}, \"showarrow\": false, \"text\": \"\", \"x\": \"razor\", \"xref\": \"x\", \"y\": \"nevermore\", \"yref\": \"y\"}, {\"font\": {\"color\": \"#000000\"}, \"showarrow\": false, \"text\": \"\", \"x\": \"sand_king\", \"xref\": \"x\", \"y\": \"nevermore\", \"yref\": \"y\"}, {\"font\": {\"color\": \"#000000\"}, \"showarrow\": false, \"text\": \"\", \"x\": \"storm_spirit\", \"xref\": \"x\", \"y\": \"nevermore\", \"yref\": \"y\"}, {\"font\": {\"color\": \"#000000\"}, \"showarrow\": false, \"text\": \"\", \"x\": \"sven\", \"xref\": \"x\", \"y\": \"nevermore\", \"yref\": \"y\"}, {\"font\": {\"color\": \"#000000\"}, \"showarrow\": false, \"text\": \"\", \"x\": \"tiny\", \"xref\": \"x\", \"y\": \"nevermore\", \"yref\": \"y\"}, {\"font\": {\"color\": \"#000000\"}, \"showarrow\": false, \"text\": \"\", \"x\": \"vengefulspirit\", \"xref\": \"x\", \"y\": \"nevermore\", \"yref\": \"y\"}, {\"font\": {\"color\": \"#000000\"}, \"showarrow\": false, \"text\": \"\", \"x\": \"antimage\", \"xref\": \"x\", \"y\": \"phantom_lancer\", \"yref\": \"y\"}, {\"font\": {\"color\": \"#000000\"}, \"showarrow\": false, \"text\": \"\", \"x\": \"axe\", \"xref\": \"x\", \"y\": \"phantom_lancer\", \"yref\": \"y\"}, {\"font\": {\"color\": \"#000000\"}, \"showarrow\": false, \"text\": \"\", \"x\": \"bane\", \"xref\": \"x\", \"y\": \"phantom_lancer\", \"yref\": \"y\"}, {\"font\": {\"color\": \"#000000\"}, \"showarrow\": false, \"text\": \"\", \"x\": \"bloodseeker\", \"xref\": \"x\", \"y\": \"phantom_lancer\", \"yref\": \"y\"}, {\"font\": {\"color\": \"#000000\"}, \"showarrow\": false, \"text\": \"\", \"x\": \"crystal_maiden\", \"xref\": \"x\", \"y\": \"phantom_lancer\", \"yref\": \"y\"}, {\"font\": {\"color\": \"#000000\"}, \"showarrow\": false, \"text\": \"\", \"x\": \"drow_ranger\", \"xref\": \"x\", \"y\": \"phantom_lancer\", \"yref\": \"y\"}, {\"font\": {\"color\": \"#000000\"}, \"showarrow\": false, \"text\": \"\", \"x\": \"earthshaker\", \"xref\": \"x\", \"y\": \"phantom_lancer\", \"yref\": \"y\"}, {\"font\": {\"color\": \"#000000\"}, \"showarrow\": false, \"text\": \"\", \"x\": \"juggernaut\", \"xref\": \"x\", \"y\": \"phantom_lancer\", \"yref\": \"y\"}, {\"font\": {\"color\": \"#000000\"}, \"showarrow\": false, \"text\": \"\", \"x\": \"mirana\", \"xref\": \"x\", \"y\": \"phantom_lancer\", \"yref\": \"y\"}, {\"font\": {\"color\": \"#000000\"}, \"showarrow\": false, \"text\": \"\", \"x\": \"morphling\", \"xref\": \"x\", \"y\": \"phantom_lancer\", \"yref\": \"y\"}, {\"font\": {\"color\": \"#000000\"}, \"showarrow\": false, \"text\": \"\", \"x\": \"nevermore\", \"xref\": \"x\", \"y\": \"phantom_lancer\", \"yref\": \"y\"}, {\"font\": {\"color\": \"#FFFFFF\"}, \"showarrow\": false, \"text\": \"\", \"x\": \"phantom_lancer\", \"xref\": \"x\", \"y\": \"phantom_lancer\", \"yref\": \"y\"}, {\"font\": {\"color\": \"#000000\"}, \"showarrow\": false, \"text\": \"\", \"x\": \"puck\", \"xref\": \"x\", \"y\": \"phantom_lancer\", \"yref\": \"y\"}, {\"font\": {\"color\": \"#000000\"}, \"showarrow\": false, \"text\": \"\", \"x\": \"pudge\", \"xref\": \"x\", \"y\": \"phantom_lancer\", \"yref\": \"y\"}, {\"font\": {\"color\": \"#000000\"}, \"showarrow\": false, \"text\": \"\", \"x\": \"razor\", \"xref\": \"x\", \"y\": \"phantom_lancer\", \"yref\": \"y\"}, {\"font\": {\"color\": \"#000000\"}, \"showarrow\": false, \"text\": \"\", \"x\": \"sand_king\", \"xref\": \"x\", \"y\": \"phantom_lancer\", \"yref\": \"y\"}, {\"font\": {\"color\": \"#000000\"}, \"showarrow\": false, \"text\": \"\", \"x\": \"storm_spirit\", \"xref\": \"x\", \"y\": \"phantom_lancer\", \"yref\": \"y\"}, {\"font\": {\"color\": \"#000000\"}, \"showarrow\": false, \"text\": \"\", \"x\": \"sven\", \"xref\": \"x\", \"y\": \"phantom_lancer\", \"yref\": \"y\"}, {\"font\": {\"color\": \"#000000\"}, \"showarrow\": false, \"text\": \"\", \"x\": \"tiny\", \"xref\": \"x\", \"y\": \"phantom_lancer\", \"yref\": \"y\"}, {\"font\": {\"color\": \"#000000\"}, \"showarrow\": false, \"text\": \"\", \"x\": \"vengefulspirit\", \"xref\": \"x\", \"y\": \"phantom_lancer\", \"yref\": \"y\"}, {\"font\": {\"color\": \"#000000\"}, \"showarrow\": false, \"text\": \"\", \"x\": \"antimage\", \"xref\": \"x\", \"y\": \"puck\", \"yref\": \"y\"}, {\"font\": {\"color\": \"#FFFFFF\"}, \"showarrow\": false, \"text\": \"\", \"x\": \"axe\", \"xref\": \"x\", \"y\": \"puck\", \"yref\": \"y\"}, {\"font\": {\"color\": \"#000000\"}, \"showarrow\": false, \"text\": \"\", \"x\": \"bane\", \"xref\": \"x\", \"y\": \"puck\", \"yref\": \"y\"}, {\"font\": {\"color\": \"#000000\"}, \"showarrow\": false, \"text\": \"\", \"x\": \"bloodseeker\", \"xref\": \"x\", \"y\": \"puck\", \"yref\": \"y\"}, {\"font\": {\"color\": \"#000000\"}, \"showarrow\": false, \"text\": \"\", \"x\": \"crystal_maiden\", \"xref\": \"x\", \"y\": \"puck\", \"yref\": \"y\"}, {\"font\": {\"color\": \"#000000\"}, \"showarrow\": false, \"text\": \"\", \"x\": \"drow_ranger\", \"xref\": \"x\", \"y\": \"puck\", \"yref\": \"y\"}, {\"font\": {\"color\": \"#000000\"}, \"showarrow\": false, \"text\": \"\", \"x\": \"earthshaker\", \"xref\": \"x\", \"y\": \"puck\", \"yref\": \"y\"}, {\"font\": {\"color\": \"#000000\"}, \"showarrow\": false, \"text\": \"\", \"x\": \"juggernaut\", \"xref\": \"x\", \"y\": \"puck\", \"yref\": \"y\"}, {\"font\": {\"color\": \"#000000\"}, \"showarrow\": false, \"text\": \"\", \"x\": \"mirana\", \"xref\": \"x\", \"y\": \"puck\", \"yref\": \"y\"}, {\"font\": {\"color\": \"#000000\"}, \"showarrow\": false, \"text\": \"\", \"x\": \"morphling\", \"xref\": \"x\", \"y\": \"puck\", \"yref\": \"y\"}, {\"font\": {\"color\": \"#000000\"}, \"showarrow\": false, \"text\": \"\", \"x\": \"nevermore\", \"xref\": \"x\", \"y\": \"puck\", \"yref\": \"y\"}, {\"font\": {\"color\": \"#000000\"}, \"showarrow\": false, \"text\": \"\", \"x\": \"phantom_lancer\", \"xref\": \"x\", \"y\": \"puck\", \"yref\": \"y\"}, {\"font\": {\"color\": \"#FFFFFF\"}, \"showarrow\": false, \"text\": \"\", \"x\": \"puck\", \"xref\": \"x\", \"y\": \"puck\", \"yref\": \"y\"}, {\"font\": {\"color\": \"#000000\"}, \"showarrow\": false, \"text\": \"\", \"x\": \"pudge\", \"xref\": \"x\", \"y\": \"puck\", \"yref\": \"y\"}, {\"font\": {\"color\": \"#000000\"}, \"showarrow\": false, \"text\": \"\", \"x\": \"razor\", \"xref\": \"x\", \"y\": \"puck\", \"yref\": \"y\"}, {\"font\": {\"color\": \"#000000\"}, \"showarrow\": false, \"text\": \"\", \"x\": \"sand_king\", \"xref\": \"x\", \"y\": \"puck\", \"yref\": \"y\"}, {\"font\": {\"color\": \"#000000\"}, \"showarrow\": false, \"text\": \"\", \"x\": \"storm_spirit\", \"xref\": \"x\", \"y\": \"puck\", \"yref\": \"y\"}, {\"font\": {\"color\": \"#000000\"}, \"showarrow\": false, \"text\": \"\", \"x\": \"sven\", \"xref\": \"x\", \"y\": \"puck\", \"yref\": \"y\"}, {\"font\": {\"color\": \"#000000\"}, \"showarrow\": false, \"text\": \"\", \"x\": \"tiny\", \"xref\": \"x\", \"y\": \"puck\", \"yref\": \"y\"}, {\"font\": {\"color\": \"#000000\"}, \"showarrow\": false, \"text\": \"\", \"x\": \"vengefulspirit\", \"xref\": \"x\", \"y\": \"puck\", \"yref\": \"y\"}, {\"font\": {\"color\": \"#000000\"}, \"showarrow\": false, \"text\": \"\", \"x\": \"antimage\", \"xref\": \"x\", \"y\": \"pudge\", \"yref\": \"y\"}, {\"font\": {\"color\": \"#000000\"}, \"showarrow\": false, \"text\": \"\", \"x\": \"axe\", \"xref\": \"x\", \"y\": \"pudge\", \"yref\": \"y\"}, {\"font\": {\"color\": \"#000000\"}, \"showarrow\": false, \"text\": \"\", \"x\": \"bane\", \"xref\": \"x\", \"y\": \"pudge\", \"yref\": \"y\"}, {\"font\": {\"color\": \"#000000\"}, \"showarrow\": false, \"text\": \"\", \"x\": \"bloodseeker\", \"xref\": \"x\", \"y\": \"pudge\", \"yref\": \"y\"}, {\"font\": {\"color\": \"#000000\"}, \"showarrow\": false, \"text\": \"\", \"x\": \"crystal_maiden\", \"xref\": \"x\", \"y\": \"pudge\", \"yref\": \"y\"}, {\"font\": {\"color\": \"#000000\"}, \"showarrow\": false, \"text\": \"\", \"x\": \"drow_ranger\", \"xref\": \"x\", \"y\": \"pudge\", \"yref\": \"y\"}, {\"font\": {\"color\": \"#000000\"}, \"showarrow\": false, \"text\": \"\", \"x\": \"earthshaker\", \"xref\": \"x\", \"y\": \"pudge\", \"yref\": \"y\"}, {\"font\": {\"color\": \"#000000\"}, \"showarrow\": false, \"text\": \"\", \"x\": \"juggernaut\", \"xref\": \"x\", \"y\": \"pudge\", \"yref\": \"y\"}, {\"font\": {\"color\": \"#000000\"}, \"showarrow\": false, \"text\": \"\", \"x\": \"mirana\", \"xref\": \"x\", \"y\": \"pudge\", \"yref\": \"y\"}, {\"font\": {\"color\": \"#000000\"}, \"showarrow\": false, \"text\": \"\", \"x\": \"morphling\", \"xref\": \"x\", \"y\": \"pudge\", \"yref\": \"y\"}, {\"font\": {\"color\": \"#000000\"}, \"showarrow\": false, \"text\": \"\", \"x\": \"nevermore\", \"xref\": \"x\", \"y\": \"pudge\", \"yref\": \"y\"}, {\"font\": {\"color\": \"#000000\"}, \"showarrow\": false, \"text\": \"\", \"x\": \"phantom_lancer\", \"xref\": \"x\", \"y\": \"pudge\", \"yref\": \"y\"}, {\"font\": {\"color\": \"#000000\"}, \"showarrow\": false, \"text\": \"\", \"x\": \"puck\", \"xref\": \"x\", \"y\": \"pudge\", \"yref\": \"y\"}, {\"font\": {\"color\": \"#FFFFFF\"}, \"showarrow\": false, \"text\": \"\", \"x\": \"pudge\", \"xref\": \"x\", \"y\": \"pudge\", \"yref\": \"y\"}, {\"font\": {\"color\": \"#000000\"}, \"showarrow\": false, \"text\": \"\", \"x\": \"razor\", \"xref\": \"x\", \"y\": \"pudge\", \"yref\": \"y\"}, {\"font\": {\"color\": \"#000000\"}, \"showarrow\": false, \"text\": \"\", \"x\": \"sand_king\", \"xref\": \"x\", \"y\": \"pudge\", \"yref\": \"y\"}, {\"font\": {\"color\": \"#000000\"}, \"showarrow\": false, \"text\": \"\", \"x\": \"storm_spirit\", \"xref\": \"x\", \"y\": \"pudge\", \"yref\": \"y\"}, {\"font\": {\"color\": \"#000000\"}, \"showarrow\": false, \"text\": \"\", \"x\": \"sven\", \"xref\": \"x\", \"y\": \"pudge\", \"yref\": \"y\"}, {\"font\": {\"color\": \"#000000\"}, \"showarrow\": false, \"text\": \"\", \"x\": \"tiny\", \"xref\": \"x\", \"y\": \"pudge\", \"yref\": \"y\"}, {\"font\": {\"color\": \"#000000\"}, \"showarrow\": false, \"text\": \"\", \"x\": \"vengefulspirit\", \"xref\": \"x\", \"y\": \"pudge\", \"yref\": \"y\"}, {\"font\": {\"color\": \"#000000\"}, \"showarrow\": false, \"text\": \"\", \"x\": \"antimage\", \"xref\": \"x\", \"y\": \"razor\", \"yref\": \"y\"}, {\"font\": {\"color\": \"#000000\"}, \"showarrow\": false, \"text\": \"\", \"x\": \"axe\", \"xref\": \"x\", \"y\": \"razor\", \"yref\": \"y\"}, {\"font\": {\"color\": \"#000000\"}, \"showarrow\": false, \"text\": \"\", \"x\": \"bane\", \"xref\": \"x\", \"y\": \"razor\", \"yref\": \"y\"}, {\"font\": {\"color\": \"#000000\"}, \"showarrow\": false, \"text\": \"\", \"x\": \"bloodseeker\", \"xref\": \"x\", \"y\": \"razor\", \"yref\": \"y\"}, {\"font\": {\"color\": \"#000000\"}, \"showarrow\": false, \"text\": \"\", \"x\": \"crystal_maiden\", \"xref\": \"x\", \"y\": \"razor\", \"yref\": \"y\"}, {\"font\": {\"color\": \"#000000\"}, \"showarrow\": false, \"text\": \"\", \"x\": \"drow_ranger\", \"xref\": \"x\", \"y\": \"razor\", \"yref\": \"y\"}, {\"font\": {\"color\": \"#000000\"}, \"showarrow\": false, \"text\": \"\", \"x\": \"earthshaker\", \"xref\": \"x\", \"y\": \"razor\", \"yref\": \"y\"}, {\"font\": {\"color\": \"#000000\"}, \"showarrow\": false, \"text\": \"\", \"x\": \"juggernaut\", \"xref\": \"x\", \"y\": \"razor\", \"yref\": \"y\"}, {\"font\": {\"color\": \"#000000\"}, \"showarrow\": false, \"text\": \"\", \"x\": \"mirana\", \"xref\": \"x\", \"y\": \"razor\", \"yref\": \"y\"}, {\"font\": {\"color\": \"#000000\"}, \"showarrow\": false, \"text\": \"\", \"x\": \"morphling\", \"xref\": \"x\", \"y\": \"razor\", \"yref\": \"y\"}, {\"font\": {\"color\": \"#000000\"}, \"showarrow\": false, \"text\": \"\", \"x\": \"nevermore\", \"xref\": \"x\", \"y\": \"razor\", \"yref\": \"y\"}, {\"font\": {\"color\": \"#000000\"}, \"showarrow\": false, \"text\": \"\", \"x\": \"phantom_lancer\", \"xref\": \"x\", \"y\": \"razor\", \"yref\": \"y\"}, {\"font\": {\"color\": \"#000000\"}, \"showarrow\": false, \"text\": \"\", \"x\": \"puck\", \"xref\": \"x\", \"y\": \"razor\", \"yref\": \"y\"}, {\"font\": {\"color\": \"#000000\"}, \"showarrow\": false, \"text\": \"\", \"x\": \"pudge\", \"xref\": \"x\", \"y\": \"razor\", \"yref\": \"y\"}, {\"font\": {\"color\": \"#FFFFFF\"}, \"showarrow\": false, \"text\": \"\", \"x\": \"razor\", \"xref\": \"x\", \"y\": \"razor\", \"yref\": \"y\"}, {\"font\": {\"color\": \"#000000\"}, \"showarrow\": false, \"text\": \"\", \"x\": \"sand_king\", \"xref\": \"x\", \"y\": \"razor\", \"yref\": \"y\"}, {\"font\": {\"color\": \"#000000\"}, \"showarrow\": false, \"text\": \"\", \"x\": \"storm_spirit\", \"xref\": \"x\", \"y\": \"razor\", \"yref\": \"y\"}, {\"font\": {\"color\": \"#000000\"}, \"showarrow\": false, \"text\": \"\", \"x\": \"sven\", \"xref\": \"x\", \"y\": \"razor\", \"yref\": \"y\"}, {\"font\": {\"color\": \"#000000\"}, \"showarrow\": false, \"text\": \"\", \"x\": \"tiny\", \"xref\": \"x\", \"y\": \"razor\", \"yref\": \"y\"}, {\"font\": {\"color\": \"#000000\"}, \"showarrow\": false, \"text\": \"\", \"x\": \"vengefulspirit\", \"xref\": \"x\", \"y\": \"razor\", \"yref\": \"y\"}, {\"font\": {\"color\": \"#000000\"}, \"showarrow\": false, \"text\": \"\", \"x\": \"antimage\", \"xref\": \"x\", \"y\": \"sand_king\", \"yref\": \"y\"}, {\"font\": {\"color\": \"#000000\"}, \"showarrow\": false, \"text\": \"\", \"x\": \"axe\", \"xref\": \"x\", \"y\": \"sand_king\", \"yref\": \"y\"}, {\"font\": {\"color\": \"#000000\"}, \"showarrow\": false, \"text\": \"\", \"x\": \"bane\", \"xref\": \"x\", \"y\": \"sand_king\", \"yref\": \"y\"}, {\"font\": {\"color\": \"#000000\"}, \"showarrow\": false, \"text\": \"\", \"x\": \"bloodseeker\", \"xref\": \"x\", \"y\": \"sand_king\", \"yref\": \"y\"}, {\"font\": {\"color\": \"#000000\"}, \"showarrow\": false, \"text\": \"\", \"x\": \"crystal_maiden\", \"xref\": \"x\", \"y\": \"sand_king\", \"yref\": \"y\"}, {\"font\": {\"color\": \"#000000\"}, \"showarrow\": false, \"text\": \"\", \"x\": \"drow_ranger\", \"xref\": \"x\", \"y\": \"sand_king\", \"yref\": \"y\"}, {\"font\": {\"color\": \"#000000\"}, \"showarrow\": false, \"text\": \"\", \"x\": \"earthshaker\", \"xref\": \"x\", \"y\": \"sand_king\", \"yref\": \"y\"}, {\"font\": {\"color\": \"#000000\"}, \"showarrow\": false, \"text\": \"\", \"x\": \"juggernaut\", \"xref\": \"x\", \"y\": \"sand_king\", \"yref\": \"y\"}, {\"font\": {\"color\": \"#000000\"}, \"showarrow\": false, \"text\": \"\", \"x\": \"mirana\", \"xref\": \"x\", \"y\": \"sand_king\", \"yref\": \"y\"}, {\"font\": {\"color\": \"#000000\"}, \"showarrow\": false, \"text\": \"\", \"x\": \"morphling\", \"xref\": \"x\", \"y\": \"sand_king\", \"yref\": \"y\"}, {\"font\": {\"color\": \"#000000\"}, \"showarrow\": false, \"text\": \"\", \"x\": \"nevermore\", \"xref\": \"x\", \"y\": \"sand_king\", \"yref\": \"y\"}, {\"font\": {\"color\": \"#000000\"}, \"showarrow\": false, \"text\": \"\", \"x\": \"phantom_lancer\", \"xref\": \"x\", \"y\": \"sand_king\", \"yref\": \"y\"}, {\"font\": {\"color\": \"#000000\"}, \"showarrow\": false, \"text\": \"\", \"x\": \"puck\", \"xref\": \"x\", \"y\": \"sand_king\", \"yref\": \"y\"}, {\"font\": {\"color\": \"#000000\"}, \"showarrow\": false, \"text\": \"\", \"x\": \"pudge\", \"xref\": \"x\", \"y\": \"sand_king\", \"yref\": \"y\"}, {\"font\": {\"color\": \"#000000\"}, \"showarrow\": false, \"text\": \"\", \"x\": \"razor\", \"xref\": \"x\", \"y\": \"sand_king\", \"yref\": \"y\"}, {\"font\": {\"color\": \"#FFFFFF\"}, \"showarrow\": false, \"text\": \"\", \"x\": \"sand_king\", \"xref\": \"x\", \"y\": \"sand_king\", \"yref\": \"y\"}, {\"font\": {\"color\": \"#000000\"}, \"showarrow\": false, \"text\": \"\", \"x\": \"storm_spirit\", \"xref\": \"x\", \"y\": \"sand_king\", \"yref\": \"y\"}, {\"font\": {\"color\": \"#000000\"}, \"showarrow\": false, \"text\": \"\", \"x\": \"sven\", \"xref\": \"x\", \"y\": \"sand_king\", \"yref\": \"y\"}, {\"font\": {\"color\": \"#000000\"}, \"showarrow\": false, \"text\": \"\", \"x\": \"tiny\", \"xref\": \"x\", \"y\": \"sand_king\", \"yref\": \"y\"}, {\"font\": {\"color\": \"#000000\"}, \"showarrow\": false, \"text\": \"\", \"x\": \"vengefulspirit\", \"xref\": \"x\", \"y\": \"sand_king\", \"yref\": \"y\"}, {\"font\": {\"color\": \"#000000\"}, \"showarrow\": false, \"text\": \"\", \"x\": \"antimage\", \"xref\": \"x\", \"y\": \"storm_spirit\", \"yref\": \"y\"}, {\"font\": {\"color\": \"#000000\"}, \"showarrow\": false, \"text\": \"\", \"x\": \"axe\", \"xref\": \"x\", \"y\": \"storm_spirit\", \"yref\": \"y\"}, {\"font\": {\"color\": \"#000000\"}, \"showarrow\": false, \"text\": \"\", \"x\": \"bane\", \"xref\": \"x\", \"y\": \"storm_spirit\", \"yref\": \"y\"}, {\"font\": {\"color\": \"#000000\"}, \"showarrow\": false, \"text\": \"\", \"x\": \"bloodseeker\", \"xref\": \"x\", \"y\": \"storm_spirit\", \"yref\": \"y\"}, {\"font\": {\"color\": \"#000000\"}, \"showarrow\": false, \"text\": \"\", \"x\": \"crystal_maiden\", \"xref\": \"x\", \"y\": \"storm_spirit\", \"yref\": \"y\"}, {\"font\": {\"color\": \"#000000\"}, \"showarrow\": false, \"text\": \"\", \"x\": \"drow_ranger\", \"xref\": \"x\", \"y\": \"storm_spirit\", \"yref\": \"y\"}, {\"font\": {\"color\": \"#000000\"}, \"showarrow\": false, \"text\": \"\", \"x\": \"earthshaker\", \"xref\": \"x\", \"y\": \"storm_spirit\", \"yref\": \"y\"}, {\"font\": {\"color\": \"#000000\"}, \"showarrow\": false, \"text\": \"\", \"x\": \"juggernaut\", \"xref\": \"x\", \"y\": \"storm_spirit\", \"yref\": \"y\"}, {\"font\": {\"color\": \"#000000\"}, \"showarrow\": false, \"text\": \"\", \"x\": \"mirana\", \"xref\": \"x\", \"y\": \"storm_spirit\", \"yref\": \"y\"}, {\"font\": {\"color\": \"#000000\"}, \"showarrow\": false, \"text\": \"\", \"x\": \"morphling\", \"xref\": \"x\", \"y\": \"storm_spirit\", \"yref\": \"y\"}, {\"font\": {\"color\": \"#000000\"}, \"showarrow\": false, \"text\": \"\", \"x\": \"nevermore\", \"xref\": \"x\", \"y\": \"storm_spirit\", \"yref\": \"y\"}, {\"font\": {\"color\": \"#000000\"}, \"showarrow\": false, \"text\": \"\", \"x\": \"phantom_lancer\", \"xref\": \"x\", \"y\": \"storm_spirit\", \"yref\": \"y\"}, {\"font\": {\"color\": \"#000000\"}, \"showarrow\": false, \"text\": \"\", \"x\": \"puck\", \"xref\": \"x\", \"y\": \"storm_spirit\", \"yref\": \"y\"}, {\"font\": {\"color\": \"#000000\"}, \"showarrow\": false, \"text\": \"\", \"x\": \"pudge\", \"xref\": \"x\", \"y\": \"storm_spirit\", \"yref\": \"y\"}, {\"font\": {\"color\": \"#000000\"}, \"showarrow\": false, \"text\": \"\", \"x\": \"razor\", \"xref\": \"x\", \"y\": \"storm_spirit\", \"yref\": \"y\"}, {\"font\": {\"color\": \"#000000\"}, \"showarrow\": false, \"text\": \"\", \"x\": \"sand_king\", \"xref\": \"x\", \"y\": \"storm_spirit\", \"yref\": \"y\"}, {\"font\": {\"color\": \"#FFFFFF\"}, \"showarrow\": false, \"text\": \"\", \"x\": \"storm_spirit\", \"xref\": \"x\", \"y\": \"storm_spirit\", \"yref\": \"y\"}, {\"font\": {\"color\": \"#000000\"}, \"showarrow\": false, \"text\": \"\", \"x\": \"sven\", \"xref\": \"x\", \"y\": \"storm_spirit\", \"yref\": \"y\"}, {\"font\": {\"color\": \"#000000\"}, \"showarrow\": false, \"text\": \"\", \"x\": \"tiny\", \"xref\": \"x\", \"y\": \"storm_spirit\", \"yref\": \"y\"}, {\"font\": {\"color\": \"#000000\"}, \"showarrow\": false, \"text\": \"\", \"x\": \"vengefulspirit\", \"xref\": \"x\", \"y\": \"storm_spirit\", \"yref\": \"y\"}, {\"font\": {\"color\": \"#000000\"}, \"showarrow\": false, \"text\": \"\", \"x\": \"antimage\", \"xref\": \"x\", \"y\": \"sven\", \"yref\": \"y\"}, {\"font\": {\"color\": \"#000000\"}, \"showarrow\": false, \"text\": \"\", \"x\": \"axe\", \"xref\": \"x\", \"y\": \"sven\", \"yref\": \"y\"}, {\"font\": {\"color\": \"#000000\"}, \"showarrow\": false, \"text\": \"\", \"x\": \"bane\", \"xref\": \"x\", \"y\": \"sven\", \"yref\": \"y\"}, {\"font\": {\"color\": \"#000000\"}, \"showarrow\": false, \"text\": \"\", \"x\": \"bloodseeker\", \"xref\": \"x\", \"y\": \"sven\", \"yref\": \"y\"}, {\"font\": {\"color\": \"#000000\"}, \"showarrow\": false, \"text\": \"\", \"x\": \"crystal_maiden\", \"xref\": \"x\", \"y\": \"sven\", \"yref\": \"y\"}, {\"font\": {\"color\": \"#000000\"}, \"showarrow\": false, \"text\": \"\", \"x\": \"drow_ranger\", \"xref\": \"x\", \"y\": \"sven\", \"yref\": \"y\"}, {\"font\": {\"color\": \"#000000\"}, \"showarrow\": false, \"text\": \"\", \"x\": \"earthshaker\", \"xref\": \"x\", \"y\": \"sven\", \"yref\": \"y\"}, {\"font\": {\"color\": \"#000000\"}, \"showarrow\": false, \"text\": \"\", \"x\": \"juggernaut\", \"xref\": \"x\", \"y\": \"sven\", \"yref\": \"y\"}, {\"font\": {\"color\": \"#000000\"}, \"showarrow\": false, \"text\": \"\", \"x\": \"mirana\", \"xref\": \"x\", \"y\": \"sven\", \"yref\": \"y\"}, {\"font\": {\"color\": \"#000000\"}, \"showarrow\": false, \"text\": \"\", \"x\": \"morphling\", \"xref\": \"x\", \"y\": \"sven\", \"yref\": \"y\"}, {\"font\": {\"color\": \"#000000\"}, \"showarrow\": false, \"text\": \"\", \"x\": \"nevermore\", \"xref\": \"x\", \"y\": \"sven\", \"yref\": \"y\"}, {\"font\": {\"color\": \"#000000\"}, \"showarrow\": false, \"text\": \"\", \"x\": \"phantom_lancer\", \"xref\": \"x\", \"y\": \"sven\", \"yref\": \"y\"}, {\"font\": {\"color\": \"#000000\"}, \"showarrow\": false, \"text\": \"\", \"x\": \"puck\", \"xref\": \"x\", \"y\": \"sven\", \"yref\": \"y\"}, {\"font\": {\"color\": \"#000000\"}, \"showarrow\": false, \"text\": \"\", \"x\": \"pudge\", \"xref\": \"x\", \"y\": \"sven\", \"yref\": \"y\"}, {\"font\": {\"color\": \"#000000\"}, \"showarrow\": false, \"text\": \"\", \"x\": \"razor\", \"xref\": \"x\", \"y\": \"sven\", \"yref\": \"y\"}, {\"font\": {\"color\": \"#000000\"}, \"showarrow\": false, \"text\": \"\", \"x\": \"sand_king\", \"xref\": \"x\", \"y\": \"sven\", \"yref\": \"y\"}, {\"font\": {\"color\": \"#000000\"}, \"showarrow\": false, \"text\": \"\", \"x\": \"storm_spirit\", \"xref\": \"x\", \"y\": \"sven\", \"yref\": \"y\"}, {\"font\": {\"color\": \"#FFFFFF\"}, \"showarrow\": false, \"text\": \"\", \"x\": \"sven\", \"xref\": \"x\", \"y\": \"sven\", \"yref\": \"y\"}, {\"font\": {\"color\": \"#000000\"}, \"showarrow\": false, \"text\": \"\", \"x\": \"tiny\", \"xref\": \"x\", \"y\": \"sven\", \"yref\": \"y\"}, {\"font\": {\"color\": \"#000000\"}, \"showarrow\": false, \"text\": \"\", \"x\": \"vengefulspirit\", \"xref\": \"x\", \"y\": \"sven\", \"yref\": \"y\"}, {\"font\": {\"color\": \"#000000\"}, \"showarrow\": false, \"text\": \"\", \"x\": \"antimage\", \"xref\": \"x\", \"y\": \"tiny\", \"yref\": \"y\"}, {\"font\": {\"color\": \"#000000\"}, \"showarrow\": false, \"text\": \"\", \"x\": \"axe\", \"xref\": \"x\", \"y\": \"tiny\", \"yref\": \"y\"}, {\"font\": {\"color\": \"#000000\"}, \"showarrow\": false, \"text\": \"\", \"x\": \"bane\", \"xref\": \"x\", \"y\": \"tiny\", \"yref\": \"y\"}, {\"font\": {\"color\": \"#000000\"}, \"showarrow\": false, \"text\": \"\", \"x\": \"bloodseeker\", \"xref\": \"x\", \"y\": \"tiny\", \"yref\": \"y\"}, {\"font\": {\"color\": \"#000000\"}, \"showarrow\": false, \"text\": \"\", \"x\": \"crystal_maiden\", \"xref\": \"x\", \"y\": \"tiny\", \"yref\": \"y\"}, {\"font\": {\"color\": \"#000000\"}, \"showarrow\": false, \"text\": \"\", \"x\": \"drow_ranger\", \"xref\": \"x\", \"y\": \"tiny\", \"yref\": \"y\"}, {\"font\": {\"color\": \"#000000\"}, \"showarrow\": false, \"text\": \"\", \"x\": \"earthshaker\", \"xref\": \"x\", \"y\": \"tiny\", \"yref\": \"y\"}, {\"font\": {\"color\": \"#000000\"}, \"showarrow\": false, \"text\": \"\", \"x\": \"juggernaut\", \"xref\": \"x\", \"y\": \"tiny\", \"yref\": \"y\"}, {\"font\": {\"color\": \"#000000\"}, \"showarrow\": false, \"text\": \"\", \"x\": \"mirana\", \"xref\": \"x\", \"y\": \"tiny\", \"yref\": \"y\"}, {\"font\": {\"color\": \"#000000\"}, \"showarrow\": false, \"text\": \"\", \"x\": \"morphling\", \"xref\": \"x\", \"y\": \"tiny\", \"yref\": \"y\"}, {\"font\": {\"color\": \"#000000\"}, \"showarrow\": false, \"text\": \"\", \"x\": \"nevermore\", \"xref\": \"x\", \"y\": \"tiny\", \"yref\": \"y\"}, {\"font\": {\"color\": \"#000000\"}, \"showarrow\": false, \"text\": \"\", \"x\": \"phantom_lancer\", \"xref\": \"x\", \"y\": \"tiny\", \"yref\": \"y\"}, {\"font\": {\"color\": \"#000000\"}, \"showarrow\": false, \"text\": \"\", \"x\": \"puck\", \"xref\": \"x\", \"y\": \"tiny\", \"yref\": \"y\"}, {\"font\": {\"color\": \"#000000\"}, \"showarrow\": false, \"text\": \"\", \"x\": \"pudge\", \"xref\": \"x\", \"y\": \"tiny\", \"yref\": \"y\"}, {\"font\": {\"color\": \"#000000\"}, \"showarrow\": false, \"text\": \"\", \"x\": \"razor\", \"xref\": \"x\", \"y\": \"tiny\", \"yref\": \"y\"}, {\"font\": {\"color\": \"#000000\"}, \"showarrow\": false, \"text\": \"\", \"x\": \"sand_king\", \"xref\": \"x\", \"y\": \"tiny\", \"yref\": \"y\"}, {\"font\": {\"color\": \"#000000\"}, \"showarrow\": false, \"text\": \"\", \"x\": \"storm_spirit\", \"xref\": \"x\", \"y\": \"tiny\", \"yref\": \"y\"}, {\"font\": {\"color\": \"#000000\"}, \"showarrow\": false, \"text\": \"\", \"x\": \"sven\", \"xref\": \"x\", \"y\": \"tiny\", \"yref\": \"y\"}, {\"font\": {\"color\": \"#FFFFFF\"}, \"showarrow\": false, \"text\": \"\", \"x\": \"tiny\", \"xref\": \"x\", \"y\": \"tiny\", \"yref\": \"y\"}, {\"font\": {\"color\": \"#000000\"}, \"showarrow\": false, \"text\": \"\", \"x\": \"vengefulspirit\", \"xref\": \"x\", \"y\": \"tiny\", \"yref\": \"y\"}, {\"font\": {\"color\": \"#000000\"}, \"showarrow\": false, \"text\": \"\", \"x\": \"antimage\", \"xref\": \"x\", \"y\": \"vengefulspirit\", \"yref\": \"y\"}, {\"font\": {\"color\": \"#000000\"}, \"showarrow\": false, \"text\": \"\", \"x\": \"axe\", \"xref\": \"x\", \"y\": \"vengefulspirit\", \"yref\": \"y\"}, {\"font\": {\"color\": \"#000000\"}, \"showarrow\": false, \"text\": \"\", \"x\": \"bane\", \"xref\": \"x\", \"y\": \"vengefulspirit\", \"yref\": \"y\"}, {\"font\": {\"color\": \"#000000\"}, \"showarrow\": false, \"text\": \"\", \"x\": \"bloodseeker\", \"xref\": \"x\", \"y\": \"vengefulspirit\", \"yref\": \"y\"}, {\"font\": {\"color\": \"#000000\"}, \"showarrow\": false, \"text\": \"\", \"x\": \"crystal_maiden\", \"xref\": \"x\", \"y\": \"vengefulspirit\", \"yref\": \"y\"}, {\"font\": {\"color\": \"#000000\"}, \"showarrow\": false, \"text\": \"\", \"x\": \"drow_ranger\", \"xref\": \"x\", \"y\": \"vengefulspirit\", \"yref\": \"y\"}, {\"font\": {\"color\": \"#000000\"}, \"showarrow\": false, \"text\": \"\", \"x\": \"earthshaker\", \"xref\": \"x\", \"y\": \"vengefulspirit\", \"yref\": \"y\"}, {\"font\": {\"color\": \"#000000\"}, \"showarrow\": false, \"text\": \"\", \"x\": \"juggernaut\", \"xref\": \"x\", \"y\": \"vengefulspirit\", \"yref\": \"y\"}, {\"font\": {\"color\": \"#000000\"}, \"showarrow\": false, \"text\": \"\", \"x\": \"mirana\", \"xref\": \"x\", \"y\": \"vengefulspirit\", \"yref\": \"y\"}, {\"font\": {\"color\": \"#000000\"}, \"showarrow\": false, \"text\": \"\", \"x\": \"morphling\", \"xref\": \"x\", \"y\": \"vengefulspirit\", \"yref\": \"y\"}, {\"font\": {\"color\": \"#000000\"}, \"showarrow\": false, \"text\": \"\", \"x\": \"nevermore\", \"xref\": \"x\", \"y\": \"vengefulspirit\", \"yref\": \"y\"}, {\"font\": {\"color\": \"#000000\"}, \"showarrow\": false, \"text\": \"\", \"x\": \"phantom_lancer\", \"xref\": \"x\", \"y\": \"vengefulspirit\", \"yref\": \"y\"}, {\"font\": {\"color\": \"#000000\"}, \"showarrow\": false, \"text\": \"\", \"x\": \"puck\", \"xref\": \"x\", \"y\": \"vengefulspirit\", \"yref\": \"y\"}, {\"font\": {\"color\": \"#000000\"}, \"showarrow\": false, \"text\": \"\", \"x\": \"pudge\", \"xref\": \"x\", \"y\": \"vengefulspirit\", \"yref\": \"y\"}, {\"font\": {\"color\": \"#000000\"}, \"showarrow\": false, \"text\": \"\", \"x\": \"razor\", \"xref\": \"x\", \"y\": \"vengefulspirit\", \"yref\": \"y\"}, {\"font\": {\"color\": \"#000000\"}, \"showarrow\": false, \"text\": \"\", \"x\": \"sand_king\", \"xref\": \"x\", \"y\": \"vengefulspirit\", \"yref\": \"y\"}, {\"font\": {\"color\": \"#000000\"}, \"showarrow\": false, \"text\": \"\", \"x\": \"storm_spirit\", \"xref\": \"x\", \"y\": \"vengefulspirit\", \"yref\": \"y\"}, {\"font\": {\"color\": \"#000000\"}, \"showarrow\": false, \"text\": \"\", \"x\": \"sven\", \"xref\": \"x\", \"y\": \"vengefulspirit\", \"yref\": \"y\"}, {\"font\": {\"color\": \"#000000\"}, \"showarrow\": false, \"text\": \"\", \"x\": \"tiny\", \"xref\": \"x\", \"y\": \"vengefulspirit\", \"yref\": \"y\"}, {\"font\": {\"color\": \"#FFFFFF\"}, \"showarrow\": false, \"text\": \"\", \"x\": \"vengefulspirit\", \"xref\": \"x\", \"y\": \"vengefulspirit\", \"yref\": \"y\"}], \"xaxis\": {\"dtick\": 1, \"gridcolor\": \"rgb(0, 0, 0)\", \"side\": \"top\", \"ticks\": \"\"}, \"yaxis\": {\"dtick\": 1, \"ticks\": \"\", \"ticksuffix\": \"  \"}, \"title\": \"Friendly Matchups - Y is Hero, X is win rate\"},\n",
       "            {\"showLink\": true, \"linkText\": \"Export to plot.ly\"}\n",
       "        ).then(function () {return Plotly.addFrames('882c5fb3-659b-405f-aece-80a5c6049b9b',{});}).then(function(){Plotly.animate('882c5fb3-659b-405f-aece-80a5c6049b9b');})\n",
       "        });</script>"
      ],
      "text/vnd.plotly.v1+html": [
       "<div id=\"882c5fb3-659b-405f-aece-80a5c6049b9b\" style=\"height: 525px; width: 100%;\" class=\"plotly-graph-div\"></div><script type=\"text/javascript\">require([\"plotly\"], function(Plotly) { window.PLOTLYENV=window.PLOTLYENV || {};window.PLOTLYENV.BASE_URL=\"https://plot.ly\";\n",
       "        Plotly.plot(\n",
       "            '882c5fb3-659b-405f-aece-80a5c6049b9b',\n",
       "            [{\"colorscale\": \"RdBu\", \"hoverinfo\": \"text\", \"showscale\": false, \"text\": [[\"antimage - antimage - 0\", \"antimage - axe - 0.44220572640509015\", \"antimage - bane - 0.5388349514563107\", \"antimage - bloodseeker - 0.45593525179856115\", \"antimage - crystal_maiden - 0.43561030235162373\", \"antimage - drow_ranger - 0.48226950354609927\", \"antimage - earthshaker - 0.48942598187311176\", \"antimage - juggernaut - 0.532617671345995\", \"antimage - mirana - 0.5016648168701443\", \"antimage - morphling - 0.5452322738386308\", \"antimage - nevermore - 0.5265017667844523\", \"antimage - phantom_lancer - 0.4931506849315068\", \"antimage - puck - 0.5950920245398773\", \"antimage - pudge - 0.47363757199822776\", \"antimage - razor - 0.4947916666666667\", \"antimage - sand_king - 0.5687645687645687\", \"antimage - storm_spirit - 0.5532934131736527\", \"antimage - sven - 0.5043290043290043\", \"antimage - tiny - 0.59\", \"antimage - vengefulspirit - 0.45925925925925926\"], [\"axe - antimage - 0.5851063829787234\", \"axe - axe - 0\", \"axe - bane - 0.5817490494296578\", \"axe - bloodseeker - 0.5022583559168925\", \"axe - crystal_maiden - 0.5189639222941721\", \"axe - drow_ranger - 0.5174731182795699\", \"axe - earthshaker - 0.5399792315680166\", \"axe - juggernaut - 0.5643627140139506\", \"axe - mirana - 0.5548936170212766\", \"axe - morphling - 0.6106194690265486\", \"axe - nevermore - 0.6091148115687993\", \"axe - phantom_lancer - 0.5544692737430168\", \"axe - puck - 0.6425339366515838\", \"axe - pudge - 0.49906542056074765\", \"axe - razor - 0.5592592592592592\", \"axe - sand_king - 0.5645412130637636\", \"axe - storm_spirit - 0.5637254901960784\", \"axe - sven - 0.5391304347826087\", \"axe - tiny - 0.6303501945525292\", \"axe - vengefulspirit - 0.4811643835616438\"], [\"bane - antimage - 0.4875\", \"bane - axe - 0.4402730375426621\", \"bane - bane - 0\", \"bane - bloodseeker - 0.40789473684210525\", \"bane - crystal_maiden - 0.46953405017921146\", \"bane - drow_ranger - 0.4195804195804196\", \"bane - earthshaker - 0.4427860696517413\", \"bane - juggernaut - 0.5213414634146342\", \"bane - mirana - 0.49019607843137253\", \"bane - morphling - 0.48863636363636365\", \"bane - nevermore - 0.5228215767634855\", \"bane - phantom_lancer - 0.39893617021276595\", \"bane - puck - 0.5660377358490566\", \"bane - pudge - 0.4172661870503597\", \"bane - razor - 0.4936708860759494\", \"bane - sand_king - 0.5808823529411765\", \"bane - storm_spirit - 0.4393939393939394\", \"bane - sven - 0.5303030303030303\", \"bane - tiny - 0.48333333333333334\", \"bane - vengefulspirit - 0.38926174496644295\"], [\"bloodseeker - antimage - 0.5740913327120224\", \"bloodseeker - axe - 0.4878253568429891\", \"bloodseeker - bane - 0.5630630630630631\", \"bloodseeker - bloodseeker - 0\", \"bloodseeker - crystal_maiden - 0.49948506694129763\", \"bloodseeker - drow_ranger - 0.5139372822299652\", \"bloodseeker - earthshaker - 0.5242346938775511\", \"bloodseeker - juggernaut - 0.5382716049382716\", \"bloodseeker - mirana - 0.5179119754350051\", \"bloodseeker - morphling - 0.5768261964735516\", \"bloodseeker - nevermore - 0.5853131749460043\", \"bloodseeker - phantom_lancer - 0.4930662557781202\", \"bloodseeker - puck - 0.5879629629629629\", \"bloodseeker - pudge - 0.5011904761904762\", \"bloodseeker - razor - 0.583710407239819\", \"bloodseeker - sand_king - 0.6175908221797323\", \"bloodseeker - storm_spirit - 0.49525101763907736\", \"bloodseeker - sven - 0.5079726651480638\", \"bloodseeker - tiny - 0.6296296296296297\", \"bloodseeker - vengefulspirit - 0.5152173913043478\"], [\"crystal_maiden - antimage - 0.5593824228028503\", \"crystal_maiden - axe - 0.5283363802559415\", \"crystal_maiden - bane - 0.5139442231075697\", \"crystal_maiden - bloodseeker - 0.522083805209513\", \"crystal_maiden - crystal_maiden - 0\", \"crystal_maiden - drow_ranger - 0.5159235668789809\", \"crystal_maiden - earthshaker - 0.5209790209790209\", \"crystal_maiden - juggernaut - 0.5376425855513308\", \"crystal_maiden - mirana - 0.5382513661202186\", \"crystal_maiden - morphling - 0.5800970873786407\", \"crystal_maiden - nevermore - 0.5805439330543933\", \"crystal_maiden - phantom_lancer - 0.5492063492063493\", \"crystal_maiden - puck - 0.7083333333333334\", \"crystal_maiden - pudge - 0.5078702216511404\", \"crystal_maiden - razor - 0.56\", \"crystal_maiden - sand_king - 0.570873786407767\", \"crystal_maiden - storm_spirit - 0.5266106442577031\", \"crystal_maiden - sven - 0.5306553911205074\", \"crystal_maiden - tiny - 0.6220472440944882\", \"crystal_maiden - vengefulspirit - 0.48056537102473496\"], [\"drow_ranger - antimage - 0.5561312607944733\", \"drow_ranger - axe - 0.46017699115044247\", \"drow_ranger - bane - 0.5448717948717948\", \"drow_ranger - bloodseeker - 0.4743362831858407\", \"drow_ranger - crystal_maiden - 0.4851190476190476\", \"drow_ranger - drow_ranger - 0\", \"drow_ranger - earthshaker - 0.46830265848670755\", \"drow_ranger - juggernaut - 0.5831234256926953\", \"drow_ranger - mirana - 0.4985835694050991\", \"drow_ranger - morphling - 0.5966101694915255\", \"drow_ranger - nevermore - 0.5810147299509002\", \"drow_ranger - phantom_lancer - 0.4398976982097187\", \"drow_ranger - puck - 0.6201550387596899\", \"drow_ranger - pudge - 0.4866151100535396\", \"drow_ranger - razor - 0.5985401459854015\", \"drow_ranger - sand_king - 0.5609756097560976\", \"drow_ranger - storm_spirit - 0.5368171021377672\", \"drow_ranger - sven - 0.53125\", \"drow_ranger - tiny - 0.6058823529411764\", \"drow_ranger - vengefulspirit - 0.5304054054054054\"], [\"earthshaker - antimage - 0.5237366003062787\", \"earthshaker - axe - 0.4505183788878417\", \"earthshaker - bane - 0.5652173913043478\", \"earthshaker - bloodseeker - 0.4738219895287958\", \"earthshaker - crystal_maiden - 0.4773445732349842\", \"earthshaker - drow_ranger - 0.46732673267326735\", \"earthshaker - earthshaker - 0\", \"earthshaker - juggernaut - 0.504941599281222\", \"earthshaker - mirana - 0.4911111111111111\", \"earthshaker - morphling - 0.534375\", \"earthshaker - nevermore - 0.5243243243243243\", \"earthshaker - phantom_lancer - 0.5159967186218212\", \"earthshaker - puck - 0.5922330097087378\", \"earthshaker - pudge - 0.49364069952305245\", \"earthshaker - razor - 0.5421686746987951\", \"earthshaker - sand_king - 0.5851979345955249\", \"earthshaker - storm_spirit - 0.5015673981191222\", \"earthshaker - sven - 0.47139588100686497\", \"earthshaker - tiny - 0.5630252100840336\", \"earthshaker - vengefulspirit - 0.4515366430260047\"], [\"juggernaut - antimage - 0.4925893635571055\", \"juggernaut - axe - 0.44902912621359226\", \"juggernaut - bane - 0.5283582089552239\", \"juggernaut - bloodseeker - 0.4679966749792186\", \"juggernaut - crystal_maiden - 0.4730229120473023\", \"juggernaut - drow_ranger - 0.46534653465346537\", \"juggernaut - earthshaker - 0.4907578558225508\", \"juggernaut - juggernaut - 0\", \"juggernaut - mirana - 0.525411596277738\", \"juggernaut - morphling - 0.5341726618705036\", \"juggernaut - nevermore - 0.548472775564409\", \"juggernaut - phantom_lancer - 0.4852941176470588\", \"juggernaut - puck - 0.5964285714285714\", \"juggernaut - pudge - 0.4658085277554304\", \"juggernaut - razor - 0.5570032573289903\", \"juggernaut - sand_king - 0.5496774193548387\", \"juggernaut - storm_spirit - 0.509825327510917\", \"juggernaut - sven - 0.4776357827476038\", \"juggernaut - tiny - 0.6\", \"juggernaut - vengefulspirit - 0.4378531073446328\"], [\"mirana - antimage - 0.5083240843507214\", \"mirana - axe - 0.43033800494641383\", \"mirana - bane - 0.5742971887550201\", \"mirana - bloodseeker - 0.4640394088669951\", \"mirana - crystal_maiden - 0.4879518072289157\", \"mirana - drow_ranger - 0.48111658456486045\", \"mirana - earthshaker - 0.46625129802699894\", \"mirana - juggernaut - 0.5007299270072992\", \"mirana - mirana - 0\", \"mirana - morphling - 0.556745182012848\", \"mirana - nevermore - 0.5498652291105122\", \"mirana - phantom_lancer - 0.5045317220543807\", \"mirana - puck - 0.5\", \"mirana - pudge - 0.4778734778734779\", \"mirana - razor - 0.5755102040816327\", \"mirana - sand_king - 0.5466666666666666\", \"mirana - storm_spirit - 0.5340179717586649\", \"mirana - sven - 0.5142857142857142\", \"mirana - tiny - 0.5802469135802469\", \"mirana - vengefulspirit - 0.4759259259259259\"], [\"morphling - antimage - 0.44339622641509435\", \"morphling - axe - 0.4043956043956044\", \"morphling - bane - 0.47959183673469385\", \"morphling - bloodseeker - 0.4475703324808184\", \"morphling - crystal_maiden - 0.408983451536643\", \"morphling - drow_ranger - 0.4657039711191336\", \"morphling - earthshaker - 0.4837758112094395\", \"morphling - juggernaut - 0.5\", \"morphling - mirana - 0.4276315789473684\", \"morphling - morphling - 0\", \"morphling - nevermore - 0.511482254697286\", \"morphling - phantom_lancer - 0.43109540636042404\", \"morphling - puck - 0.4411764705882353\", \"morphling - pudge - 0.4587843463780183\", \"morphling - razor - 0.49019607843137253\", \"morphling - sand_king - 0.5173913043478261\", \"morphling - storm_spirit - 0.4778156996587031\", \"morphling - sven - 0.4635416666666667\", \"morphling - tiny - 0.5701754385964912\", \"morphling - vengefulspirit - 0.34801762114537443\"], [\"nevermore - antimage - 0.4359903381642512\", \"nevermore - axe - 0.38762214983713356\", \"nevermore - bane - 0.5203252032520326\", \"nevermore - bloodseeker - 0.4160659114315139\", \"nevermore - crystal_maiden - 0.41970443349753694\", \"nevermore - drow_ranger - 0.432510885341074\", \"nevermore - earthshaker - 0.46808510638297873\", \"nevermore - juggernaut - 0.4117647058823529\", \"nevermore - mirana - 0.45382585751978893\", \"nevermore - morphling - 0.5\", \"nevermore - nevermore - 0\", \"nevermore - phantom_lancer - 0.43529411764705883\", \"nevermore - puck - 0.5396825396825397\", \"nevermore - pudge - 0.4134206219312602\", \"nevermore - razor - 0.5625\", \"nevermore - sand_king - 0.5172413793103449\", \"nevermore - storm_spirit - 0.46445497630331756\", \"nevermore - sven - 0.4343807763401109\", \"nevermore - tiny - 0.5551724137931034\", \"nevermore - vengefulspirit - 0.3981651376146789\"], [\"phantom_lancer - antimage - 0.4720616570327553\", \"phantom_lancer - axe - 0.45123537061118335\", \"phantom_lancer - bane - 0.6108108108108108\", \"phantom_lancer - bloodseeker - 0.5056\", \"phantom_lancer - crystal_maiden - 0.43962848297213625\", \"phantom_lancer - drow_ranger - 0.5431235431235432\", \"phantom_lancer - earthshaker - 0.4796812749003984\", \"phantom_lancer - juggernaut - 0.4901185770750988\", \"phantom_lancer - mirana - 0.48519736842105265\", \"phantom_lancer - morphling - 0.5488215488215489\", \"phantom_lancer - nevermore - 0.5459610027855153\", \"phantom_lancer - phantom_lancer - 0\", \"phantom_lancer - puck - 0.5769230769230769\", \"phantom_lancer - pudge - 0.5073115860517435\", \"phantom_lancer - razor - 0.6242424242424243\", \"phantom_lancer - sand_king - 0.48021108179419525\", \"phantom_lancer - storm_spirit - 0.4912663755458515\", \"phantom_lancer - sven - 0.4675141242937853\", \"phantom_lancer - tiny - 0.6526946107784432\", \"phantom_lancer - vengefulspirit - 0.49137931034482757\"], [\"puck - antimage - 0.40414507772020725\", \"puck - axe - 0.31063829787234043\", \"puck - bane - 0.43103448275862066\", \"puck - bloodseeker - 0.41081081081081083\", \"puck - crystal_maiden - 0.3385416666666667\", \"puck - drow_ranger - 0.4084507042253521\", \"puck - earthshaker - 0.42105263157894735\", \"puck - juggernaut - 0.359375\", \"puck - mirana - 0.4206008583690987\", \"puck - morphling - 0.5147058823529411\", \"puck - nevermore - 0.4326530612244898\", \"puck - phantom_lancer - 0.4244604316546763\", \"puck - puck - 0\", \"puck - pudge - 0.4027777777777778\", \"puck - razor - 0.37735849056603776\", \"puck - sand_king - 0.5263157894736842\", \"puck - storm_spirit - 0.41875\", \"puck - sven - 0.4392523364485981\", \"puck - tiny - 0.4074074074074074\", \"puck - vengefulspirit - 0.3728813559322034\"], [\"pudge - antimage - 0.5156669650850493\", \"pudge - axe - 0.4995507637017071\", \"pudge - bane - 0.554904831625183\", \"pudge - bloodseeker - 0.5246913580246914\", \"pudge - crystal_maiden - 0.5015069318866787\", \"pudge - drow_ranger - 0.5054131054131055\", \"pudge - earthshaker - 0.51636503658067\", \"pudge - juggernaut - 0.5233441910966341\", \"pudge - mirana - 0.5226013414989793\", \"pudge - morphling - 0.5604217356042174\", \"pudge - nevermore - 0.585163007318696\", \"pudge - phantom_lancer - 0.4898078043098428\", \"pudge - puck - 0.6091954022988506\", \"pudge - pudge - 0\", \"pudge - razor - 0.5881226053639846\", \"pudge - sand_king - 0.5798588838999359\", \"pudge - storm_spirit - 0.5370731707317074\", \"pudge - sven - 0.5472868217054263\", \"pudge - tiny - 0.6273932253313697\", \"pudge - vengefulspirit - 0.4660633484162896\"], [\"razor - antimage - 0.43103448275862066\", \"razor - axe - 0.4332129963898917\", \"razor - bane - 0.43636363636363634\", \"razor - bloodseeker - 0.3924050632911392\", \"razor - crystal_maiden - 0.4429223744292237\", \"razor - drow_ranger - 0.408\", \"razor - earthshaker - 0.5081081081081081\", \"razor - juggernaut - 0.4212328767123288\", \"razor - mirana - 0.41626794258373206\", \"razor - morphling - 0.49382716049382713\", \"razor - nevermore - 0.4708333333333333\", \"razor - phantom_lancer - 0.3803680981595092\", \"razor - puck - 0.5\", \"razor - pudge - 0.4452690166975881\", \"razor - razor - 0\", \"razor - sand_king - 0.5367647058823529\", \"razor - storm_spirit - 0.40764331210191085\", \"razor - sven - 0.4906832298136646\", \"razor - tiny - 0.5441176470588235\", \"razor - vengefulspirit - 0.36666666666666664\"], [\"sand_king - antimage - 0.43537414965986393\", \"sand_king - axe - 0.40428790199081166\", \"sand_king - bane - 0.5069444444444444\", \"sand_king - bloodseeker - 0.4176954732510288\", \"sand_king - crystal_maiden - 0.42105263157894735\", \"sand_king - drow_ranger - 0.4391025641025641\", \"sand_king - earthshaker - 0.43021032504780116\", \"sand_king - juggernaut - 0.45179063360881544\", \"sand_king - mirana - 0.43548387096774194\", \"sand_king - morphling - 0.4700460829493088\", \"sand_king - nevermore - 0.52428810720268\", \"sand_king - phantom_lancer - 0.48717948717948717\", \"sand_king - puck - 0.5675675675675675\", \"sand_king - pudge - 0.4377880184331797\", \"sand_king - razor - 0.5912408759124088\", \"sand_king - sand_king - 0\", \"sand_king - storm_spirit - 0.47146401985111663\", \"sand_king - sven - 0.41923076923076924\", \"sand_king - tiny - 0.5569620253164557\", \"sand_king - vengefulspirit - 0.37184115523465705\"], [\"storm_spirit - antimage - 0.4565483476132191\", \"storm_spirit - axe - 0.4234338747099768\", \"storm_spirit - bane - 0.494949494949495\", \"storm_spirit - bloodseeker - 0.4806007509386733\", \"storm_spirit - crystal_maiden - 0.43943298969072164\", \"storm_spirit - drow_ranger - 0.47101449275362317\", \"storm_spirit - earthshaker - 0.4794745484400657\", \"storm_spirit - juggernaut - 0.49150743099787686\", \"storm_spirit - mirana - 0.5319949811794228\", \"storm_spirit - morphling - 0.5255255255255256\", \"storm_spirit - nevermore - 0.5161290322580645\", \"storm_spirit - phantom_lancer - 0.49510763209393344\", \"storm_spirit - puck - 0.5291005291005291\", \"storm_spirit - pudge - 0.48213457076566124\", \"storm_spirit - razor - 0.583941605839416\", \"storm_spirit - sand_king - 0.5234567901234568\", \"storm_spirit - storm_spirit - 0\", \"storm_spirit - sven - 0.4444444444444444\", \"storm_spirit - tiny - 0.5757575757575758\", \"storm_spirit - vengefulspirit - 0.43922651933701656\"], [\"sven - antimage - 0.5619266055045872\", \"sven - axe - 0.455\", \"sven - bane - 0.5327868852459017\", \"sven - bloodseeker - 0.5\", \"sven - crystal_maiden - 0.4751131221719457\", \"sven - drow_ranger - 0.40993788819875776\", \"sven - earthshaker - 0.4867469879518072\", \"sven - juggernaut - 0.4881516587677725\", \"sven - mirana - 0.4658119658119658\", \"sven - morphling - 0.5426829268292683\", \"sven - nevermore - 0.5207547169811321\", \"sven - phantom_lancer - 0.5252387448840382\", \"sven - puck - 0.6082474226804123\", \"sven - pudge - 0.4684014869888476\", \"sven - razor - 0.5109489051094891\", \"sven - sand_king - 0.5113636363636364\", \"sven - storm_spirit - 0.5469798657718121\", \"sven - sven - 0\", \"sven - tiny - 0.5693430656934306\", \"sven - vengefulspirit - 0.39636363636363636\"], [\"tiny - antimage - 0.4594594594594595\", \"tiny - axe - 0.35106382978723405\", \"tiny - bane - 0.35\", \"tiny - bloodseeker - 0.3483606557377049\", \"tiny - crystal_maiden - 0.39826839826839827\", \"tiny - drow_ranger - 0.36645962732919257\", \"tiny - earthshaker - 0.4088888888888889\", \"tiny - juggernaut - 0.3866279069767442\", \"tiny - mirana - 0.4409090909090909\", \"tiny - morphling - 0.4\", \"tiny - nevermore - 0.3860294117647059\", \"tiny - phantom_lancer - 0.3558282208588957\", \"tiny - puck - 0.4714285714285714\", \"tiny - pudge - 0.40444444444444444\", \"tiny - razor - 0.4\", \"tiny - sand_king - 0.44\", \"tiny - storm_spirit - 0.42391304347826086\", \"tiny - sven - 0.47540983606557374\", \"tiny - tiny - 0\", \"tiny - vengefulspirit - 0.3888888888888889\"], [\"vengefulspirit - antimage - 0.5201900237529691\", \"vengefulspirit - axe - 0.47540983606557374\", \"vengefulspirit - bane - 0.582089552238806\", \"vengefulspirit - bloodseeker - 0.5243362831858407\", \"vengefulspirit - crystal_maiden - 0.4878048780487805\", \"vengefulspirit - drow_ranger - 0.5272727272727272\", \"vengefulspirit - earthshaker - 0.5576923076923077\", \"vengefulspirit - juggernaut - 0.5172890733056709\", \"vengefulspirit - mirana - 0.5433212996389891\", \"vengefulspirit - morphling - 0.5374449339207048\", \"vengefulspirit - nevermore - 0.5794392523364486\", \"vengefulspirit - phantom_lancer - 0.5277777777777778\", \"vengefulspirit - puck - 0.6101694915254238\", \"vengefulspirit - pudge - 0.5255663430420712\", \"vengefulspirit - razor - 0.6330935251798561\", \"vengefulspirit - sand_king - 0.5953307392996109\", \"vengefulspirit - storm_spirit - 0.6105263157894737\", \"vengefulspirit - sven - 0.5241635687732342\", \"vengefulspirit - tiny - 0.6351351351351351\", \"vengefulspirit - vengefulspirit - 0\"]], \"x\": [\"antimage\", \"axe\", \"bane\", \"bloodseeker\", \"crystal_maiden\", \"drow_ranger\", \"earthshaker\", \"juggernaut\", \"mirana\", \"morphling\", \"nevermore\", \"phantom_lancer\", \"puck\", \"pudge\", \"razor\", \"sand_king\", \"storm_spirit\", \"sven\", \"tiny\", \"vengefulspirit\"], \"y\": [\"antimage\", \"axe\", \"bane\", \"bloodseeker\", \"crystal_maiden\", \"drow_ranger\", \"earthshaker\", \"juggernaut\", \"mirana\", \"morphling\", \"nevermore\", \"phantom_lancer\", \"puck\", \"pudge\", \"razor\", \"sand_king\", \"storm_spirit\", \"sven\", \"tiny\", \"vengefulspirit\"], \"z\": [[0, 0.44220572640509015, 0.5388349514563107, 0.45593525179856115, 0.43561030235162373, 0.48226950354609927, 0.48942598187311176, 0.532617671345995, 0.5016648168701443, 0.5452322738386308, 0.5265017667844523, 0.4931506849315068, 0.5950920245398773, 0.47363757199822776, 0.4947916666666667, 0.5687645687645687, 0.5532934131736527, 0.5043290043290043, 0.59, 0.45925925925925926], [0.5851063829787234, 0, 0.5817490494296578, 0.5022583559168925, 0.5189639222941721, 0.5174731182795699, 0.5399792315680166, 0.5643627140139506, 0.5548936170212766, 0.6106194690265486, 0.6091148115687993, 0.5544692737430168, 0.6425339366515838, 0.49906542056074765, 0.5592592592592592, 0.5645412130637636, 0.5637254901960784, 0.5391304347826087, 0.6303501945525292, 0.4811643835616438], [0.4875, 0.4402730375426621, 0, 0.40789473684210525, 0.46953405017921146, 0.4195804195804196, 0.4427860696517413, 0.5213414634146342, 0.49019607843137253, 0.48863636363636365, 0.5228215767634855, 0.39893617021276595, 0.5660377358490566, 0.4172661870503597, 0.4936708860759494, 0.5808823529411765, 0.4393939393939394, 0.5303030303030303, 0.48333333333333334, 0.38926174496644295], [0.5740913327120224, 0.4878253568429891, 0.5630630630630631, 0, 0.49948506694129763, 0.5139372822299652, 0.5242346938775511, 0.5382716049382716, 0.5179119754350051, 0.5768261964735516, 0.5853131749460043, 0.4930662557781202, 0.5879629629629629, 0.5011904761904762, 0.583710407239819, 0.6175908221797323, 0.49525101763907736, 0.5079726651480638, 0.6296296296296297, 0.5152173913043478], [0.5593824228028503, 0.5283363802559415, 0.5139442231075697, 0.522083805209513, 0, 0.5159235668789809, 0.5209790209790209, 0.5376425855513308, 0.5382513661202186, 0.5800970873786407, 0.5805439330543933, 0.5492063492063493, 0.7083333333333334, 0.5078702216511404, 0.56, 0.570873786407767, 0.5266106442577031, 0.5306553911205074, 0.6220472440944882, 0.48056537102473496], [0.5561312607944733, 0.46017699115044247, 0.5448717948717948, 0.4743362831858407, 0.4851190476190476, 0, 0.46830265848670755, 0.5831234256926953, 0.4985835694050991, 0.5966101694915255, 0.5810147299509002, 0.4398976982097187, 0.6201550387596899, 0.4866151100535396, 0.5985401459854015, 0.5609756097560976, 0.5368171021377672, 0.53125, 0.6058823529411764, 0.5304054054054054], [0.5237366003062787, 0.4505183788878417, 0.5652173913043478, 0.4738219895287958, 0.4773445732349842, 0.46732673267326735, 0, 0.504941599281222, 0.4911111111111111, 0.534375, 0.5243243243243243, 0.5159967186218212, 0.5922330097087378, 0.49364069952305245, 0.5421686746987951, 0.5851979345955249, 0.5015673981191222, 0.47139588100686497, 0.5630252100840336, 0.4515366430260047], [0.4925893635571055, 0.44902912621359226, 0.5283582089552239, 0.4679966749792186, 0.4730229120473023, 0.46534653465346537, 0.4907578558225508, 0, 0.525411596277738, 0.5341726618705036, 0.548472775564409, 0.4852941176470588, 0.5964285714285714, 0.4658085277554304, 0.5570032573289903, 0.5496774193548387, 0.509825327510917, 0.4776357827476038, 0.6, 0.4378531073446328], [0.5083240843507214, 0.43033800494641383, 0.5742971887550201, 0.4640394088669951, 0.4879518072289157, 0.48111658456486045, 0.46625129802699894, 0.5007299270072992, 0, 0.556745182012848, 0.5498652291105122, 0.5045317220543807, 0.5, 0.4778734778734779, 0.5755102040816327, 0.5466666666666666, 0.5340179717586649, 0.5142857142857142, 0.5802469135802469, 0.4759259259259259], [0.44339622641509435, 0.4043956043956044, 0.47959183673469385, 0.4475703324808184, 0.408983451536643, 0.4657039711191336, 0.4837758112094395, 0.5, 0.4276315789473684, 0, 0.511482254697286, 0.43109540636042404, 0.4411764705882353, 0.4587843463780183, 0.49019607843137253, 0.5173913043478261, 0.4778156996587031, 0.4635416666666667, 0.5701754385964912, 0.34801762114537443], [0.4359903381642512, 0.38762214983713356, 0.5203252032520326, 0.4160659114315139, 0.41970443349753694, 0.432510885341074, 0.46808510638297873, 0.4117647058823529, 0.45382585751978893, 0.5, 0, 0.43529411764705883, 0.5396825396825397, 0.4134206219312602, 0.5625, 0.5172413793103449, 0.46445497630331756, 0.4343807763401109, 0.5551724137931034, 0.3981651376146789], [0.4720616570327553, 0.45123537061118335, 0.6108108108108108, 0.5056, 0.43962848297213625, 0.5431235431235432, 0.4796812749003984, 0.4901185770750988, 0.48519736842105265, 0.5488215488215489, 0.5459610027855153, 0, 0.5769230769230769, 0.5073115860517435, 0.6242424242424243, 0.48021108179419525, 0.4912663755458515, 0.4675141242937853, 0.6526946107784432, 0.49137931034482757], [0.40414507772020725, 0.31063829787234043, 0.43103448275862066, 0.41081081081081083, 0.3385416666666667, 0.4084507042253521, 0.42105263157894735, 0.359375, 0.4206008583690987, 0.5147058823529411, 0.4326530612244898, 0.4244604316546763, 0, 0.4027777777777778, 0.37735849056603776, 0.5263157894736842, 0.41875, 0.4392523364485981, 0.4074074074074074, 0.3728813559322034], [0.5156669650850493, 0.4995507637017071, 0.554904831625183, 0.5246913580246914, 0.5015069318866787, 0.5054131054131055, 0.51636503658067, 0.5233441910966341, 0.5226013414989793, 0.5604217356042174, 0.585163007318696, 0.4898078043098428, 0.6091954022988506, 0, 0.5881226053639846, 0.5798588838999359, 0.5370731707317074, 0.5472868217054263, 0.6273932253313697, 0.4660633484162896], [0.43103448275862066, 0.4332129963898917, 0.43636363636363634, 0.3924050632911392, 0.4429223744292237, 0.408, 0.5081081081081081, 0.4212328767123288, 0.41626794258373206, 0.49382716049382713, 0.4708333333333333, 0.3803680981595092, 0.5, 0.4452690166975881, 0, 0.5367647058823529, 0.40764331210191085, 0.4906832298136646, 0.5441176470588235, 0.36666666666666664], [0.43537414965986393, 0.40428790199081166, 0.5069444444444444, 0.4176954732510288, 0.42105263157894735, 0.4391025641025641, 0.43021032504780116, 0.45179063360881544, 0.43548387096774194, 0.4700460829493088, 0.52428810720268, 0.48717948717948717, 0.5675675675675675, 0.4377880184331797, 0.5912408759124088, 0, 0.47146401985111663, 0.41923076923076924, 0.5569620253164557, 0.37184115523465705], [0.4565483476132191, 0.4234338747099768, 0.494949494949495, 0.4806007509386733, 0.43943298969072164, 0.47101449275362317, 0.4794745484400657, 0.49150743099787686, 0.5319949811794228, 0.5255255255255256, 0.5161290322580645, 0.49510763209393344, 0.5291005291005291, 0.48213457076566124, 0.583941605839416, 0.5234567901234568, 0, 0.4444444444444444, 0.5757575757575758, 0.43922651933701656], [0.5619266055045872, 0.455, 0.5327868852459017, 0.5, 0.4751131221719457, 0.40993788819875776, 0.4867469879518072, 0.4881516587677725, 0.4658119658119658, 0.5426829268292683, 0.5207547169811321, 0.5252387448840382, 0.6082474226804123, 0.4684014869888476, 0.5109489051094891, 0.5113636363636364, 0.5469798657718121, 0, 0.5693430656934306, 0.39636363636363636], [0.4594594594594595, 0.35106382978723405, 0.35, 0.3483606557377049, 0.39826839826839827, 0.36645962732919257, 0.4088888888888889, 0.3866279069767442, 0.4409090909090909, 0.4, 0.3860294117647059, 0.3558282208588957, 0.4714285714285714, 0.40444444444444444, 0.4, 0.44, 0.42391304347826086, 0.47540983606557374, 0, 0.3888888888888889], [0.5201900237529691, 0.47540983606557374, 0.582089552238806, 0.5243362831858407, 0.4878048780487805, 0.5272727272727272, 0.5576923076923077, 0.5172890733056709, 0.5433212996389891, 0.5374449339207048, 0.5794392523364486, 0.5277777777777778, 0.6101694915254238, 0.5255663430420712, 0.6330935251798561, 0.5953307392996109, 0.6105263157894737, 0.5241635687732342, 0.6351351351351351, 0]], \"type\": \"heatmap\", \"uid\": \"1ddc30de-9dd8-11e8-8aa7-1c1b0d9ee69f\"}],\n",
       "            {\"annotations\": [{\"font\": {\"color\": \"#FFFFFF\"}, \"showarrow\": false, \"text\": \"\", \"x\": \"antimage\", \"xref\": \"x\", \"y\": \"antimage\", \"yref\": \"y\"}, {\"font\": {\"color\": \"#000000\"}, \"showarrow\": false, \"text\": \"\", \"x\": \"axe\", \"xref\": \"x\", \"y\": \"antimage\", \"yref\": \"y\"}, {\"font\": {\"color\": \"#000000\"}, \"showarrow\": false, \"text\": \"\", \"x\": \"bane\", \"xref\": \"x\", \"y\": \"antimage\", \"yref\": \"y\"}, {\"font\": {\"color\": \"#000000\"}, \"showarrow\": false, \"text\": \"\", \"x\": \"bloodseeker\", \"xref\": \"x\", \"y\": \"antimage\", \"yref\": \"y\"}, {\"font\": {\"color\": \"#000000\"}, \"showarrow\": false, \"text\": \"\", \"x\": \"crystal_maiden\", \"xref\": \"x\", \"y\": \"antimage\", \"yref\": \"y\"}, {\"font\": {\"color\": \"#000000\"}, \"showarrow\": false, \"text\": \"\", \"x\": \"drow_ranger\", \"xref\": \"x\", \"y\": \"antimage\", \"yref\": \"y\"}, {\"font\": {\"color\": \"#000000\"}, \"showarrow\": false, \"text\": \"\", \"x\": \"earthshaker\", \"xref\": \"x\", \"y\": \"antimage\", \"yref\": \"y\"}, {\"font\": {\"color\": \"#000000\"}, \"showarrow\": false, \"text\": \"\", \"x\": \"juggernaut\", \"xref\": \"x\", \"y\": \"antimage\", \"yref\": \"y\"}, {\"font\": {\"color\": \"#000000\"}, \"showarrow\": false, \"text\": \"\", \"x\": \"mirana\", \"xref\": \"x\", \"y\": \"antimage\", \"yref\": \"y\"}, {\"font\": {\"color\": \"#000000\"}, \"showarrow\": false, \"text\": \"\", \"x\": \"morphling\", \"xref\": \"x\", \"y\": \"antimage\", \"yref\": \"y\"}, {\"font\": {\"color\": \"#000000\"}, \"showarrow\": false, \"text\": \"\", \"x\": \"nevermore\", \"xref\": \"x\", \"y\": \"antimage\", \"yref\": \"y\"}, {\"font\": {\"color\": \"#000000\"}, \"showarrow\": false, \"text\": \"\", \"x\": \"phantom_lancer\", \"xref\": \"x\", \"y\": \"antimage\", \"yref\": \"y\"}, {\"font\": {\"color\": \"#000000\"}, \"showarrow\": false, \"text\": \"\", \"x\": \"puck\", \"xref\": \"x\", \"y\": \"antimage\", \"yref\": \"y\"}, {\"font\": {\"color\": \"#000000\"}, \"showarrow\": false, \"text\": \"\", \"x\": \"pudge\", \"xref\": \"x\", \"y\": \"antimage\", \"yref\": \"y\"}, {\"font\": {\"color\": \"#000000\"}, \"showarrow\": false, \"text\": \"\", \"x\": \"razor\", \"xref\": \"x\", \"y\": \"antimage\", \"yref\": \"y\"}, {\"font\": {\"color\": \"#000000\"}, \"showarrow\": false, \"text\": \"\", \"x\": \"sand_king\", \"xref\": \"x\", \"y\": \"antimage\", \"yref\": \"y\"}, {\"font\": {\"color\": \"#000000\"}, \"showarrow\": false, \"text\": \"\", \"x\": \"storm_spirit\", \"xref\": \"x\", \"y\": \"antimage\", \"yref\": \"y\"}, {\"font\": {\"color\": \"#000000\"}, \"showarrow\": false, \"text\": \"\", \"x\": \"sven\", \"xref\": \"x\", \"y\": \"antimage\", \"yref\": \"y\"}, {\"font\": {\"color\": \"#000000\"}, \"showarrow\": false, \"text\": \"\", \"x\": \"tiny\", \"xref\": \"x\", \"y\": \"antimage\", \"yref\": \"y\"}, {\"font\": {\"color\": \"#000000\"}, \"showarrow\": false, \"text\": \"\", \"x\": \"vengefulspirit\", \"xref\": \"x\", \"y\": \"antimage\", \"yref\": \"y\"}, {\"font\": {\"color\": \"#000000\"}, \"showarrow\": false, \"text\": \"\", \"x\": \"antimage\", \"xref\": \"x\", \"y\": \"axe\", \"yref\": \"y\"}, {\"font\": {\"color\": \"#FFFFFF\"}, \"showarrow\": false, \"text\": \"\", \"x\": \"axe\", \"xref\": \"x\", \"y\": \"axe\", \"yref\": \"y\"}, {\"font\": {\"color\": \"#000000\"}, \"showarrow\": false, \"text\": \"\", \"x\": \"bane\", \"xref\": \"x\", \"y\": \"axe\", \"yref\": \"y\"}, {\"font\": {\"color\": \"#000000\"}, \"showarrow\": false, \"text\": \"\", \"x\": \"bloodseeker\", \"xref\": \"x\", \"y\": \"axe\", \"yref\": \"y\"}, {\"font\": {\"color\": \"#000000\"}, \"showarrow\": false, \"text\": \"\", \"x\": \"crystal_maiden\", \"xref\": \"x\", \"y\": \"axe\", \"yref\": \"y\"}, {\"font\": {\"color\": \"#000000\"}, \"showarrow\": false, \"text\": \"\", \"x\": \"drow_ranger\", \"xref\": \"x\", \"y\": \"axe\", \"yref\": \"y\"}, {\"font\": {\"color\": \"#000000\"}, \"showarrow\": false, \"text\": \"\", \"x\": \"earthshaker\", \"xref\": \"x\", \"y\": \"axe\", \"yref\": \"y\"}, {\"font\": {\"color\": \"#000000\"}, \"showarrow\": false, \"text\": \"\", \"x\": \"juggernaut\", \"xref\": \"x\", \"y\": \"axe\", \"yref\": \"y\"}, {\"font\": {\"color\": \"#000000\"}, \"showarrow\": false, \"text\": \"\", \"x\": \"mirana\", \"xref\": \"x\", \"y\": \"axe\", \"yref\": \"y\"}, {\"font\": {\"color\": \"#000000\"}, \"showarrow\": false, \"text\": \"\", \"x\": \"morphling\", \"xref\": \"x\", \"y\": \"axe\", \"yref\": \"y\"}, {\"font\": {\"color\": \"#000000\"}, \"showarrow\": false, \"text\": \"\", \"x\": \"nevermore\", \"xref\": \"x\", \"y\": \"axe\", \"yref\": \"y\"}, {\"font\": {\"color\": \"#000000\"}, \"showarrow\": false, \"text\": \"\", \"x\": \"phantom_lancer\", \"xref\": \"x\", \"y\": \"axe\", \"yref\": \"y\"}, {\"font\": {\"color\": \"#000000\"}, \"showarrow\": false, \"text\": \"\", \"x\": \"puck\", \"xref\": \"x\", \"y\": \"axe\", \"yref\": \"y\"}, {\"font\": {\"color\": \"#000000\"}, \"showarrow\": false, \"text\": \"\", \"x\": \"pudge\", \"xref\": \"x\", \"y\": \"axe\", \"yref\": \"y\"}, {\"font\": {\"color\": \"#000000\"}, \"showarrow\": false, \"text\": \"\", \"x\": \"razor\", \"xref\": \"x\", \"y\": \"axe\", \"yref\": \"y\"}, {\"font\": {\"color\": \"#000000\"}, \"showarrow\": false, \"text\": \"\", \"x\": \"sand_king\", \"xref\": \"x\", \"y\": \"axe\", \"yref\": \"y\"}, {\"font\": {\"color\": \"#000000\"}, \"showarrow\": false, \"text\": \"\", \"x\": \"storm_spirit\", \"xref\": \"x\", \"y\": \"axe\", \"yref\": \"y\"}, {\"font\": {\"color\": \"#000000\"}, \"showarrow\": false, \"text\": \"\", \"x\": \"sven\", \"xref\": \"x\", \"y\": \"axe\", \"yref\": \"y\"}, {\"font\": {\"color\": \"#000000\"}, \"showarrow\": false, \"text\": \"\", \"x\": \"tiny\", \"xref\": \"x\", \"y\": \"axe\", \"yref\": \"y\"}, {\"font\": {\"color\": \"#000000\"}, \"showarrow\": false, \"text\": \"\", \"x\": \"vengefulspirit\", \"xref\": \"x\", \"y\": \"axe\", \"yref\": \"y\"}, {\"font\": {\"color\": \"#000000\"}, \"showarrow\": false, \"text\": \"\", \"x\": \"antimage\", \"xref\": \"x\", \"y\": \"bane\", \"yref\": \"y\"}, {\"font\": {\"color\": \"#000000\"}, \"showarrow\": false, \"text\": \"\", \"x\": \"axe\", \"xref\": \"x\", \"y\": \"bane\", \"yref\": \"y\"}, {\"font\": {\"color\": \"#FFFFFF\"}, \"showarrow\": false, \"text\": \"\", \"x\": \"bane\", \"xref\": \"x\", \"y\": \"bane\", \"yref\": \"y\"}, {\"font\": {\"color\": \"#000000\"}, \"showarrow\": false, \"text\": \"\", \"x\": \"bloodseeker\", \"xref\": \"x\", \"y\": \"bane\", \"yref\": \"y\"}, {\"font\": {\"color\": \"#000000\"}, \"showarrow\": false, \"text\": \"\", \"x\": \"crystal_maiden\", \"xref\": \"x\", \"y\": \"bane\", \"yref\": \"y\"}, {\"font\": {\"color\": \"#000000\"}, \"showarrow\": false, \"text\": \"\", \"x\": \"drow_ranger\", \"xref\": \"x\", \"y\": \"bane\", \"yref\": \"y\"}, {\"font\": {\"color\": \"#000000\"}, \"showarrow\": false, \"text\": \"\", \"x\": \"earthshaker\", \"xref\": \"x\", \"y\": \"bane\", \"yref\": \"y\"}, {\"font\": {\"color\": \"#000000\"}, \"showarrow\": false, \"text\": \"\", \"x\": \"juggernaut\", \"xref\": \"x\", \"y\": \"bane\", \"yref\": \"y\"}, {\"font\": {\"color\": \"#000000\"}, \"showarrow\": false, \"text\": \"\", \"x\": \"mirana\", \"xref\": \"x\", \"y\": \"bane\", \"yref\": \"y\"}, {\"font\": {\"color\": \"#000000\"}, \"showarrow\": false, \"text\": \"\", \"x\": \"morphling\", \"xref\": \"x\", \"y\": \"bane\", \"yref\": \"y\"}, {\"font\": {\"color\": \"#000000\"}, \"showarrow\": false, \"text\": \"\", \"x\": \"nevermore\", \"xref\": \"x\", \"y\": \"bane\", \"yref\": \"y\"}, {\"font\": {\"color\": \"#000000\"}, \"showarrow\": false, \"text\": \"\", \"x\": \"phantom_lancer\", \"xref\": \"x\", \"y\": \"bane\", \"yref\": \"y\"}, {\"font\": {\"color\": \"#000000\"}, \"showarrow\": false, \"text\": \"\", \"x\": \"puck\", \"xref\": \"x\", \"y\": \"bane\", \"yref\": \"y\"}, {\"font\": {\"color\": \"#000000\"}, \"showarrow\": false, \"text\": \"\", \"x\": \"pudge\", \"xref\": \"x\", \"y\": \"bane\", \"yref\": \"y\"}, {\"font\": {\"color\": \"#000000\"}, \"showarrow\": false, \"text\": \"\", \"x\": \"razor\", \"xref\": \"x\", \"y\": \"bane\", \"yref\": \"y\"}, {\"font\": {\"color\": \"#000000\"}, \"showarrow\": false, \"text\": \"\", \"x\": \"sand_king\", \"xref\": \"x\", \"y\": \"bane\", \"yref\": \"y\"}, {\"font\": {\"color\": \"#000000\"}, \"showarrow\": false, \"text\": \"\", \"x\": \"storm_spirit\", \"xref\": \"x\", \"y\": \"bane\", \"yref\": \"y\"}, {\"font\": {\"color\": \"#000000\"}, \"showarrow\": false, \"text\": \"\", \"x\": \"sven\", \"xref\": \"x\", \"y\": \"bane\", \"yref\": \"y\"}, {\"font\": {\"color\": \"#000000\"}, \"showarrow\": false, \"text\": \"\", \"x\": \"tiny\", \"xref\": \"x\", \"y\": \"bane\", \"yref\": \"y\"}, {\"font\": {\"color\": \"#000000\"}, \"showarrow\": false, \"text\": \"\", \"x\": \"vengefulspirit\", \"xref\": \"x\", \"y\": \"bane\", \"yref\": \"y\"}, {\"font\": {\"color\": \"#000000\"}, \"showarrow\": false, \"text\": \"\", \"x\": \"antimage\", \"xref\": \"x\", \"y\": \"bloodseeker\", \"yref\": \"y\"}, {\"font\": {\"color\": \"#000000\"}, \"showarrow\": false, \"text\": \"\", \"x\": \"axe\", \"xref\": \"x\", \"y\": \"bloodseeker\", \"yref\": \"y\"}, {\"font\": {\"color\": \"#000000\"}, \"showarrow\": false, \"text\": \"\", \"x\": \"bane\", \"xref\": \"x\", \"y\": \"bloodseeker\", \"yref\": \"y\"}, {\"font\": {\"color\": \"#FFFFFF\"}, \"showarrow\": false, \"text\": \"\", \"x\": \"bloodseeker\", \"xref\": \"x\", \"y\": \"bloodseeker\", \"yref\": \"y\"}, {\"font\": {\"color\": \"#000000\"}, \"showarrow\": false, \"text\": \"\", \"x\": \"crystal_maiden\", \"xref\": \"x\", \"y\": \"bloodseeker\", \"yref\": \"y\"}, {\"font\": {\"color\": \"#000000\"}, \"showarrow\": false, \"text\": \"\", \"x\": \"drow_ranger\", \"xref\": \"x\", \"y\": \"bloodseeker\", \"yref\": \"y\"}, {\"font\": {\"color\": \"#000000\"}, \"showarrow\": false, \"text\": \"\", \"x\": \"earthshaker\", \"xref\": \"x\", \"y\": \"bloodseeker\", \"yref\": \"y\"}, {\"font\": {\"color\": \"#000000\"}, \"showarrow\": false, \"text\": \"\", \"x\": \"juggernaut\", \"xref\": \"x\", \"y\": \"bloodseeker\", \"yref\": \"y\"}, {\"font\": {\"color\": \"#000000\"}, \"showarrow\": false, \"text\": \"\", \"x\": \"mirana\", \"xref\": \"x\", \"y\": \"bloodseeker\", \"yref\": \"y\"}, {\"font\": {\"color\": \"#000000\"}, \"showarrow\": false, \"text\": \"\", \"x\": \"morphling\", \"xref\": \"x\", \"y\": \"bloodseeker\", \"yref\": \"y\"}, {\"font\": {\"color\": \"#000000\"}, \"showarrow\": false, \"text\": \"\", \"x\": \"nevermore\", \"xref\": \"x\", \"y\": \"bloodseeker\", \"yref\": \"y\"}, {\"font\": {\"color\": \"#000000\"}, \"showarrow\": false, \"text\": \"\", \"x\": \"phantom_lancer\", \"xref\": \"x\", \"y\": \"bloodseeker\", \"yref\": \"y\"}, {\"font\": {\"color\": \"#000000\"}, \"showarrow\": false, \"text\": \"\", \"x\": \"puck\", \"xref\": \"x\", \"y\": \"bloodseeker\", \"yref\": \"y\"}, {\"font\": {\"color\": \"#000000\"}, \"showarrow\": false, \"text\": \"\", \"x\": \"pudge\", \"xref\": \"x\", \"y\": \"bloodseeker\", \"yref\": \"y\"}, {\"font\": {\"color\": \"#000000\"}, \"showarrow\": false, \"text\": \"\", \"x\": \"razor\", \"xref\": \"x\", \"y\": \"bloodseeker\", \"yref\": \"y\"}, {\"font\": {\"color\": \"#000000\"}, \"showarrow\": false, \"text\": \"\", \"x\": \"sand_king\", \"xref\": \"x\", \"y\": \"bloodseeker\", \"yref\": \"y\"}, {\"font\": {\"color\": \"#000000\"}, \"showarrow\": false, \"text\": \"\", \"x\": \"storm_spirit\", \"xref\": \"x\", \"y\": \"bloodseeker\", \"yref\": \"y\"}, {\"font\": {\"color\": \"#000000\"}, \"showarrow\": false, \"text\": \"\", \"x\": \"sven\", \"xref\": \"x\", \"y\": \"bloodseeker\", \"yref\": \"y\"}, {\"font\": {\"color\": \"#000000\"}, \"showarrow\": false, \"text\": \"\", \"x\": \"tiny\", \"xref\": \"x\", \"y\": \"bloodseeker\", \"yref\": \"y\"}, {\"font\": {\"color\": \"#000000\"}, \"showarrow\": false, \"text\": \"\", \"x\": \"vengefulspirit\", \"xref\": \"x\", \"y\": \"bloodseeker\", \"yref\": \"y\"}, {\"font\": {\"color\": \"#000000\"}, \"showarrow\": false, \"text\": \"\", \"x\": \"antimage\", \"xref\": \"x\", \"y\": \"crystal_maiden\", \"yref\": \"y\"}, {\"font\": {\"color\": \"#000000\"}, \"showarrow\": false, \"text\": \"\", \"x\": \"axe\", \"xref\": \"x\", \"y\": \"crystal_maiden\", \"yref\": \"y\"}, {\"font\": {\"color\": \"#000000\"}, \"showarrow\": false, \"text\": \"\", \"x\": \"bane\", \"xref\": \"x\", \"y\": \"crystal_maiden\", \"yref\": \"y\"}, {\"font\": {\"color\": \"#000000\"}, \"showarrow\": false, \"text\": \"\", \"x\": \"bloodseeker\", \"xref\": \"x\", \"y\": \"crystal_maiden\", \"yref\": \"y\"}, {\"font\": {\"color\": \"#FFFFFF\"}, \"showarrow\": false, \"text\": \"\", \"x\": \"crystal_maiden\", \"xref\": \"x\", \"y\": \"crystal_maiden\", \"yref\": \"y\"}, {\"font\": {\"color\": \"#000000\"}, \"showarrow\": false, \"text\": \"\", \"x\": \"drow_ranger\", \"xref\": \"x\", \"y\": \"crystal_maiden\", \"yref\": \"y\"}, {\"font\": {\"color\": \"#000000\"}, \"showarrow\": false, \"text\": \"\", \"x\": \"earthshaker\", \"xref\": \"x\", \"y\": \"crystal_maiden\", \"yref\": \"y\"}, {\"font\": {\"color\": \"#000000\"}, \"showarrow\": false, \"text\": \"\", \"x\": \"juggernaut\", \"xref\": \"x\", \"y\": \"crystal_maiden\", \"yref\": \"y\"}, {\"font\": {\"color\": \"#000000\"}, \"showarrow\": false, \"text\": \"\", \"x\": \"mirana\", \"xref\": \"x\", \"y\": \"crystal_maiden\", \"yref\": \"y\"}, {\"font\": {\"color\": \"#000000\"}, \"showarrow\": false, \"text\": \"\", \"x\": \"morphling\", \"xref\": \"x\", \"y\": \"crystal_maiden\", \"yref\": \"y\"}, {\"font\": {\"color\": \"#000000\"}, \"showarrow\": false, \"text\": \"\", \"x\": \"nevermore\", \"xref\": \"x\", \"y\": \"crystal_maiden\", \"yref\": \"y\"}, {\"font\": {\"color\": \"#000000\"}, \"showarrow\": false, \"text\": \"\", \"x\": \"phantom_lancer\", \"xref\": \"x\", \"y\": \"crystal_maiden\", \"yref\": \"y\"}, {\"font\": {\"color\": \"#000000\"}, \"showarrow\": false, \"text\": \"\", \"x\": \"puck\", \"xref\": \"x\", \"y\": \"crystal_maiden\", \"yref\": \"y\"}, {\"font\": {\"color\": \"#000000\"}, \"showarrow\": false, \"text\": \"\", \"x\": \"pudge\", \"xref\": \"x\", \"y\": \"crystal_maiden\", \"yref\": \"y\"}, {\"font\": {\"color\": \"#000000\"}, \"showarrow\": false, \"text\": \"\", \"x\": \"razor\", \"xref\": \"x\", \"y\": \"crystal_maiden\", \"yref\": \"y\"}, {\"font\": {\"color\": \"#000000\"}, \"showarrow\": false, \"text\": \"\", \"x\": \"sand_king\", \"xref\": \"x\", \"y\": \"crystal_maiden\", \"yref\": \"y\"}, {\"font\": {\"color\": \"#000000\"}, \"showarrow\": false, \"text\": \"\", \"x\": \"storm_spirit\", \"xref\": \"x\", \"y\": \"crystal_maiden\", \"yref\": \"y\"}, {\"font\": {\"color\": \"#000000\"}, \"showarrow\": false, \"text\": \"\", \"x\": \"sven\", \"xref\": \"x\", \"y\": \"crystal_maiden\", \"yref\": \"y\"}, {\"font\": {\"color\": \"#000000\"}, \"showarrow\": false, \"text\": \"\", \"x\": \"tiny\", \"xref\": \"x\", \"y\": \"crystal_maiden\", \"yref\": \"y\"}, {\"font\": {\"color\": \"#000000\"}, \"showarrow\": false, \"text\": \"\", \"x\": \"vengefulspirit\", \"xref\": \"x\", \"y\": \"crystal_maiden\", \"yref\": \"y\"}, {\"font\": {\"color\": \"#000000\"}, \"showarrow\": false, \"text\": \"\", \"x\": \"antimage\", \"xref\": \"x\", \"y\": \"drow_ranger\", \"yref\": \"y\"}, {\"font\": {\"color\": \"#000000\"}, \"showarrow\": false, \"text\": \"\", \"x\": \"axe\", \"xref\": \"x\", \"y\": \"drow_ranger\", \"yref\": \"y\"}, {\"font\": {\"color\": \"#000000\"}, \"showarrow\": false, \"text\": \"\", \"x\": \"bane\", \"xref\": \"x\", \"y\": \"drow_ranger\", \"yref\": \"y\"}, {\"font\": {\"color\": \"#000000\"}, \"showarrow\": false, \"text\": \"\", \"x\": \"bloodseeker\", \"xref\": \"x\", \"y\": \"drow_ranger\", \"yref\": \"y\"}, {\"font\": {\"color\": \"#000000\"}, \"showarrow\": false, \"text\": \"\", \"x\": \"crystal_maiden\", \"xref\": \"x\", \"y\": \"drow_ranger\", \"yref\": \"y\"}, {\"font\": {\"color\": \"#FFFFFF\"}, \"showarrow\": false, \"text\": \"\", \"x\": \"drow_ranger\", \"xref\": \"x\", \"y\": \"drow_ranger\", \"yref\": \"y\"}, {\"font\": {\"color\": \"#000000\"}, \"showarrow\": false, \"text\": \"\", \"x\": \"earthshaker\", \"xref\": \"x\", \"y\": \"drow_ranger\", \"yref\": \"y\"}, {\"font\": {\"color\": \"#000000\"}, \"showarrow\": false, \"text\": \"\", \"x\": \"juggernaut\", \"xref\": \"x\", \"y\": \"drow_ranger\", \"yref\": \"y\"}, {\"font\": {\"color\": \"#000000\"}, \"showarrow\": false, \"text\": \"\", \"x\": \"mirana\", \"xref\": \"x\", \"y\": \"drow_ranger\", \"yref\": \"y\"}, {\"font\": {\"color\": \"#000000\"}, \"showarrow\": false, \"text\": \"\", \"x\": \"morphling\", \"xref\": \"x\", \"y\": \"drow_ranger\", \"yref\": \"y\"}, {\"font\": {\"color\": \"#000000\"}, \"showarrow\": false, \"text\": \"\", \"x\": \"nevermore\", \"xref\": \"x\", \"y\": \"drow_ranger\", \"yref\": \"y\"}, {\"font\": {\"color\": \"#000000\"}, \"showarrow\": false, \"text\": \"\", \"x\": \"phantom_lancer\", \"xref\": \"x\", \"y\": \"drow_ranger\", \"yref\": \"y\"}, {\"font\": {\"color\": \"#000000\"}, \"showarrow\": false, \"text\": \"\", \"x\": \"puck\", \"xref\": \"x\", \"y\": \"drow_ranger\", \"yref\": \"y\"}, {\"font\": {\"color\": \"#000000\"}, \"showarrow\": false, \"text\": \"\", \"x\": \"pudge\", \"xref\": \"x\", \"y\": \"drow_ranger\", \"yref\": \"y\"}, {\"font\": {\"color\": \"#000000\"}, \"showarrow\": false, \"text\": \"\", \"x\": \"razor\", \"xref\": \"x\", \"y\": \"drow_ranger\", \"yref\": \"y\"}, {\"font\": {\"color\": \"#000000\"}, \"showarrow\": false, \"text\": \"\", \"x\": \"sand_king\", \"xref\": \"x\", \"y\": \"drow_ranger\", \"yref\": \"y\"}, {\"font\": {\"color\": \"#000000\"}, \"showarrow\": false, \"text\": \"\", \"x\": \"storm_spirit\", \"xref\": \"x\", \"y\": \"drow_ranger\", \"yref\": \"y\"}, {\"font\": {\"color\": \"#000000\"}, \"showarrow\": false, \"text\": \"\", \"x\": \"sven\", \"xref\": \"x\", \"y\": \"drow_ranger\", \"yref\": \"y\"}, {\"font\": {\"color\": \"#000000\"}, \"showarrow\": false, \"text\": \"\", \"x\": \"tiny\", \"xref\": \"x\", \"y\": \"drow_ranger\", \"yref\": \"y\"}, {\"font\": {\"color\": \"#000000\"}, \"showarrow\": false, \"text\": \"\", \"x\": \"vengefulspirit\", \"xref\": \"x\", \"y\": \"drow_ranger\", \"yref\": \"y\"}, {\"font\": {\"color\": \"#000000\"}, \"showarrow\": false, \"text\": \"\", \"x\": \"antimage\", \"xref\": \"x\", \"y\": \"earthshaker\", \"yref\": \"y\"}, {\"font\": {\"color\": \"#000000\"}, \"showarrow\": false, \"text\": \"\", \"x\": \"axe\", \"xref\": \"x\", \"y\": \"earthshaker\", \"yref\": \"y\"}, {\"font\": {\"color\": \"#000000\"}, \"showarrow\": false, \"text\": \"\", \"x\": \"bane\", \"xref\": \"x\", \"y\": \"earthshaker\", \"yref\": \"y\"}, {\"font\": {\"color\": \"#000000\"}, \"showarrow\": false, \"text\": \"\", \"x\": \"bloodseeker\", \"xref\": \"x\", \"y\": \"earthshaker\", \"yref\": \"y\"}, {\"font\": {\"color\": \"#000000\"}, \"showarrow\": false, \"text\": \"\", \"x\": \"crystal_maiden\", \"xref\": \"x\", \"y\": \"earthshaker\", \"yref\": \"y\"}, {\"font\": {\"color\": \"#000000\"}, \"showarrow\": false, \"text\": \"\", \"x\": \"drow_ranger\", \"xref\": \"x\", \"y\": \"earthshaker\", \"yref\": \"y\"}, {\"font\": {\"color\": \"#FFFFFF\"}, \"showarrow\": false, \"text\": \"\", \"x\": \"earthshaker\", \"xref\": \"x\", \"y\": \"earthshaker\", \"yref\": \"y\"}, {\"font\": {\"color\": \"#000000\"}, \"showarrow\": false, \"text\": \"\", \"x\": \"juggernaut\", \"xref\": \"x\", \"y\": \"earthshaker\", \"yref\": \"y\"}, {\"font\": {\"color\": \"#000000\"}, \"showarrow\": false, \"text\": \"\", \"x\": \"mirana\", \"xref\": \"x\", \"y\": \"earthshaker\", \"yref\": \"y\"}, {\"font\": {\"color\": \"#000000\"}, \"showarrow\": false, \"text\": \"\", \"x\": \"morphling\", \"xref\": \"x\", \"y\": \"earthshaker\", \"yref\": \"y\"}, {\"font\": {\"color\": \"#000000\"}, \"showarrow\": false, \"text\": \"\", \"x\": \"nevermore\", \"xref\": \"x\", \"y\": \"earthshaker\", \"yref\": \"y\"}, {\"font\": {\"color\": \"#000000\"}, \"showarrow\": false, \"text\": \"\", \"x\": \"phantom_lancer\", \"xref\": \"x\", \"y\": \"earthshaker\", \"yref\": \"y\"}, {\"font\": {\"color\": \"#000000\"}, \"showarrow\": false, \"text\": \"\", \"x\": \"puck\", \"xref\": \"x\", \"y\": \"earthshaker\", \"yref\": \"y\"}, {\"font\": {\"color\": \"#000000\"}, \"showarrow\": false, \"text\": \"\", \"x\": \"pudge\", \"xref\": \"x\", \"y\": \"earthshaker\", \"yref\": \"y\"}, {\"font\": {\"color\": \"#000000\"}, \"showarrow\": false, \"text\": \"\", \"x\": \"razor\", \"xref\": \"x\", \"y\": \"earthshaker\", \"yref\": \"y\"}, {\"font\": {\"color\": \"#000000\"}, \"showarrow\": false, \"text\": \"\", \"x\": \"sand_king\", \"xref\": \"x\", \"y\": \"earthshaker\", \"yref\": \"y\"}, {\"font\": {\"color\": \"#000000\"}, \"showarrow\": false, \"text\": \"\", \"x\": \"storm_spirit\", \"xref\": \"x\", \"y\": \"earthshaker\", \"yref\": \"y\"}, {\"font\": {\"color\": \"#000000\"}, \"showarrow\": false, \"text\": \"\", \"x\": \"sven\", \"xref\": \"x\", \"y\": \"earthshaker\", \"yref\": \"y\"}, {\"font\": {\"color\": \"#000000\"}, \"showarrow\": false, \"text\": \"\", \"x\": \"tiny\", \"xref\": \"x\", \"y\": \"earthshaker\", \"yref\": \"y\"}, {\"font\": {\"color\": \"#000000\"}, \"showarrow\": false, \"text\": \"\", \"x\": \"vengefulspirit\", \"xref\": \"x\", \"y\": \"earthshaker\", \"yref\": \"y\"}, {\"font\": {\"color\": \"#000000\"}, \"showarrow\": false, \"text\": \"\", \"x\": \"antimage\", \"xref\": \"x\", \"y\": \"juggernaut\", \"yref\": \"y\"}, {\"font\": {\"color\": \"#000000\"}, \"showarrow\": false, \"text\": \"\", \"x\": \"axe\", \"xref\": \"x\", \"y\": \"juggernaut\", \"yref\": \"y\"}, {\"font\": {\"color\": \"#000000\"}, \"showarrow\": false, \"text\": \"\", \"x\": \"bane\", \"xref\": \"x\", \"y\": \"juggernaut\", \"yref\": \"y\"}, {\"font\": {\"color\": \"#000000\"}, \"showarrow\": false, \"text\": \"\", \"x\": \"bloodseeker\", \"xref\": \"x\", \"y\": \"juggernaut\", \"yref\": \"y\"}, {\"font\": {\"color\": \"#000000\"}, \"showarrow\": false, \"text\": \"\", \"x\": \"crystal_maiden\", \"xref\": \"x\", \"y\": \"juggernaut\", \"yref\": \"y\"}, {\"font\": {\"color\": \"#000000\"}, \"showarrow\": false, \"text\": \"\", \"x\": \"drow_ranger\", \"xref\": \"x\", \"y\": \"juggernaut\", \"yref\": \"y\"}, {\"font\": {\"color\": \"#000000\"}, \"showarrow\": false, \"text\": \"\", \"x\": \"earthshaker\", \"xref\": \"x\", \"y\": \"juggernaut\", \"yref\": \"y\"}, {\"font\": {\"color\": \"#FFFFFF\"}, \"showarrow\": false, \"text\": \"\", \"x\": \"juggernaut\", \"xref\": \"x\", \"y\": \"juggernaut\", \"yref\": \"y\"}, {\"font\": {\"color\": \"#000000\"}, \"showarrow\": false, \"text\": \"\", \"x\": \"mirana\", \"xref\": \"x\", \"y\": \"juggernaut\", \"yref\": \"y\"}, {\"font\": {\"color\": \"#000000\"}, \"showarrow\": false, \"text\": \"\", \"x\": \"morphling\", \"xref\": \"x\", \"y\": \"juggernaut\", \"yref\": \"y\"}, {\"font\": {\"color\": \"#000000\"}, \"showarrow\": false, \"text\": \"\", \"x\": \"nevermore\", \"xref\": \"x\", \"y\": \"juggernaut\", \"yref\": \"y\"}, {\"font\": {\"color\": \"#000000\"}, \"showarrow\": false, \"text\": \"\", \"x\": \"phantom_lancer\", \"xref\": \"x\", \"y\": \"juggernaut\", \"yref\": \"y\"}, {\"font\": {\"color\": \"#000000\"}, \"showarrow\": false, \"text\": \"\", \"x\": \"puck\", \"xref\": \"x\", \"y\": \"juggernaut\", \"yref\": \"y\"}, {\"font\": {\"color\": \"#000000\"}, \"showarrow\": false, \"text\": \"\", \"x\": \"pudge\", \"xref\": \"x\", \"y\": \"juggernaut\", \"yref\": \"y\"}, {\"font\": {\"color\": \"#000000\"}, \"showarrow\": false, \"text\": \"\", \"x\": \"razor\", \"xref\": \"x\", \"y\": \"juggernaut\", \"yref\": \"y\"}, {\"font\": {\"color\": \"#000000\"}, \"showarrow\": false, \"text\": \"\", \"x\": \"sand_king\", \"xref\": \"x\", \"y\": \"juggernaut\", \"yref\": \"y\"}, {\"font\": {\"color\": \"#000000\"}, \"showarrow\": false, \"text\": \"\", \"x\": \"storm_spirit\", \"xref\": \"x\", \"y\": \"juggernaut\", \"yref\": \"y\"}, {\"font\": {\"color\": \"#000000\"}, \"showarrow\": false, \"text\": \"\", \"x\": \"sven\", \"xref\": \"x\", \"y\": \"juggernaut\", \"yref\": \"y\"}, {\"font\": {\"color\": \"#000000\"}, \"showarrow\": false, \"text\": \"\", \"x\": \"tiny\", \"xref\": \"x\", \"y\": \"juggernaut\", \"yref\": \"y\"}, {\"font\": {\"color\": \"#000000\"}, \"showarrow\": false, \"text\": \"\", \"x\": \"vengefulspirit\", \"xref\": \"x\", \"y\": \"juggernaut\", \"yref\": \"y\"}, {\"font\": {\"color\": \"#000000\"}, \"showarrow\": false, \"text\": \"\", \"x\": \"antimage\", \"xref\": \"x\", \"y\": \"mirana\", \"yref\": \"y\"}, {\"font\": {\"color\": \"#000000\"}, \"showarrow\": false, \"text\": \"\", \"x\": \"axe\", \"xref\": \"x\", \"y\": \"mirana\", \"yref\": \"y\"}, {\"font\": {\"color\": \"#000000\"}, \"showarrow\": false, \"text\": \"\", \"x\": \"bane\", \"xref\": \"x\", \"y\": \"mirana\", \"yref\": \"y\"}, {\"font\": {\"color\": \"#000000\"}, \"showarrow\": false, \"text\": \"\", \"x\": \"bloodseeker\", \"xref\": \"x\", \"y\": \"mirana\", \"yref\": \"y\"}, {\"font\": {\"color\": \"#000000\"}, \"showarrow\": false, \"text\": \"\", \"x\": \"crystal_maiden\", \"xref\": \"x\", \"y\": \"mirana\", \"yref\": \"y\"}, {\"font\": {\"color\": \"#000000\"}, \"showarrow\": false, \"text\": \"\", \"x\": \"drow_ranger\", \"xref\": \"x\", \"y\": \"mirana\", \"yref\": \"y\"}, {\"font\": {\"color\": \"#000000\"}, \"showarrow\": false, \"text\": \"\", \"x\": \"earthshaker\", \"xref\": \"x\", \"y\": \"mirana\", \"yref\": \"y\"}, {\"font\": {\"color\": \"#000000\"}, \"showarrow\": false, \"text\": \"\", \"x\": \"juggernaut\", \"xref\": \"x\", \"y\": \"mirana\", \"yref\": \"y\"}, {\"font\": {\"color\": \"#FFFFFF\"}, \"showarrow\": false, \"text\": \"\", \"x\": \"mirana\", \"xref\": \"x\", \"y\": \"mirana\", \"yref\": \"y\"}, {\"font\": {\"color\": \"#000000\"}, \"showarrow\": false, \"text\": \"\", \"x\": \"morphling\", \"xref\": \"x\", \"y\": \"mirana\", \"yref\": \"y\"}, {\"font\": {\"color\": \"#000000\"}, \"showarrow\": false, \"text\": \"\", \"x\": \"nevermore\", \"xref\": \"x\", \"y\": \"mirana\", \"yref\": \"y\"}, {\"font\": {\"color\": \"#000000\"}, \"showarrow\": false, \"text\": \"\", \"x\": \"phantom_lancer\", \"xref\": \"x\", \"y\": \"mirana\", \"yref\": \"y\"}, {\"font\": {\"color\": \"#000000\"}, \"showarrow\": false, \"text\": \"\", \"x\": \"puck\", \"xref\": \"x\", \"y\": \"mirana\", \"yref\": \"y\"}, {\"font\": {\"color\": \"#000000\"}, \"showarrow\": false, \"text\": \"\", \"x\": \"pudge\", \"xref\": \"x\", \"y\": \"mirana\", \"yref\": \"y\"}, {\"font\": {\"color\": \"#000000\"}, \"showarrow\": false, \"text\": \"\", \"x\": \"razor\", \"xref\": \"x\", \"y\": \"mirana\", \"yref\": \"y\"}, {\"font\": {\"color\": \"#000000\"}, \"showarrow\": false, \"text\": \"\", \"x\": \"sand_king\", \"xref\": \"x\", \"y\": \"mirana\", \"yref\": \"y\"}, {\"font\": {\"color\": \"#000000\"}, \"showarrow\": false, \"text\": \"\", \"x\": \"storm_spirit\", \"xref\": \"x\", \"y\": \"mirana\", \"yref\": \"y\"}, {\"font\": {\"color\": \"#000000\"}, \"showarrow\": false, \"text\": \"\", \"x\": \"sven\", \"xref\": \"x\", \"y\": \"mirana\", \"yref\": \"y\"}, {\"font\": {\"color\": \"#000000\"}, \"showarrow\": false, \"text\": \"\", \"x\": \"tiny\", \"xref\": \"x\", \"y\": \"mirana\", \"yref\": \"y\"}, {\"font\": {\"color\": \"#000000\"}, \"showarrow\": false, \"text\": \"\", \"x\": \"vengefulspirit\", \"xref\": \"x\", \"y\": \"mirana\", \"yref\": \"y\"}, {\"font\": {\"color\": \"#000000\"}, \"showarrow\": false, \"text\": \"\", \"x\": \"antimage\", \"xref\": \"x\", \"y\": \"morphling\", \"yref\": \"y\"}, {\"font\": {\"color\": \"#000000\"}, \"showarrow\": false, \"text\": \"\", \"x\": \"axe\", \"xref\": \"x\", \"y\": \"morphling\", \"yref\": \"y\"}, {\"font\": {\"color\": \"#000000\"}, \"showarrow\": false, \"text\": \"\", \"x\": \"bane\", \"xref\": \"x\", \"y\": \"morphling\", \"yref\": \"y\"}, {\"font\": {\"color\": \"#000000\"}, \"showarrow\": false, \"text\": \"\", \"x\": \"bloodseeker\", \"xref\": \"x\", \"y\": \"morphling\", \"yref\": \"y\"}, {\"font\": {\"color\": \"#000000\"}, \"showarrow\": false, \"text\": \"\", \"x\": \"crystal_maiden\", \"xref\": \"x\", \"y\": \"morphling\", \"yref\": \"y\"}, {\"font\": {\"color\": \"#000000\"}, \"showarrow\": false, \"text\": \"\", \"x\": \"drow_ranger\", \"xref\": \"x\", \"y\": \"morphling\", \"yref\": \"y\"}, {\"font\": {\"color\": \"#000000\"}, \"showarrow\": false, \"text\": \"\", \"x\": \"earthshaker\", \"xref\": \"x\", \"y\": \"morphling\", \"yref\": \"y\"}, {\"font\": {\"color\": \"#000000\"}, \"showarrow\": false, \"text\": \"\", \"x\": \"juggernaut\", \"xref\": \"x\", \"y\": \"morphling\", \"yref\": \"y\"}, {\"font\": {\"color\": \"#000000\"}, \"showarrow\": false, \"text\": \"\", \"x\": \"mirana\", \"xref\": \"x\", \"y\": \"morphling\", \"yref\": \"y\"}, {\"font\": {\"color\": \"#FFFFFF\"}, \"showarrow\": false, \"text\": \"\", \"x\": \"morphling\", \"xref\": \"x\", \"y\": \"morphling\", \"yref\": \"y\"}, {\"font\": {\"color\": \"#000000\"}, \"showarrow\": false, \"text\": \"\", \"x\": \"nevermore\", \"xref\": \"x\", \"y\": \"morphling\", \"yref\": \"y\"}, {\"font\": {\"color\": \"#000000\"}, \"showarrow\": false, \"text\": \"\", \"x\": \"phantom_lancer\", \"xref\": \"x\", \"y\": \"morphling\", \"yref\": \"y\"}, {\"font\": {\"color\": \"#000000\"}, \"showarrow\": false, \"text\": \"\", \"x\": \"puck\", \"xref\": \"x\", \"y\": \"morphling\", \"yref\": \"y\"}, {\"font\": {\"color\": \"#000000\"}, \"showarrow\": false, \"text\": \"\", \"x\": \"pudge\", \"xref\": \"x\", \"y\": \"morphling\", \"yref\": \"y\"}, {\"font\": {\"color\": \"#000000\"}, \"showarrow\": false, \"text\": \"\", \"x\": \"razor\", \"xref\": \"x\", \"y\": \"morphling\", \"yref\": \"y\"}, {\"font\": {\"color\": \"#000000\"}, \"showarrow\": false, \"text\": \"\", \"x\": \"sand_king\", \"xref\": \"x\", \"y\": \"morphling\", \"yref\": \"y\"}, {\"font\": {\"color\": \"#000000\"}, \"showarrow\": false, \"text\": \"\", \"x\": \"storm_spirit\", \"xref\": \"x\", \"y\": \"morphling\", \"yref\": \"y\"}, {\"font\": {\"color\": \"#000000\"}, \"showarrow\": false, \"text\": \"\", \"x\": \"sven\", \"xref\": \"x\", \"y\": \"morphling\", \"yref\": \"y\"}, {\"font\": {\"color\": \"#000000\"}, \"showarrow\": false, \"text\": \"\", \"x\": \"tiny\", \"xref\": \"x\", \"y\": \"morphling\", \"yref\": \"y\"}, {\"font\": {\"color\": \"#000000\"}, \"showarrow\": false, \"text\": \"\", \"x\": \"vengefulspirit\", \"xref\": \"x\", \"y\": \"morphling\", \"yref\": \"y\"}, {\"font\": {\"color\": \"#000000\"}, \"showarrow\": false, \"text\": \"\", \"x\": \"antimage\", \"xref\": \"x\", \"y\": \"nevermore\", \"yref\": \"y\"}, {\"font\": {\"color\": \"#000000\"}, \"showarrow\": false, \"text\": \"\", \"x\": \"axe\", \"xref\": \"x\", \"y\": \"nevermore\", \"yref\": \"y\"}, {\"font\": {\"color\": \"#000000\"}, \"showarrow\": false, \"text\": \"\", \"x\": \"bane\", \"xref\": \"x\", \"y\": \"nevermore\", \"yref\": \"y\"}, {\"font\": {\"color\": \"#000000\"}, \"showarrow\": false, \"text\": \"\", \"x\": \"bloodseeker\", \"xref\": \"x\", \"y\": \"nevermore\", \"yref\": \"y\"}, {\"font\": {\"color\": \"#000000\"}, \"showarrow\": false, \"text\": \"\", \"x\": \"crystal_maiden\", \"xref\": \"x\", \"y\": \"nevermore\", \"yref\": \"y\"}, {\"font\": {\"color\": \"#000000\"}, \"showarrow\": false, \"text\": \"\", \"x\": \"drow_ranger\", \"xref\": \"x\", \"y\": \"nevermore\", \"yref\": \"y\"}, {\"font\": {\"color\": \"#000000\"}, \"showarrow\": false, \"text\": \"\", \"x\": \"earthshaker\", \"xref\": \"x\", \"y\": \"nevermore\", \"yref\": \"y\"}, {\"font\": {\"color\": \"#000000\"}, \"showarrow\": false, \"text\": \"\", \"x\": \"juggernaut\", \"xref\": \"x\", \"y\": \"nevermore\", \"yref\": \"y\"}, {\"font\": {\"color\": \"#000000\"}, \"showarrow\": false, \"text\": \"\", \"x\": \"mirana\", \"xref\": \"x\", \"y\": \"nevermore\", \"yref\": \"y\"}, {\"font\": {\"color\": \"#000000\"}, \"showarrow\": false, \"text\": \"\", \"x\": \"morphling\", \"xref\": \"x\", \"y\": \"nevermore\", \"yref\": \"y\"}, {\"font\": {\"color\": \"#FFFFFF\"}, \"showarrow\": false, \"text\": \"\", \"x\": \"nevermore\", \"xref\": \"x\", \"y\": \"nevermore\", \"yref\": \"y\"}, {\"font\": {\"color\": \"#000000\"}, \"showarrow\": false, \"text\": \"\", \"x\": \"phantom_lancer\", \"xref\": \"x\", \"y\": \"nevermore\", \"yref\": \"y\"}, {\"font\": {\"color\": \"#000000\"}, \"showarrow\": false, \"text\": \"\", \"x\": \"puck\", \"xref\": \"x\", \"y\": \"nevermore\", \"yref\": \"y\"}, {\"font\": {\"color\": \"#000000\"}, \"showarrow\": false, \"text\": \"\", \"x\": \"pudge\", \"xref\": \"x\", \"y\": \"nevermore\", \"yref\": \"y\"}, {\"font\": {\"color\": \"#000000\"}, \"showarrow\": false, \"text\": \"\", \"x\": \"razor\", \"xref\": \"x\", \"y\": \"nevermore\", \"yref\": \"y\"}, {\"font\": {\"color\": \"#000000\"}, \"showarrow\": false, \"text\": \"\", \"x\": \"sand_king\", \"xref\": \"x\", \"y\": \"nevermore\", \"yref\": \"y\"}, {\"font\": {\"color\": \"#000000\"}, \"showarrow\": false, \"text\": \"\", \"x\": \"storm_spirit\", \"xref\": \"x\", \"y\": \"nevermore\", \"yref\": \"y\"}, {\"font\": {\"color\": \"#000000\"}, \"showarrow\": false, \"text\": \"\", \"x\": \"sven\", \"xref\": \"x\", \"y\": \"nevermore\", \"yref\": \"y\"}, {\"font\": {\"color\": \"#000000\"}, \"showarrow\": false, \"text\": \"\", \"x\": \"tiny\", \"xref\": \"x\", \"y\": \"nevermore\", \"yref\": \"y\"}, {\"font\": {\"color\": \"#000000\"}, \"showarrow\": false, \"text\": \"\", \"x\": \"vengefulspirit\", \"xref\": \"x\", \"y\": \"nevermore\", \"yref\": \"y\"}, {\"font\": {\"color\": \"#000000\"}, \"showarrow\": false, \"text\": \"\", \"x\": \"antimage\", \"xref\": \"x\", \"y\": \"phantom_lancer\", \"yref\": \"y\"}, {\"font\": {\"color\": \"#000000\"}, \"showarrow\": false, \"text\": \"\", \"x\": \"axe\", \"xref\": \"x\", \"y\": \"phantom_lancer\", \"yref\": \"y\"}, {\"font\": {\"color\": \"#000000\"}, \"showarrow\": false, \"text\": \"\", \"x\": \"bane\", \"xref\": \"x\", \"y\": \"phantom_lancer\", \"yref\": \"y\"}, {\"font\": {\"color\": \"#000000\"}, \"showarrow\": false, \"text\": \"\", \"x\": \"bloodseeker\", \"xref\": \"x\", \"y\": \"phantom_lancer\", \"yref\": \"y\"}, {\"font\": {\"color\": \"#000000\"}, \"showarrow\": false, \"text\": \"\", \"x\": \"crystal_maiden\", \"xref\": \"x\", \"y\": \"phantom_lancer\", \"yref\": \"y\"}, {\"font\": {\"color\": \"#000000\"}, \"showarrow\": false, \"text\": \"\", \"x\": \"drow_ranger\", \"xref\": \"x\", \"y\": \"phantom_lancer\", \"yref\": \"y\"}, {\"font\": {\"color\": \"#000000\"}, \"showarrow\": false, \"text\": \"\", \"x\": \"earthshaker\", \"xref\": \"x\", \"y\": \"phantom_lancer\", \"yref\": \"y\"}, {\"font\": {\"color\": \"#000000\"}, \"showarrow\": false, \"text\": \"\", \"x\": \"juggernaut\", \"xref\": \"x\", \"y\": \"phantom_lancer\", \"yref\": \"y\"}, {\"font\": {\"color\": \"#000000\"}, \"showarrow\": false, \"text\": \"\", \"x\": \"mirana\", \"xref\": \"x\", \"y\": \"phantom_lancer\", \"yref\": \"y\"}, {\"font\": {\"color\": \"#000000\"}, \"showarrow\": false, \"text\": \"\", \"x\": \"morphling\", \"xref\": \"x\", \"y\": \"phantom_lancer\", \"yref\": \"y\"}, {\"font\": {\"color\": \"#000000\"}, \"showarrow\": false, \"text\": \"\", \"x\": \"nevermore\", \"xref\": \"x\", \"y\": \"phantom_lancer\", \"yref\": \"y\"}, {\"font\": {\"color\": \"#FFFFFF\"}, \"showarrow\": false, \"text\": \"\", \"x\": \"phantom_lancer\", \"xref\": \"x\", \"y\": \"phantom_lancer\", \"yref\": \"y\"}, {\"font\": {\"color\": \"#000000\"}, \"showarrow\": false, \"text\": \"\", \"x\": \"puck\", \"xref\": \"x\", \"y\": \"phantom_lancer\", \"yref\": \"y\"}, {\"font\": {\"color\": \"#000000\"}, \"showarrow\": false, \"text\": \"\", \"x\": \"pudge\", \"xref\": \"x\", \"y\": \"phantom_lancer\", \"yref\": \"y\"}, {\"font\": {\"color\": \"#000000\"}, \"showarrow\": false, \"text\": \"\", \"x\": \"razor\", \"xref\": \"x\", \"y\": \"phantom_lancer\", \"yref\": \"y\"}, {\"font\": {\"color\": \"#000000\"}, \"showarrow\": false, \"text\": \"\", \"x\": \"sand_king\", \"xref\": \"x\", \"y\": \"phantom_lancer\", \"yref\": \"y\"}, {\"font\": {\"color\": \"#000000\"}, \"showarrow\": false, \"text\": \"\", \"x\": \"storm_spirit\", \"xref\": \"x\", \"y\": \"phantom_lancer\", \"yref\": \"y\"}, {\"font\": {\"color\": \"#000000\"}, \"showarrow\": false, \"text\": \"\", \"x\": \"sven\", \"xref\": \"x\", \"y\": \"phantom_lancer\", \"yref\": \"y\"}, {\"font\": {\"color\": \"#000000\"}, \"showarrow\": false, \"text\": \"\", \"x\": \"tiny\", \"xref\": \"x\", \"y\": \"phantom_lancer\", \"yref\": \"y\"}, {\"font\": {\"color\": \"#000000\"}, \"showarrow\": false, \"text\": \"\", \"x\": \"vengefulspirit\", \"xref\": \"x\", \"y\": \"phantom_lancer\", \"yref\": \"y\"}, {\"font\": {\"color\": \"#000000\"}, \"showarrow\": false, \"text\": \"\", \"x\": \"antimage\", \"xref\": \"x\", \"y\": \"puck\", \"yref\": \"y\"}, {\"font\": {\"color\": \"#FFFFFF\"}, \"showarrow\": false, \"text\": \"\", \"x\": \"axe\", \"xref\": \"x\", \"y\": \"puck\", \"yref\": \"y\"}, {\"font\": {\"color\": \"#000000\"}, \"showarrow\": false, \"text\": \"\", \"x\": \"bane\", \"xref\": \"x\", \"y\": \"puck\", \"yref\": \"y\"}, {\"font\": {\"color\": \"#000000\"}, \"showarrow\": false, \"text\": \"\", \"x\": \"bloodseeker\", \"xref\": \"x\", \"y\": \"puck\", \"yref\": \"y\"}, {\"font\": {\"color\": \"#000000\"}, \"showarrow\": false, \"text\": \"\", \"x\": \"crystal_maiden\", \"xref\": \"x\", \"y\": \"puck\", \"yref\": \"y\"}, {\"font\": {\"color\": \"#000000\"}, \"showarrow\": false, \"text\": \"\", \"x\": \"drow_ranger\", \"xref\": \"x\", \"y\": \"puck\", \"yref\": \"y\"}, {\"font\": {\"color\": \"#000000\"}, \"showarrow\": false, \"text\": \"\", \"x\": \"earthshaker\", \"xref\": \"x\", \"y\": \"puck\", \"yref\": \"y\"}, {\"font\": {\"color\": \"#000000\"}, \"showarrow\": false, \"text\": \"\", \"x\": \"juggernaut\", \"xref\": \"x\", \"y\": \"puck\", \"yref\": \"y\"}, {\"font\": {\"color\": \"#000000\"}, \"showarrow\": false, \"text\": \"\", \"x\": \"mirana\", \"xref\": \"x\", \"y\": \"puck\", \"yref\": \"y\"}, {\"font\": {\"color\": \"#000000\"}, \"showarrow\": false, \"text\": \"\", \"x\": \"morphling\", \"xref\": \"x\", \"y\": \"puck\", \"yref\": \"y\"}, {\"font\": {\"color\": \"#000000\"}, \"showarrow\": false, \"text\": \"\", \"x\": \"nevermore\", \"xref\": \"x\", \"y\": \"puck\", \"yref\": \"y\"}, {\"font\": {\"color\": \"#000000\"}, \"showarrow\": false, \"text\": \"\", \"x\": \"phantom_lancer\", \"xref\": \"x\", \"y\": \"puck\", \"yref\": \"y\"}, {\"font\": {\"color\": \"#FFFFFF\"}, \"showarrow\": false, \"text\": \"\", \"x\": \"puck\", \"xref\": \"x\", \"y\": \"puck\", \"yref\": \"y\"}, {\"font\": {\"color\": \"#000000\"}, \"showarrow\": false, \"text\": \"\", \"x\": \"pudge\", \"xref\": \"x\", \"y\": \"puck\", \"yref\": \"y\"}, {\"font\": {\"color\": \"#000000\"}, \"showarrow\": false, \"text\": \"\", \"x\": \"razor\", \"xref\": \"x\", \"y\": \"puck\", \"yref\": \"y\"}, {\"font\": {\"color\": \"#000000\"}, \"showarrow\": false, \"text\": \"\", \"x\": \"sand_king\", \"xref\": \"x\", \"y\": \"puck\", \"yref\": \"y\"}, {\"font\": {\"color\": \"#000000\"}, \"showarrow\": false, \"text\": \"\", \"x\": \"storm_spirit\", \"xref\": \"x\", \"y\": \"puck\", \"yref\": \"y\"}, {\"font\": {\"color\": \"#000000\"}, \"showarrow\": false, \"text\": \"\", \"x\": \"sven\", \"xref\": \"x\", \"y\": \"puck\", \"yref\": \"y\"}, {\"font\": {\"color\": \"#000000\"}, \"showarrow\": false, \"text\": \"\", \"x\": \"tiny\", \"xref\": \"x\", \"y\": \"puck\", \"yref\": \"y\"}, {\"font\": {\"color\": \"#000000\"}, \"showarrow\": false, \"text\": \"\", \"x\": \"vengefulspirit\", \"xref\": \"x\", \"y\": \"puck\", \"yref\": \"y\"}, {\"font\": {\"color\": \"#000000\"}, \"showarrow\": false, \"text\": \"\", \"x\": \"antimage\", \"xref\": \"x\", \"y\": \"pudge\", \"yref\": \"y\"}, {\"font\": {\"color\": \"#000000\"}, \"showarrow\": false, \"text\": \"\", \"x\": \"axe\", \"xref\": \"x\", \"y\": \"pudge\", \"yref\": \"y\"}, {\"font\": {\"color\": \"#000000\"}, \"showarrow\": false, \"text\": \"\", \"x\": \"bane\", \"xref\": \"x\", \"y\": \"pudge\", \"yref\": \"y\"}, {\"font\": {\"color\": \"#000000\"}, \"showarrow\": false, \"text\": \"\", \"x\": \"bloodseeker\", \"xref\": \"x\", \"y\": \"pudge\", \"yref\": \"y\"}, {\"font\": {\"color\": \"#000000\"}, \"showarrow\": false, \"text\": \"\", \"x\": \"crystal_maiden\", \"xref\": \"x\", \"y\": \"pudge\", \"yref\": \"y\"}, {\"font\": {\"color\": \"#000000\"}, \"showarrow\": false, \"text\": \"\", \"x\": \"drow_ranger\", \"xref\": \"x\", \"y\": \"pudge\", \"yref\": \"y\"}, {\"font\": {\"color\": \"#000000\"}, \"showarrow\": false, \"text\": \"\", \"x\": \"earthshaker\", \"xref\": \"x\", \"y\": \"pudge\", \"yref\": \"y\"}, {\"font\": {\"color\": \"#000000\"}, \"showarrow\": false, \"text\": \"\", \"x\": \"juggernaut\", \"xref\": \"x\", \"y\": \"pudge\", \"yref\": \"y\"}, {\"font\": {\"color\": \"#000000\"}, \"showarrow\": false, \"text\": \"\", \"x\": \"mirana\", \"xref\": \"x\", \"y\": \"pudge\", \"yref\": \"y\"}, {\"font\": {\"color\": \"#000000\"}, \"showarrow\": false, \"text\": \"\", \"x\": \"morphling\", \"xref\": \"x\", \"y\": \"pudge\", \"yref\": \"y\"}, {\"font\": {\"color\": \"#000000\"}, \"showarrow\": false, \"text\": \"\", \"x\": \"nevermore\", \"xref\": \"x\", \"y\": \"pudge\", \"yref\": \"y\"}, {\"font\": {\"color\": \"#000000\"}, \"showarrow\": false, \"text\": \"\", \"x\": \"phantom_lancer\", \"xref\": \"x\", \"y\": \"pudge\", \"yref\": \"y\"}, {\"font\": {\"color\": \"#000000\"}, \"showarrow\": false, \"text\": \"\", \"x\": \"puck\", \"xref\": \"x\", \"y\": \"pudge\", \"yref\": \"y\"}, {\"font\": {\"color\": \"#FFFFFF\"}, \"showarrow\": false, \"text\": \"\", \"x\": \"pudge\", \"xref\": \"x\", \"y\": \"pudge\", \"yref\": \"y\"}, {\"font\": {\"color\": \"#000000\"}, \"showarrow\": false, \"text\": \"\", \"x\": \"razor\", \"xref\": \"x\", \"y\": \"pudge\", \"yref\": \"y\"}, {\"font\": {\"color\": \"#000000\"}, \"showarrow\": false, \"text\": \"\", \"x\": \"sand_king\", \"xref\": \"x\", \"y\": \"pudge\", \"yref\": \"y\"}, {\"font\": {\"color\": \"#000000\"}, \"showarrow\": false, \"text\": \"\", \"x\": \"storm_spirit\", \"xref\": \"x\", \"y\": \"pudge\", \"yref\": \"y\"}, {\"font\": {\"color\": \"#000000\"}, \"showarrow\": false, \"text\": \"\", \"x\": \"sven\", \"xref\": \"x\", \"y\": \"pudge\", \"yref\": \"y\"}, {\"font\": {\"color\": \"#000000\"}, \"showarrow\": false, \"text\": \"\", \"x\": \"tiny\", \"xref\": \"x\", \"y\": \"pudge\", \"yref\": \"y\"}, {\"font\": {\"color\": \"#000000\"}, \"showarrow\": false, \"text\": \"\", \"x\": \"vengefulspirit\", \"xref\": \"x\", \"y\": \"pudge\", \"yref\": \"y\"}, {\"font\": {\"color\": \"#000000\"}, \"showarrow\": false, \"text\": \"\", \"x\": \"antimage\", \"xref\": \"x\", \"y\": \"razor\", \"yref\": \"y\"}, {\"font\": {\"color\": \"#000000\"}, \"showarrow\": false, \"text\": \"\", \"x\": \"axe\", \"xref\": \"x\", \"y\": \"razor\", \"yref\": \"y\"}, {\"font\": {\"color\": \"#000000\"}, \"showarrow\": false, \"text\": \"\", \"x\": \"bane\", \"xref\": \"x\", \"y\": \"razor\", \"yref\": \"y\"}, {\"font\": {\"color\": \"#000000\"}, \"showarrow\": false, \"text\": \"\", \"x\": \"bloodseeker\", \"xref\": \"x\", \"y\": \"razor\", \"yref\": \"y\"}, {\"font\": {\"color\": \"#000000\"}, \"showarrow\": false, \"text\": \"\", \"x\": \"crystal_maiden\", \"xref\": \"x\", \"y\": \"razor\", \"yref\": \"y\"}, {\"font\": {\"color\": \"#000000\"}, \"showarrow\": false, \"text\": \"\", \"x\": \"drow_ranger\", \"xref\": \"x\", \"y\": \"razor\", \"yref\": \"y\"}, {\"font\": {\"color\": \"#000000\"}, \"showarrow\": false, \"text\": \"\", \"x\": \"earthshaker\", \"xref\": \"x\", \"y\": \"razor\", \"yref\": \"y\"}, {\"font\": {\"color\": \"#000000\"}, \"showarrow\": false, \"text\": \"\", \"x\": \"juggernaut\", \"xref\": \"x\", \"y\": \"razor\", \"yref\": \"y\"}, {\"font\": {\"color\": \"#000000\"}, \"showarrow\": false, \"text\": \"\", \"x\": \"mirana\", \"xref\": \"x\", \"y\": \"razor\", \"yref\": \"y\"}, {\"font\": {\"color\": \"#000000\"}, \"showarrow\": false, \"text\": \"\", \"x\": \"morphling\", \"xref\": \"x\", \"y\": \"razor\", \"yref\": \"y\"}, {\"font\": {\"color\": \"#000000\"}, \"showarrow\": false, \"text\": \"\", \"x\": \"nevermore\", \"xref\": \"x\", \"y\": \"razor\", \"yref\": \"y\"}, {\"font\": {\"color\": \"#000000\"}, \"showarrow\": false, \"text\": \"\", \"x\": \"phantom_lancer\", \"xref\": \"x\", \"y\": \"razor\", \"yref\": \"y\"}, {\"font\": {\"color\": \"#000000\"}, \"showarrow\": false, \"text\": \"\", \"x\": \"puck\", \"xref\": \"x\", \"y\": \"razor\", \"yref\": \"y\"}, {\"font\": {\"color\": \"#000000\"}, \"showarrow\": false, \"text\": \"\", \"x\": \"pudge\", \"xref\": \"x\", \"y\": \"razor\", \"yref\": \"y\"}, {\"font\": {\"color\": \"#FFFFFF\"}, \"showarrow\": false, \"text\": \"\", \"x\": \"razor\", \"xref\": \"x\", \"y\": \"razor\", \"yref\": \"y\"}, {\"font\": {\"color\": \"#000000\"}, \"showarrow\": false, \"text\": \"\", \"x\": \"sand_king\", \"xref\": \"x\", \"y\": \"razor\", \"yref\": \"y\"}, {\"font\": {\"color\": \"#000000\"}, \"showarrow\": false, \"text\": \"\", \"x\": \"storm_spirit\", \"xref\": \"x\", \"y\": \"razor\", \"yref\": \"y\"}, {\"font\": {\"color\": \"#000000\"}, \"showarrow\": false, \"text\": \"\", \"x\": \"sven\", \"xref\": \"x\", \"y\": \"razor\", \"yref\": \"y\"}, {\"font\": {\"color\": \"#000000\"}, \"showarrow\": false, \"text\": \"\", \"x\": \"tiny\", \"xref\": \"x\", \"y\": \"razor\", \"yref\": \"y\"}, {\"font\": {\"color\": \"#000000\"}, \"showarrow\": false, \"text\": \"\", \"x\": \"vengefulspirit\", \"xref\": \"x\", \"y\": \"razor\", \"yref\": \"y\"}, {\"font\": {\"color\": \"#000000\"}, \"showarrow\": false, \"text\": \"\", \"x\": \"antimage\", \"xref\": \"x\", \"y\": \"sand_king\", \"yref\": \"y\"}, {\"font\": {\"color\": \"#000000\"}, \"showarrow\": false, \"text\": \"\", \"x\": \"axe\", \"xref\": \"x\", \"y\": \"sand_king\", \"yref\": \"y\"}, {\"font\": {\"color\": \"#000000\"}, \"showarrow\": false, \"text\": \"\", \"x\": \"bane\", \"xref\": \"x\", \"y\": \"sand_king\", \"yref\": \"y\"}, {\"font\": {\"color\": \"#000000\"}, \"showarrow\": false, \"text\": \"\", \"x\": \"bloodseeker\", \"xref\": \"x\", \"y\": \"sand_king\", \"yref\": \"y\"}, {\"font\": {\"color\": \"#000000\"}, \"showarrow\": false, \"text\": \"\", \"x\": \"crystal_maiden\", \"xref\": \"x\", \"y\": \"sand_king\", \"yref\": \"y\"}, {\"font\": {\"color\": \"#000000\"}, \"showarrow\": false, \"text\": \"\", \"x\": \"drow_ranger\", \"xref\": \"x\", \"y\": \"sand_king\", \"yref\": \"y\"}, {\"font\": {\"color\": \"#000000\"}, \"showarrow\": false, \"text\": \"\", \"x\": \"earthshaker\", \"xref\": \"x\", \"y\": \"sand_king\", \"yref\": \"y\"}, {\"font\": {\"color\": \"#000000\"}, \"showarrow\": false, \"text\": \"\", \"x\": \"juggernaut\", \"xref\": \"x\", \"y\": \"sand_king\", \"yref\": \"y\"}, {\"font\": {\"color\": \"#000000\"}, \"showarrow\": false, \"text\": \"\", \"x\": \"mirana\", \"xref\": \"x\", \"y\": \"sand_king\", \"yref\": \"y\"}, {\"font\": {\"color\": \"#000000\"}, \"showarrow\": false, \"text\": \"\", \"x\": \"morphling\", \"xref\": \"x\", \"y\": \"sand_king\", \"yref\": \"y\"}, {\"font\": {\"color\": \"#000000\"}, \"showarrow\": false, \"text\": \"\", \"x\": \"nevermore\", \"xref\": \"x\", \"y\": \"sand_king\", \"yref\": \"y\"}, {\"font\": {\"color\": \"#000000\"}, \"showarrow\": false, \"text\": \"\", \"x\": \"phantom_lancer\", \"xref\": \"x\", \"y\": \"sand_king\", \"yref\": \"y\"}, {\"font\": {\"color\": \"#000000\"}, \"showarrow\": false, \"text\": \"\", \"x\": \"puck\", \"xref\": \"x\", \"y\": \"sand_king\", \"yref\": \"y\"}, {\"font\": {\"color\": \"#000000\"}, \"showarrow\": false, \"text\": \"\", \"x\": \"pudge\", \"xref\": \"x\", \"y\": \"sand_king\", \"yref\": \"y\"}, {\"font\": {\"color\": \"#000000\"}, \"showarrow\": false, \"text\": \"\", \"x\": \"razor\", \"xref\": \"x\", \"y\": \"sand_king\", \"yref\": \"y\"}, {\"font\": {\"color\": \"#FFFFFF\"}, \"showarrow\": false, \"text\": \"\", \"x\": \"sand_king\", \"xref\": \"x\", \"y\": \"sand_king\", \"yref\": \"y\"}, {\"font\": {\"color\": \"#000000\"}, \"showarrow\": false, \"text\": \"\", \"x\": \"storm_spirit\", \"xref\": \"x\", \"y\": \"sand_king\", \"yref\": \"y\"}, {\"font\": {\"color\": \"#000000\"}, \"showarrow\": false, \"text\": \"\", \"x\": \"sven\", \"xref\": \"x\", \"y\": \"sand_king\", \"yref\": \"y\"}, {\"font\": {\"color\": \"#000000\"}, \"showarrow\": false, \"text\": \"\", \"x\": \"tiny\", \"xref\": \"x\", \"y\": \"sand_king\", \"yref\": \"y\"}, {\"font\": {\"color\": \"#000000\"}, \"showarrow\": false, \"text\": \"\", \"x\": \"vengefulspirit\", \"xref\": \"x\", \"y\": \"sand_king\", \"yref\": \"y\"}, {\"font\": {\"color\": \"#000000\"}, \"showarrow\": false, \"text\": \"\", \"x\": \"antimage\", \"xref\": \"x\", \"y\": \"storm_spirit\", \"yref\": \"y\"}, {\"font\": {\"color\": \"#000000\"}, \"showarrow\": false, \"text\": \"\", \"x\": \"axe\", \"xref\": \"x\", \"y\": \"storm_spirit\", \"yref\": \"y\"}, {\"font\": {\"color\": \"#000000\"}, \"showarrow\": false, \"text\": \"\", \"x\": \"bane\", \"xref\": \"x\", \"y\": \"storm_spirit\", \"yref\": \"y\"}, {\"font\": {\"color\": \"#000000\"}, \"showarrow\": false, \"text\": \"\", \"x\": \"bloodseeker\", \"xref\": \"x\", \"y\": \"storm_spirit\", \"yref\": \"y\"}, {\"font\": {\"color\": \"#000000\"}, \"showarrow\": false, \"text\": \"\", \"x\": \"crystal_maiden\", \"xref\": \"x\", \"y\": \"storm_spirit\", \"yref\": \"y\"}, {\"font\": {\"color\": \"#000000\"}, \"showarrow\": false, \"text\": \"\", \"x\": \"drow_ranger\", \"xref\": \"x\", \"y\": \"storm_spirit\", \"yref\": \"y\"}, {\"font\": {\"color\": \"#000000\"}, \"showarrow\": false, \"text\": \"\", \"x\": \"earthshaker\", \"xref\": \"x\", \"y\": \"storm_spirit\", \"yref\": \"y\"}, {\"font\": {\"color\": \"#000000\"}, \"showarrow\": false, \"text\": \"\", \"x\": \"juggernaut\", \"xref\": \"x\", \"y\": \"storm_spirit\", \"yref\": \"y\"}, {\"font\": {\"color\": \"#000000\"}, \"showarrow\": false, \"text\": \"\", \"x\": \"mirana\", \"xref\": \"x\", \"y\": \"storm_spirit\", \"yref\": \"y\"}, {\"font\": {\"color\": \"#000000\"}, \"showarrow\": false, \"text\": \"\", \"x\": \"morphling\", \"xref\": \"x\", \"y\": \"storm_spirit\", \"yref\": \"y\"}, {\"font\": {\"color\": \"#000000\"}, \"showarrow\": false, \"text\": \"\", \"x\": \"nevermore\", \"xref\": \"x\", \"y\": \"storm_spirit\", \"yref\": \"y\"}, {\"font\": {\"color\": \"#000000\"}, \"showarrow\": false, \"text\": \"\", \"x\": \"phantom_lancer\", \"xref\": \"x\", \"y\": \"storm_spirit\", \"yref\": \"y\"}, {\"font\": {\"color\": \"#000000\"}, \"showarrow\": false, \"text\": \"\", \"x\": \"puck\", \"xref\": \"x\", \"y\": \"storm_spirit\", \"yref\": \"y\"}, {\"font\": {\"color\": \"#000000\"}, \"showarrow\": false, \"text\": \"\", \"x\": \"pudge\", \"xref\": \"x\", \"y\": \"storm_spirit\", \"yref\": \"y\"}, {\"font\": {\"color\": \"#000000\"}, \"showarrow\": false, \"text\": \"\", \"x\": \"razor\", \"xref\": \"x\", \"y\": \"storm_spirit\", \"yref\": \"y\"}, {\"font\": {\"color\": \"#000000\"}, \"showarrow\": false, \"text\": \"\", \"x\": \"sand_king\", \"xref\": \"x\", \"y\": \"storm_spirit\", \"yref\": \"y\"}, {\"font\": {\"color\": \"#FFFFFF\"}, \"showarrow\": false, \"text\": \"\", \"x\": \"storm_spirit\", \"xref\": \"x\", \"y\": \"storm_spirit\", \"yref\": \"y\"}, {\"font\": {\"color\": \"#000000\"}, \"showarrow\": false, \"text\": \"\", \"x\": \"sven\", \"xref\": \"x\", \"y\": \"storm_spirit\", \"yref\": \"y\"}, {\"font\": {\"color\": \"#000000\"}, \"showarrow\": false, \"text\": \"\", \"x\": \"tiny\", \"xref\": \"x\", \"y\": \"storm_spirit\", \"yref\": \"y\"}, {\"font\": {\"color\": \"#000000\"}, \"showarrow\": false, \"text\": \"\", \"x\": \"vengefulspirit\", \"xref\": \"x\", \"y\": \"storm_spirit\", \"yref\": \"y\"}, {\"font\": {\"color\": \"#000000\"}, \"showarrow\": false, \"text\": \"\", \"x\": \"antimage\", \"xref\": \"x\", \"y\": \"sven\", \"yref\": \"y\"}, {\"font\": {\"color\": \"#000000\"}, \"showarrow\": false, \"text\": \"\", \"x\": \"axe\", \"xref\": \"x\", \"y\": \"sven\", \"yref\": \"y\"}, {\"font\": {\"color\": \"#000000\"}, \"showarrow\": false, \"text\": \"\", \"x\": \"bane\", \"xref\": \"x\", \"y\": \"sven\", \"yref\": \"y\"}, {\"font\": {\"color\": \"#000000\"}, \"showarrow\": false, \"text\": \"\", \"x\": \"bloodseeker\", \"xref\": \"x\", \"y\": \"sven\", \"yref\": \"y\"}, {\"font\": {\"color\": \"#000000\"}, \"showarrow\": false, \"text\": \"\", \"x\": \"crystal_maiden\", \"xref\": \"x\", \"y\": \"sven\", \"yref\": \"y\"}, {\"font\": {\"color\": \"#000000\"}, \"showarrow\": false, \"text\": \"\", \"x\": \"drow_ranger\", \"xref\": \"x\", \"y\": \"sven\", \"yref\": \"y\"}, {\"font\": {\"color\": \"#000000\"}, \"showarrow\": false, \"text\": \"\", \"x\": \"earthshaker\", \"xref\": \"x\", \"y\": \"sven\", \"yref\": \"y\"}, {\"font\": {\"color\": \"#000000\"}, \"showarrow\": false, \"text\": \"\", \"x\": \"juggernaut\", \"xref\": \"x\", \"y\": \"sven\", \"yref\": \"y\"}, {\"font\": {\"color\": \"#000000\"}, \"showarrow\": false, \"text\": \"\", \"x\": \"mirana\", \"xref\": \"x\", \"y\": \"sven\", \"yref\": \"y\"}, {\"font\": {\"color\": \"#000000\"}, \"showarrow\": false, \"text\": \"\", \"x\": \"morphling\", \"xref\": \"x\", \"y\": \"sven\", \"yref\": \"y\"}, {\"font\": {\"color\": \"#000000\"}, \"showarrow\": false, \"text\": \"\", \"x\": \"nevermore\", \"xref\": \"x\", \"y\": \"sven\", \"yref\": \"y\"}, {\"font\": {\"color\": \"#000000\"}, \"showarrow\": false, \"text\": \"\", \"x\": \"phantom_lancer\", \"xref\": \"x\", \"y\": \"sven\", \"yref\": \"y\"}, {\"font\": {\"color\": \"#000000\"}, \"showarrow\": false, \"text\": \"\", \"x\": \"puck\", \"xref\": \"x\", \"y\": \"sven\", \"yref\": \"y\"}, {\"font\": {\"color\": \"#000000\"}, \"showarrow\": false, \"text\": \"\", \"x\": \"pudge\", \"xref\": \"x\", \"y\": \"sven\", \"yref\": \"y\"}, {\"font\": {\"color\": \"#000000\"}, \"showarrow\": false, \"text\": \"\", \"x\": \"razor\", \"xref\": \"x\", \"y\": \"sven\", \"yref\": \"y\"}, {\"font\": {\"color\": \"#000000\"}, \"showarrow\": false, \"text\": \"\", \"x\": \"sand_king\", \"xref\": \"x\", \"y\": \"sven\", \"yref\": \"y\"}, {\"font\": {\"color\": \"#000000\"}, \"showarrow\": false, \"text\": \"\", \"x\": \"storm_spirit\", \"xref\": \"x\", \"y\": \"sven\", \"yref\": \"y\"}, {\"font\": {\"color\": \"#FFFFFF\"}, \"showarrow\": false, \"text\": \"\", \"x\": \"sven\", \"xref\": \"x\", \"y\": \"sven\", \"yref\": \"y\"}, {\"font\": {\"color\": \"#000000\"}, \"showarrow\": false, \"text\": \"\", \"x\": \"tiny\", \"xref\": \"x\", \"y\": \"sven\", \"yref\": \"y\"}, {\"font\": {\"color\": \"#000000\"}, \"showarrow\": false, \"text\": \"\", \"x\": \"vengefulspirit\", \"xref\": \"x\", \"y\": \"sven\", \"yref\": \"y\"}, {\"font\": {\"color\": \"#000000\"}, \"showarrow\": false, \"text\": \"\", \"x\": \"antimage\", \"xref\": \"x\", \"y\": \"tiny\", \"yref\": \"y\"}, {\"font\": {\"color\": \"#000000\"}, \"showarrow\": false, \"text\": \"\", \"x\": \"axe\", \"xref\": \"x\", \"y\": \"tiny\", \"yref\": \"y\"}, {\"font\": {\"color\": \"#000000\"}, \"showarrow\": false, \"text\": \"\", \"x\": \"bane\", \"xref\": \"x\", \"y\": \"tiny\", \"yref\": \"y\"}, {\"font\": {\"color\": \"#000000\"}, \"showarrow\": false, \"text\": \"\", \"x\": \"bloodseeker\", \"xref\": \"x\", \"y\": \"tiny\", \"yref\": \"y\"}, {\"font\": {\"color\": \"#000000\"}, \"showarrow\": false, \"text\": \"\", \"x\": \"crystal_maiden\", \"xref\": \"x\", \"y\": \"tiny\", \"yref\": \"y\"}, {\"font\": {\"color\": \"#000000\"}, \"showarrow\": false, \"text\": \"\", \"x\": \"drow_ranger\", \"xref\": \"x\", \"y\": \"tiny\", \"yref\": \"y\"}, {\"font\": {\"color\": \"#000000\"}, \"showarrow\": false, \"text\": \"\", \"x\": \"earthshaker\", \"xref\": \"x\", \"y\": \"tiny\", \"yref\": \"y\"}, {\"font\": {\"color\": \"#000000\"}, \"showarrow\": false, \"text\": \"\", \"x\": \"juggernaut\", \"xref\": \"x\", \"y\": \"tiny\", \"yref\": \"y\"}, {\"font\": {\"color\": \"#000000\"}, \"showarrow\": false, \"text\": \"\", \"x\": \"mirana\", \"xref\": \"x\", \"y\": \"tiny\", \"yref\": \"y\"}, {\"font\": {\"color\": \"#000000\"}, \"showarrow\": false, \"text\": \"\", \"x\": \"morphling\", \"xref\": \"x\", \"y\": \"tiny\", \"yref\": \"y\"}, {\"font\": {\"color\": \"#000000\"}, \"showarrow\": false, \"text\": \"\", \"x\": \"nevermore\", \"xref\": \"x\", \"y\": \"tiny\", \"yref\": \"y\"}, {\"font\": {\"color\": \"#000000\"}, \"showarrow\": false, \"text\": \"\", \"x\": \"phantom_lancer\", \"xref\": \"x\", \"y\": \"tiny\", \"yref\": \"y\"}, {\"font\": {\"color\": \"#000000\"}, \"showarrow\": false, \"text\": \"\", \"x\": \"puck\", \"xref\": \"x\", \"y\": \"tiny\", \"yref\": \"y\"}, {\"font\": {\"color\": \"#000000\"}, \"showarrow\": false, \"text\": \"\", \"x\": \"pudge\", \"xref\": \"x\", \"y\": \"tiny\", \"yref\": \"y\"}, {\"font\": {\"color\": \"#000000\"}, \"showarrow\": false, \"text\": \"\", \"x\": \"razor\", \"xref\": \"x\", \"y\": \"tiny\", \"yref\": \"y\"}, {\"font\": {\"color\": \"#000000\"}, \"showarrow\": false, \"text\": \"\", \"x\": \"sand_king\", \"xref\": \"x\", \"y\": \"tiny\", \"yref\": \"y\"}, {\"font\": {\"color\": \"#000000\"}, \"showarrow\": false, \"text\": \"\", \"x\": \"storm_spirit\", \"xref\": \"x\", \"y\": \"tiny\", \"yref\": \"y\"}, {\"font\": {\"color\": \"#000000\"}, \"showarrow\": false, \"text\": \"\", \"x\": \"sven\", \"xref\": \"x\", \"y\": \"tiny\", \"yref\": \"y\"}, {\"font\": {\"color\": \"#FFFFFF\"}, \"showarrow\": false, \"text\": \"\", \"x\": \"tiny\", \"xref\": \"x\", \"y\": \"tiny\", \"yref\": \"y\"}, {\"font\": {\"color\": \"#000000\"}, \"showarrow\": false, \"text\": \"\", \"x\": \"vengefulspirit\", \"xref\": \"x\", \"y\": \"tiny\", \"yref\": \"y\"}, {\"font\": {\"color\": \"#000000\"}, \"showarrow\": false, \"text\": \"\", \"x\": \"antimage\", \"xref\": \"x\", \"y\": \"vengefulspirit\", \"yref\": \"y\"}, {\"font\": {\"color\": \"#000000\"}, \"showarrow\": false, \"text\": \"\", \"x\": \"axe\", \"xref\": \"x\", \"y\": \"vengefulspirit\", \"yref\": \"y\"}, {\"font\": {\"color\": \"#000000\"}, \"showarrow\": false, \"text\": \"\", \"x\": \"bane\", \"xref\": \"x\", \"y\": \"vengefulspirit\", \"yref\": \"y\"}, {\"font\": {\"color\": \"#000000\"}, \"showarrow\": false, \"text\": \"\", \"x\": \"bloodseeker\", \"xref\": \"x\", \"y\": \"vengefulspirit\", \"yref\": \"y\"}, {\"font\": {\"color\": \"#000000\"}, \"showarrow\": false, \"text\": \"\", \"x\": \"crystal_maiden\", \"xref\": \"x\", \"y\": \"vengefulspirit\", \"yref\": \"y\"}, {\"font\": {\"color\": \"#000000\"}, \"showarrow\": false, \"text\": \"\", \"x\": \"drow_ranger\", \"xref\": \"x\", \"y\": \"vengefulspirit\", \"yref\": \"y\"}, {\"font\": {\"color\": \"#000000\"}, \"showarrow\": false, \"text\": \"\", \"x\": \"earthshaker\", \"xref\": \"x\", \"y\": \"vengefulspirit\", \"yref\": \"y\"}, {\"font\": {\"color\": \"#000000\"}, \"showarrow\": false, \"text\": \"\", \"x\": \"juggernaut\", \"xref\": \"x\", \"y\": \"vengefulspirit\", \"yref\": \"y\"}, {\"font\": {\"color\": \"#000000\"}, \"showarrow\": false, \"text\": \"\", \"x\": \"mirana\", \"xref\": \"x\", \"y\": \"vengefulspirit\", \"yref\": \"y\"}, {\"font\": {\"color\": \"#000000\"}, \"showarrow\": false, \"text\": \"\", \"x\": \"morphling\", \"xref\": \"x\", \"y\": \"vengefulspirit\", \"yref\": \"y\"}, {\"font\": {\"color\": \"#000000\"}, \"showarrow\": false, \"text\": \"\", \"x\": \"nevermore\", \"xref\": \"x\", \"y\": \"vengefulspirit\", \"yref\": \"y\"}, {\"font\": {\"color\": \"#000000\"}, \"showarrow\": false, \"text\": \"\", \"x\": \"phantom_lancer\", \"xref\": \"x\", \"y\": \"vengefulspirit\", \"yref\": \"y\"}, {\"font\": {\"color\": \"#000000\"}, \"showarrow\": false, \"text\": \"\", \"x\": \"puck\", \"xref\": \"x\", \"y\": \"vengefulspirit\", \"yref\": \"y\"}, {\"font\": {\"color\": \"#000000\"}, \"showarrow\": false, \"text\": \"\", \"x\": \"pudge\", \"xref\": \"x\", \"y\": \"vengefulspirit\", \"yref\": \"y\"}, {\"font\": {\"color\": \"#000000\"}, \"showarrow\": false, \"text\": \"\", \"x\": \"razor\", \"xref\": \"x\", \"y\": \"vengefulspirit\", \"yref\": \"y\"}, {\"font\": {\"color\": \"#000000\"}, \"showarrow\": false, \"text\": \"\", \"x\": \"sand_king\", \"xref\": \"x\", \"y\": \"vengefulspirit\", \"yref\": \"y\"}, {\"font\": {\"color\": \"#000000\"}, \"showarrow\": false, \"text\": \"\", \"x\": \"storm_spirit\", \"xref\": \"x\", \"y\": \"vengefulspirit\", \"yref\": \"y\"}, {\"font\": {\"color\": \"#000000\"}, \"showarrow\": false, \"text\": \"\", \"x\": \"sven\", \"xref\": \"x\", \"y\": \"vengefulspirit\", \"yref\": \"y\"}, {\"font\": {\"color\": \"#000000\"}, \"showarrow\": false, \"text\": \"\", \"x\": \"tiny\", \"xref\": \"x\", \"y\": \"vengefulspirit\", \"yref\": \"y\"}, {\"font\": {\"color\": \"#FFFFFF\"}, \"showarrow\": false, \"text\": \"\", \"x\": \"vengefulspirit\", \"xref\": \"x\", \"y\": \"vengefulspirit\", \"yref\": \"y\"}], \"xaxis\": {\"dtick\": 1, \"gridcolor\": \"rgb(0, 0, 0)\", \"side\": \"top\", \"ticks\": \"\"}, \"yaxis\": {\"dtick\": 1, \"ticks\": \"\", \"ticksuffix\": \"  \"}, \"title\": \"Friendly Matchups - Y is Hero, X is win rate\"},\n",
       "            {\"showLink\": true, \"linkText\": \"Export to plot.ly\"}\n",
       "        ).then(function () {return Plotly.addFrames('882c5fb3-659b-405f-aece-80a5c6049b9b',{});}).then(function(){Plotly.animate('882c5fb3-659b-405f-aece-80a5c6049b9b');})\n",
       "        });</script>"
      ]
     },
     "metadata": {},
     "output_type": "display_data"
    }
   ],
   "source": [
    "heroes = sorted(friendly_matchups.keys())\n",
    "from utils import get_hero_from_id\n",
    "\n",
    "def get_score(matchups, current_hero, other_hero):\n",
    "    wins, total = matchups[current_hero][other_hero]\n",
    "    if current_hero == other_hero:\n",
    "        return 0\n",
    "    try:\n",
    "        return wins/total\n",
    "    except ZeroDivisionError:\n",
    "        return 0.5 # We've never seen this matchup. Mostly happens if operating on smaller dataset\n",
    "    \n",
    "def get_label(matchups, current_hero, other_hero):\n",
    "    score = get_score(matchups, current_hero, other_hero)\n",
    "    return f\"{get_hero_from_id(current_hero)['name']} - {get_hero_from_id(other_hero)['name']} - {score}\"\n",
    "\n",
    "heroes = heroes[0:20]\n",
    "\n",
    "friendly_matchup_graph = [[get_score(friendly_matchups, current_hero, matchup_hero) for matchup_hero in heroes] for current_hero in heroes]\n",
    "opposing_matchup_graph = [[get_score(hostile_matchups, current_hero, matchup_hero) for matchup_hero in heroes] for current_hero in heroes]\n",
    "\n",
    "friendly_labels = [[get_label(friendly_matchups, current_hero, matchup_hero) for matchup_hero in heroes] for current_hero in heroes]\n",
    "opposing_labels = [[get_label(hostile_matchups, current_hero, matchup_hero) for matchup_hero in heroes] for current_hero in heroes]\n",
    "\n",
    "annotations = [['' for matchup_hero in heroes] for current_hero in heroes]\n",
    "\n",
    "sidebars = [get_hero_from_id(current_hero)['name'] for current_hero in heroes]\n",
    "\n",
    "# Make Annotated Heatmap\n",
    "pt = ff.create_annotated_heatmap(friendly_matchup_graph, x=sidebars, y=sidebars, annotation_text=annotations, text=friendly_labels, hoverinfo='text')\n",
    "pt.layout.title = 'Friendly Matchups - Y is Hero, X is win rate'\n",
    "\n",
    "py.offline.iplot(pt, filename='periodic_table')\n",
    "# import matplotlib.pyplot as plt\n",
    "\n",
    "# plt.imshow(friendly_matchup_graph, cmap='hot', interpolation='nearest')\n",
    "# plt.show()\n",
    "\n",
    "# plt.imshow(opposing_matchup_graph, cmap='hot', interpolation='nearest')\n",
    "# plt.show()"
   ]
  },
  {
   "cell_type": "code",
   "execution_count": 12,
   "metadata": {},
   "outputs": [
    {
     "name": "stdout",
     "output_type": "stream",
     "text": [
      "Friendly Matchups\n",
      "rubick - Best: lone_druid - 0.6451612903225806\n",
      "rubick - Worst: riki - 0.35062611806797855\n",
      "phantom_assassin - Best: lone_druid - 0.7117117117117117\n",
      "phantom_assassin - Worst: spectre - 0.3882752761257434\n",
      "phoenix - Best: sand_king - 0.6742081447963801\n",
      "phoenix - Worst: huskar - 0.4031413612565445\n",
      "antimage - Best: lone_druid - 0.6428571428571429\n",
      "antimage - Worst: chen - 0.4107142857142857\n",
      "tusk - Best: lone_druid - 0.7435897435897436\n",
      "tusk - Worst: centaur - 0.32460732984293195\n",
      "storm_spirit - Best: lone_druid - 0.625\n",
      "storm_spirit - Worst: undying - 0.4\n",
      "slark - Best: gyrocopter - 0.6111111111111112\n",
      "slark - Worst: zuus - 0.3842756183745583\n",
      "undying - Best: templar_assassin - 0.7131147540983607\n",
      "undying - Worst: chen - 0.4090909090909091\n",
      "tidehunter - Best: pangolier - 0.6140350877192983\n",
      "tidehunter - Worst: chen - 0.3333333333333333\n",
      "silencer - Best: lone_druid - 0.6440677966101694\n",
      "silencer - Worst: chen - 0.3902439024390244\n",
      "windrunner - Best: lone_druid - 0.7099236641221374\n",
      "windrunner - Worst: spectre - 0.3579970104633782\n",
      "sniper - Best: lone_druid - 0.6814159292035398\n",
      "sniper - Worst: spectre - 0.3760129659643436\n",
      "crystal_maiden - Best: lone_druid - 0.7961165048543689\n",
      "crystal_maiden - Worst: centaur - 0.4408352668213457\n",
      "faceless_void - Best: oracle - 0.655\n",
      "faceless_void - Worst: chaos_knight - 0.3712574850299401\n",
      "luna - Best: death_prophet - 0.6642335766423357\n",
      "luna - Worst: spectre - 0.38493723849372385\n",
      "earthshaker - Best: lone_druid - 0.7\n",
      "earthshaker - Worst: spectre - 0.37333333333333335\n",
      "keeper_of_the_light - Best: death_prophet - 0.64\n",
      "keeper_of_the_light - Worst: zuus - 0.3522388059701492\n",
      "tinker - Best: gyrocopter - 0.6146341463414634\n",
      "tinker - Worst: spectre - 0.36590038314176243\n",
      "bristleback - Best: earth_spirit - 0.6546762589928058\n",
      "bristleback - Worst: undying - 0.43137254901960786\n",
      "pangolier - Best: templar_assassin - 0.5526315789473685\n",
      "pangolier - Worst: vengefulspirit - 0.3069306930693069\n",
      "oracle - Best: tiny - 0.6136363636363636\n",
      "oracle - Worst: terrorblade - 0.3023255813953488\n",
      "ember_spirit - Best: lone_druid - 0.673469387755102\n",
      "ember_spirit - Worst: visage - 0.37349397590361444\n",
      "zuus - Best: lone_druid - 0.7372881355932204\n",
      "zuus - Worst: zuus - 0.16666666666666666\n",
      "monkey_king - Best: furion - 0.5688888888888889\n",
      "monkey_king - Worst: zuus - 0.35827664399092973\n",
      "queenofpain - Best: wisp - 0.6481481481481481\n",
      "queenofpain - Worst: brewmaster - 0.3557692307692308\n",
      "life_stealer - Best: chen - 0.7368421052631579\n",
      "life_stealer - Worst: dark_seer - 0.34375\n",
      "lion - Best: oracle - 0.6628352490421456\n",
      "lion - Worst: spectre - 0.3709677419354839\n",
      "nevermore - Best: lone_druid - 0.5841584158415841\n",
      "nevermore - Worst: spectre - 0.3600416233090531\n",
      "juggernaut - Best: chen - 0.6385542168674698\n",
      "juggernaut - Worst: chaos_knight - 0.4178321678321678\n",
      "abyssal_underlord - Best: lone_druid - 0.7254901960784313\n",
      "abyssal_underlord - Worst: phoenix - 0.42487046632124353\n",
      "spectre - Best: furion - 0.7230769230769231\n",
      "spectre - Worst: treant - 0.44\n",
      "witch_doctor - Best: disruptor - 0.5965417867435159\n",
      "witch_doctor - Worst: zuus - 0.38902743142144636\n",
      "spirit_breaker - Best: furion - 0.6823899371069182\n",
      "spirit_breaker - Worst: undying - 0.44673539518900346\n",
      "lich - Best: leshrac - 0.6642335766423357\n",
      "lich - Worst: abaddon - 0.44329896907216493\n",
      "shadow_demon - Best: batrider - 0.696969696969697\n",
      "shadow_demon - Worst: zuus - 0.3628048780487805\n",
      "slardar - Best: furion - 0.6604938271604939\n",
      "slardar - Worst: visage - 0.3333333333333333\n",
      "tiny - Best: batrider - 0.5813953488372093\n",
      "tiny - Worst: brewmaster - 0.17073170731707318\n",
      "nyx_assassin - Best: earth_spirit - 0.6483516483516484\n",
      "nyx_assassin - Worst: brewmaster - 0.4090909090909091\n",
      "ursa - Best: terrorblade - 0.6859504132231405\n",
      "ursa - Worst: visage - 0.3717948717948718\n",
      "pudge - Best: lone_druid - 0.7148760330578512\n",
      "pudge - Worst: spectre - 0.44576466078957455\n",
      "jakiro - Best: lone_druid - 0.7868852459016393\n",
      "jakiro - Worst: spirit_breaker - 0.42018348623853213\n",
      "dark_willow - Best: gyrocopter - 0.6518518518518519\n",
      "dark_willow - Worst: undying - 0.37142857142857144\n",
      "venomancer - Best: templar_assassin - 0.6337209302325582\n",
      "venomancer - Worst: dark_seer - 0.34615384615384615\n",
      "gyrocopter - Best: oracle - 0.6571428571428571\n",
      "gyrocopter - Worst: rattletrap - 0.3374233128834356\n",
      "warlock - Best: batrider - 0.711864406779661\n",
      "warlock - Worst: undying - 0.42424242424242425\n",
      "skeleton_king - Best: lone_druid - 0.6835443037974683\n",
      "skeleton_king - Worst: treant - 0.3968253968253968\n",
      "treant - Best: brewmaster - 0.6785714285714286\n",
      "treant - Worst: dark_seer - 0.375\n",
      "mirana - Best: chen - 0.6440677966101694\n",
      "mirana - Worst: spectre - 0.3946830265848671\n",
      "invoker - Best: lone_druid - 0.6165413533834586\n",
      "invoker - Worst: visage - 0.40860215053763443\n",
      "elder_titan - Best: tiny - 0.7837837837837838\n",
      "elder_titan - Worst: dazzle - 0.3793103448275862\n",
      "lina - Best: lone_druid - 0.65\n",
      "lina - Worst: spirit_breaker - 0.3503184713375796\n",
      "arc_warden - Best: magnataur - 0.625\n",
      "arc_warden - Worst: antimage - 0.3113207547169811\n",
      "furion - Best: death_prophet - 0.6153846153846154\n",
      "furion - Worst: spectre - 0.26936026936026936\n",
      "skywrath_mage - Best: lone_druid - 0.6268656716417911\n",
      "skywrath_mage - Worst: centaur - 0.3798219584569733\n",
      "centaur - Best: earth_spirit - 0.7164179104477612\n",
      "centaur - Worst: lycan - 0.4411764705882353\n",
      "vengefulspirit - Best: lone_druid - 0.7884615384615384\n",
      "vengefulspirit - Worst: spectre - 0.45621181262729127\n",
      "leshrac - Best: keeper_of_the_light - 0.7288135593220338\n",
      "leshrac - Worst: undying - 0.32989690721649484\n",
      "rattletrap - Best: lone_druid - 0.6904761904761905\n",
      "rattletrap - Worst: elder_titan - 0.39090909090909093\n",
      "batrider - Best: shadow_demon - 0.72\n",
      "batrider - Worst: earth_spirit - 0.11764705882352941\n",
      "kunkka - Best: bane - 0.6098901098901099\n",
      "kunkka - Worst: centaur - 0.37168141592920356\n",
      "axe - Best: lone_druid - 0.6597938144329897\n",
      "axe - Worst: necrolyte - 0.4534368070953437\n",
      "phantom_lancer - Best: lone_druid - 0.6626506024096386\n",
      "phantom_lancer - Worst: abyssal_underlord - 0.3938356164383562\n",
      "ogre_magi - Best: puck - 0.6827586206896552\n",
      "ogre_magi - Worst: abyssal_underlord - 0.4296028880866426\n",
      "legion_commander - Best: lone_druid - 0.6857142857142857\n",
      "legion_commander - Worst: abyssal_underlord - 0.3684210526315789\n",
      "ancient_apparition - Best: chen - 0.7058823529411765\n",
      "ancient_apparition - Worst: clinkz - 0.42248062015503873\n",
      "bloodseeker - Best: chen - 0.6981132075471698\n",
      "bloodseeker - Worst: spectre - 0.40963855421686746\n",
      "dragon_knight - Best: puck - 0.7191011235955056\n",
      "dragon_knight - Worst: dazzle - 0.4\n",
      "winter_wyvern - Best: wisp - 0.6774193548387096\n",
      "winter_wyvern - Worst: spectre - 0.3314917127071823\n",
      "sven - Best: wisp - 0.6833333333333333\n",
      "sven - Worst: spectre - 0.38141809290953543\n",
      "death_prophet - Best: techies - 0.6363636363636364\n",
      "death_prophet - Worst: chen - 0.28\n",
      "enigma - Best: furion - 0.6666666666666666\n",
      "enigma - Worst: spectre - 0.32421875\n",
      "clinkz - Best: lone_druid - 0.7288135593220338\n",
      "clinkz - Worst: centaur - 0.4247104247104247\n",
      "omniknight - Best: tiny - 0.6320754716981132\n",
      "omniknight - Worst: undying - 0.373134328358209\n",
      "magnataur - Best: lone_druid - 0.7169811320754716\n",
      "magnataur - Worst: winter_wyvern - 0.3697478991596639\n",
      "riki - Best: chen - 0.6785714285714286\n",
      "riki - Worst: spectre - 0.41208791208791207\n",
      "disruptor - Best: pangolier - 0.6289592760180995\n",
      "disruptor - Worst: spectre - 0.34942528735632183\n",
      "abaddon - Best: techies - 0.7051282051282052\n",
      "abaddon - Worst: night_stalker - 0.37662337662337664\n",
      "lone_druid - Best: brewmaster - 0.6111111111111112\n",
      "lone_druid - Worst: lycan - 0.23529411764705882\n",
      "obsidian_destroyer - Best: chen - 0.6764705882352942\n",
      "obsidian_destroyer - Worst: phoenix - 0.2916666666666667\n",
      "morphling - Best: lone_druid - 0.7142857142857143\n",
      "morphling - Worst: visage - 0.3333333333333333\n",
      "templar_assassin - Best: broodmother - 0.5942028985507246\n",
      "templar_assassin - Worst: brewmaster - 0.3230769230769231\n",
      "medusa - Best: batrider - 0.6774193548387096\n",
      "medusa - Worst: spectre - 0.3813559322033898\n",
      "night_stalker - Best: oracle - 0.7169811320754716\n",
      "night_stalker - Worst: chaos_knight - 0.35514018691588783\n",
      "alchemist - Best: chen - 0.6875\n",
      "alchemist - Worst: lycan - 0.3333333333333333\n",
      "drow_ranger - Best: death_prophet - 0.7213114754098361\n",
      "drow_ranger - Worst: chaos_knight - 0.404\n",
      "bounty_hunter - Best: razor - 0.6477987421383647\n",
      "bounty_hunter - Worst: naga_siren - 0.34065934065934067\n",
      "shadow_shaman - Best: earth_spirit - 0.6621621621621622\n",
      "shadow_shaman - Worst: spectre - 0.4071246819338422\n",
      "dazzle - Best: shredder - 0.6122448979591837\n",
      "dazzle - Worst: bloodseeker - 0.40234375\n",
      "troll_warlord - Best: puck - 0.7045454545454546\n",
      "troll_warlord - Worst: zuus - 0.31620553359683795\n",
      "huskar - Best: lone_druid - 0.6578947368421053\n",
      "huskar - Worst: dazzle - 0.37410071942446044\n",
      "razor - Best: visage - 0.6486486486486487\n",
      "razor - Worst: batrider - 0.3076923076923077\n",
      "lycan - Best: death_prophet - 0.6585365853658537\n",
      "lycan - Worst: elder_titan - 0.3235294117647059\n",
      "weaver - Best: lone_druid - 0.7254901960784313\n",
      "weaver - Worst: centaur - 0.375\n",
      "terrorblade - Best: tiny - 0.6630434782608695\n",
      "terrorblade - Worst: abaddon - 0.3625\n",
      "meepo - Best: death_prophet - 0.7096774193548387\n",
      "meepo - Worst: omniknight - 0.3333333333333333\n",
      "chaos_knight - Best: arc_warden - 0.6964285714285714\n",
      "chaos_knight - Worst: brewmaster - 0.367816091954023\n",
      "sand_king - Best: lone_druid - 0.7142857142857143\n",
      "sand_king - Worst: spectre - 0.332703213610586\n",
      "dark_seer - Best: lone_druid - 0.7142857142857143\n",
      "dark_seer - Worst: spectre - 0.3671875\n",
      "bane - Best: leshrac - 0.6619718309859155\n",
      "bane - Worst: warlock - 0.32432432432432434\n",
      "shredder - Best: lone_druid - 0.6333333333333333\n",
      "shredder - Worst: elder_titan - 0.32075471698113206\n",
      "naga_siren - Best: wisp - 0.6666666666666666\n",
      "naga_siren - Worst: centaur - 0.3220338983050847\n",
      "pugna - Best: lone_druid - 0.6875\n",
      "pugna - Worst: undying - 0.3620689655172414\n",
      "beastmaster - Best: chen - 0.6666666666666666\n",
      "beastmaster - Worst: visage - 0.3103448275862069\n",
      "viper - Best: chen - 0.6388888888888888\n",
      "viper - Worst: dark_seer - 0.375\n",
      "techies - Best: batrider - 0.6470588235294118\n",
      "techies - Worst: vengefulspirit - 0.31875\n",
      "enchantress - Best: chen - 0.6666666666666666\n",
      "enchantress - Worst: meepo - 0.29411764705882354\n",
      "doom_bringer - Best: batrider - 0.6567164179104478\n",
      "doom_bringer - Worst: vengefulspirit - 0.3574007220216607\n",
      "necrolyte - Best: lone_druid - 0.75\n",
      "necrolyte - Worst: spectre - 0.4558258642765685\n",
      "puck - Best: lycan - 0.6578947368421053\n",
      "puck - Worst: abyssal_underlord - 0.2112676056338028\n",
      "brewmaster - Best: puck - 0.6666666666666666\n",
      "brewmaster - Worst: clinkz - 0.38016528925619836\n",
      "wisp - Best: lone_druid - 0.7142857142857143\n",
      "wisp - Worst: batrider - 0.2\n",
      "earth_spirit - Best: razor - 0.6764705882352942\n",
      "earth_spirit - Worst: abyssal_underlord - 0.2753623188405797\n",
      "chen - Best: techies - 0.7916666666666666\n",
      "chen - Worst: drow_ranger - 0.2545454545454545\n",
      "visage - Best: wisp - 0.7142857142857143\n",
      "visage - Worst: lone_druid - 0.3333333333333333\n",
      "broodmother - Best: death_prophet - 0.6190476190476191\n",
      "broodmother - Worst: dragon_knight - 0.35526315789473684\n"
     ]
    },
    {
     "ename": "NameError",
     "evalue": "name 'best_friendly_matchup' is not defined",
     "output_type": "error",
     "traceback": [
      "\u001b[0;31m---------------------------------------------------------------------------\u001b[0m",
      "\u001b[0;31mNameError\u001b[0m                                 Traceback (most recent call last)",
      "\u001b[0;32m<ipython-input-12-5478846d8f66>\u001b[0m in \u001b[0;36m<module>\u001b[0;34m()\u001b[0m\n\u001b[1;32m     20\u001b[0m \u001b[0;34m\u001b[0m\u001b[0m\n\u001b[1;32m     21\u001b[0m \u001b[0;34m\u001b[0m\u001b[0m\n\u001b[0;32m---> 22\u001b[0;31m \u001b[0mbest_friendly_matchup\u001b[0m\u001b[0;34m\u001b[0m\u001b[0m\n\u001b[0m\u001b[1;32m     23\u001b[0m \u001b[0mworst_friendly_matchup\u001b[0m\u001b[0;34m\u001b[0m\u001b[0m\n\u001b[1;32m     24\u001b[0m \u001b[0;34m\u001b[0m\u001b[0m\n",
      "\u001b[0;31mNameError\u001b[0m: name 'best_friendly_matchup' is not defined"
     ]
    }
   ],
   "source": [
    "# Just for fun, best and worst friendly matchups\n",
    "\n",
    "def generate_perc(values):\n",
    "    if values[1] == 0:\n",
    "        return 0.5\n",
    "    return values[0]/values[1]\n",
    "\n",
    "def convert_to_percs(matchups):\n",
    "    return {k: {k2: generate_perc(v2) for k2, v2 in v.items()} for k,v in matchups.items()}\n",
    "\n",
    "friendly_matchups_percs = convert_to_percs(friendly_matchups)\n",
    "\n",
    "print('Friendly Matchups')\n",
    "for h1, matchups in friendly_matchups_percs.items():\n",
    "    best_score, best_matchup = max([(score, x) for x, score in matchups.items()])\n",
    "    worst_score, worst_matchup = min([(score, x) for x, score in matchups.items()])\n",
    "    print(f\"{get_hero_from_id(h1)['name']} - Best: {get_hero_from_id(best_matchup)['name']} - {best_score}\")\n",
    "    print(f\"{get_hero_from_id(h1)['name']} - Worst: {get_hero_from_id(worst_matchup)['name']} - {worst_score}\")"
   ]
  },
  {
   "cell_type": "code",
   "execution_count": 13,
   "metadata": {},
   "outputs": [
    {
     "name": "stdout",
     "output_type": "stream",
     "text": [
      "Hostile Matchups\n",
      "rubick - Best: wisp - 0.5783132530120482\n",
      "rubick - Worst: spectre - 0.36515291936978683\n",
      "phantom_assassin - Best: lone_druid - 0.6501831501831502\n",
      "phantom_assassin - Worst: spectre - 0.3831000518403318\n",
      "phoenix - Best: lone_druid - 0.6632124352331606\n",
      "phoenix - Worst: abaddon - 0.43521594684385384\n",
      "antimage - Best: puck - 0.6117775354416576\n",
      "antimage - Worst: riki - 0.43182944967773923\n",
      "tusk - Best: lone_druid - 0.6185567010309279\n",
      "tusk - Worst: spectre - 0.3464611872146119\n",
      "storm_spirit - Best: furion - 0.5965865011636928\n",
      "storm_spirit - Worst: spectre - 0.3951048951048951\n",
      "slark - Best: lone_druid - 0.6591422121896162\n",
      "slark - Worst: zuus - 0.38988300068823123\n",
      "undying - Best: batrider - 0.6829268292682927\n",
      "undying - Worst: riki - 0.46059865607819184\n",
      "tidehunter - Best: gyrocopter - 0.6006240249609984\n",
      "tidehunter - Worst: elder_titan - 0.4065934065934066\n",
      "silencer - Best: lone_druid - 0.6349809885931559\n",
      "silencer - Worst: spectre - 0.42597722376115726\n",
      "windrunner - Best: lone_druid - 0.6203208556149733\n",
      "windrunner - Worst: spectre - 0.3527080581241744\n",
      "sniper - Best: lone_druid - 0.6365248226950354\n",
      "sniper - Worst: spectre - 0.355386606276286\n",
      "crystal_maiden - Best: lone_druid - 0.6794258373205742\n",
      "crystal_maiden - Worst: spectre - 0.43935828877005345\n",
      "faceless_void - Best: lone_druid - 0.6187214611872146\n",
      "faceless_void - Worst: spectre - 0.37684353280216987\n",
      "luna - Best: lone_druid - 0.6283987915407855\n",
      "luna - Worst: spectre - 0.3735269936969033\n",
      "earthshaker - Best: lone_druid - 0.6507936507936508\n",
      "earthshaker - Worst: spectre - 0.3859882791688865\n",
      "keeper_of_the_light - Best: tiny - 0.5797546012269938\n",
      "keeper_of_the_light - Worst: vengefulspirit - 0.3863013698630137\n",
      "tinker - Best: puck - 0.5991692627206646\n",
      "tinker - Worst: spectre - 0.3582957957957958\n",
      "bristleback - Best: lone_druid - 0.6561679790026247\n",
      "bristleback - Worst: necrolyte - 0.4347610794751176\n",
      "pangolier - Best: lone_druid - 0.56353591160221\n",
      "pangolier - Worst: spectre - 0.36198830409356725\n",
      "oracle - Best: batrider - 0.5698324022346368\n",
      "oracle - Worst: elder_titan - 0.33146067415730335\n",
      "ember_spirit - Best: pangolier - 0.5974222896133434\n",
      "ember_spirit - Worst: ursa - 0.3958197256694971\n",
      "zuus - Best: tiny - 0.684894053315106\n",
      "zuus - Worst: spectre - 0.4702194357366771\n",
      "monkey_king - Best: chen - 0.621301775147929\n",
      "monkey_king - Worst: zuus - 0.3578318787322003\n",
      "queenofpain - Best: lone_druid - 0.5714285714285714\n",
      "queenofpain - Worst: spectre - 0.37657657657657656\n",
      "life_stealer - Best: chen - 0.5886075949367089\n",
      "life_stealer - Worst: vengefulspirit - 0.37545126353790614\n",
      "lion - Best: lone_druid - 0.6044176706827309\n",
      "lion - Worst: spectre - 0.37137191274562825\n",
      "nevermore - Best: tiny - 0.5652173913043478\n",
      "nevermore - Worst: spectre - 0.3581637072325682\n",
      "juggernaut - Best: tiny - 0.6232057416267942\n",
      "juggernaut - Worst: ursa - 0.4293177627535341\n",
      "abyssal_underlord - Best: lone_druid - 0.6927083333333334\n",
      "abyssal_underlord - Worst: ursa - 0.44610778443113774\n",
      "spectre - Best: furion - 0.7379713914174252\n",
      "spectre - Worst: undying - 0.4774928774928775\n",
      "witch_doctor - Best: lone_druid - 0.6\n",
      "witch_doctor - Worst: spectre - 0.38539212386401883\n",
      "spirit_breaker - Best: wisp - 0.6710816777041942\n",
      "spirit_breaker - Worst: spectre - 0.4534783853421128\n",
      "lich - Best: lone_druid - 0.6541666666666667\n",
      "lich - Worst: spectre - 0.4459522695367337\n",
      "shadow_demon - Best: lone_druid - 0.6274509803921569\n",
      "shadow_demon - Worst: spectre - 0.3936651583710407\n",
      "slardar - Best: furion - 0.6074380165289256\n",
      "slardar - Worst: zuus - 0.40171821305841926\n",
      "tiny - Best: lone_druid - 0.5947712418300654\n",
      "tiny - Worst: zuus - 0.31510594668489406\n",
      "nyx_assassin - Best: wisp - 0.5993788819875776\n",
      "nyx_assassin - Worst: spectre - 0.38961038961038963\n",
      "ursa - Best: lone_druid - 0.6929824561403509\n",
      "ursa - Worst: zuus - 0.4464842396951853\n",
      "pudge - Best: tiny - 0.6288563415394204\n",
      "pudge - Worst: spectre - 0.4433947532792005\n",
      "jakiro - Best: lone_druid - 0.684981684981685\n",
      "jakiro - Worst: spectre - 0.4092664092664093\n",
      "dark_willow - Best: tiny - 0.6098418277680141\n",
      "dark_willow - Worst: elder_titan - 0.4123314065510597\n",
      "venomancer - Best: templar_assassin - 0.5888077858880778\n",
      "venomancer - Worst: spectre - 0.3964556962025316\n",
      "gyrocopter - Best: oracle - 0.573170731707317\n",
      "gyrocopter - Worst: spectre - 0.3506382978723404\n",
      "warlock - Best: batrider - 0.65\n",
      "warlock - Worst: abyssal_underlord - 0.46968403074295473\n",
      "skeleton_king - Best: puck - 0.6518817204301075\n",
      "skeleton_king - Worst: undying - 0.4723735408560311\n",
      "treant - Best: puck - 0.6101190476190477\n",
      "treant - Worst: elder_titan - 0.41522491349480967\n",
      "mirana - Best: lone_druid - 0.6345291479820628\n",
      "mirana - Worst: spectre - 0.40028231498285943\n",
      "invoker - Best: lone_druid - 0.6240369799691834\n",
      "invoker - Worst: spectre - 0.4261931187569367\n",
      "elder_titan - Best: chen - 0.7164179104477612\n",
      "elder_titan - Worst: spectre - 0.4337221633085896\n",
      "lina - Best: wisp - 0.5522041763341067\n",
      "lina - Worst: spectre - 0.32941176470588235\n",
      "arc_warden - Best: winter_wyvern - 0.5888324873096447\n",
      "arc_warden - Worst: spectre - 0.3644578313253012\n",
      "furion - Best: death_prophet - 0.5165094339622641\n",
      "furion - Worst: spectre - 0.26202860858257476\n",
      "skywrath_mage - Best: lone_druid - 0.625\n",
      "skywrath_mage - Worst: spectre - 0.38921846788754194\n",
      "centaur - Best: lone_druid - 0.664804469273743\n",
      "centaur - Worst: spectre - 0.4738636363636364\n",
      "vengefulspirit - Best: tiny - 0.6435786435786436\n",
      "vengefulspirit - Worst: spectre - 0.4216307562315167\n",
      "leshrac - Best: lone_druid - 0.6486486486486487\n",
      "leshrac - Worst: spectre - 0.34796926454445665\n",
      "rattletrap - Best: lone_druid - 0.6336633663366337\n",
      "rattletrap - Worst: spectre - 0.41058941058941056\n",
      "batrider - Best: lone_druid - 0.6129032258064516\n",
      "batrider - Worst: undying - 0.3170731707317073\n",
      "kunkka - Best: furion - 0.5824175824175825\n",
      "kunkka - Worst: spectre - 0.39135864135864135\n",
      "axe - Best: lone_druid - 0.681917211328976\n",
      "axe - Worst: spectre - 0.42731018246027075\n",
      "phantom_lancer - Best: lone_druid - 0.6282894736842105\n",
      "phantom_lancer - Worst: zuus - 0.40311653116531165\n",
      "ogre_magi - Best: lone_druid - 0.6692015209125475\n",
      "ogre_magi - Worst: spectre - 0.42945843394273886\n",
      "legion_commander - Best: chen - 0.5993377483443708\n",
      "legion_commander - Worst: spectre - 0.3743996157540826\n",
      "ancient_apparition - Best: tiny - 0.6173076923076923\n",
      "ancient_apparition - Worst: zuus - 0.41681703356189104\n",
      "bloodseeker - Best: shredder - 0.6404255319148936\n",
      "bloodseeker - Worst: spectre - 0.4339490296937105\n",
      "dragon_knight - Best: templar_assassin - 0.6529411764705882\n",
      "dragon_knight - Worst: zuus - 0.4200839522118179\n",
      "winter_wyvern - Best: lone_druid - 0.5901639344262295\n",
      "winter_wyvern - Worst: spectre - 0.352306182531894\n",
      "sven - Best: lone_druid - 0.6356275303643725\n",
      "sven - Worst: spectre - 0.375312343828086\n",
      "death_prophet - Best: puck - 0.5846153846153846\n",
      "death_prophet - Worst: spectre - 0.3611111111111111\n",
      "enigma - Best: naga_siren - 0.6101083032490975\n",
      "enigma - Worst: spectre - 0.36436597110754415\n",
      "clinkz - Best: tiny - 0.6274768824306473\n",
      "clinkz - Worst: spectre - 0.4390992835209826\n",
      "omniknight - Best: earth_spirit - 0.6168831168831169\n",
      "omniknight - Worst: undying - 0.39384116693679094\n",
      "magnataur - Best: lone_druid - 0.605\n",
      "magnataur - Worst: spectre - 0.354249857387336\n",
      "riki - Best: puck - 0.6807653575025177\n",
      "riki - Worst: spectre - 0.4289479464089611\n",
      "disruptor - Best: lone_druid - 0.6176470588235294\n",
      "disruptor - Worst: spectre - 0.3581081081081081\n",
      "abaddon - Best: lone_druid - 0.6717557251908397\n",
      "abaddon - Worst: undying - 0.43346007604562736\n",
      "lone_druid - Best: beastmaster - 0.5411764705882353\n",
      "lone_druid - Worst: chen - 0.2857142857142857\n",
      "obsidian_destroyer - Best: tiny - 0.5986509274873525\n",
      "obsidian_destroyer - Worst: spectre - 0.3189129229062673\n",
      "morphling - Best: lone_druid - 0.6559633027522935\n",
      "morphling - Worst: zuus - 0.3671875\n",
      "templar_assassin - Best: lone_druid - 0.5882352941176471\n",
      "templar_assassin - Worst: dragon_knight - 0.34705882352941175\n",
      "medusa - Best: puck - 0.6183368869936035\n",
      "medusa - Worst: spectre - 0.37889447236180906\n",
      "night_stalker - Best: chen - 0.6197183098591549\n",
      "night_stalker - Worst: spectre - 0.40913508260447035\n",
      "alchemist - Best: chen - 0.5734265734265734\n",
      "alchemist - Worst: axe - 0.4050056882821388\n",
      "drow_ranger - Best: chen - 0.6460176991150443\n",
      "drow_ranger - Worst: spectre - 0.4144337263308324\n",
      "bounty_hunter - Best: furion - 0.5808444902162719\n",
      "bounty_hunter - Worst: centaur - 0.3981373690337602\n",
      "shadow_shaman - Best: puck - 0.6403207331042382\n",
      "shadow_shaman - Worst: spectre - 0.3950807071483474\n",
      "dazzle - Best: puck - 0.5959302325581395\n",
      "dazzle - Worst: lich - 0.42714285714285716\n",
      "troll_warlord - Best: lone_druid - 0.5862068965517241\n",
      "troll_warlord - Worst: zuus - 0.36650485436893204\n",
      "huskar - Best: lone_druid - 0.6532663316582915\n",
      "huskar - Worst: ancient_apparition - 0.39156118143459917\n",
      "razor - Best: puck - 0.5728155339805825\n",
      "razor - Worst: spectre - 0.35173824130879344\n",
      "lycan - Best: batrider - 0.610062893081761\n",
      "lycan - Worst: elder_titan - 0.3743016759776536\n",
      "weaver - Best: lone_druid - 0.632\n",
      "weaver - Worst: zuus - 0.3996683250414594\n",
      "terrorblade - Best: batrider - 0.6188340807174888\n",
      "terrorblade - Worst: zuus - 0.39316239316239315\n",
      "meepo - Best: chen - 0.6619718309859155\n",
      "meepo - Worst: centaur - 0.3839779005524862\n",
      "chaos_knight - Best: lina - 0.6330553449583017\n",
      "chaos_knight - Worst: spectre - 0.43351731058705467\n",
      "sand_king - Best: lone_druid - 0.6735537190082644\n",
      "sand_king - Worst: spectre - 0.3565799842395587\n",
      "dark_seer - Best: lone_druid - 0.5974025974025974\n",
      "dark_seer - Worst: spectre - 0.4071942446043165\n",
      "bane - Best: lone_druid - 0.6206896551724138\n",
      "bane - Worst: elder_titan - 0.3657587548638132\n",
      "shredder - Best: furion - 0.5802098950524738\n",
      "shredder - Worst: spectre - 0.35440484196368527\n",
      "naga_siren - Best: lone_druid - 0.6282051282051282\n",
      "naga_siren - Worst: spectre - 0.36277173913043476\n",
      "pugna - Best: lone_druid - 0.6571428571428571\n",
      "pugna - Worst: spectre - 0.36877828054298645\n",
      "beastmaster - Best: chen - 0.6666666666666666\n",
      "beastmaster - Worst: spectre - 0.3706793802145411\n",
      "viper - Best: lone_druid - 0.6150793650793651\n",
      "viper - Worst: vengefulspirit - 0.4125083166999335\n",
      "techies - Best: puck - 0.571875\n",
      "techies - Worst: spectre - 0.32486930545182974\n",
      "enchantress - Best: lone_druid - 0.6324786324786325\n",
      "enchantress - Worst: skeleton_king - 0.41086186540731995\n",
      "doom_bringer - Best: batrider - 0.6\n",
      "doom_bringer - Worst: undying - 0.3946886446886447\n",
      "necrolyte - Best: lone_druid - 0.6526315789473685\n",
      "necrolyte - Worst: zuus - 0.47274655355249207\n",
      "puck - Best: furion - 0.5379146919431279\n",
      "puck - Worst: spectre - 0.30085261875761266\n",
      "brewmaster - Best: tiny - 0.6666666666666666\n",
      "brewmaster - Worst: abaddon - 0.43103448275862066\n",
      "wisp - Best: tiny - 0.5515151515151515\n",
      "wisp - Worst: spirit_breaker - 0.32891832229580575\n",
      "earth_spirit - Best: lone_druid - 0.6222222222222222\n",
      "earth_spirit - Worst: visage - 0.35251798561151076\n",
      "chen - Best: lone_druid - 0.7142857142857143\n",
      "chen - Worst: elder_titan - 0.2835820895522388\n",
      "visage - Best: earth_spirit - 0.6474820143884892\n",
      "visage - Worst: night_stalker - 0.41919191919191917\n",
      "broodmother - Best: wisp - 0.5782312925170068\n",
      "broodmother - Worst: meepo - 0.3880597014925373\n"
     ]
    }
   ],
   "source": [
    "hostile_matchups_percs = convert_to_percs(hostile_matchups)\n",
    "\n",
    "print('Hostile Matchups')\n",
    "for h1, matchups in hostile_matchups_percs.items():\n",
    "    best_score, best_matchup = max([(score, x) for x, score in matchups.items()])\n",
    "    worst_score, worst_matchup = min([(score, x) for x, score in matchups.items()])\n",
    "    print(f\"{get_hero_from_id(h1)['name']} - Best: {get_hero_from_id(best_matchup)['name']} - {best_score}\")\n",
    "    print(f\"{get_hero_from_id(h1)['name']} - Worst: {get_hero_from_id(worst_matchup)['name']} - {worst_score}\")\n"
   ]
  },
  {
   "cell_type": "code",
   "execution_count": 16,
   "metadata": {},
   "outputs": [],
   "source": [
    "import json\n",
    "\n",
    "def perc_and_normalize(matchups):\n",
    "    return {int(k): {int(k2): generate_perc(v2)-0.5 for k2, v2 in v.items()} for k,v in matchups.items()}\n",
    "\n",
    "# Save the matchups to a pair of files\n",
    "with open('./friendly_matchups.json', 'wb') as fileref:\n",
    "    fileref.write(json.dumps(perc_and_normalize(friendly_matchups), indent=4).encode('utf8'))\n",
    "with open('./enemy_matchups.json', 'wb') as fileref:\n",
    "    fileref.write(json.dumps(perc_and_normalize(hostile_matchups), indent=4).encode('utf8'))"
   ]
  },
  {
   "cell_type": "code",
   "execution_count": null,
   "metadata": {},
   "outputs": [],
   "source": []
  }
 ],
 "metadata": {
  "kernelspec": {
   "display_name": "Python 3",
   "language": "python",
   "name": "python3"
  },
  "language_info": {
   "codemirror_mode": {
    "name": "ipython",
    "version": 3
   },
   "file_extension": ".py",
   "mimetype": "text/x-python",
   "name": "python",
   "nbconvert_exporter": "python",
   "pygments_lexer": "ipython3",
   "version": "3.6.4"
  }
 },
 "nbformat": 4,
 "nbformat_minor": 2
}
